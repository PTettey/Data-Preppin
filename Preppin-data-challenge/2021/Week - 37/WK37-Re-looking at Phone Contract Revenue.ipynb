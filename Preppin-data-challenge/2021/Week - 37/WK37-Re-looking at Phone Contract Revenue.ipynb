{
 "cells": [
  {
   "cell_type": "markdown",
   "id": "dc7a3ef9",
   "metadata": {},
   "source": [
    "### Prepping Data Challenge:  Re-looking at Phone Contact Revenue (week 37)\n",
    "\n",
    "### Scenario\n",
    "\n",
    "You work for a mobile / cell phone company. You boss asks you to pull together the revenue report of your current batch of contracts (sadly there are only four contracts!). They need to know how much revenue is generated each month from these contracts whilst they are 'live' (ie from their start date until 'x' months in the future when the contract runs out).\n",
    "\n",
    "### Requirements\n",
    "- Input the Data\n",
    "- Calculate the End Date for each contract\n",
    "- Create a Row for each month a person will hold the contract\n",
    "- Calculate the monthly cumulative cost of each person's contract\n",
    "- Output the Data"
   ]
  },
  {
   "cell_type": "code",
   "execution_count": 1,
   "id": "ab924bef",
   "metadata": {},
   "outputs": [],
   "source": [
    "import pandas as pd\n",
    "import numpy as np"
   ]
  },
  {
   "cell_type": "code",
   "execution_count": 2,
   "id": "58433f2b",
   "metadata": {},
   "outputs": [],
   "source": [
    "#Input the data\n",
    "with pd.ExcelFile('wk37-input.xlsx') as xl:\n",
    "    cont = pd.read_excel(xl,'Contract Details', parse_dates = ['Start Date'])\n",
    "    scaf = pd.read_excel(xl, 'Scaffold')"
   ]
  },
  {
   "cell_type": "code",
   "execution_count": 3,
   "id": "72dd5c63",
   "metadata": {},
   "outputs": [
    {
     "data": {
      "text/html": [
       "<div>\n",
       "<style scoped>\n",
       "    .dataframe tbody tr th:only-of-type {\n",
       "        vertical-align: middle;\n",
       "    }\n",
       "\n",
       "    .dataframe tbody tr th {\n",
       "        vertical-align: top;\n",
       "    }\n",
       "\n",
       "    .dataframe thead th {\n",
       "        text-align: right;\n",
       "    }\n",
       "</style>\n",
       "<table border=\"1\" class=\"dataframe\">\n",
       "  <thead>\n",
       "    <tr style=\"text-align: right;\">\n",
       "      <th></th>\n",
       "      <th>Name</th>\n",
       "      <th>Monthly Cost</th>\n",
       "      <th>Contract Length (months)</th>\n",
       "      <th>Start Date</th>\n",
       "    </tr>\n",
       "  </thead>\n",
       "  <tbody>\n",
       "    <tr>\n",
       "      <th>0</th>\n",
       "      <td>Carl</td>\n",
       "      <td>20</td>\n",
       "      <td>24</td>\n",
       "      <td>2018-12-13</td>\n",
       "    </tr>\n",
       "    <tr>\n",
       "      <th>1</th>\n",
       "      <td>Jonathan</td>\n",
       "      <td>15</td>\n",
       "      <td>6</td>\n",
       "      <td>2019-02-22</td>\n",
       "    </tr>\n",
       "    <tr>\n",
       "      <th>2</th>\n",
       "      <td>Andy</td>\n",
       "      <td>45</td>\n",
       "      <td>12</td>\n",
       "      <td>2018-10-17</td>\n",
       "    </tr>\n",
       "    <tr>\n",
       "      <th>3</th>\n",
       "      <td>Sophie</td>\n",
       "      <td>30</td>\n",
       "      <td>12</td>\n",
       "      <td>2018-11-19</td>\n",
       "    </tr>\n",
       "  </tbody>\n",
       "</table>\n",
       "</div>"
      ],
      "text/plain": [
       "       Name  Monthly Cost  Contract Length (months) Start Date\n",
       "0      Carl            20                        24 2018-12-13\n",
       "1  Jonathan            15                         6 2019-02-22\n",
       "2      Andy            45                        12 2018-10-17\n",
       "3    Sophie            30                        12 2018-11-19"
      ]
     },
     "execution_count": 3,
     "metadata": {},
     "output_type": "execute_result"
    }
   ],
   "source": [
    "cont.head()"
   ]
  },
  {
   "cell_type": "code",
   "execution_count": 4,
   "id": "2a7bd660",
   "metadata": {},
   "outputs": [],
   "source": [
    "#Calculate the End Date for each contract\n",
    "#Create a Row for each month a person will hold the contract\n",
    "cont['Payment Date'] = [pd.date_range(i, periods=j, freq=pd.DateOffset(months=1)) for i,j in zip(cont['Start Date'],\n",
    "                                                                                          cont['Contract Length (months)'])]"
   ]
  },
  {
   "cell_type": "code",
   "execution_count": 5,
   "id": "fb937bf5",
   "metadata": {},
   "outputs": [],
   "source": [
    "cont = cont.explode('Payment Date')"
   ]
  },
  {
   "cell_type": "code",
   "execution_count": 6,
   "id": "d5e31a87",
   "metadata": {},
   "outputs": [],
   "source": [
    "cont['Cumulative Monthly Cost'] = cont.groupby('Name')['Monthly Cost'].cumsum()"
   ]
  },
  {
   "cell_type": "code",
   "execution_count": 7,
   "id": "857208e7",
   "metadata": {},
   "outputs": [],
   "source": [
    "output = cont[['Name', 'Payment Date', 'Monthly Cost', 'Cumulative Monthly Cost']]"
   ]
  },
  {
   "cell_type": "code",
   "execution_count": 8,
   "id": "2acf477f",
   "metadata": {},
   "outputs": [
    {
     "data": {
      "text/html": [
       "<div>\n",
       "<style scoped>\n",
       "    .dataframe tbody tr th:only-of-type {\n",
       "        vertical-align: middle;\n",
       "    }\n",
       "\n",
       "    .dataframe tbody tr th {\n",
       "        vertical-align: top;\n",
       "    }\n",
       "\n",
       "    .dataframe thead th {\n",
       "        text-align: right;\n",
       "    }\n",
       "</style>\n",
       "<table border=\"1\" class=\"dataframe\">\n",
       "  <thead>\n",
       "    <tr style=\"text-align: right;\">\n",
       "      <th></th>\n",
       "      <th>Name</th>\n",
       "      <th>Payment Date</th>\n",
       "      <th>Monthly Cost</th>\n",
       "      <th>Cumulative Monthly Cost</th>\n",
       "    </tr>\n",
       "  </thead>\n",
       "  <tbody>\n",
       "    <tr>\n",
       "      <th>0</th>\n",
       "      <td>Carl</td>\n",
       "      <td>2018-12-13</td>\n",
       "      <td>20</td>\n",
       "      <td>20</td>\n",
       "    </tr>\n",
       "    <tr>\n",
       "      <th>0</th>\n",
       "      <td>Carl</td>\n",
       "      <td>2019-01-13</td>\n",
       "      <td>20</td>\n",
       "      <td>40</td>\n",
       "    </tr>\n",
       "    <tr>\n",
       "      <th>0</th>\n",
       "      <td>Carl</td>\n",
       "      <td>2019-02-13</td>\n",
       "      <td>20</td>\n",
       "      <td>60</td>\n",
       "    </tr>\n",
       "    <tr>\n",
       "      <th>0</th>\n",
       "      <td>Carl</td>\n",
       "      <td>2019-03-13</td>\n",
       "      <td>20</td>\n",
       "      <td>80</td>\n",
       "    </tr>\n",
       "    <tr>\n",
       "      <th>0</th>\n",
       "      <td>Carl</td>\n",
       "      <td>2019-04-13</td>\n",
       "      <td>20</td>\n",
       "      <td>100</td>\n",
       "    </tr>\n",
       "    <tr>\n",
       "      <th>0</th>\n",
       "      <td>Carl</td>\n",
       "      <td>2019-05-13</td>\n",
       "      <td>20</td>\n",
       "      <td>120</td>\n",
       "    </tr>\n",
       "    <tr>\n",
       "      <th>0</th>\n",
       "      <td>Carl</td>\n",
       "      <td>2019-06-13</td>\n",
       "      <td>20</td>\n",
       "      <td>140</td>\n",
       "    </tr>\n",
       "    <tr>\n",
       "      <th>0</th>\n",
       "      <td>Carl</td>\n",
       "      <td>2019-07-13</td>\n",
       "      <td>20</td>\n",
       "      <td>160</td>\n",
       "    </tr>\n",
       "    <tr>\n",
       "      <th>0</th>\n",
       "      <td>Carl</td>\n",
       "      <td>2019-08-13</td>\n",
       "      <td>20</td>\n",
       "      <td>180</td>\n",
       "    </tr>\n",
       "    <tr>\n",
       "      <th>0</th>\n",
       "      <td>Carl</td>\n",
       "      <td>2019-09-13</td>\n",
       "      <td>20</td>\n",
       "      <td>200</td>\n",
       "    </tr>\n",
       "  </tbody>\n",
       "</table>\n",
       "</div>"
      ],
      "text/plain": [
       "   Name Payment Date  Monthly Cost  Cumulative Monthly Cost\n",
       "0  Carl   2018-12-13            20                       20\n",
       "0  Carl   2019-01-13            20                       40\n",
       "0  Carl   2019-02-13            20                       60\n",
       "0  Carl   2019-03-13            20                       80\n",
       "0  Carl   2019-04-13            20                      100\n",
       "0  Carl   2019-05-13            20                      120\n",
       "0  Carl   2019-06-13            20                      140\n",
       "0  Carl   2019-07-13            20                      160\n",
       "0  Carl   2019-08-13            20                      180\n",
       "0  Carl   2019-09-13            20                      200"
      ]
     },
     "execution_count": 8,
     "metadata": {},
     "output_type": "execute_result"
    }
   ],
   "source": [
    "output.head(10)"
   ]
  },
  {
   "cell_type": "code",
   "execution_count": 9,
   "id": "fa34b6a6",
   "metadata": {},
   "outputs": [],
   "source": [
    "#output the data\n",
    "output.to_csv('wk37-output.csv', index=False)"
   ]
  }
 ],
 "metadata": {
  "kernelspec": {
   "display_name": "Python 3 (ipykernel)",
   "language": "python",
   "name": "python3"
  },
  "language_info": {
   "codemirror_mode": {
    "name": "ipython",
    "version": 3
   },
   "file_extension": ".py",
   "mimetype": "text/x-python",
   "name": "python",
   "nbconvert_exporter": "python",
   "pygments_lexer": "ipython3",
   "version": "3.9.7"
  }
 },
 "nbformat": 4,
 "nbformat_minor": 5
}
