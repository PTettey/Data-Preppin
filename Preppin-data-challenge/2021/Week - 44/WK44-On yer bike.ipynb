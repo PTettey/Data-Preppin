{
 "cells": [
  {
   "cell_type": "markdown",
   "id": "dc7a3ef9",
   "metadata": {},
   "source": [
    "### Prepping Data Challenge:  On yer bike! (week 44)\n",
    "\n",
    "### Requirements\n",
    "- Input the data\n",
    "- Convert the Value field to just be Kilometres ridden \n",
    "  - Carl cycles at an average of 30 kilometres per hour whenever he is measuring his sessions in minutes\n",
    "- Create a field called measure to convert KM measurements into 'Outdoors' and any measurement in 'mins' as 'Turbo Trainer'.\n",
    "- Create a separate column for Outdoors and Turbo Trainer (indoor static bike values)\n",
    "- Ensure there is a row for each date between 1st Jan 2021 and 1st Nov 2021(inclusive)\n",
    "- Count the number of activities per day and work out the total distance cycled Outdoors or on the Turbo Trainer\n",
    "- Change any null values to zero\n",
    "- Work out how many days I did no activities\n",
    "- Output a file to help me explore the analysis further"
   ]
  },
  {
   "cell_type": "code",
   "execution_count": 1,
   "id": "ab924bef",
   "metadata": {},
   "outputs": [],
   "source": [
    "import pandas as pd\n",
    "import numpy as np"
   ]
  },
  {
   "cell_type": "code",
   "execution_count": 2,
   "id": "58433f2b",
   "metadata": {},
   "outputs": [
    {
     "data": {
      "text/html": [
       "<div>\n",
       "<style scoped>\n",
       "    .dataframe tbody tr th:only-of-type {\n",
       "        vertical-align: middle;\n",
       "    }\n",
       "\n",
       "    .dataframe tbody tr th {\n",
       "        vertical-align: top;\n",
       "    }\n",
       "\n",
       "    .dataframe thead th {\n",
       "        text-align: right;\n",
       "    }\n",
       "</style>\n",
       "<table border=\"1\" class=\"dataframe\">\n",
       "  <thead>\n",
       "    <tr style=\"text-align: right;\">\n",
       "      <th></th>\n",
       "      <th>Date</th>\n",
       "      <th>Value</th>\n",
       "      <th>Measure</th>\n",
       "      <th>Type</th>\n",
       "      <th>Detail</th>\n",
       "    </tr>\n",
       "  </thead>\n",
       "  <tbody>\n",
       "    <tr>\n",
       "      <th>0</th>\n",
       "      <td>2021-01-01</td>\n",
       "      <td>30.0</td>\n",
       "      <td>min</td>\n",
       "      <td>Apple Fitness</td>\n",
       "      <td>Gregg - 422 - everything rock</td>\n",
       "    </tr>\n",
       "    <tr>\n",
       "      <th>1</th>\n",
       "      <td>2021-01-01</td>\n",
       "      <td>20.0</td>\n",
       "      <td>min</td>\n",
       "      <td>Apple Fitness</td>\n",
       "      <td>Kym - 306 - everything rock</td>\n",
       "    </tr>\n",
       "    <tr>\n",
       "      <th>2</th>\n",
       "      <td>2021-01-02</td>\n",
       "      <td>30.0</td>\n",
       "      <td>min</td>\n",
       "      <td>Apple Fitness</td>\n",
       "      <td>Kym - 425 - upbeat anthems</td>\n",
       "    </tr>\n",
       "    <tr>\n",
       "      <th>3</th>\n",
       "      <td>2021-01-03</td>\n",
       "      <td>45.0</td>\n",
       "      <td>min</td>\n",
       "      <td>Apple Fitness</td>\n",
       "      <td>Tyrell - 668 - hiphop</td>\n",
       "    </tr>\n",
       "    <tr>\n",
       "      <th>4</th>\n",
       "      <td>2021-01-04</td>\n",
       "      <td>20.0</td>\n",
       "      <td>min</td>\n",
       "      <td>Apple Fitness</td>\n",
       "      <td>Tyrell - 263 - latin grooves</td>\n",
       "    </tr>\n",
       "  </tbody>\n",
       "</table>\n",
       "</div>"
      ],
      "text/plain": [
       "        Date  Value Measure           Type                         Detail\n",
       "0 2021-01-01   30.0     min  Apple Fitness  Gregg - 422 - everything rock\n",
       "1 2021-01-01   20.0     min  Apple Fitness    Kym - 306 - everything rock\n",
       "2 2021-01-02   30.0     min  Apple Fitness     Kym - 425 - upbeat anthems\n",
       "3 2021-01-03   45.0     min  Apple Fitness          Tyrell - 668 - hiphop\n",
       "4 2021-01-04   20.0     min  Apple Fitness   Tyrell - 263 - latin grooves"
      ]
     },
     "execution_count": 2,
     "metadata": {},
     "output_type": "execute_result"
    }
   ],
   "source": [
    "#Input the data\n",
    "with pd.ExcelFile(r\"\\Dataprep\\2021\\Carl's 2021 cycling.xlsx\") as xl:\n",
    "    df = pd.read_excel(xl)\n",
    "\n",
    "df.head()"
   ]
  },
  {
   "cell_type": "code",
   "execution_count": 3,
   "id": "de333d7e",
   "metadata": {},
   "outputs": [],
   "source": [
    "#- Convert the Value field to just be Kilometres ridden \n",
    "#  - Carl cycles at an average of 30 kilometres per hour whenever he is measuring his sessions in minutes\n",
    "df['km'] = np.where(df['Measure'].str.lower() == 'min', df['Value'] * 30 / 60, df['Value'])"
   ]
  },
  {
   "cell_type": "code",
   "execution_count": 4,
   "id": "ea570b91",
   "metadata": {},
   "outputs": [
    {
     "name": "stdout",
     "output_type": "stream",
     "text": [
      "['min' 'km']\n"
     ]
    }
   ],
   "source": [
    "print(df['Measure'].unique())"
   ]
  },
  {
   "cell_type": "code",
   "execution_count": 5,
   "id": "4272cb59",
   "metadata": {},
   "outputs": [],
   "source": [
    "#Create a field called measure to convert KM measurements into 'Outdoors' and any measurement in 'mins' as 'Turbo Trainer'.\n",
    "df['measure2'] = np.where(df['Measure'].str.contains('km', case=False), 'Outdoors',  \n",
    "    np.where(df['Measure'].str.contains('min', case=False), 'Turbo Trainer', 'Unknown'))"
   ]
  },
  {
   "cell_type": "code",
   "execution_count": 6,
   "id": "fd48b2e6",
   "metadata": {},
   "outputs": [
    {
     "name": "stdout",
     "output_type": "stream",
     "text": [
      "['Turbo Trainer' 'Outdoors']\n"
     ]
    }
   ],
   "source": [
    "print(df['measure2'].unique())"
   ]
  },
  {
   "cell_type": "code",
   "execution_count": 7,
   "id": "dbf48317",
   "metadata": {},
   "outputs": [],
   "source": [
    "#Create a separate column for Outdoors and Turbo Trainer (indoor static bike values)\n",
    "df2 = df.pivot_table(values='km', index='Date', columns='measure2', aggfunc='sum')"
   ]
  },
  {
   "cell_type": "code",
   "execution_count": 8,
   "id": "e6b7ec25",
   "metadata": {},
   "outputs": [],
   "source": [
    "#Count the number of activities per day and work out the total distance cycled Outdoors or on the Turbo Trainer\n",
    "df2['Activities per day'] = df.groupby('Date')['km'].count().astype('Int64')"
   ]
  },
  {
   "cell_type": "code",
   "execution_count": 9,
   "id": "b5d71440",
   "metadata": {},
   "outputs": [],
   "source": [
    "#Ensure there is a row for each date between 1st Jan 2021 and 1st Nov 2021(inclusive)\n",
    "#Change any null values to zero\n",
    "d_r = pd.date_range(start='2021-01-01', end='2021-11-01')\n",
    "df2 = df2.reindex(d_r).fillna(0).rename_axis('Date').reset_index()"
   ]
  },
  {
   "cell_type": "code",
   "execution_count": 10,
   "id": "8edcc466",
   "metadata": {},
   "outputs": [],
   "source": [
    "#Output a file to help me explore the analysis further\n",
    "output = df2[['Date','Activities per day','Turbo Trainer', 'Outdoors']]\n",
    "output.columns.name = None"
   ]
  },
  {
   "cell_type": "code",
   "execution_count": 11,
   "id": "2acf477f",
   "metadata": {},
   "outputs": [
    {
     "data": {
      "text/html": [
       "<div>\n",
       "<style scoped>\n",
       "    .dataframe tbody tr th:only-of-type {\n",
       "        vertical-align: middle;\n",
       "    }\n",
       "\n",
       "    .dataframe tbody tr th {\n",
       "        vertical-align: top;\n",
       "    }\n",
       "\n",
       "    .dataframe thead th {\n",
       "        text-align: right;\n",
       "    }\n",
       "</style>\n",
       "<table border=\"1\" class=\"dataframe\">\n",
       "  <thead>\n",
       "    <tr style=\"text-align: right;\">\n",
       "      <th></th>\n",
       "      <th>Date</th>\n",
       "      <th>Activities per day</th>\n",
       "      <th>Turbo Trainer</th>\n",
       "      <th>Outdoors</th>\n",
       "    </tr>\n",
       "  </thead>\n",
       "  <tbody>\n",
       "    <tr>\n",
       "      <th>0</th>\n",
       "      <td>2021-01-01</td>\n",
       "      <td>2</td>\n",
       "      <td>25.0</td>\n",
       "      <td>0.0</td>\n",
       "    </tr>\n",
       "    <tr>\n",
       "      <th>1</th>\n",
       "      <td>2021-01-02</td>\n",
       "      <td>1</td>\n",
       "      <td>15.0</td>\n",
       "      <td>0.0</td>\n",
       "    </tr>\n",
       "    <tr>\n",
       "      <th>2</th>\n",
       "      <td>2021-01-03</td>\n",
       "      <td>1</td>\n",
       "      <td>22.5</td>\n",
       "      <td>0.0</td>\n",
       "    </tr>\n",
       "    <tr>\n",
       "      <th>3</th>\n",
       "      <td>2021-01-04</td>\n",
       "      <td>1</td>\n",
       "      <td>10.0</td>\n",
       "      <td>0.0</td>\n",
       "    </tr>\n",
       "    <tr>\n",
       "      <th>4</th>\n",
       "      <td>2021-01-05</td>\n",
       "      <td>1</td>\n",
       "      <td>15.0</td>\n",
       "      <td>0.0</td>\n",
       "    </tr>\n",
       "    <tr>\n",
       "      <th>...</th>\n",
       "      <td>...</td>\n",
       "      <td>...</td>\n",
       "      <td>...</td>\n",
       "      <td>...</td>\n",
       "    </tr>\n",
       "    <tr>\n",
       "      <th>300</th>\n",
       "      <td>2021-10-28</td>\n",
       "      <td>1</td>\n",
       "      <td>0.0</td>\n",
       "      <td>18.7</td>\n",
       "    </tr>\n",
       "    <tr>\n",
       "      <th>301</th>\n",
       "      <td>2021-10-29</td>\n",
       "      <td>1</td>\n",
       "      <td>0.0</td>\n",
       "      <td>1.6</td>\n",
       "    </tr>\n",
       "    <tr>\n",
       "      <th>302</th>\n",
       "      <td>2021-10-30</td>\n",
       "      <td>0</td>\n",
       "      <td>0.0</td>\n",
       "      <td>0.0</td>\n",
       "    </tr>\n",
       "    <tr>\n",
       "      <th>303</th>\n",
       "      <td>2021-10-31</td>\n",
       "      <td>0</td>\n",
       "      <td>0.0</td>\n",
       "      <td>0.0</td>\n",
       "    </tr>\n",
       "    <tr>\n",
       "      <th>304</th>\n",
       "      <td>2021-11-01</td>\n",
       "      <td>1</td>\n",
       "      <td>0.0</td>\n",
       "      <td>9.5</td>\n",
       "    </tr>\n",
       "  </tbody>\n",
       "</table>\n",
       "<p>305 rows × 4 columns</p>\n",
       "</div>"
      ],
      "text/plain": [
       "          Date  Activities per day  Turbo Trainer  Outdoors\n",
       "0   2021-01-01                   2           25.0       0.0\n",
       "1   2021-01-02                   1           15.0       0.0\n",
       "2   2021-01-03                   1           22.5       0.0\n",
       "3   2021-01-04                   1           10.0       0.0\n",
       "4   2021-01-05                   1           15.0       0.0\n",
       "..         ...                 ...            ...       ...\n",
       "300 2021-10-28                   1            0.0      18.7\n",
       "301 2021-10-29                   1            0.0       1.6\n",
       "302 2021-10-30                   0            0.0       0.0\n",
       "303 2021-10-31                   0            0.0       0.0\n",
       "304 2021-11-01                   1            0.0       9.5\n",
       "\n",
       "[305 rows x 4 columns]"
      ]
     },
     "execution_count": 11,
     "metadata": {},
     "output_type": "execute_result"
    }
   ],
   "source": [
    "output"
   ]
  },
  {
   "cell_type": "code",
   "execution_count": 12,
   "id": "fa34b6a6",
   "metadata": {},
   "outputs": [],
   "source": [
    "#output the data\n",
    "output.to_csv('wk44-output.csv', index=False)"
   ]
  }
 ],
 "metadata": {
  "kernelspec": {
   "display_name": "llmenv",
   "language": "python",
   "name": "llmenv"
  },
  "language_info": {
   "codemirror_mode": {
    "name": "ipython",
    "version": 3
   },
   "file_extension": ".py",
   "mimetype": "text/x-python",
   "name": "python",
   "nbconvert_exporter": "python",
   "pygments_lexer": "ipython3",
   "version": "3.13.0"
  }
 },
 "nbformat": 4,
 "nbformat_minor": 5
}
