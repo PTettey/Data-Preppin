{
 "cells": [
  {
   "cell_type": "markdown",
   "id": "dc7a3ef9",
   "metadata": {},
   "source": [
    "### Prepping Data Challenge: Maldives Tourism (week 12)\n",
    "\n",
    "Our input is very wide this week, with 136 fields and only 28 rows. It covers tourism in the Maldives from 2010 to 2020. \n",
    "\n",
    "#### Requirement:\n",
    " \n",
    " 1. Input the data\n",
    " 2. Pivot all of the month fields into a single column \n",
    " 3. Rename the fields and ensure that each field has the correct data type\n",
    " 4. Filter out the nulls \n",
    " 5. Filter our dataset so our Values are referring to Number of Tourists\n",
    " 6. Our goal now is to remove all totals and subtotals from our dataset so that only the lowest level of granularity remains. Currently we have Total > Continents > Countries, but we don't have data for all countries in a continent, so it's not as simple as just filtering out the totals and subtotals. Plus in our Continents level of detail, we also have The Middle East and UN passport holders as categories. If you feel confident in your prep skills, this (plus the output) should be enough information to go on, but otherwise read on for a breakdown of the steps we need to take:\n",
    "    - Filter out Total tourist arrivals\n",
    "    - Split our workflow into 2 streams: Continents and Countries\n",
    "    - Split out the Continent and Country names from the relevant fields \n",
    "    - Aggregate our Country stream to the Continent level \n",
    "    - Join the two streams together and work out how many tourists arrivals there are that we don't know the country of (help)\n",
    "    - Add in a Country field with the value \"Unknown\" \n",
    "    - Union this back to here we had our Country breakdown \n",
    " 7. Output the data"
   ]
  },
  {
   "cell_type": "markdown",
   "id": "8c8eb9b2",
   "metadata": {},
   "source": [
    "### 1 - 3"
   ]
  },
  {
   "cell_type": "code",
   "execution_count": 1,
   "id": "ab924bef",
   "metadata": {},
   "outputs": [],
   "source": [
    "#import libraries\n",
    "import pandas as pd\n",
    "pd.options.mode.chained_assignment = None  # this removes the SETTINGWITHCOPY Warning when set to None\n",
    "import numpy as np\n",
    "import re"
   ]
  },
  {
   "cell_type": "code",
   "execution_count": 2,
   "id": "a79e3442",
   "metadata": {},
   "outputs": [],
   "source": [
    "columns = ['Series-Measure','Hierarchy-Breakdown','Unit-Detail']\n",
    "df = pd.read_csv('WK12-Tourism.csv', na_values=['na']).drop(columns=['id']).melt(id_vars=columns).rename(columns={'variable':'Month'})"
   ]
  },
  {
   "cell_type": "code",
   "execution_count": 3,
   "id": "c2e4c149",
   "metadata": {},
   "outputs": [],
   "source": [
    "df['Month'] = pd.to_datetime(df['Month'], format='%b-%y')"
   ]
  },
  {
   "cell_type": "code",
   "execution_count": 4,
   "id": "ca94b8a2",
   "metadata": {},
   "outputs": [
    {
     "data": {
      "text/html": [
       "<div>\n",
       "<style scoped>\n",
       "    .dataframe tbody tr th:only-of-type {\n",
       "        vertical-align: middle;\n",
       "    }\n",
       "\n",
       "    .dataframe tbody tr th {\n",
       "        vertical-align: top;\n",
       "    }\n",
       "\n",
       "    .dataframe thead th {\n",
       "        text-align: right;\n",
       "    }\n",
       "</style>\n",
       "<table border=\"1\" class=\"dataframe\">\n",
       "  <thead>\n",
       "    <tr style=\"text-align: right;\">\n",
       "      <th></th>\n",
       "      <th>Series-Measure</th>\n",
       "      <th>Hierarchy-Breakdown</th>\n",
       "      <th>Unit-Detail</th>\n",
       "      <th>Month</th>\n",
       "      <th>value</th>\n",
       "    </tr>\n",
       "  </thead>\n",
       "  <tbody>\n",
       "    <tr>\n",
       "      <th>0</th>\n",
       "      <td>Total tourist arrivals</td>\n",
       "      <td>Real Sector / Tourism</td>\n",
       "      <td>Tourists</td>\n",
       "      <td>2010-01-01</td>\n",
       "      <td>67478</td>\n",
       "    </tr>\n",
       "    <tr>\n",
       "      <th>1</th>\n",
       "      <td>Tourist bednights</td>\n",
       "      <td>Real Sector / Tourism</td>\n",
       "      <td>Bednights</td>\n",
       "      <td>2010-01-01</td>\n",
       "      <td>552287</td>\n",
       "    </tr>\n",
       "    <tr>\n",
       "      <th>2</th>\n",
       "      <td>Average stay</td>\n",
       "      <td>Real Sector / Tourism</td>\n",
       "      <td>Days</td>\n",
       "      <td>2010-01-01</td>\n",
       "      <td>8.184697</td>\n",
       "    </tr>\n",
       "    <tr>\n",
       "      <th>3</th>\n",
       "      <td>Operational bed capacity</td>\n",
       "      <td>Real Sector / Tourism</td>\n",
       "      <td>Beds</td>\n",
       "      <td>2010-01-01</td>\n",
       "      <td>22825</td>\n",
       "    </tr>\n",
       "    <tr>\n",
       "      <th>4</th>\n",
       "      <td>Bednight capacity</td>\n",
       "      <td>Real Sector / Tourism</td>\n",
       "      <td>Beds</td>\n",
       "      <td>2010-01-01</td>\n",
       "      <td>707575</td>\n",
       "    </tr>\n",
       "  </tbody>\n",
       "</table>\n",
       "</div>"
      ],
      "text/plain": [
       "             Series-Measure    Hierarchy-Breakdown Unit-Detail      Month  \\\n",
       "0    Total tourist arrivals  Real Sector / Tourism    Tourists 2010-01-01   \n",
       "1        Tourist bednights   Real Sector / Tourism   Bednights 2010-01-01   \n",
       "2              Average stay  Real Sector / Tourism        Days 2010-01-01   \n",
       "3  Operational bed capacity  Real Sector / Tourism        Beds 2010-01-01   \n",
       "4         Bednight capacity  Real Sector / Tourism        Beds 2010-01-01   \n",
       "\n",
       "      value  \n",
       "0     67478  \n",
       "1    552287  \n",
       "2  8.184697  \n",
       "3     22825  \n",
       "4    707575  "
      ]
     },
     "execution_count": 4,
     "metadata": {},
     "output_type": "execute_result"
    }
   ],
   "source": [
    "df.head()"
   ]
  },
  {
   "cell_type": "markdown",
   "id": "8580585a",
   "metadata": {},
   "source": [
    "###  4 - 6"
   ]
  },
  {
   "cell_type": "code",
   "execution_count": 5,
   "id": "640bfd13",
   "metadata": {},
   "outputs": [],
   "source": [
    "#filter out Total tourist arrivals\n",
    "df = df.loc[(df['value'].notna()) & (df['Unit-Detail'] == 'Tourists') & (df['Series-Measure'] != 'Total tourist arrivals')]"
   ]
  },
  {
   "cell_type": "code",
   "execution_count": 6,
   "id": "c77ec4be",
   "metadata": {},
   "outputs": [],
   "source": [
    "df['value'] = df['value'].astype(int)"
   ]
  },
  {
   "cell_type": "code",
   "execution_count": 7,
   "id": "f75f1cca",
   "metadata": {},
   "outputs": [],
   "source": [
    "#create pattern searcher function, based on WJ SUTTON method, he got function from\n",
    "#from: https://stackoverflow.com/questions/17972938/check-if-a-string-in-a-pandas-dataframe-column-is-in-a-list-of-strings\n",
    "def pattern(s_str:str, s_list:str):\n",
    "    search_obj = re.search(s_list, s_str)\n",
    "    if search_obj :\n",
    "        return_str = s_str[search_obj.start(): search_obj.end()]\n",
    "    else:\n",
    "        return_str = 'NA'\n",
    "    return return_str"
   ]
  },
  {
   "cell_type": "code",
   "execution_count": 8,
   "id": "d8604721",
   "metadata": {},
   "outputs": [],
   "source": [
    "# Split our workflow into 2 streams: Continents and Countries \n",
    "df_continents = df.loc[df['Hierarchy-Breakdown'] ==  'Real Sector / Tourism / Tourist arrivals']\n",
    "df_countries = df.loc[df['Hierarchy-Breakdown'] !=  'Real Sector / Tourism / Tourist arrivals']"
   ]
  },
  {
   "cell_type": "code",
   "execution_count": 9,
   "id": "5a1ddfd0",
   "metadata": {},
   "outputs": [],
   "source": [
    "# Split out the Continent and Country names from the relevant fields \n",
    "continents = ['Europe','Asia','Africa','Americas','Oceania','Middle East','UN passport holders and others']\n",
    "countries =['Germany','Italy','Russia','United Kingdom','China','India','France','Australia','United States']"
   ]
  },
  {
   "cell_type": "code",
   "execution_count": 10,
   "id": "c16137c4",
   "metadata": {},
   "outputs": [],
   "source": [
    "conti_pattern = '|'.join(continents)\n",
    "count_pattern = '|'.join(countries)\n",
    " \n",
    "df_continents['Continent']  = df_continents['Series-Measure'].apply(lambda x: pattern(s_str=x, s_list=conti_pattern))\n",
    "df_countries['Continent']  = df_countries['Hierarchy-Breakdown'].apply(lambda x: pattern(s_str=x, s_list=conti_pattern))\n",
    "df_countries['Country']  = df_countries['Series-Measure'].apply(lambda x: pattern(s_str=x, s_list=count_pattern))"
   ]
  },
  {
   "cell_type": "code",
   "execution_count": null,
   "id": "f283758f",
   "metadata": {},
   "outputs": [],
   "source": [
    "#join.head()"
   ]
  },
  {
   "cell_type": "code",
   "execution_count": 11,
   "id": "022b7938",
   "metadata": {},
   "outputs": [],
   "source": [
    "# Aggregate our Country stream to the Continent level \n",
    "country = df_countries.groupby(['Continent','Month'],as_index=False)['value'].sum()\n",
    "country.columns = ['Continent','Month','Country_Values']"
   ]
  },
  {
   "cell_type": "code",
   "execution_count": 12,
   "id": "592f3bf9",
   "metadata": {},
   "outputs": [],
   "source": [
    "# Join the two streams together and work out how many tourists arrivals there are that we don't know the country of \n",
    "join = pd.merge(df_continents,country, on=['Continent','Month'], how='left')\n",
    "join['difference'] = join['value'] - join['Country_Values']"
   ]
  },
  {
   "cell_type": "code",
   "execution_count": 13,
   "id": "43f55861",
   "metadata": {},
   "outputs": [],
   "source": [
    "# Add in a Country field with the value \"Unknown\" \n",
    "join['Country'] = 'Unknown'"
   ]
  },
  {
   "cell_type": "code",
   "execution_count": 14,
   "id": "063ee2ef",
   "metadata": {},
   "outputs": [],
   "source": [
    "# Union this back to here we had our Country breakdown \n",
    "df1 = df_countries[['Month','Continent','Country','value']]\n",
    "df2 = join[['Month','Continent','Country','difference']]\n",
    "df2.columns = ['Month','Continent','Country','value']"
   ]
  },
  {
   "cell_type": "markdown",
   "id": "d84fb70f",
   "metadata": {},
   "source": [
    "### 8. Output the data "
   ]
  },
  {
   "cell_type": "code",
   "execution_count": 15,
   "id": "042fddab",
   "metadata": {},
   "outputs": [],
   "source": [
    "output = pd.concat([df1,df2])\n",
    "output.columns = ['Month','Breakdown','Country','Number of Tourists']"
   ]
  },
  {
   "cell_type": "code",
   "execution_count": 16,
   "id": "2563a295",
   "metadata": {},
   "outputs": [],
   "source": [
    "output.to_csv('WK12-Tourist Output.csv', index=False)"
   ]
  },
  {
   "cell_type": "code",
   "execution_count": 17,
   "id": "374371e3",
   "metadata": {},
   "outputs": [
    {
     "data": {
      "text/html": [
       "<div>\n",
       "<style scoped>\n",
       "    .dataframe tbody tr th:only-of-type {\n",
       "        vertical-align: middle;\n",
       "    }\n",
       "\n",
       "    .dataframe tbody tr th {\n",
       "        vertical-align: top;\n",
       "    }\n",
       "\n",
       "    .dataframe thead th {\n",
       "        text-align: right;\n",
       "    }\n",
       "</style>\n",
       "<table border=\"1\" class=\"dataframe\">\n",
       "  <thead>\n",
       "    <tr style=\"text-align: right;\">\n",
       "      <th></th>\n",
       "      <th>Month</th>\n",
       "      <th>Breakdown</th>\n",
       "      <th>Country</th>\n",
       "      <th>Number of Tourists</th>\n",
       "    </tr>\n",
       "  </thead>\n",
       "  <tbody>\n",
       "    <tr>\n",
       "      <th>15</th>\n",
       "      <td>2010-01-01</td>\n",
       "      <td>Europe</td>\n",
       "      <td>Germany</td>\n",
       "      <td>5890.0</td>\n",
       "    </tr>\n",
       "    <tr>\n",
       "      <th>16</th>\n",
       "      <td>2010-01-01</td>\n",
       "      <td>Europe</td>\n",
       "      <td>Italy</td>\n",
       "      <td>12276.0</td>\n",
       "    </tr>\n",
       "    <tr>\n",
       "      <th>17</th>\n",
       "      <td>2010-01-01</td>\n",
       "      <td>Europe</td>\n",
       "      <td>Russia</td>\n",
       "      <td>5873.0</td>\n",
       "    </tr>\n",
       "    <tr>\n",
       "      <th>18</th>\n",
       "      <td>2010-01-01</td>\n",
       "      <td>Europe</td>\n",
       "      <td>United Kingdom</td>\n",
       "      <td>8405.0</td>\n",
       "    </tr>\n",
       "    <tr>\n",
       "      <th>19</th>\n",
       "      <td>2010-01-01</td>\n",
       "      <td>Asia</td>\n",
       "      <td>China</td>\n",
       "      <td>6069.0</td>\n",
       "    </tr>\n",
       "  </tbody>\n",
       "</table>\n",
       "</div>"
      ],
      "text/plain": [
       "        Month Breakdown         Country  Number of Tourists\n",
       "15 2010-01-01    Europe         Germany              5890.0\n",
       "16 2010-01-01    Europe           Italy             12276.0\n",
       "17 2010-01-01    Europe          Russia              5873.0\n",
       "18 2010-01-01    Europe  United Kingdom              8405.0\n",
       "19 2010-01-01      Asia           China              6069.0"
      ]
     },
     "execution_count": 17,
     "metadata": {},
     "output_type": "execute_result"
    }
   ],
   "source": [
    "output.head()"
   ]
  }
 ],
 "metadata": {
  "kernelspec": {
   "display_name": "Python 3",
   "language": "python",
   "name": "python3"
  },
  "language_info": {
   "codemirror_mode": {
    "name": "ipython",
    "version": 3
   },
   "file_extension": ".py",
   "mimetype": "text/x-python",
   "name": "python",
   "nbconvert_exporter": "python",
   "pygments_lexer": "ipython3",
   "version": "3.7.11"
  }
 },
 "nbformat": 4,
 "nbformat_minor": 5
}
