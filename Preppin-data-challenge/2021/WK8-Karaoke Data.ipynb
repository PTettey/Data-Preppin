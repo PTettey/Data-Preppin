{
 "cells": [
  {
   "cell_type": "markdown",
   "id": "dc7a3ef9",
   "metadata": {},
   "source": [
    "### Prepping Data Challenge: Karaoke Data (week 8)\n",
    "For this dataset, we assume the following;\n",
    " \n",
    " - Customers often don't sing the entire song\n",
    " - Sessions last 60 minutes\n",
    " - Customers arrive a maximum of 10 minutes before their sessions begin\n",
    "\n",
    "#### Requirement:\n",
    "\n",
    " 1. Input the data\n",
    " 2. Calculate the time between songs \n",
    " 3. If the time between songs is greater than (or equal to) 59 minutes, flag this as being a new session \n",
    " 4. Create a session number field \n",
    " 5. Number the songs in order for each session \n",
    " 6. Match the customers to the correct session, based on their entry time \n",
    "    - The Customer ID field should be null if there were no customers who arrived 10 minutes (or less) before the start of the session\n",
    " 7. Output the data"
   ]
  },
  {
   "cell_type": "markdown",
   "id": "8c8eb9b2",
   "metadata": {},
   "source": [
    "### 1. Input the data "
   ]
  },
  {
   "cell_type": "code",
   "execution_count": 1,
   "id": "ab924bef",
   "metadata": {},
   "outputs": [],
   "source": [
    "#import libraries\n",
    "import pandas as pd"
   ]
  },
  {
   "cell_type": "code",
   "execution_count": 2,
   "id": "a79e3442",
   "metadata": {},
   "outputs": [],
   "source": [
    "with pd.ExcelFile('WK8-Karaoke Dataset.xlsx') as xlsx:\n",
    "    karaoke_choices = pd.read_excel(xlsx, 'Karaoke Choices')\n",
    "    customers = pd.read_excel(xlsx, 'Customers', converters={'Customer ID':str}).sort_values(by='Entry Time')"
   ]
  },
  {
   "cell_type": "code",
   "execution_count": 3,
   "id": "c2e4c149",
   "metadata": {},
   "outputs": [
    {
     "data": {
      "text/html": [
       "<div>\n",
       "<style scoped>\n",
       "    .dataframe tbody tr th:only-of-type {\n",
       "        vertical-align: middle;\n",
       "    }\n",
       "\n",
       "    .dataframe tbody tr th {\n",
       "        vertical-align: top;\n",
       "    }\n",
       "\n",
       "    .dataframe thead th {\n",
       "        text-align: right;\n",
       "    }\n",
       "</style>\n",
       "<table border=\"1\" class=\"dataframe\">\n",
       "  <thead>\n",
       "    <tr style=\"text-align: right;\">\n",
       "      <th></th>\n",
       "      <th>Date</th>\n",
       "      <th>Artist</th>\n",
       "      <th>Song</th>\n",
       "    </tr>\n",
       "  </thead>\n",
       "  <tbody>\n",
       "    <tr>\n",
       "      <th>0</th>\n",
       "      <td>2020-12-22 13:59:59.971</td>\n",
       "      <td>Wham!</td>\n",
       "      <td>Last Christmas</td>\n",
       "    </tr>\n",
       "    <tr>\n",
       "      <th>1</th>\n",
       "      <td>2020-12-22 15:00:00.000</td>\n",
       "      <td>Dolly Parton</td>\n",
       "      <td>9 To 5</td>\n",
       "    </tr>\n",
       "    <tr>\n",
       "      <th>2</th>\n",
       "      <td>2020-12-22 15:02:00.010</td>\n",
       "      <td>Camilla Cabello Ft. Young Thug</td>\n",
       "      <td>Havana</td>\n",
       "    </tr>\n",
       "    <tr>\n",
       "      <th>3</th>\n",
       "      <td>2020-12-22 15:04:00.019</td>\n",
       "      <td>Moana</td>\n",
       "      <td>How Far I’ll Go</td>\n",
       "    </tr>\n",
       "    <tr>\n",
       "      <th>4</th>\n",
       "      <td>2020-12-22 18:00:00.000</td>\n",
       "      <td>Backstreet Boys</td>\n",
       "      <td>I Want It That Way</td>\n",
       "    </tr>\n",
       "  </tbody>\n",
       "</table>\n",
       "</div>"
      ],
      "text/plain": [
       "                     Date                          Artist                Song\n",
       "0 2020-12-22 13:59:59.971                           Wham!      Last Christmas\n",
       "1 2020-12-22 15:00:00.000                    Dolly Parton              9 To 5\n",
       "2 2020-12-22 15:02:00.010  Camilla Cabello Ft. Young Thug              Havana\n",
       "3 2020-12-22 15:04:00.019                           Moana     How Far I’ll Go\n",
       "4 2020-12-22 18:00:00.000                 Backstreet Boys  I Want It That Way"
      ]
     },
     "execution_count": 3,
     "metadata": {},
     "output_type": "execute_result"
    }
   ],
   "source": [
    "karaoke_choices.head()"
   ]
  },
  {
   "cell_type": "code",
   "execution_count": 4,
   "id": "bb3b6416",
   "metadata": {},
   "outputs": [],
   "source": [
    "#fix customer IDs\n",
    "def fix_id(customer_id):\n",
    "    if len(customer_id) > 6 and customer_id.isnumeric():\n",
    "        customer_id =\"{:.2E}\".format(float(customer_id))\n",
    "    return customer_id\n",
    "\n",
    "customers['Customer ID'] = [fix_id(x) for x in customers['Customer ID']]"
   ]
  },
  {
   "cell_type": "code",
   "execution_count": 5,
   "id": "bf415d3a",
   "metadata": {},
   "outputs": [
    {
     "data": {
      "text/html": [
       "<div>\n",
       "<style scoped>\n",
       "    .dataframe tbody tr th:only-of-type {\n",
       "        vertical-align: middle;\n",
       "    }\n",
       "\n",
       "    .dataframe tbody tr th {\n",
       "        vertical-align: top;\n",
       "    }\n",
       "\n",
       "    .dataframe thead th {\n",
       "        text-align: right;\n",
       "    }\n",
       "</style>\n",
       "<table border=\"1\" class=\"dataframe\">\n",
       "  <thead>\n",
       "    <tr style=\"text-align: right;\">\n",
       "      <th></th>\n",
       "      <th>Customer ID</th>\n",
       "      <th>Entry Time</th>\n",
       "    </tr>\n",
       "  </thead>\n",
       "  <tbody>\n",
       "    <tr>\n",
       "      <th>203</th>\n",
       "      <td>cd2834</td>\n",
       "      <td>2020-12-22 13:54:00</td>\n",
       "    </tr>\n",
       "    <tr>\n",
       "      <th>67</th>\n",
       "      <td>2de3d7</td>\n",
       "      <td>2020-12-22 14:55:00</td>\n",
       "    </tr>\n",
       "    <tr>\n",
       "      <th>92</th>\n",
       "      <td>6.99e+67</td>\n",
       "      <td>2020-12-22 17:51:00</td>\n",
       "    </tr>\n",
       "    <tr>\n",
       "      <th>206</th>\n",
       "      <td>316313</td>\n",
       "      <td>2020-12-22 19:00:00</td>\n",
       "    </tr>\n",
       "    <tr>\n",
       "      <th>228</th>\n",
       "      <td>aa0846</td>\n",
       "      <td>2020-12-22 22:55:00</td>\n",
       "    </tr>\n",
       "  </tbody>\n",
       "</table>\n",
       "</div>"
      ],
      "text/plain": [
       "    Customer ID          Entry Time\n",
       "203      cd2834 2020-12-22 13:54:00\n",
       "67       2de3d7 2020-12-22 14:55:00\n",
       "92     6.99e+67 2020-12-22 17:51:00\n",
       "206      316313 2020-12-22 19:00:00\n",
       "228      aa0846 2020-12-22 22:55:00"
      ]
     },
     "execution_count": 5,
     "metadata": {},
     "output_type": "execute_result"
    }
   ],
   "source": [
    "customers.head()"
   ]
  },
  {
   "cell_type": "markdown",
   "id": "8580585a",
   "metadata": {},
   "source": [
    "###  2 - 5. \n",
    "   - Calculate the time between songs\n",
    "   - If the time between songs is greater than (or equal to) 59 minutes, flag this as being a new session \n",
    "   - Create a session number field\n",
    "   - Number the songs in order for each session"
   ]
  },
  {
   "cell_type": "code",
   "execution_count": 6,
   "id": "b3fd0bf5",
   "metadata": {},
   "outputs": [],
   "source": [
    "karaoke_choices['Session number'] = karaoke_choices['Date'].diff(1).dt.total_seconds().ge(59*60).cumsum() + 1"
   ]
  },
  {
   "cell_type": "code",
   "execution_count": 7,
   "id": "fcffb9db",
   "metadata": {},
   "outputs": [],
   "source": [
    "karaoke_choices['Song Order'] = karaoke_choices.groupby('Session number')['Date'].rank('dense', ascending=True).astype(int)"
   ]
  },
  {
   "cell_type": "markdown",
   "id": "e69fa9ed",
   "metadata": {},
   "source": [
    "### 6. Match the customers to the correct session, based on their entry time \n",
    "   - The Customer ID field should be null if there were no customers who arrived 10 minutes (or less) before the start of the session"
   ]
  },
  {
   "cell_type": "code",
   "execution_count": 11,
   "id": "d4780db5",
   "metadata": {},
   "outputs": [],
   "source": [
    "start = karaoke_choices[karaoke_choices['Song Order']==1][['Date','Session number']]\n",
    "customer_sessions = pd.merge_asof(customers, start, left_on = 'Entry Time', right_on= 'Date',\n",
    "                              tolerance=pd.Timedelta(minutes=10), direction='forward').dropna()"
   ]
  },
  {
   "cell_type": "code",
   "execution_count": 12,
   "id": "63a53ae3",
   "metadata": {},
   "outputs": [],
   "source": [
    "#join customer sessions to song list\n",
    "output = karaoke_choices.merge(customer_sessions, how='left', on=['Session number'], suffixes=['','_y'])\n",
    "output.drop(columns=['Date_y'], inplace=True)\n",
    "output['Date'] = output['Date'].dt.round('1s')"
   ]
  },
  {
   "cell_type": "markdown",
   "id": "164f9c3c",
   "metadata": {},
   "source": [
    "### 6. Output the data"
   ]
  },
  {
   "cell_type": "code",
   "execution_count": 13,
   "id": "d341b4a7",
   "metadata": {},
   "outputs": [],
   "source": [
    "output.to_csv('WK8-karaoke dataset Output.csv', index=False, date_format='%d/%m/%Y %H:%M:%S',\n",
    "              columns=['Session number','Customer ID','Song Order','Date','Artist','Song'])"
   ]
  },
  {
   "cell_type": "code",
   "execution_count": 14,
   "id": "bd34e9b2",
   "metadata": {},
   "outputs": [
    {
     "data": {
      "text/html": [
       "<div>\n",
       "<style scoped>\n",
       "    .dataframe tbody tr th:only-of-type {\n",
       "        vertical-align: middle;\n",
       "    }\n",
       "\n",
       "    .dataframe tbody tr th {\n",
       "        vertical-align: top;\n",
       "    }\n",
       "\n",
       "    .dataframe thead th {\n",
       "        text-align: right;\n",
       "    }\n",
       "</style>\n",
       "<table border=\"1\" class=\"dataframe\">\n",
       "  <thead>\n",
       "    <tr style=\"text-align: right;\">\n",
       "      <th></th>\n",
       "      <th>Date</th>\n",
       "      <th>Artist</th>\n",
       "      <th>Song</th>\n",
       "      <th>Session number</th>\n",
       "      <th>Song Order</th>\n",
       "      <th>Customer ID</th>\n",
       "      <th>Entry Time</th>\n",
       "    </tr>\n",
       "  </thead>\n",
       "  <tbody>\n",
       "    <tr>\n",
       "      <th>0</th>\n",
       "      <td>2020-12-22 14:00:00</td>\n",
       "      <td>Wham!</td>\n",
       "      <td>Last Christmas</td>\n",
       "      <td>1</td>\n",
       "      <td>1</td>\n",
       "      <td>cd2834</td>\n",
       "      <td>2020-12-22 13:54:00</td>\n",
       "    </tr>\n",
       "    <tr>\n",
       "      <th>1</th>\n",
       "      <td>2020-12-22 15:00:00</td>\n",
       "      <td>Dolly Parton</td>\n",
       "      <td>9 To 5</td>\n",
       "      <td>2</td>\n",
       "      <td>1</td>\n",
       "      <td>2de3d7</td>\n",
       "      <td>2020-12-22 14:55:00</td>\n",
       "    </tr>\n",
       "    <tr>\n",
       "      <th>2</th>\n",
       "      <td>2020-12-22 15:02:00</td>\n",
       "      <td>Camilla Cabello Ft. Young Thug</td>\n",
       "      <td>Havana</td>\n",
       "      <td>2</td>\n",
       "      <td>2</td>\n",
       "      <td>2de3d7</td>\n",
       "      <td>2020-12-22 14:55:00</td>\n",
       "    </tr>\n",
       "    <tr>\n",
       "      <th>3</th>\n",
       "      <td>2020-12-22 15:04:00</td>\n",
       "      <td>Moana</td>\n",
       "      <td>How Far I’ll Go</td>\n",
       "      <td>2</td>\n",
       "      <td>3</td>\n",
       "      <td>2de3d7</td>\n",
       "      <td>2020-12-22 14:55:00</td>\n",
       "    </tr>\n",
       "    <tr>\n",
       "      <th>4</th>\n",
       "      <td>2020-12-22 18:00:00</td>\n",
       "      <td>Backstreet Boys</td>\n",
       "      <td>I Want It That Way</td>\n",
       "      <td>3</td>\n",
       "      <td>1</td>\n",
       "      <td>6.99e+67</td>\n",
       "      <td>2020-12-22 17:51:00</td>\n",
       "    </tr>\n",
       "  </tbody>\n",
       "</table>\n",
       "</div>"
      ],
      "text/plain": [
       "                 Date                          Artist                Song  \\\n",
       "0 2020-12-22 14:00:00                           Wham!      Last Christmas   \n",
       "1 2020-12-22 15:00:00                    Dolly Parton              9 To 5   \n",
       "2 2020-12-22 15:02:00  Camilla Cabello Ft. Young Thug              Havana   \n",
       "3 2020-12-22 15:04:00                           Moana     How Far I’ll Go   \n",
       "4 2020-12-22 18:00:00                 Backstreet Boys  I Want It That Way   \n",
       "\n",
       "   Session number  Song Order Customer ID          Entry Time  \n",
       "0               1           1      cd2834 2020-12-22 13:54:00  \n",
       "1               2           1      2de3d7 2020-12-22 14:55:00  \n",
       "2               2           2      2de3d7 2020-12-22 14:55:00  \n",
       "3               2           3      2de3d7 2020-12-22 14:55:00  \n",
       "4               3           1    6.99e+67 2020-12-22 17:51:00  "
      ]
     },
     "execution_count": 14,
     "metadata": {},
     "output_type": "execute_result"
    }
   ],
   "source": [
    "output.head()"
   ]
  },
  {
   "cell_type": "code",
   "execution_count": null,
   "id": "d2c48519",
   "metadata": {},
   "outputs": [],
   "source": []
  }
 ],
 "metadata": {
  "kernelspec": {
   "display_name": "Python 3",
   "language": "python",
   "name": "python3"
  },
  "language_info": {
   "codemirror_mode": {
    "name": "ipython",
    "version": 3
   },
   "file_extension": ".py",
   "mimetype": "text/x-python",
   "name": "python",
   "nbconvert_exporter": "python",
   "pygments_lexer": "ipython3",
   "version": "3.7.11"
  }
 },
 "nbformat": 4,
 "nbformat_minor": 5
}
