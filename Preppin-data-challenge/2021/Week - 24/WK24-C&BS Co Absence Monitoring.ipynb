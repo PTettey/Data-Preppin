{
 "cells": [
  {
   "cell_type": "markdown",
   "id": "dc7a3ef9",
   "metadata": {},
   "source": [
    "### Prepping Data Challenge: C&BS Co Absence Monitoring (week 24)\n",
    "\n",
    "Chin & Beard Suds Co is just like any other company, people have unscheduled time off. Whilst this is expected in organisations, it can be difficult to manage. At C&BS Co, we have had a rough start to our financial year with lots of people being off for illness or sickness. How bad has it been and do we have people off every single day?\n",
    "\n",
    "This analysis can be tough in BI tools to look at the day-to-day reality when days off are recorded with just a start date and the number of days taken off. This week's challenge is producing a simple data set that will give us this view. \n",
    "\n",
    "We are analysing the period 1st April to 31st May 2021.\n",
    "\n",
    "### Requirements\n",
    " - Input data\n",
    " - Build a data set that has each date listed out between 1st April to 31st May 2021\n",
    " - Build a data set containing each date someone will be off work\n",
    " - Merge these two data sets together \n",
    " - Workout the number of people off each day\n",
    " - Output the data"
   ]
  },
  {
   "cell_type": "code",
   "execution_count": 1,
   "id": "ab924bef",
   "metadata": {},
   "outputs": [],
   "source": [
    "import pandas as pd"
   ]
  },
  {
   "cell_type": "code",
   "execution_count": 2,
   "id": "58433f2b",
   "metadata": {},
   "outputs": [],
   "source": [
    "#Input the data\n",
    "\n",
    "with pd.ExcelFile('WK24-Absenteeism Scaffold.xlsx') as xlsx:\n",
    "    df = pd.read_excel(xlsx, 'Reasons') "
   ]
  },
  {
   "cell_type": "code",
   "execution_count": 3,
   "id": "72dd5c63",
   "metadata": {},
   "outputs": [
    {
     "data": {
      "text/html": [
       "<div>\n",
       "<style scoped>\n",
       "    .dataframe tbody tr th:only-of-type {\n",
       "        vertical-align: middle;\n",
       "    }\n",
       "\n",
       "    .dataframe tbody tr th {\n",
       "        vertical-align: top;\n",
       "    }\n",
       "\n",
       "    .dataframe thead th {\n",
       "        text-align: right;\n",
       "    }\n",
       "</style>\n",
       "<table border=\"1\" class=\"dataframe\">\n",
       "  <thead>\n",
       "    <tr style=\"text-align: right;\">\n",
       "      <th></th>\n",
       "      <th>Name</th>\n",
       "      <th>Start Date</th>\n",
       "      <th>Days Off</th>\n",
       "      <th>Reason</th>\n",
       "    </tr>\n",
       "  </thead>\n",
       "  <tbody>\n",
       "    <tr>\n",
       "      <th>0</th>\n",
       "      <td>Andy</td>\n",
       "      <td>2021-04-01</td>\n",
       "      <td>4.0</td>\n",
       "      <td>Illness</td>\n",
       "    </tr>\n",
       "    <tr>\n",
       "      <th>1</th>\n",
       "      <td>Carl</td>\n",
       "      <td>2021-04-04</td>\n",
       "      <td>5.0</td>\n",
       "      <td>Illness</td>\n",
       "    </tr>\n",
       "    <tr>\n",
       "      <th>2</th>\n",
       "      <td>Luke</td>\n",
       "      <td>2021-04-05</td>\n",
       "      <td>7.0</td>\n",
       "      <td>Accident</td>\n",
       "    </tr>\n",
       "    <tr>\n",
       "      <th>3</th>\n",
       "      <td>Tom</td>\n",
       "      <td>2021-04-07</td>\n",
       "      <td>2.0</td>\n",
       "      <td>Illness</td>\n",
       "    </tr>\n",
       "    <tr>\n",
       "      <th>4</th>\n",
       "      <td>Craig</td>\n",
       "      <td>2021-04-08</td>\n",
       "      <td>3.0</td>\n",
       "      <td>Accident</td>\n",
       "    </tr>\n",
       "  </tbody>\n",
       "</table>\n",
       "</div>"
      ],
      "text/plain": [
       "    Name Start Date  Days Off    Reason\n",
       "0   Andy 2021-04-01       4.0   Illness\n",
       "1   Carl 2021-04-04       5.0   Illness\n",
       "2   Luke 2021-04-05       7.0  Accident\n",
       "3    Tom 2021-04-07       2.0   Illness\n",
       "4  Craig 2021-04-08       3.0  Accident"
      ]
     },
     "execution_count": 3,
     "metadata": {},
     "output_type": "execute_result"
    }
   ],
   "source": [
    "df.head()"
   ]
  },
  {
   "cell_type": "code",
   "execution_count": 4,
   "id": "8d4a3f33",
   "metadata": {},
   "outputs": [],
   "source": [
    "#Build a data set that has each date listed out between 1st April to 31st May 2021\n",
    "\n",
    "df['Date'] = [pd.date_range(d, periods=p, freq='D') for d, p in zip(df['Start Date'], df['Days Off'])]"
   ]
  },
  {
   "cell_type": "markdown",
   "id": "0166b9ea",
   "metadata": {},
   "source": [
    "<div class=\"alert alert-block alert-info\">\n",
    "    \n",
    "Pandas <strong>zip()</strong> function creates the objects and that can be used to produce single item at a time. This function can create pandans DataFrames by merging two lists. In this case, <strong> 'Start Date' </strong> and <strong> 'Days Off'</strong> \n",
    "\n",
    "    \n",
    "</div>"
   ]
  },
  {
   "cell_type": "code",
   "execution_count": 5,
   "id": "45cbb614",
   "metadata": {},
   "outputs": [],
   "source": [
    "df = df.explode('Date').groupby('Date')['Name'].count().reset_index()\n",
    "df.rename(columns={'Name' : 'Number of people off each day'}, inplace=True)"
   ]
  },
  {
   "cell_type": "code",
   "execution_count": 6,
   "id": "8cf9b769",
   "metadata": {},
   "outputs": [],
   "source": [
    "# generate a list of days in the range of interest\n",
    "start_date = '2021-04-01'\n",
    "end_date = '2021-05-31'\n",
    "\n",
    "df_dates = pd.DataFrame({'Date' : pd.date_range(start=start_date, end=end_date)})"
   ]
  },
  {
   "cell_type": "code",
   "execution_count": 7,
   "id": "40b608bb",
   "metadata": {},
   "outputs": [],
   "source": [
    "# join to dates of interest and fill in zeroes\n",
    "df = df_dates.merge(df, on='Date', how='left').fillna(0)"
   ]
  },
  {
   "cell_type": "code",
   "execution_count": 8,
   "id": "dd0aaaa7",
   "metadata": {},
   "outputs": [
    {
     "data": {
      "text/html": [
       "<div>\n",
       "<style scoped>\n",
       "    .dataframe tbody tr th:only-of-type {\n",
       "        vertical-align: middle;\n",
       "    }\n",
       "\n",
       "    .dataframe tbody tr th {\n",
       "        vertical-align: top;\n",
       "    }\n",
       "\n",
       "    .dataframe thead th {\n",
       "        text-align: right;\n",
       "    }\n",
       "</style>\n",
       "<table border=\"1\" class=\"dataframe\">\n",
       "  <thead>\n",
       "    <tr style=\"text-align: right;\">\n",
       "      <th></th>\n",
       "      <th>Date</th>\n",
       "      <th>Number of people off each day</th>\n",
       "    </tr>\n",
       "  </thead>\n",
       "  <tbody>\n",
       "    <tr>\n",
       "      <th>0</th>\n",
       "      <td>2021-04-01</td>\n",
       "      <td>1.0</td>\n",
       "    </tr>\n",
       "    <tr>\n",
       "      <th>1</th>\n",
       "      <td>2021-04-02</td>\n",
       "      <td>1.0</td>\n",
       "    </tr>\n",
       "    <tr>\n",
       "      <th>2</th>\n",
       "      <td>2021-04-03</td>\n",
       "      <td>1.0</td>\n",
       "    </tr>\n",
       "    <tr>\n",
       "      <th>3</th>\n",
       "      <td>2021-04-04</td>\n",
       "      <td>2.0</td>\n",
       "    </tr>\n",
       "    <tr>\n",
       "      <th>4</th>\n",
       "      <td>2021-04-05</td>\n",
       "      <td>2.0</td>\n",
       "    </tr>\n",
       "  </tbody>\n",
       "</table>\n",
       "</div>"
      ],
      "text/plain": [
       "        Date  Number of people off each day\n",
       "0 2021-04-01                            1.0\n",
       "1 2021-04-02                            1.0\n",
       "2 2021-04-03                            1.0\n",
       "3 2021-04-04                            2.0\n",
       "4 2021-04-05                            2.0"
      ]
     },
     "execution_count": 8,
     "metadata": {},
     "output_type": "execute_result"
    }
   ],
   "source": [
    "df.head()"
   ]
  },
  {
   "cell_type": "code",
   "execution_count": 9,
   "id": "2b28eab2",
   "metadata": {},
   "outputs": [],
   "source": [
    "df.to_csv('WK24-output.csv', index=False)"
   ]
  }
 ],
 "metadata": {
  "kernelspec": {
   "display_name": "Tetteyanalysis",
   "language": "python",
   "name": "tetteyanalysis"
  },
  "language_info": {
   "codemirror_mode": {
    "name": "ipython",
    "version": 3
   },
   "file_extension": ".py",
   "mimetype": "text/x-python",
   "name": "python",
   "nbconvert_exporter": "python",
   "pygments_lexer": "ipython3",
   "version": "3.7.11"
  }
 },
 "nbformat": 4,
 "nbformat_minor": 5
}
