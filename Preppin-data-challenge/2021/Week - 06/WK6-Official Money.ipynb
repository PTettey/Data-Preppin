{
 "cells": [
  {
   "cell_type": "markdown",
   "id": "dc7a3ef9",
   "metadata": {},
   "source": [
    "### Prepping Data Challenge: Comparing Prize Money for Professional Golfers (week 6)\n",
    "\n",
    "\n",
    "#### Requirement:\n",
    "\n",
    " 1. Input the data\n",
    " 2. Answer these questions:\n",
    "    - What's the Total Prize Money earned by players for each tour? \n",
    "    - How many players are in this dataset for each tour?\n",
    "    - How many events in total did players participate in for each tour?\n",
    "    - How much do players win per event? What's the average of this for each tour? \n",
    "    - How do players rank by prize money for each tour? What about overall? What is the average difference between where they are ranked within their tour compared to the overall rankings where both tours are combined? \n",
    "    \n",
    "        - Here we would like the difference to be positive as you would presume combining the tours would cause a player's ranking to increase\n",
    "        \n",
    " 3. Combine the answers to these questions into one dataset \n",
    " 4. Pivot the data so that we have a column for each tour, with each row representing an answer to the above questions \n",
    " 5. Clean up the Measure field and create a new column showing the difference between the tours for each measure\n",
    "    - We're looking at the difference between the LPGA from the PGA, so in most instances this number will be negative\n",
    " 6. Output the data"
   ]
  },
  {
   "cell_type": "markdown",
   "id": "8c8eb9b2",
   "metadata": {},
   "source": [
    "### 1. Input the data "
   ]
  },
  {
   "cell_type": "code",
   "execution_count": 1,
   "id": "ab924bef",
   "metadata": {},
   "outputs": [],
   "source": [
    "#import libraries\n",
    "import pandas as pd"
   ]
  },
  {
   "cell_type": "code",
   "execution_count": 2,
   "id": "a79e3442",
   "metadata": {},
   "outputs": [
    {
     "data": {
      "text/html": [
       "<div>\n",
       "<style scoped>\n",
       "    .dataframe tbody tr th:only-of-type {\n",
       "        vertical-align: middle;\n",
       "    }\n",
       "\n",
       "    .dataframe tbody tr th {\n",
       "        vertical-align: top;\n",
       "    }\n",
       "\n",
       "    .dataframe thead th {\n",
       "        text-align: right;\n",
       "    }\n",
       "</style>\n",
       "<table border=\"1\" class=\"dataframe\">\n",
       "  <thead>\n",
       "    <tr style=\"text-align: right;\">\n",
       "      <th></th>\n",
       "      <th>PLAYER NAME</th>\n",
       "      <th>MONEY</th>\n",
       "      <th>EVENTS</th>\n",
       "      <th>TOUR</th>\n",
       "    </tr>\n",
       "  </thead>\n",
       "  <tbody>\n",
       "    <tr>\n",
       "      <th>0</th>\n",
       "      <td>Brooks Koepka</td>\n",
       "      <td>9684006</td>\n",
       "      <td>21</td>\n",
       "      <td>PGA</td>\n",
       "    </tr>\n",
       "    <tr>\n",
       "      <th>1</th>\n",
       "      <td>Rory McIlroy</td>\n",
       "      <td>7785286</td>\n",
       "      <td>19</td>\n",
       "      <td>PGA</td>\n",
       "    </tr>\n",
       "    <tr>\n",
       "      <th>2</th>\n",
       "      <td>Matt Kuchar</td>\n",
       "      <td>6294690</td>\n",
       "      <td>22</td>\n",
       "      <td>PGA</td>\n",
       "    </tr>\n",
       "    <tr>\n",
       "      <th>3</th>\n",
       "      <td>Patrick Cantlay</td>\n",
       "      <td>6121488</td>\n",
       "      <td>21</td>\n",
       "      <td>PGA</td>\n",
       "    </tr>\n",
       "    <tr>\n",
       "      <th>4</th>\n",
       "      <td>Gary Woodland</td>\n",
       "      <td>5690965</td>\n",
       "      <td>24</td>\n",
       "      <td>PGA</td>\n",
       "    </tr>\n",
       "  </tbody>\n",
       "</table>\n",
       "</div>"
      ],
      "text/plain": [
       "       PLAYER NAME    MONEY  EVENTS TOUR\n",
       "0    Brooks Koepka  9684006      21  PGA\n",
       "1     Rory McIlroy  7785286      19  PGA\n",
       "2      Matt Kuchar  6294690      22  PGA\n",
       "3  Patrick Cantlay  6121488      21  PGA\n",
       "4    Gary Woodland  5690965      24  PGA"
      ]
     },
     "execution_count": 2,
     "metadata": {},
     "output_type": "execute_result"
    }
   ],
   "source": [
    "df = pd.read_excel('WK6-Official Money.xlsx')\n",
    "\n",
    "df.head()"
   ]
  },
  {
   "cell_type": "markdown",
   "id": "88889b8e",
   "metadata": {},
   "source": [
    "### 2. Answer these questions:\n",
    "   - What's the Total Prize Money earned by players for each tour? \n",
    "   - How many players are in this dataset for each tour?\n",
    "   - How many events in total did players participate in for each tour?\n",
    "   - How much do players win per event? What's the average of this for each tour?\n",
    "   - How do players rank by prize money for each tour? What about overall? What is the average difference between where they are ranked within their tour compared to the overall rankings where both tours are combined? \n",
    "   \n",
    "      - Here we would like the difference to be positive as you would presume combining the tours would cause a player's ranking to increase"
   ]
  },
  {
   "cell_type": "code",
   "execution_count": 3,
   "id": "75fd233f",
   "metadata": {},
   "outputs": [],
   "source": [
    "#What's the Total Prize Money earned by players for each tour?\n",
    "q1 = df.groupby(['TOUR']).agg(Total_Prize_Money = ('MONEY','sum')).reset_index()"
   ]
  },
  {
   "cell_type": "code",
   "execution_count": 4,
   "id": "c467ad87",
   "metadata": {},
   "outputs": [],
   "source": [
    "#How many players are in this dataset for each tour?\n",
    "q2 = df.groupby(['TOUR']).agg(Number_of_Players = ('PLAYER NAME','count')).reset_index()"
   ]
  },
  {
   "cell_type": "code",
   "execution_count": 5,
   "id": "360b7399",
   "metadata": {},
   "outputs": [],
   "source": [
    "#How many events in total did players participate in for each tour?\n",
    "q3 = df.groupby(['TOUR']).agg(Number_of_Event = ('EVENTS','sum')).reset_index()"
   ]
  },
  {
   "cell_type": "code",
   "execution_count": 6,
   "id": "6521bcd0",
   "metadata": {},
   "outputs": [],
   "source": [
    "#How much do players win per event? What's the average of this for each tour?\n",
    "df['AVG MONEY PER PLAYER'] = df['MONEY']/df['EVENTS']\n",
    "q4 = df.groupby(['TOUR']).agg(Avg_money_per_event = ('AVG MONEY PER PLAYER','mean')).reset_index()"
   ]
  },
  {
   "cell_type": "code",
   "execution_count": 7,
   "id": "5e6386db",
   "metadata": {},
   "outputs": [],
   "source": [
    "#How do players rank by prize money for each tour? What about overall? \n",
    "#What is the average difference between where they are ranked within their tour compared to \n",
    "#the overall rankings where both tours are combined? \n",
    "df['TM_RANK'] = df.groupby(['TOUR'])['MONEY'].rank(ascending=False)\n",
    "df['OVERALL_RANK'] = df['MONEY'].rank(ascending=False)\n",
    "df['DIFF EARNING RANK'] = df['OVERALL_RANK'] - df['TM_RANK']\n",
    "\n",
    "q5 = df.groupby(['TOUR']).agg(Avg_difference_in_rank = ('DIFF EARNING RANK','mean')).reset_index()"
   ]
  },
  {
   "cell_type": "markdown",
   "id": "8580585a",
   "metadata": {},
   "source": [
    "###  3. Combine the answers to these questions into one dataset "
   ]
  },
  {
   "cell_type": "code",
   "execution_count": 8,
   "id": "062f4b88",
   "metadata": {},
   "outputs": [],
   "source": [
    "df_all = q1\n",
    "df_all = df_all.merge(q2, on='TOUR', how='inner')\n",
    "df_all = df_all.merge(q3, on='TOUR', how='inner')\n",
    "df_all = df_all.merge(q4, on='TOUR', how='inner')\n",
    "df_all = df_all.merge(q5, on='TOUR', how='inner')"
   ]
  },
  {
   "cell_type": "markdown",
   "id": "f15b7f1f",
   "metadata": {},
   "source": [
    "### 4. Pivot the data so that we have a column for each tour, with each row representing an answer to the above questions "
   ]
  },
  {
   "cell_type": "code",
   "execution_count": 9,
   "id": "fcffb9db",
   "metadata": {},
   "outputs": [
    {
     "data": {
      "text/html": [
       "<div>\n",
       "<style scoped>\n",
       "    .dataframe tbody tr th:only-of-type {\n",
       "        vertical-align: middle;\n",
       "    }\n",
       "\n",
       "    .dataframe tbody tr th {\n",
       "        vertical-align: top;\n",
       "    }\n",
       "\n",
       "    .dataframe thead th {\n",
       "        text-align: right;\n",
       "    }\n",
       "</style>\n",
       "<table border=\"1\" class=\"dataframe\">\n",
       "  <thead>\n",
       "    <tr style=\"text-align: right;\">\n",
       "      <th></th>\n",
       "      <th>TOUR</th>\n",
       "      <th>Total_Prize_Money</th>\n",
       "      <th>Number_of_Players</th>\n",
       "      <th>Number_of_Event</th>\n",
       "      <th>Avg_money_per_event</th>\n",
       "      <th>Avg_difference_in_rank</th>\n",
       "    </tr>\n",
       "  </thead>\n",
       "  <tbody>\n",
       "    <tr>\n",
       "      <th>0</th>\n",
       "      <td>LPGA</td>\n",
       "      <td>58410411</td>\n",
       "      <td>100</td>\n",
       "      <td>2266</td>\n",
       "      <td>25525.301120</td>\n",
       "      <td>96.13</td>\n",
       "    </tr>\n",
       "    <tr>\n",
       "      <th>1</th>\n",
       "      <td>PGA</td>\n",
       "      <td>256726356</td>\n",
       "      <td>100</td>\n",
       "      <td>2282</td>\n",
       "      <td>120281.569273</td>\n",
       "      <td>3.87</td>\n",
       "    </tr>\n",
       "  </tbody>\n",
       "</table>\n",
       "</div>"
      ],
      "text/plain": [
       "   TOUR  Total_Prize_Money  Number_of_Players  Number_of_Event  \\\n",
       "0  LPGA           58410411                100             2266   \n",
       "1   PGA          256726356                100             2282   \n",
       "\n",
       "   Avg_money_per_event  Avg_difference_in_rank  \n",
       "0         25525.301120                   96.13  \n",
       "1        120281.569273                    3.87  "
      ]
     },
     "execution_count": 9,
     "metadata": {},
     "output_type": "execute_result"
    }
   ],
   "source": [
    "df_all"
   ]
  },
  {
   "cell_type": "code",
   "execution_count": 10,
   "id": "59fb52a5",
   "metadata": {},
   "outputs": [
    {
     "data": {
      "text/html": [
       "<div>\n",
       "<style scoped>\n",
       "    .dataframe tbody tr th:only-of-type {\n",
       "        vertical-align: middle;\n",
       "    }\n",
       "\n",
       "    .dataframe tbody tr th {\n",
       "        vertical-align: top;\n",
       "    }\n",
       "\n",
       "    .dataframe thead th {\n",
       "        text-align: right;\n",
       "    }\n",
       "</style>\n",
       "<table border=\"1\" class=\"dataframe\">\n",
       "  <thead>\n",
       "    <tr style=\"text-align: right;\">\n",
       "      <th>TOUR</th>\n",
       "      <th>LPGA</th>\n",
       "      <th>PGA</th>\n",
       "    </tr>\n",
       "  </thead>\n",
       "  <tbody>\n",
       "    <tr>\n",
       "      <th>Total_Prize_Money</th>\n",
       "      <td>5.841041e+07</td>\n",
       "      <td>2.567264e+08</td>\n",
       "    </tr>\n",
       "    <tr>\n",
       "      <th>Number_of_Players</th>\n",
       "      <td>1.000000e+02</td>\n",
       "      <td>1.000000e+02</td>\n",
       "    </tr>\n",
       "    <tr>\n",
       "      <th>Number_of_Event</th>\n",
       "      <td>2.266000e+03</td>\n",
       "      <td>2.282000e+03</td>\n",
       "    </tr>\n",
       "    <tr>\n",
       "      <th>Avg_money_per_event</th>\n",
       "      <td>2.552530e+04</td>\n",
       "      <td>1.202816e+05</td>\n",
       "    </tr>\n",
       "    <tr>\n",
       "      <th>Avg_difference_in_rank</th>\n",
       "      <td>9.613000e+01</td>\n",
       "      <td>3.870000e+00</td>\n",
       "    </tr>\n",
       "  </tbody>\n",
       "</table>\n",
       "</div>"
      ],
      "text/plain": [
       "TOUR                            LPGA           PGA\n",
       "Total_Prize_Money       5.841041e+07  2.567264e+08\n",
       "Number_of_Players       1.000000e+02  1.000000e+02\n",
       "Number_of_Event         2.266000e+03  2.282000e+03\n",
       "Avg_money_per_event     2.552530e+04  1.202816e+05\n",
       "Avg_difference_in_rank  9.613000e+01  3.870000e+00"
      ]
     },
     "execution_count": 10,
     "metadata": {},
     "output_type": "execute_result"
    }
   ],
   "source": [
    "df_all.set_index('TOUR',inplace=True)\n",
    "df_all = df_all.T\n",
    "df_all"
   ]
  },
  {
   "cell_type": "markdown",
   "id": "286406a6",
   "metadata": {},
   "source": [
    "###  5. Clean up the Measure field and create a new column showing the difference between the tours for each measure\n",
    "   - We're looking at the difference between the LPGA from the PGA, so in most instances this number will be negative"
   ]
  },
  {
   "cell_type": "code",
   "execution_count": 11,
   "id": "f7aa5073",
   "metadata": {},
   "outputs": [],
   "source": [
    "df_all['DIFF IN TOUR'] = df_all['LPGA'] - df_all['PGA']"
   ]
  },
  {
   "cell_type": "code",
   "execution_count": 12,
   "id": "47ebb092",
   "metadata": {},
   "outputs": [
    {
     "data": {
      "text/html": [
       "<div>\n",
       "<style scoped>\n",
       "    .dataframe tbody tr th:only-of-type {\n",
       "        vertical-align: middle;\n",
       "    }\n",
       "\n",
       "    .dataframe tbody tr th {\n",
       "        vertical-align: top;\n",
       "    }\n",
       "\n",
       "    .dataframe thead th {\n",
       "        text-align: right;\n",
       "    }\n",
       "</style>\n",
       "<table border=\"1\" class=\"dataframe\">\n",
       "  <thead>\n",
       "    <tr style=\"text-align: right;\">\n",
       "      <th>TOUR</th>\n",
       "      <th>LPGA</th>\n",
       "      <th>PGA</th>\n",
       "      <th>DIFF IN TOUR</th>\n",
       "    </tr>\n",
       "  </thead>\n",
       "  <tbody>\n",
       "    <tr>\n",
       "      <th>Total_Prize_Money</th>\n",
       "      <td>5.841041e+07</td>\n",
       "      <td>2.567264e+08</td>\n",
       "      <td>-1.983159e+08</td>\n",
       "    </tr>\n",
       "    <tr>\n",
       "      <th>Number_of_Players</th>\n",
       "      <td>1.000000e+02</td>\n",
       "      <td>1.000000e+02</td>\n",
       "      <td>0.000000e+00</td>\n",
       "    </tr>\n",
       "    <tr>\n",
       "      <th>Number_of_Event</th>\n",
       "      <td>2.266000e+03</td>\n",
       "      <td>2.282000e+03</td>\n",
       "      <td>-1.600000e+01</td>\n",
       "    </tr>\n",
       "    <tr>\n",
       "      <th>Avg_money_per_event</th>\n",
       "      <td>2.552530e+04</td>\n",
       "      <td>1.202816e+05</td>\n",
       "      <td>-9.475627e+04</td>\n",
       "    </tr>\n",
       "    <tr>\n",
       "      <th>Avg_difference_in_rank</th>\n",
       "      <td>9.613000e+01</td>\n",
       "      <td>3.870000e+00</td>\n",
       "      <td>9.226000e+01</td>\n",
       "    </tr>\n",
       "  </tbody>\n",
       "</table>\n",
       "</div>"
      ],
      "text/plain": [
       "TOUR                            LPGA           PGA  DIFF IN TOUR\n",
       "Total_Prize_Money       5.841041e+07  2.567264e+08 -1.983159e+08\n",
       "Number_of_Players       1.000000e+02  1.000000e+02  0.000000e+00\n",
       "Number_of_Event         2.266000e+03  2.282000e+03 -1.600000e+01\n",
       "Avg_money_per_event     2.552530e+04  1.202816e+05 -9.475627e+04\n",
       "Avg_difference_in_rank  9.613000e+01  3.870000e+00  9.226000e+01"
      ]
     },
     "execution_count": 12,
     "metadata": {},
     "output_type": "execute_result"
    }
   ],
   "source": [
    "df_all"
   ]
  },
  {
   "cell_type": "markdown",
   "id": "164f9c3c",
   "metadata": {},
   "source": [
    "### 6. Output the data"
   ]
  },
  {
   "cell_type": "code",
   "execution_count": 13,
   "id": "d341b4a7",
   "metadata": {},
   "outputs": [],
   "source": [
    "df_all.to_csv('WK6-Official Money Output.csv')"
   ]
  }
 ],
 "metadata": {
  "kernelspec": {
   "display_name": "Python 3",
   "language": "python",
   "name": "python3"
  },
  "language_info": {
   "codemirror_mode": {
    "name": "ipython",
    "version": 3
   },
   "file_extension": ".py",
   "mimetype": "text/x-python",
   "name": "python",
   "nbconvert_exporter": "python",
   "pygments_lexer": "ipython3",
   "version": "3.7.11"
  }
 },
 "nbformat": 4,
 "nbformat_minor": 5
}
