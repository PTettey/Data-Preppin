{
 "cells": [
  {
   "cell_type": "markdown",
   "id": "dc7a3ef9",
   "metadata": {},
   "source": [
    "### Prepping Data Challenge: Restaurant Menu & Orders (week 15)\n",
    "This week we want to analyse the orders that customers have made over a period of time in our restaurant Serendipia. In order to identify how much money we earn each day of the week and also to discover who our top customer is. We are going to be using calculations, pivots and aggregations so lots of the fundamental techniques that are used within data prep! \n",
    "\n",
    "#### Requirement:\n",
    " - Input the data\n",
    "\n",
    " - Modify the structure of the Menu table so we can have one column for the Type (pizza, pasta, house plate), the name of the plate, ID, and Price \n",
    "\n",
    " - Modify the structure of the Orders table to have each item ID in a different row \n",
    "\n",
    " - Join both tables \n",
    "\n",
    " - On Monday's we offer a 50% discount on all items. Recalculate the prices to reflect this\n",
    "\n",
    " - For Output 1, we want to calculate the total money for each day of the week \n",
    "\n",
    " - For Output 2, we want to reward the customer who has made the most orders for their loyalty. Work out which customer has ordered the most single items. "
   ]
  },
  {
   "cell_type": "markdown",
   "id": "8c8eb9b2",
   "metadata": {},
   "source": [
    "### Input the data"
   ]
  },
  {
   "cell_type": "code",
   "execution_count": 1,
   "id": "ab924bef",
   "metadata": {},
   "outputs": [],
   "source": [
    "import pandas as pd\n",
    "import numpy as np"
   ]
  },
  {
   "cell_type": "code",
   "execution_count": 2,
   "id": "58433f2b",
   "metadata": {},
   "outputs": [],
   "source": [
    "with pd.ExcelFile('WK15-Input.xlsx') as xlsx:\n",
    "    menu = pd.read_excel(xlsx, 'MENU')\n",
    "    orders = pd.read_excel(xlsx, 'Order', parse_dates=['Order Date'])"
   ]
  },
  {
   "cell_type": "code",
   "execution_count": 3,
   "id": "97facae8",
   "metadata": {},
   "outputs": [],
   "source": [
    "#menu.head()\n",
    "#orders.head()"
   ]
  },
  {
   "cell_type": "markdown",
   "id": "8580585a",
   "metadata": {},
   "source": [
    "### Modify the structure of the Menu table so we can have one column for the Type (pizza, pasta, house plate), the name of the plate, ID, and Price "
   ]
  },
  {
   "cell_type": "code",
   "execution_count": 4,
   "id": "ca94b8a2",
   "metadata": {},
   "outputs": [],
   "source": [
    "menu = menu.reset_index().melt(id_vars=['index'])"
   ]
  },
  {
   "cell_type": "code",
   "execution_count": 5,
   "id": "5a1ddfd0",
   "metadata": {},
   "outputs": [],
   "source": [
    "menu[['Type', 'field']] = menu['variable'].str.extract('(.*?)\\s?(ID|Price|$).*', expand=True)\n",
    "menu['field'] = np.where(menu['field'].str.strip() == '', 'Item', menu['field'])\n",
    "menu.dropna(subset=['value'], inplace=True)"
   ]
  },
  {
   "cell_type": "code",
   "execution_count": 6,
   "id": "99054c5a",
   "metadata": {},
   "outputs": [],
   "source": [
    "# pivot fieldnames into columns\n",
    "menu_f = menu.pivot_table(values='value', index=['index', 'Type'], columns=['field'],\n",
    "                          aggfunc='first')\\\n",
    "             .reset_index()\\\n",
    "             .drop(columns='index')"
   ]
  },
  {
   "cell_type": "code",
   "execution_count": 7,
   "id": "995e25ed",
   "metadata": {},
   "outputs": [],
   "source": [
    "# put each item ID from orders into a separate row\n",
    "orders['Order'] = orders['Order'].astype(str).str.split('-')\n",
    "orders = orders.explode('Order')\n",
    "orders['Order'] = orders['Order'].astype(int)"
   ]
  },
  {
   "cell_type": "markdown",
   "id": "eb18e310",
   "metadata": {},
   "source": [
    "###   Join both tables "
   ]
  },
  {
   "cell_type": "code",
   "execution_count": 8,
   "id": "c16137c4",
   "metadata": {},
   "outputs": [],
   "source": [
    "orders_menu = pd.merge(orders, menu_f, left_on='Order', right_on='ID', how='inner')"
   ]
  },
  {
   "cell_type": "markdown",
   "id": "8bdd41c7",
   "metadata": {},
   "source": [
    "### On Monday's we offer a 50% discount on all items. Recalculate the prices to reflect this"
   ]
  },
  {
   "cell_type": "code",
   "execution_count": 9,
   "id": "16c73875",
   "metadata": {},
   "outputs": [],
   "source": [
    "orders_menu['Weekday'] = orders_menu['Order Date'].dt.day_name()\n",
    "orders_menu['Price'] = np.where(orders_menu['Weekday'] == 'Monday', orders_menu['Price'] * 0.5,\n",
    "                          orders_menu['Price'])"
   ]
  },
  {
   "cell_type": "markdown",
   "id": "d84fb70f",
   "metadata": {},
   "source": [
    "### For Output 1, we want to calculate the total money for each day of the week \n",
    "\n",
    "### For Output 2, we want to reward the customer who has made the most orders for their loyalty. Work out which customer has ordered the most single items. "
   ]
  },
  {
   "cell_type": "code",
   "execution_count": 11,
   "id": "042fddab",
   "metadata": {},
   "outputs": [],
   "source": [
    "#output 1\n",
    "output1 = orders_menu.groupby('Weekday')['Price'].sum().reset_index()"
   ]
  },
  {
   "cell_type": "code",
   "execution_count": 10,
   "id": "4a3f1d8b",
   "metadata": {},
   "outputs": [],
   "source": [
    "#output 2\n",
    "output2 = orders_menu.groupby('Customer Name')['Order'].nunique().reset_index()\\\n",
    "               .sort_values(by='Order', ascending=False).iloc[0:1, :]\n",
    "output2.rename(columns={'Order':'Count Items'}, inplace=True)"
   ]
  },
  {
   "cell_type": "code",
   "execution_count": 12,
   "id": "2563a295",
   "metadata": {},
   "outputs": [],
   "source": [
    "output1.to_csv('WK15-output1.csv', index = False)\n",
    "output2.to_csv('Wk15-output2.csv', index = False)"
   ]
  }
 ],
 "metadata": {
  "kernelspec": {
   "display_name": "Tetteyanalysis",
   "language": "python",
   "name": "tetteyanalysis"
  },
  "language_info": {
   "codemirror_mode": {
    "name": "ipython",
    "version": 3
   },
   "file_extension": ".py",
   "mimetype": "text/x-python",
   "name": "python",
   "nbconvert_exporter": "python",
   "pygments_lexer": "ipython3",
   "version": "3.7.11"
  }
 },
 "nbformat": 4,
 "nbformat_minor": 5
}
