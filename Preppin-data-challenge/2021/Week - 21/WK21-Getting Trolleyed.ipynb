{
 "cells": [
  {
   "cell_type": "markdown",
   "id": "dc7a3ef9",
   "metadata": {},
   "source": [
    "### Prepping Data Challenge: Getting Trolleyed (week 21)\n",
    "\n",
    "Our final challenge for calculations month is all about the Analytical Calculations. These calculations let you answer the questions your stakeholders have before you've even visualised anything. \n",
    "\n",
    "### Challenge\n",
    "New Trolley Inventory project finally delivered at the end of May, we want to analyse what are the products that we are now selling for a much higher amount than we did before the project. We want to analyse the top three products based on price rise per destination. \n",
    "\n",
    "### Requirements\n",
    " - Input data\n",
    " - Bring all the sheets together\n",
    " - Use the Day of Month and Table Names (sheet name in other tools) to form a date field for the purchase called 'Date'\n",
    " - Create 'New Trolley Inventory?' field to show whether the purchase was made on or after 1st June 2021 (the first date with the revised inventory after the project closed)\n",
    " - Remove lots of the detail of the product name:\n",
    "   - Only return any names before the '-' (hyphen)\n",
    "   - If a product doesn't have a hyphen return the full product name\n",
    " - Make price a numeric field\n",
    " - Work out the average selling price per product\n",
    " - Workout the Variance (difference) between the selling price and the average selling price\n",
    " - Rank the Variances (1 being the largest positive variance) per destination and whether the product was sold before or after the new trolley inventory project delivery\n",
    " - Return only ranks 1-5 \n",
    " - Output the data"
   ]
  },
  {
   "cell_type": "code",
   "execution_count": 2,
   "id": "ab924bef",
   "metadata": {},
   "outputs": [],
   "source": [
    "import pandas as pd\n",
    "import numpy as np"
   ]
  },
  {
   "cell_type": "code",
   "execution_count": 3,
   "id": "58433f2b",
   "metadata": {},
   "outputs": [],
   "source": [
    "#Input the data\n",
    "#Bring all the Sheets together\n",
    "\n",
    "df = None\n",
    "with pd.ExcelFile('Wk21-Input.xlsx') as xlsx:\n",
    "    for s in xlsx.sheet_names:\n",
    "        df_new = pd.read_excel(xlsx, s)\n",
    "        df_new['sheet_name'] = s\n",
    "        df = pd.concat([df, df_new])"
   ]
  },
  {
   "cell_type": "code",
   "execution_count": 4,
   "id": "8d4a3f33",
   "metadata": {},
   "outputs": [
    {
     "data": {
      "text/html": [
       "<div>\n",
       "<style scoped>\n",
       "    .dataframe tbody tr th:only-of-type {\n",
       "        vertical-align: middle;\n",
       "    }\n",
       "\n",
       "    .dataframe tbody tr th {\n",
       "        vertical-align: top;\n",
       "    }\n",
       "\n",
       "    .dataframe thead th {\n",
       "        text-align: right;\n",
       "    }\n",
       "</style>\n",
       "<table border=\"1\" class=\"dataframe\">\n",
       "  <thead>\n",
       "    <tr style=\"text-align: right;\">\n",
       "      <th></th>\n",
       "      <th>Day of Month</th>\n",
       "      <th>first_name</th>\n",
       "      <th>last_name</th>\n",
       "      <th>email</th>\n",
       "      <th>Product</th>\n",
       "      <th>Price</th>\n",
       "      <th>Destination</th>\n",
       "      <th>sheet_name</th>\n",
       "    </tr>\n",
       "  </thead>\n",
       "  <tbody>\n",
       "    <tr>\n",
       "      <th>0</th>\n",
       "      <td>9</td>\n",
       "      <td>Daffie</td>\n",
       "      <td>Clemont</td>\n",
       "      <td>dclemont0@unc.edu</td>\n",
       "      <td>Emulsifier</td>\n",
       "      <td>$10.14</td>\n",
       "      <td>New York</td>\n",
       "      <td>Month 1</td>\n",
       "    </tr>\n",
       "    <tr>\n",
       "      <th>1</th>\n",
       "      <td>19</td>\n",
       "      <td>Lucio</td>\n",
       "      <td>Muzzall</td>\n",
       "      <td>lmuzzall1@dell.com</td>\n",
       "      <td>Chambord Royal</td>\n",
       "      <td>$33.89</td>\n",
       "      <td>London</td>\n",
       "      <td>Month 1</td>\n",
       "    </tr>\n",
       "    <tr>\n",
       "      <th>2</th>\n",
       "      <td>25</td>\n",
       "      <td>Corbie</td>\n",
       "      <td>Shrigley</td>\n",
       "      <td>cshrigley2@sourceforge.net</td>\n",
       "      <td>Apples - Sliced / Wedge</td>\n",
       "      <td>$1.64</td>\n",
       "      <td>Perth</td>\n",
       "      <td>Month 1</td>\n",
       "    </tr>\n",
       "    <tr>\n",
       "      <th>3</th>\n",
       "      <td>9</td>\n",
       "      <td>Sioux</td>\n",
       "      <td>Couth</td>\n",
       "      <td>scouth3@bluehost.com</td>\n",
       "      <td>Vinegar - White Wine</td>\n",
       "      <td>$19.84</td>\n",
       "      <td>Paris</td>\n",
       "      <td>Month 1</td>\n",
       "    </tr>\n",
       "    <tr>\n",
       "      <th>4</th>\n",
       "      <td>21</td>\n",
       "      <td>Almira</td>\n",
       "      <td>Rickards</td>\n",
       "      <td>arickards4@godaddy.com</td>\n",
       "      <td>Food Colouring - Pink</td>\n",
       "      <td>$20.15</td>\n",
       "      <td>Edinburgh</td>\n",
       "      <td>Month 1</td>\n",
       "    </tr>\n",
       "  </tbody>\n",
       "</table>\n",
       "</div>"
      ],
      "text/plain": [
       "   Day of Month first_name last_name                       email  \\\n",
       "0             9     Daffie   Clemont           dclemont0@unc.edu   \n",
       "1            19      Lucio   Muzzall          lmuzzall1@dell.com   \n",
       "2            25     Corbie  Shrigley  cshrigley2@sourceforge.net   \n",
       "3             9      Sioux     Couth        scouth3@bluehost.com   \n",
       "4            21     Almira  Rickards      arickards4@godaddy.com   \n",
       "\n",
       "                   Product   Price Destination sheet_name  \n",
       "0               Emulsifier  $10.14  New York      Month 1  \n",
       "1           Chambord Royal  $33.89      London    Month 1  \n",
       "2  Apples - Sliced / Wedge   $1.64       Perth    Month 1  \n",
       "3     Vinegar - White Wine  $19.84       Paris    Month 1  \n",
       "4    Food Colouring - Pink  $20.15   Edinburgh    Month 1  "
      ]
     },
     "execution_count": 4,
     "metadata": {},
     "output_type": "execute_result"
    }
   ],
   "source": [
    "df.head()"
   ]
  },
  {
   "cell_type": "code",
   "execution_count": 5,
   "id": "72dd5c63",
   "metadata": {},
   "outputs": [],
   "source": [
    "# trim the Destination\n",
    "df['Destination'] = df['Destination'].str.strip()"
   ]
  },
  {
   "cell_type": "code",
   "execution_count": 6,
   "id": "8cf9b769",
   "metadata": {},
   "outputs": [],
   "source": [
    "#Use the Day of Month and Table Names (sheet name in other tools) to form a date field for the purchase called 'Date'\n",
    "df['Date'] = pd.to_datetime('2021' + '-' + df['sheet_name'].str.replace('Month ', '')\n",
    "                         + '-' + df['Day of Month'].astype(str))"
   ]
  },
  {
   "cell_type": "code",
   "execution_count": 9,
   "id": "40b608bb",
   "metadata": {},
   "outputs": [
    {
     "name": "stderr",
     "output_type": "stream",
     "text": [
      "C:\\ProgramData\\Anaconda3\\envs\\Tetteyanalysis\\lib\\site-packages\\ipykernel_launcher.py:3: FutureWarning: The pandas.datetime class is deprecated and will be removed from pandas in a future version. Import from datetime module instead.\n",
      "  This is separate from the ipykernel package so we can avoid doing imports until\n"
     ]
    }
   ],
   "source": [
    "#Create 'New Trolley Inventory?' field to show whether the purchase was made on or after 1st June 2021\n",
    "#(the first date with the revised inventory after the project closed)\n",
    "df['New Trolley Inventory?'] = (df['Date'] >= pd.datetime(2021, 6, 1))"
   ]
  },
  {
   "cell_type": "code",
   "execution_count": 11,
   "id": "063a2704",
   "metadata": {},
   "outputs": [],
   "source": [
    "#Remove lots of the detail of the product name:\n",
    "df['Product'] = df['Product'].str.split(' -').str[0]"
   ]
  },
  {
   "cell_type": "code",
   "execution_count": 13,
   "id": "9cdfaa87",
   "metadata": {},
   "outputs": [],
   "source": [
    "# make price a numeric field\n",
    "df['Price'] = df['Price'].str.strip('$').astype(float)"
   ]
  },
  {
   "cell_type": "code",
   "execution_count": 15,
   "id": "594e07aa",
   "metadata": {},
   "outputs": [],
   "source": [
    "# work out the average selling price per product\n",
    "df['Avg Price per Product'] = df.groupby('Product')['Price'].transform('mean')"
   ]
  },
  {
   "cell_type": "code",
   "execution_count": 17,
   "id": "821d920f",
   "metadata": {},
   "outputs": [],
   "source": [
    "# work out the Variance (difference) between the selling price and the average selling price\n",
    "df['Variance'] = df['Price'] - df['Avg Price per Product']"
   ]
  },
  {
   "cell_type": "code",
   "execution_count": 19,
   "id": "1a11845c",
   "metadata": {},
   "outputs": [],
   "source": [
    "# rank the Variances (1 being the largest positive variance) per destination and whether the product\n",
    "# was sold before or after the new trolley inventory project delivery\n",
    "df['Variance Rank by Destination'] = df.groupby(['Destination', 'New Trolley Inventory?'])\\\n",
    "                                       ['Variance'].rank(ascending=False).astype(int)"
   ]
  },
  {
   "cell_type": "code",
   "execution_count": 21,
   "id": "b205de81",
   "metadata": {},
   "outputs": [],
   "source": [
    "df = df[['New Trolley Inventory?', 'Variance Rank by Destination', 'Variance',\n",
    "            'Avg Price per Product', 'Date', 'Product', 'first_name', 'last_name', 'email',\n",
    "            'Price', 'Destination']]"
   ]
  },
  {
   "cell_type": "code",
   "execution_count": 25,
   "id": "e5cc569e",
   "metadata": {},
   "outputs": [],
   "source": [
    "#Return only ranks 1-5\n",
    "rank1_5 = df[df['Variance Rank by Destination'] <= 5]"
   ]
  },
  {
   "cell_type": "code",
   "execution_count": 26,
   "id": "808f330d",
   "metadata": {},
   "outputs": [
    {
     "data": {
      "text/html": [
       "<div>\n",
       "<style scoped>\n",
       "    .dataframe tbody tr th:only-of-type {\n",
       "        vertical-align: middle;\n",
       "    }\n",
       "\n",
       "    .dataframe tbody tr th {\n",
       "        vertical-align: top;\n",
       "    }\n",
       "\n",
       "    .dataframe thead th {\n",
       "        text-align: right;\n",
       "    }\n",
       "</style>\n",
       "<table border=\"1\" class=\"dataframe\">\n",
       "  <thead>\n",
       "    <tr style=\"text-align: right;\">\n",
       "      <th></th>\n",
       "      <th>New Trolley Inventory?</th>\n",
       "      <th>Variance Rank by Destination</th>\n",
       "      <th>Variance</th>\n",
       "      <th>Avg Price per Product</th>\n",
       "      <th>Date</th>\n",
       "      <th>Product</th>\n",
       "      <th>first_name</th>\n",
       "      <th>last_name</th>\n",
       "      <th>email</th>\n",
       "      <th>Price</th>\n",
       "      <th>Destination</th>\n",
       "    </tr>\n",
       "  </thead>\n",
       "  <tbody>\n",
       "    <tr>\n",
       "      <th>160</th>\n",
       "      <td>False</td>\n",
       "      <td>4</td>\n",
       "      <td>21.132</td>\n",
       "      <td>18.748</td>\n",
       "      <td>2021-01-02</td>\n",
       "      <td>Seedlings</td>\n",
       "      <td>Roger</td>\n",
       "      <td>Meaker</td>\n",
       "      <td>rmeaker4g@google.co.jp</td>\n",
       "      <td>39.88</td>\n",
       "      <td>Perth</td>\n",
       "    </tr>\n",
       "    <tr>\n",
       "      <th>241</th>\n",
       "      <td>False</td>\n",
       "      <td>1</td>\n",
       "      <td>22.955</td>\n",
       "      <td>15.515</td>\n",
       "      <td>2021-01-13</td>\n",
       "      <td>Blue Curacao</td>\n",
       "      <td>Torr</td>\n",
       "      <td>Weeden</td>\n",
       "      <td>tweeden6p@ebay.co.uk</td>\n",
       "      <td>38.47</td>\n",
       "      <td>Perth</td>\n",
       "    </tr>\n",
       "    <tr>\n",
       "      <th>376</th>\n",
       "      <td>False</td>\n",
       "      <td>4</td>\n",
       "      <td>17.340</td>\n",
       "      <td>18.850</td>\n",
       "      <td>2021-01-30</td>\n",
       "      <td>Chilli Paste, Hot Sambal Oelek</td>\n",
       "      <td>Tresa</td>\n",
       "      <td>Shawe</td>\n",
       "      <td>tshaweag@paginegialle.it</td>\n",
       "      <td>36.19</td>\n",
       "      <td>Edinburgh</td>\n",
       "    </tr>\n",
       "    <tr>\n",
       "      <th>624</th>\n",
       "      <td>False</td>\n",
       "      <td>1</td>\n",
       "      <td>25.918</td>\n",
       "      <td>12.702</td>\n",
       "      <td>2021-01-12</td>\n",
       "      <td>Allspice</td>\n",
       "      <td>Lockwood</td>\n",
       "      <td>Boydon</td>\n",
       "      <td>lboydonhc@wisc.edu</td>\n",
       "      <td>38.62</td>\n",
       "      <td>New York</td>\n",
       "    </tr>\n",
       "    <tr>\n",
       "      <th>698</th>\n",
       "      <td>False</td>\n",
       "      <td>4</td>\n",
       "      <td>22.864</td>\n",
       "      <td>14.746</td>\n",
       "      <td>2021-01-11</td>\n",
       "      <td>Towel Multifold</td>\n",
       "      <td>Sean</td>\n",
       "      <td>Ivashev</td>\n",
       "      <td>sivashevje@stumbleupon.com</td>\n",
       "      <td>37.61</td>\n",
       "      <td>London</td>\n",
       "    </tr>\n",
       "  </tbody>\n",
       "</table>\n",
       "</div>"
      ],
      "text/plain": [
       "     New Trolley Inventory?  Variance Rank by Destination  Variance  \\\n",
       "160                   False                             4    21.132   \n",
       "241                   False                             1    22.955   \n",
       "376                   False                             4    17.340   \n",
       "624                   False                             1    25.918   \n",
       "698                   False                             4    22.864   \n",
       "\n",
       "     Avg Price per Product       Date                         Product  \\\n",
       "160                 18.748 2021-01-02                       Seedlings   \n",
       "241                 15.515 2021-01-13                    Blue Curacao   \n",
       "376                 18.850 2021-01-30  Chilli Paste, Hot Sambal Oelek   \n",
       "624                 12.702 2021-01-12                        Allspice   \n",
       "698                 14.746 2021-01-11                 Towel Multifold   \n",
       "\n",
       "    first_name last_name                       email  Price Destination  \n",
       "160      Roger    Meaker      rmeaker4g@google.co.jp  39.88       Perth  \n",
       "241       Torr    Weeden        tweeden6p@ebay.co.uk  38.47       Perth  \n",
       "376      Tresa     Shawe    tshaweag@paginegialle.it  36.19   Edinburgh  \n",
       "624   Lockwood    Boydon          lboydonhc@wisc.edu  38.62    New York  \n",
       "698       Sean   Ivashev  sivashevje@stumbleupon.com  37.61      London  "
      ]
     },
     "execution_count": 26,
     "metadata": {},
     "output_type": "execute_result"
    }
   ],
   "source": [
    "rank1_5.head()"
   ]
  },
  {
   "cell_type": "code",
   "execution_count": 28,
   "id": "4f735f6c",
   "metadata": {},
   "outputs": [],
   "source": [
    "#OUTPUT\n",
    "rank1_5.to_csv('wk21-output1.csv', index= False)"
   ]
  }
 ],
 "metadata": {
  "kernelspec": {
   "display_name": "Tetteyanalysis",
   "language": "python",
   "name": "tetteyanalysis"
  },
  "language_info": {
   "codemirror_mode": {
    "name": "ipython",
    "version": 3
   },
   "file_extension": ".py",
   "mimetype": "text/x-python",
   "name": "python",
   "nbconvert_exporter": "python",
   "pygments_lexer": "ipython3",
   "version": "3.7.11"
  }
 },
 "nbformat": 4,
 "nbformat_minor": 5
}
