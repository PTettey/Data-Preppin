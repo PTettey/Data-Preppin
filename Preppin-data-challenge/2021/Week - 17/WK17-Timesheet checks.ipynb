{
 "cells": [
  {
   "cell_type": "markdown",
   "id": "dc7a3ef9",
   "metadata": {},
   "source": [
    "### Prepping Data Challenge: Timesheet checks (week 17)\n",
    "\n",
    "#### The Challenge \n",
    "My employees log their hours daily and are contracted to 8 hours per week so I want to check their average number of hours worked over the last 2 weeks. Also, I allow for 20% of their time (not including Chats) to work on their own special projects, meaning they should be spending at least 80% of their time on Client items of work, so I also want to check that they are sticking to instructions by calculating the % of total hours spent on Client work. The task has three sets of requirements as the stakeholder is quite specific.\n",
    "\n",
    "#### Requirements\n",
    " - Remove the ‘Totals’ Rows\n",
    " - Pivot Dates to rows and rename fields 'Date' and 'Hours'\n",
    " - Split the ‘Name, Age, Area of Work’ field into 3 Fields and Rename\n",
    " - Remove unnecessary fields\n",
    " - Remove the row where Dan was on Annual Leave and check the data type of the Hours Field.\n",
    " - Total up the number of hours spent on each area of work for each date by each employee.\n",
    "\n",
    " - First we are going to work out the avg number of hours per day worked by each employee\n",
    "   - Calculate the total number of hours worked and days worked per person\n",
    "   - Calculate the avg hours and remove unnecessary fields.\n",
    "\n",
    " - Now we are going to work out what % of their day (not including Chats) was spend on Client work.\n",
    "   - Filter out Work related to Chats.\n",
    "   - Calculate total number of hours spent working on each area for each employee\n",
    "   - Calculate total number of hours spent working on both areas together for each employee\n",
    "   - Join these totals together\n",
    "   - Calculate the % of total and remove unnecessary fields\n",
    "   - Filter the data to just show Client work\n",
    "   - Join to the table with Avg hours to create your final output"
   ]
  },
  {
   "cell_type": "markdown",
   "id": "8c8eb9b2",
   "metadata": {},
   "source": [
    "### Input the data"
   ]
  },
  {
   "cell_type": "code",
   "execution_count": 1,
   "id": "ab924bef",
   "metadata": {},
   "outputs": [],
   "source": [
    "import pandas as pd"
   ]
  },
  {
   "cell_type": "code",
   "execution_count": 2,
   "id": "58433f2b",
   "metadata": {},
   "outputs": [],
   "source": [
    "with pd.ExcelFile('WK17-Input.xlsx') as xlsx:\n",
    "    df = pd.read_excel(xlsx)"
   ]
  },
  {
   "cell_type": "code",
   "execution_count": 3,
   "id": "f5633d58",
   "metadata": {},
   "outputs": [],
   "source": [
    "#Remove the ‘Totals’ Rows\n",
    "df = df[df['Name, Age, Area of Work'].notnull()]"
   ]
  },
  {
   "cell_type": "code",
   "execution_count": 4,
   "id": "119bbd90",
   "metadata": {},
   "outputs": [],
   "source": [
    "#Pivot Dates to rows and rename fields 'Date' and 'Hours'\n",
    "df = df.melt(id_vars=['Name, Age, Area of Work','Project'], var_name='Date', value_name='Hour')"
   ]
  },
  {
   "cell_type": "code",
   "execution_count": 5,
   "id": "d1c263e6",
   "metadata": {},
   "outputs": [],
   "source": [
    "#Split the ‘Name, Age, Area of Work’ field into 3 Fields and Rename\n",
    "df[['Name','Age,Area of work']] = df['Name, Age, Area of Work'].str.split(',', expand=True)"
   ]
  },
  {
   "cell_type": "code",
   "execution_count": 6,
   "id": "f8d975f6",
   "metadata": {},
   "outputs": [],
   "source": [
    "df[['Age','Area of work']] = df['Age,Area of work'].str.split(':', expand=True)"
   ]
  },
  {
   "cell_type": "code",
   "execution_count": 7,
   "id": "54ded452",
   "metadata": {},
   "outputs": [],
   "source": [
    "#Remove unnecessary fields\n",
    "df = df.drop(['Name, Age, Area of Work','Age,Area of work'], axis=1)"
   ]
  },
  {
   "cell_type": "code",
   "execution_count": 8,
   "id": "9040f88e",
   "metadata": {},
   "outputs": [
    {
     "data": {
      "text/plain": [
       "dtype('O')"
      ]
     },
     "execution_count": 8,
     "metadata": {},
     "output_type": "execute_result"
    }
   ],
   "source": [
    "#Remove the row where Dan was on Annual Leave and check the data type of the Hours Field.\n",
    "df = df.loc[df['Hour'] != 'Annual Leave']\n",
    "df['Hour'].dtypes"
   ]
  },
  {
   "cell_type": "code",
   "execution_count": 9,
   "id": "5a1ddfd0",
   "metadata": {},
   "outputs": [],
   "source": [
    "df['Hour'].astype('float')\n",
    "df.fillna(0, inplace=True)"
   ]
  },
  {
   "cell_type": "code",
   "execution_count": 10,
   "id": "68c385be",
   "metadata": {},
   "outputs": [],
   "source": [
    "#Total up the number of hours spent on each area of work for each date by each employee.\n",
    "totals = df.groupby('Name').agg(total_days=('Date', 'nunique'),\n",
    "                                  total_hours=('Hour', 'sum')).reset_index()\n",
    "totals['Avg Number of Hours worked per day'] = totals['total_hours'] / totals['total_days']"
   ]
  },
  {
   "cell_type": "code",
   "execution_count": 11,
   "id": "c16137c4",
   "metadata": {},
   "outputs": [],
   "source": [
    "#Now we are going to work out what % of their day (not including Chats) was spend on Client work.\n",
    "df_ex_chats =df.drop(df[df['Area of work'].str.contains('Chats')].index, axis= 0)\n",
    "df_ex_chats = df_ex_chats.groupby(['Name','Area of work'])['Hour'].sum().reset_index()\n",
    "\n",
    "# % of day (not including Chats)\n",
    "df_ex_chats['% of Total'] = (df_ex_chats['Hour'] / df_ex_chats.groupby('Name')['Hour'].transform('sum'))\\\n",
    "                        .map('{:.0%}'.format)"
   ]
  },
  {
   "cell_type": "code",
   "execution_count": 12,
   "id": "16c73875",
   "metadata": {},
   "outputs": [],
   "source": [
    "#Merge\n",
    "df_output = pd.merge(df_ex_chats, totals,on='Name', how='left')"
   ]
  },
  {
   "cell_type": "code",
   "execution_count": 13,
   "id": "39ff81f6",
   "metadata": {},
   "outputs": [],
   "source": [
    "df_output =df_output.drop(df_output[df_output['Area of work'].str.contains('Special Projects')].index, axis= 0)"
   ]
  },
  {
   "cell_type": "code",
   "execution_count": 14,
   "id": "9ad28ed8",
   "metadata": {},
   "outputs": [
    {
     "data": {
      "text/html": [
       "<div>\n",
       "<style scoped>\n",
       "    .dataframe tbody tr th:only-of-type {\n",
       "        vertical-align: middle;\n",
       "    }\n",
       "\n",
       "    .dataframe tbody tr th {\n",
       "        vertical-align: top;\n",
       "    }\n",
       "\n",
       "    .dataframe thead th {\n",
       "        text-align: right;\n",
       "    }\n",
       "</style>\n",
       "<table border=\"1\" class=\"dataframe\">\n",
       "  <thead>\n",
       "    <tr style=\"text-align: right;\">\n",
       "      <th></th>\n",
       "      <th>Name</th>\n",
       "      <th>Area of work</th>\n",
       "      <th>% of Total</th>\n",
       "      <th>Avg Number of Hours worked per day</th>\n",
       "    </tr>\n",
       "  </thead>\n",
       "  <tbody>\n",
       "    <tr>\n",
       "      <th>0</th>\n",
       "      <td>Dan</td>\n",
       "      <td>Client</td>\n",
       "      <td>75%</td>\n",
       "      <td>8.027778</td>\n",
       "    </tr>\n",
       "    <tr>\n",
       "      <th>2</th>\n",
       "      <td>George</td>\n",
       "      <td>Client</td>\n",
       "      <td>81%</td>\n",
       "      <td>8.400000</td>\n",
       "    </tr>\n",
       "    <tr>\n",
       "      <th>4</th>\n",
       "      <td>Sam</td>\n",
       "      <td>Client</td>\n",
       "      <td>87%</td>\n",
       "      <td>7.700000</td>\n",
       "    </tr>\n",
       "  </tbody>\n",
       "</table>\n",
       "</div>"
      ],
      "text/plain": [
       "     Name Area of work % of Total  Avg Number of Hours worked per day\n",
       "0     Dan       Client        75%                            8.027778\n",
       "2  George       Client        81%                            8.400000\n",
       "4     Sam       Client        87%                            7.700000"
      ]
     },
     "execution_count": 14,
     "metadata": {},
     "output_type": "execute_result"
    }
   ],
   "source": [
    "df_output = df_output[['Name', 'Area of work', '% of Total', 'Avg Number of Hours worked per day']]\n",
    "df_output.head()"
   ]
  },
  {
   "cell_type": "code",
   "execution_count": 15,
   "id": "2563a295",
   "metadata": {},
   "outputs": [],
   "source": [
    "df_output.to_csv('WK17-output.csv', index=False)"
   ]
  }
 ],
 "metadata": {
  "kernelspec": {
   "display_name": "Tetteyanalysis",
   "language": "python",
   "name": "tetteyanalysis"
  },
  "language_info": {
   "codemirror_mode": {
    "name": "ipython",
    "version": 3
   },
   "file_extension": ".py",
   "mimetype": "text/x-python",
   "name": "python",
   "nbconvert_exporter": "python",
   "pygments_lexer": "ipython3",
   "version": "3.7.11"
  }
 },
 "nbformat": 4,
 "nbformat_minor": 5
}
