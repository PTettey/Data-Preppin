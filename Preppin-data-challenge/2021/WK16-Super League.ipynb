{
 "cells": [
  {
   "cell_type": "markdown",
   "id": "dc7a3ef9",
   "metadata": {},
   "source": [
    "### Prepping Data Challenge: The Super League (week 16)\n",
    "This week we want to analyse the orders that customers have made over a period of time in our restaurant Serendipia. In order to identify how much money we earn each day of the week and also to discover who our top customer is. We are going to be using calculations, pivots and aggregations so lots of the fundamental techniques that are used within data prep! \n",
    "\n",
    "#### Requirement:\n",
    " - Input the data\n",
    " - Calculate the Total Points for each team. The points are as follows: \n",
    "   - Win - 3 Points\n",
    "   - Draw - 1 Point\n",
    "   - Lose - 0 Points\n",
    " - Calculate the goal difference for each team. Goal difference is the difference between goals scored and goals conceded. \n",
    " - Calculate the current rank/position of each team. This is based on Total Points (high to low) and in a case of a tie then Goal Difference (high to low).\n",
    " - The current league table is our first output.\n",
    "\n",
    " - Assuming that the 'Big 6' didn't play any games this season, recalculate the league table.\n",
    " - After removing the 6 clubs, how has the position changed for the remaining clubs?\n",
    " - The updated league table is the second output."
   ]
  },
  {
   "cell_type": "markdown",
   "id": "8c8eb9b2",
   "metadata": {},
   "source": [
    "### Input the data"
   ]
  },
  {
   "cell_type": "code",
   "execution_count": 1,
   "id": "ab924bef",
   "metadata": {},
   "outputs": [],
   "source": [
    "import pandas as pd\n",
    "import numpy as np"
   ]
  },
  {
   "cell_type": "code",
   "execution_count": 2,
   "id": "58433f2b",
   "metadata": {},
   "outputs": [],
   "source": [
    "df = pd.read_csv('WK16-Input.csv', parse_dates=['Date'])\\\n",
    "       .dropna(subset=['Result'])"
   ]
  },
  {
   "cell_type": "code",
   "execution_count": 3,
   "id": "97facae8",
   "metadata": {},
   "outputs": [
    {
     "data": {
      "text/html": [
       "<div>\n",
       "<style scoped>\n",
       "    .dataframe tbody tr th:only-of-type {\n",
       "        vertical-align: middle;\n",
       "    }\n",
       "\n",
       "    .dataframe tbody tr th {\n",
       "        vertical-align: top;\n",
       "    }\n",
       "\n",
       "    .dataframe thead th {\n",
       "        text-align: right;\n",
       "    }\n",
       "</style>\n",
       "<table border=\"1\" class=\"dataframe\">\n",
       "  <thead>\n",
       "    <tr style=\"text-align: right;\">\n",
       "      <th></th>\n",
       "      <th>Round Number</th>\n",
       "      <th>Date</th>\n",
       "      <th>Location</th>\n",
       "      <th>Home Team</th>\n",
       "      <th>Away Team</th>\n",
       "      <th>Result</th>\n",
       "    </tr>\n",
       "  </thead>\n",
       "  <tbody>\n",
       "    <tr>\n",
       "      <th>0</th>\n",
       "      <td>1</td>\n",
       "      <td>2020-12-09 12:30:00</td>\n",
       "      <td>Craven Cottage</td>\n",
       "      <td>Fulham</td>\n",
       "      <td>Arsenal</td>\n",
       "      <td>0 - 3</td>\n",
       "    </tr>\n",
       "    <tr>\n",
       "      <th>1</th>\n",
       "      <td>1</td>\n",
       "      <td>2020-12-09 15:00:00</td>\n",
       "      <td>Selhurst Park</td>\n",
       "      <td>Crystal Palace</td>\n",
       "      <td>Southampton</td>\n",
       "      <td>1 - 0</td>\n",
       "    </tr>\n",
       "    <tr>\n",
       "      <th>2</th>\n",
       "      <td>1</td>\n",
       "      <td>2020-12-09 17:30:00</td>\n",
       "      <td>Anfield</td>\n",
       "      <td>Liverpool</td>\n",
       "      <td>Leeds</td>\n",
       "      <td>4 - 3</td>\n",
       "    </tr>\n",
       "    <tr>\n",
       "      <th>3</th>\n",
       "      <td>1</td>\n",
       "      <td>2020-12-09 20:00:00</td>\n",
       "      <td>London Stadium</td>\n",
       "      <td>West Ham</td>\n",
       "      <td>Newcastle</td>\n",
       "      <td>0 - 2</td>\n",
       "    </tr>\n",
       "    <tr>\n",
       "      <th>4</th>\n",
       "      <td>1</td>\n",
       "      <td>2020-09-13 14:00:00</td>\n",
       "      <td>The Hawthorns</td>\n",
       "      <td>West Brom</td>\n",
       "      <td>Leicester</td>\n",
       "      <td>0 - 3</td>\n",
       "    </tr>\n",
       "  </tbody>\n",
       "</table>\n",
       "</div>"
      ],
      "text/plain": [
       "   Round Number                Date        Location       Home Team  \\\n",
       "0             1 2020-12-09 12:30:00  Craven Cottage          Fulham   \n",
       "1             1 2020-12-09 15:00:00   Selhurst Park  Crystal Palace   \n",
       "2             1 2020-12-09 17:30:00         Anfield       Liverpool   \n",
       "3             1 2020-12-09 20:00:00  London Stadium        West Ham   \n",
       "4             1 2020-09-13 14:00:00   The Hawthorns       West Brom   \n",
       "\n",
       "     Away Team Result  \n",
       "0      Arsenal  0 - 3  \n",
       "1  Southampton  1 - 0  \n",
       "2        Leeds  4 - 3  \n",
       "3    Newcastle  0 - 2  \n",
       "4    Leicester  0 - 3  "
      ]
     },
     "execution_count": 3,
     "metadata": {},
     "output_type": "execute_result"
    }
   ],
   "source": [
    "df.head()"
   ]
  },
  {
   "cell_type": "code",
   "execution_count": 4,
   "id": "f5633d58",
   "metadata": {},
   "outputs": [],
   "source": [
    "# identify games involving the big 6\n",
    "# sorted(concat([df['Home Team'], df['Away Team']]).unique())\n",
    "big6 = ['Arsenal', 'Chelsea', 'Liverpool', 'Man Utd', 'Man City', 'Spur']\n",
    "df['big6'] = np.where(df['Home Team'].isin(big6) | df['Away Team'].isin(big6), 1, 0)"
   ]
  },
  {
   "cell_type": "code",
   "execution_count": 5,
   "id": "119bbd90",
   "metadata": {},
   "outputs": [],
   "source": [
    "#split the Result to Match the Teams\n",
    "df[['Home Goal','Away Goal']] = df['Result'].str.split('-', expand=True).astype(int)"
   ]
  },
  {
   "cell_type": "code",
   "execution_count": 6,
   "id": "d1c263e6",
   "metadata": {},
   "outputs": [],
   "source": [
    "df['outcome'] = np.where(df['Away Goal'] == df['Home Goal'], 'Draw',\n",
    "                 np.where(df['Away Goal'] > df['Home Goal'], 'Away', 'Home'))"
   ]
  },
  {
   "cell_type": "code",
   "execution_count": 7,
   "id": "f8d975f6",
   "metadata": {},
   "outputs": [],
   "source": [
    "#combine the teams\n",
    "value_vars = ['Home Team', 'Away Team']\n",
    "df = df.melt(id_vars=[c for c in df.columns if c not in value_vars], value_name='Team')"
   ]
  },
  {
   "cell_type": "markdown",
   "id": "59cee26e",
   "metadata": {},
   "source": [
    "### Calculate the Total Points for each team\n",
    "\n",
    "### Calculate the goal difference for each team. Goal difference is the difference between goals scored and goals conceded. "
   ]
  },
  {
   "cell_type": "code",
   "execution_count": 8,
   "id": "54ded452",
   "metadata": {},
   "outputs": [],
   "source": [
    "# calculate the goals scored or conceded and total points for ech team\n",
    "df['Goals Scored'] = np.where(df['variable'] == 'Home Team', df['Home Goal'],\n",
    "                             df['Away Goal'])\n",
    "\n",
    "df['Goals Conceded'] = np.where(df['variable'] == 'Home Team', df['Away Goal'],\n",
    "                               df['Home Goal'])\n",
    "\n",
    "df['Total Points'] = np.where(df['Goals Scored'] == df['Goals Conceded'], 1,\n",
    "                         np.where(df['Goals Scored'] > df['Goals Conceded'], 3, 0))"
   ]
  },
  {
   "cell_type": "code",
   "execution_count": 9,
   "id": "ca94b8a2",
   "metadata": {},
   "outputs": [],
   "source": [
    "df['Goal Difference'] = df['Goals Scored'] - df['Goals Conceded']"
   ]
  },
  {
   "cell_type": "code",
   "execution_count": 10,
   "id": "5a1ddfd0",
   "metadata": {},
   "outputs": [],
   "source": [
    "df['Total Games Played'] = 1\n",
    "Total_cols = ['Goal Difference', 'Total Games Played','Total Points']\n",
    "\n",
    "ranks = df.groupby('Team')[Total_cols].sum().reset_index()"
   ]
  },
  {
   "cell_type": "markdown",
   "id": "0196ab75",
   "metadata": {},
   "source": [
    "### Calculate the current rank/position of each team. This is based on Total Points (high to low) and in a case of a tie then Goal Difference (high to low)."
   ]
  },
  {
   "cell_type": "code",
   "execution_count": 11,
   "id": "68c385be",
   "metadata": {},
   "outputs": [],
   "source": [
    "cols = ['Total Points','Goal Difference']\n",
    "\n",
    "ranks['Position'] = ranks[cols].apply(tuple, axis=1)\\\n",
    "                                   .rank(method='min', ascending=False).astype(int)"
   ]
  },
  {
   "cell_type": "markdown",
   "id": "987e18bd",
   "metadata": {},
   "source": [
    " - Assuming that the 'Big 6' didn't play any games this season, recalculate the league table.\n",
    " - After removing the 6 clubs, how has the position changed for the remaining clubs?\n",
    " - The updated league table is the second output."
   ]
  },
  {
   "cell_type": "code",
   "execution_count": 12,
   "id": "995e25ed",
   "metadata": {},
   "outputs": [],
   "source": [
    "ranks2 = df[df['big6'] == 0].groupby('Team')[Total_cols].sum().reset_index()"
   ]
  },
  {
   "cell_type": "code",
   "execution_count": 13,
   "id": "c16137c4",
   "metadata": {},
   "outputs": [],
   "source": [
    "ranks2['Position'] = ranks2[cols].apply(tuple, axis=1)\\\n",
    "                                   .rank(method='min', ascending=False).astype(int)"
   ]
  },
  {
   "cell_type": "code",
   "execution_count": 14,
   "id": "16c73875",
   "metadata": {},
   "outputs": [],
   "source": [
    "# find the change in position\n",
    "ranks2 = pd.merge(ranks2, ranks[['Team', 'Position']], on='Team', how='left', suffixes=['', '_1'])\n",
    "ranks2['Position Change'] = ranks2['Position_1'] - ranks2['Position']\n",
    "ranks2.drop(columns=['Position_1'], inplace=True)"
   ]
  },
  {
   "cell_type": "code",
   "execution_count": 15,
   "id": "c8392538",
   "metadata": {},
   "outputs": [
    {
     "data": {
      "text/html": [
       "<div>\n",
       "<style scoped>\n",
       "    .dataframe tbody tr th:only-of-type {\n",
       "        vertical-align: middle;\n",
       "    }\n",
       "\n",
       "    .dataframe tbody tr th {\n",
       "        vertical-align: top;\n",
       "    }\n",
       "\n",
       "    .dataframe thead th {\n",
       "        text-align: right;\n",
       "    }\n",
       "</style>\n",
       "<table border=\"1\" class=\"dataframe\">\n",
       "  <thead>\n",
       "    <tr style=\"text-align: right;\">\n",
       "      <th></th>\n",
       "      <th>Team</th>\n",
       "      <th>Goal Difference</th>\n",
       "      <th>Total Games Played</th>\n",
       "      <th>Total Points</th>\n",
       "      <th>Position</th>\n",
       "    </tr>\n",
       "  </thead>\n",
       "  <tbody>\n",
       "    <tr>\n",
       "      <th>0</th>\n",
       "      <td>Arsenal</td>\n",
       "      <td>8</td>\n",
       "      <td>32</td>\n",
       "      <td>46</td>\n",
       "      <td>9</td>\n",
       "    </tr>\n",
       "    <tr>\n",
       "      <th>1</th>\n",
       "      <td>Aston Villa</td>\n",
       "      <td>10</td>\n",
       "      <td>30</td>\n",
       "      <td>44</td>\n",
       "      <td>11</td>\n",
       "    </tr>\n",
       "    <tr>\n",
       "      <th>2</th>\n",
       "      <td>Brighton</td>\n",
       "      <td>-5</td>\n",
       "      <td>31</td>\n",
       "      <td>33</td>\n",
       "      <td>16</td>\n",
       "    </tr>\n",
       "    <tr>\n",
       "      <th>3</th>\n",
       "      <td>Burnley</td>\n",
       "      <td>-19</td>\n",
       "      <td>32</td>\n",
       "      <td>33</td>\n",
       "      <td>17</td>\n",
       "    </tr>\n",
       "    <tr>\n",
       "      <th>4</th>\n",
       "      <td>Chelsea</td>\n",
       "      <td>19</td>\n",
       "      <td>31</td>\n",
       "      <td>54</td>\n",
       "      <td>5</td>\n",
       "    </tr>\n",
       "  </tbody>\n",
       "</table>\n",
       "</div>"
      ],
      "text/plain": [
       "          Team  Goal Difference  Total Games Played  Total Points  Position\n",
       "0      Arsenal                8                  32            46         9\n",
       "1  Aston Villa               10                  30            44        11\n",
       "2     Brighton               -5                  31            33        16\n",
       "3      Burnley              -19                  32            33        17\n",
       "4      Chelsea               19                  31            54         5"
      ]
     },
     "execution_count": 15,
     "metadata": {},
     "output_type": "execute_result"
    }
   ],
   "source": [
    "ranks.head()"
   ]
  },
  {
   "cell_type": "code",
   "execution_count": 16,
   "id": "042fddab",
   "metadata": {},
   "outputs": [
    {
     "data": {
      "text/html": [
       "<div>\n",
       "<style scoped>\n",
       "    .dataframe tbody tr th:only-of-type {\n",
       "        vertical-align: middle;\n",
       "    }\n",
       "\n",
       "    .dataframe tbody tr th {\n",
       "        vertical-align: top;\n",
       "    }\n",
       "\n",
       "    .dataframe thead th {\n",
       "        text-align: right;\n",
       "    }\n",
       "</style>\n",
       "<table border=\"1\" class=\"dataframe\">\n",
       "  <thead>\n",
       "    <tr style=\"text-align: right;\">\n",
       "      <th></th>\n",
       "      <th>Team</th>\n",
       "      <th>Goal Difference</th>\n",
       "      <th>Total Games Played</th>\n",
       "      <th>Total Points</th>\n",
       "      <th>Position</th>\n",
       "      <th>Position Change</th>\n",
       "    </tr>\n",
       "  </thead>\n",
       "  <tbody>\n",
       "    <tr>\n",
       "      <th>0</th>\n",
       "      <td>Aston Villa</td>\n",
       "      <td>5</td>\n",
       "      <td>23</td>\n",
       "      <td>34</td>\n",
       "      <td>6</td>\n",
       "      <td>5</td>\n",
       "    </tr>\n",
       "    <tr>\n",
       "      <th>1</th>\n",
       "      <td>Brighton</td>\n",
       "      <td>0</td>\n",
       "      <td>24</td>\n",
       "      <td>29</td>\n",
       "      <td>11</td>\n",
       "      <td>5</td>\n",
       "    </tr>\n",
       "    <tr>\n",
       "      <th>2</th>\n",
       "      <td>Burnley</td>\n",
       "      <td>-6</td>\n",
       "      <td>23</td>\n",
       "      <td>26</td>\n",
       "      <td>12</td>\n",
       "      <td>5</td>\n",
       "    </tr>\n",
       "    <tr>\n",
       "      <th>3</th>\n",
       "      <td>Crystal Palace</td>\n",
       "      <td>-3</td>\n",
       "      <td>24</td>\n",
       "      <td>33</td>\n",
       "      <td>8</td>\n",
       "      <td>5</td>\n",
       "    </tr>\n",
       "    <tr>\n",
       "      <th>4</th>\n",
       "      <td>Everton</td>\n",
       "      <td>5</td>\n",
       "      <td>23</td>\n",
       "      <td>38</td>\n",
       "      <td>5</td>\n",
       "      <td>3</td>\n",
       "    </tr>\n",
       "  </tbody>\n",
       "</table>\n",
       "</div>"
      ],
      "text/plain": [
       "             Team  Goal Difference  Total Games Played  Total Points  \\\n",
       "0     Aston Villa                5                  23            34   \n",
       "1        Brighton                0                  24            29   \n",
       "2         Burnley               -6                  23            26   \n",
       "3  Crystal Palace               -3                  24            33   \n",
       "4         Everton                5                  23            38   \n",
       "\n",
       "   Position  Position Change  \n",
       "0         6                5  \n",
       "1        11                5  \n",
       "2        12                5  \n",
       "3         8                5  \n",
       "4         5                3  "
      ]
     },
     "execution_count": 16,
     "metadata": {},
     "output_type": "execute_result"
    }
   ],
   "source": [
    "ranks2.head()"
   ]
  },
  {
   "cell_type": "markdown",
   "id": "9ee820c4",
   "metadata": {},
   "source": [
    "### Output the Data"
   ]
  },
  {
   "cell_type": "code",
   "execution_count": 17,
   "id": "2563a295",
   "metadata": {},
   "outputs": [],
   "source": [
    "ranks.to_csv('WK16-output1.csv', index=False,\n",
    "               columns=['Position', 'Team', 'Total Games Played', 'Total Points', 'Goal Difference'])\n",
    "ranks2.to_csv('WK16-output2.csv', index=False,\n",
    "               columns=['Position Change', 'Position', 'Team', 'Total Games Played',\n",
    "                        'Total Points', 'Goal Difference'])"
   ]
  }
 ],
 "metadata": {
  "kernelspec": {
   "display_name": "Tetteyanalysis",
   "language": "python",
   "name": "tetteyanalysis"
  },
  "language_info": {
   "codemirror_mode": {
    "name": "ipython",
    "version": 3
   },
   "file_extension": ".py",
   "mimetype": "text/x-python",
   "name": "python",
   "nbconvert_exporter": "python",
   "pygments_lexer": "ipython3",
   "version": "3.7.11"
  }
 },
 "nbformat": 4,
 "nbformat_minor": 5
}
