{
 "cells": [
  {
   "cell_type": "markdown",
   "id": "dc7a3ef9",
   "metadata": {},
   "source": [
    "### Prepping Data Challenge: Bike Sales Target (week 4)\n",
    "\n",
    "This challenge on Joins \n",
    "\n",
    "#### Requirement:\n",
    " 1. Input the file \n",
    " 2. Union the Stores data together \n",
    " 3. Remove any unnecessary data fields your Input step might create and rename the 'Table Names' as 'Store' \n",
    " 4. Pivot the product columns \n",
    " 5. Split the 'Customer Type - Product' field to create: \n",
    "     - Customer Type\n",
    "     - Product\n",
    " 6. Also rename the Values column resulting from you pivot as 'Products Sold'\n",
    " 7. Turn the date into a 'Quarter' number \n",
    " 8. Sum up the products sold by Store and Quarter \n",
    " 9. Add the Targets data \n",
    " 10. Join the Targets data with the aggregated Stores data \n",
    "     - Note: this should give you 20 rows of data\n",
    " 11. Remove any duplicate fields formed by the Join\n",
    " 12. Calculate the Variance between each Store's Quarterly actual sales and the target. Call this field 'Variance to Target' \n",
    " 13. Rank the Store's based on the Variance to Target in each quarter \n",
    "     - The greater the variance the better the rank\n",
    " 14. Output the data "
   ]
  },
  {
   "cell_type": "markdown",
   "id": "8c8eb9b2",
   "metadata": {},
   "source": [
    "### 1 & 2. Input the file and Union the Stores data together"
   ]
  },
  {
   "cell_type": "code",
   "execution_count": 1,
   "id": "ab924bef",
   "metadata": {},
   "outputs": [],
   "source": [
    "#import libraries\n",
    "import pandas as pd"
   ]
  },
  {
   "cell_type": "code",
   "execution_count": 2,
   "id": "a79e3442",
   "metadata": {},
   "outputs": [],
   "source": [
    "xlsx = pd.ExcelFile('WK4-Bike Sales Target.xlsx')\n",
    "\n",
    "Target = xlsx.parse('Targets')\n",
    "\n",
    "df = None\n",
    "for sheet_name in [x for x in xlsx.sheet_names if x != 'Targets']:\n",
    "    df1 = xlsx.parse(sheet_name)\n",
    "    df1['Store'] = sheet_name\n",
    "    df = pd.concat([df,df1])"
   ]
  },
  {
   "cell_type": "code",
   "execution_count": 3,
   "id": "9cd4446d",
   "metadata": {},
   "outputs": [
    {
     "data": {
      "text/html": [
       "<div>\n",
       "<style scoped>\n",
       "    .dataframe tbody tr th:only-of-type {\n",
       "        vertical-align: middle;\n",
       "    }\n",
       "\n",
       "    .dataframe tbody tr th {\n",
       "        vertical-align: top;\n",
       "    }\n",
       "\n",
       "    .dataframe thead th {\n",
       "        text-align: right;\n",
       "    }\n",
       "</style>\n",
       "<table border=\"1\" class=\"dataframe\">\n",
       "  <thead>\n",
       "    <tr style=\"text-align: right;\">\n",
       "      <th></th>\n",
       "      <th>Date</th>\n",
       "      <th>New - Saddles</th>\n",
       "      <th>New - Mudguards</th>\n",
       "      <th>New - Wheels</th>\n",
       "      <th>New - Bags</th>\n",
       "      <th>Existing - Saddles</th>\n",
       "      <th>Existing - Mudguards</th>\n",
       "      <th>Existing - Wheels</th>\n",
       "      <th>Existing - Bags</th>\n",
       "      <th>Store</th>\n",
       "    </tr>\n",
       "  </thead>\n",
       "  <tbody>\n",
       "    <tr>\n",
       "      <th>0</th>\n",
       "      <td>2021-01-21</td>\n",
       "      <td>13.0</td>\n",
       "      <td>42.0</td>\n",
       "      <td>19.0</td>\n",
       "      <td>38.0</td>\n",
       "      <td>17.0</td>\n",
       "      <td>48.0</td>\n",
       "      <td>19.0</td>\n",
       "      <td>13.0</td>\n",
       "      <td>Manchester</td>\n",
       "    </tr>\n",
       "    <tr>\n",
       "      <th>1</th>\n",
       "      <td>2021-02-21</td>\n",
       "      <td>1.0</td>\n",
       "      <td>9.0</td>\n",
       "      <td>14.0</td>\n",
       "      <td>6.0</td>\n",
       "      <td>2.0</td>\n",
       "      <td>4.0</td>\n",
       "      <td>19.0</td>\n",
       "      <td>24.0</td>\n",
       "      <td>Manchester</td>\n",
       "    </tr>\n",
       "    <tr>\n",
       "      <th>2</th>\n",
       "      <td>2021-03-21</td>\n",
       "      <td>8.0</td>\n",
       "      <td>22.0</td>\n",
       "      <td>6.0</td>\n",
       "      <td>35.0</td>\n",
       "      <td>0.0</td>\n",
       "      <td>48.0</td>\n",
       "      <td>17.0</td>\n",
       "      <td>16.0</td>\n",
       "      <td>Manchester</td>\n",
       "    </tr>\n",
       "    <tr>\n",
       "      <th>3</th>\n",
       "      <td>2021-04-21</td>\n",
       "      <td>3.0</td>\n",
       "      <td>9.0</td>\n",
       "      <td>8.0</td>\n",
       "      <td>16.0</td>\n",
       "      <td>18.0</td>\n",
       "      <td>50.0</td>\n",
       "      <td>18.0</td>\n",
       "      <td>25.0</td>\n",
       "      <td>Manchester</td>\n",
       "    </tr>\n",
       "    <tr>\n",
       "      <th>4</th>\n",
       "      <td>2021-05-21</td>\n",
       "      <td>2.0</td>\n",
       "      <td>8.0</td>\n",
       "      <td>5.0</td>\n",
       "      <td>34.0</td>\n",
       "      <td>17.0</td>\n",
       "      <td>3.0</td>\n",
       "      <td>12.0</td>\n",
       "      <td>19.0</td>\n",
       "      <td>Manchester</td>\n",
       "    </tr>\n",
       "  </tbody>\n",
       "</table>\n",
       "</div>"
      ],
      "text/plain": [
       "        Date  New - Saddles  New - Mudguards  New - Wheels  New - Bags  \\\n",
       "0 2021-01-21           13.0             42.0          19.0        38.0   \n",
       "1 2021-02-21            1.0              9.0          14.0         6.0   \n",
       "2 2021-03-21            8.0             22.0           6.0        35.0   \n",
       "3 2021-04-21            3.0              9.0           8.0        16.0   \n",
       "4 2021-05-21            2.0              8.0           5.0        34.0   \n",
       "\n",
       "   Existing - Saddles  Existing - Mudguards  Existing - Wheels  \\\n",
       "0                17.0                  48.0               19.0   \n",
       "1                 2.0                   4.0               19.0   \n",
       "2                 0.0                  48.0               17.0   \n",
       "3                18.0                  50.0               18.0   \n",
       "4                17.0                   3.0               12.0   \n",
       "\n",
       "   Existing - Bags       Store  \n",
       "0             13.0  Manchester  \n",
       "1             24.0  Manchester  \n",
       "2             16.0  Manchester  \n",
       "3             25.0  Manchester  \n",
       "4             19.0  Manchester  "
      ]
     },
     "execution_count": 3,
     "metadata": {},
     "output_type": "execute_result"
    }
   ],
   "source": [
    "df.head()"
   ]
  },
  {
   "cell_type": "markdown",
   "id": "88889b8e",
   "metadata": {},
   "source": [
    "### 4 & 6. Pivot the product columns and rename the resulting column as 'Products Sold'"
   ]
  },
  {
   "cell_type": "code",
   "execution_count": 4,
   "id": "c467ad87",
   "metadata": {},
   "outputs": [],
   "source": [
    "df = pd.melt(df, id_vars=['Date','Store'], var_name='Customer', value_name='Product Sold')\n",
    "#df"
   ]
  },
  {
   "cell_type": "markdown",
   "id": "8580585a",
   "metadata": {},
   "source": [
    "### 3 & 5. Split the 'Customer Type - Product' field to create: \n",
    "   - Customer Type\n",
    "   - Product\n",
    "   ### Remove any unnecessary data fields "
   ]
  },
  {
   "cell_type": "code",
   "execution_count": 5,
   "id": "062f4b88",
   "metadata": {},
   "outputs": [],
   "source": [
    "df[['Customer Type','Product']] = df['Customer'].str.split('-', expand=True)\n",
    "#df"
   ]
  },
  {
   "cell_type": "code",
   "execution_count": 6,
   "id": "9942f63e",
   "metadata": {},
   "outputs": [],
   "source": [
    "df.drop('Customer', axis = 'columns', inplace=True)"
   ]
  },
  {
   "cell_type": "markdown",
   "id": "f15b7f1f",
   "metadata": {},
   "source": [
    "### 7. Turn the date into a 'Quarter' number "
   ]
  },
  {
   "cell_type": "code",
   "execution_count": 7,
   "id": "c9de00e2",
   "metadata": {},
   "outputs": [],
   "source": [
    "df['Date'] = pd.to_datetime(df['Date'], format='%d/%m/%Y')\n",
    "df['Quarter'] = df['Date'].dt.quarter"
   ]
  },
  {
   "cell_type": "markdown",
   "id": "23d067e9",
   "metadata": {},
   "source": [
    "### 8. Sum up the products sold by Store and Quarter"
   ]
  },
  {
   "cell_type": "code",
   "execution_count": 8,
   "id": "a3d31f34",
   "metadata": {},
   "outputs": [],
   "source": [
    "df_sum = df.groupby(['Store','Quarter'])['Product Sold'].sum().reset_index()"
   ]
  },
  {
   "cell_type": "markdown",
   "id": "2370ed09",
   "metadata": {},
   "source": [
    "### 9 & 10. Add the Targets data and Join the Targets data with the aggregated Stores data \n",
    "   - Note: this should give you 20 rows of data"
   ]
  },
  {
   "cell_type": "code",
   "execution_count": 9,
   "id": "07ada3d8",
   "metadata": {},
   "outputs": [],
   "source": [
    "final_output = df_sum.merge(Target, how = 'left', on=['Store','Quarter'])"
   ]
  },
  {
   "cell_type": "markdown",
   "id": "053446cb",
   "metadata": {},
   "source": [
    "### 11. Remove any duplicate fields formed by the Join"
   ]
  },
  {
   "cell_type": "code",
   "execution_count": 10,
   "id": "dbd9d9d0",
   "metadata": {},
   "outputs": [],
   "source": [
    "final_output = final_output.drop_duplicates()"
   ]
  },
  {
   "cell_type": "markdown",
   "id": "8cc17692",
   "metadata": {},
   "source": [
    "### 12. Calculate the Variance between each Store's Quarterly actual sales and the target. Call this field 'Variance to Target' "
   ]
  },
  {
   "cell_type": "code",
   "execution_count": 11,
   "id": "e46203f9",
   "metadata": {},
   "outputs": [],
   "source": [
    "final_output['Variance to Target'] = final_output['Product Sold'] - final_output['Target']"
   ]
  },
  {
   "cell_type": "markdown",
   "id": "9e3e7fa1",
   "metadata": {},
   "source": [
    "###  13. Rank the Store's based on the Variance to Target in each quarter \n",
    "   - The greater the variance the better the rank"
   ]
  },
  {
   "cell_type": "code",
   "execution_count": 12,
   "id": "4705c8a6",
   "metadata": {},
   "outputs": [],
   "source": [
    "final_output['Rank'] = final_output.groupby(['Quarter'])['Variance to Target'].rank(ascending=False).astype(int)"
   ]
  },
  {
   "cell_type": "code",
   "execution_count": 13,
   "id": "205afc73",
   "metadata": {},
   "outputs": [
    {
     "data": {
      "text/html": [
       "<div>\n",
       "<style scoped>\n",
       "    .dataframe tbody tr th:only-of-type {\n",
       "        vertical-align: middle;\n",
       "    }\n",
       "\n",
       "    .dataframe tbody tr th {\n",
       "        vertical-align: top;\n",
       "    }\n",
       "\n",
       "    .dataframe thead th {\n",
       "        text-align: right;\n",
       "    }\n",
       "</style>\n",
       "<table border=\"1\" class=\"dataframe\">\n",
       "  <thead>\n",
       "    <tr style=\"text-align: right;\">\n",
       "      <th></th>\n",
       "      <th>Quarter</th>\n",
       "      <th>Rank</th>\n",
       "      <th>Store</th>\n",
       "      <th>Product Sold</th>\n",
       "      <th>Target</th>\n",
       "      <th>Variance to Target</th>\n",
       "    </tr>\n",
       "  </thead>\n",
       "  <tbody>\n",
       "    <tr>\n",
       "      <th>16</th>\n",
       "      <td>1</td>\n",
       "      <td>1</td>\n",
       "      <td>York</td>\n",
       "      <td>499.0</td>\n",
       "      <td>490.0</td>\n",
       "      <td>9.0</td>\n",
       "    </tr>\n",
       "    <tr>\n",
       "      <th>0</th>\n",
       "      <td>1</td>\n",
       "      <td>2</td>\n",
       "      <td>Birmingham</td>\n",
       "      <td>477.0</td>\n",
       "      <td>475.0</td>\n",
       "      <td>2.0</td>\n",
       "    </tr>\n",
       "    <tr>\n",
       "      <th>4</th>\n",
       "      <td>1</td>\n",
       "      <td>3</td>\n",
       "      <td>Leeds</td>\n",
       "      <td>488.0</td>\n",
       "      <td>490.0</td>\n",
       "      <td>-2.0</td>\n",
       "    </tr>\n",
       "    <tr>\n",
       "      <th>12</th>\n",
       "      <td>1</td>\n",
       "      <td>4</td>\n",
       "      <td>Manchester</td>\n",
       "      <td>440.0</td>\n",
       "      <td>475.0</td>\n",
       "      <td>-35.0</td>\n",
       "    </tr>\n",
       "    <tr>\n",
       "      <th>8</th>\n",
       "      <td>1</td>\n",
       "      <td>5</td>\n",
       "      <td>London</td>\n",
       "      <td>425.0</td>\n",
       "      <td>475.0</td>\n",
       "      <td>-50.0</td>\n",
       "    </tr>\n",
       "  </tbody>\n",
       "</table>\n",
       "</div>"
      ],
      "text/plain": [
       "    Quarter  Rank       Store  Product Sold  Target  Variance to Target\n",
       "16        1     1        York         499.0   490.0                 9.0\n",
       "0         1     2  Birmingham         477.0   475.0                 2.0\n",
       "4         1     3       Leeds         488.0   490.0                -2.0\n",
       "12        1     4  Manchester         440.0   475.0               -35.0\n",
       "8         1     5      London         425.0   475.0               -50.0"
      ]
     },
     "execution_count": 13,
     "metadata": {},
     "output_type": "execute_result"
    }
   ],
   "source": [
    "final_output = final_output.sort_values(by = ['Quarter','Rank'])[['Quarter','Rank', 'Store', 'Product Sold', 'Target', \n",
    "                                                                  'Variance to Target']]\n",
    "final_output.head()"
   ]
  },
  {
   "cell_type": "markdown",
   "id": "286406a6",
   "metadata": {},
   "source": [
    "###  14. Output the data"
   ]
  },
  {
   "cell_type": "code",
   "execution_count": 14,
   "id": "d341b4a7",
   "metadata": {},
   "outputs": [],
   "source": [
    "final_output.to_csv('WK4-Bike Sales Target Output.csv', index=False)"
   ]
  }
 ],
 "metadata": {
  "kernelspec": {
   "display_name": "Python 3",
   "language": "python",
   "name": "python3"
  },
  "language_info": {
   "codemirror_mode": {
    "name": "ipython",
    "version": 3
   },
   "file_extension": ".py",
   "mimetype": "text/x-python",
   "name": "python",
   "nbconvert_exporter": "python",
   "pygments_lexer": "ipython3",
   "version": "3.7.11"
  }
 },
 "nbformat": 4,
 "nbformat_minor": 5
}
