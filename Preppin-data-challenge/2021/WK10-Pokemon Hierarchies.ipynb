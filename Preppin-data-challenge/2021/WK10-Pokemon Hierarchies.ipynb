{
 "cells": [
  {
   "cell_type": "markdown",
   "id": "dc7a3ef9",
   "metadata": {},
   "source": [
    "### Prepping Data Challenge: Pokemon Hierarchies (week 10)\n",
    "The aim of this challenge is to group Pokémon into Evolution Groups. Why? So that when we select any Pokémon, we can see all the information about what they evolved from, what they will evolve to etc. \n",
    "\n",
    "How is this applicable to other hierarchical data? Well, imagine that a Pokémon that has a null in the Evolves From field is similar to an employee at Work Level 1 in an organisation. Their manager would then sit in the Evolves To field. Our Evolution Group in this instance would be the Team the employee belongs to and it would give us the ability to type in any employee name and return information about which team they belong to and the structure of that team. \n",
    "\n",
    "#### Requirement:\n",
    " 1. Input the data\n",
    " 2. Our Pokémon dataset actually contains too many Pokémon: \n",
    "    - We're only interested in Pokémon up to Generation III, which is up to (and including) number 386\n",
    "    - This means we're also not interested in mega evolutions so we can filter Pokémon whose name start with \"Mega\"\n",
    " 3. Some Pokémon have more than one Type. We aren't interested in Types for this challenge so remove this field and ensure we have one row per Pokémon \n",
    " 4. Now we want to bring in information about what our Pokémon evolve to \n",
    "    - Warning!  In our Evolution dataset, we still have Pokémon beyond Gen III. You'll need to filter these out too, from both the evolved from and evolved to fields \n",
    " 5. Bring in information about what a Pokémon evolves from \n",
    "    - Ensure that we have all 386 of our Pokémon, with nulls if they don't have a pre-evolved form or if they don't evolve\n",
    " 6. Finally, for Pokémon that have 3 evolutions, we want to know what the First Evolution is in their Evolution Group \n",
    " 7. Some duplication may have occurred with all our joins, ensure no 2 rows are exactly the same \n",
    " 8. Create a calculation for our Evolution Group \n",
    "    - The Evolution Group will be named after the First Evolution e.g. in the above example, Bulbasaur is the name of the Evolution Group\n",
    " 9. Output the data"
   ]
  },
  {
   "cell_type": "markdown",
   "id": "8c8eb9b2",
   "metadata": {},
   "source": [
    "### 1. Input the data"
   ]
  },
  {
   "cell_type": "code",
   "execution_count": 1,
   "id": "ab924bef",
   "metadata": {},
   "outputs": [],
   "source": [
    "#import libraries\n",
    "import pandas as pd\n",
    "import numpy as np"
   ]
  },
  {
   "cell_type": "code",
   "execution_count": 2,
   "id": "a79e3442",
   "metadata": {},
   "outputs": [],
   "source": [
    "with pd.ExcelFile('WK10-Pokemon.xlsx') as xlsx:\n",
    "    pokemon = pd.read_excel(xlsx, 'Pokemon')\n",
    "    evolution = pd.read_excel(xlsx, 'Evolution')"
   ]
  },
  {
   "cell_type": "code",
   "execution_count": 3,
   "id": "c2e4c149",
   "metadata": {},
   "outputs": [
    {
     "data": {
      "text/html": [
       "<div>\n",
       "<style scoped>\n",
       "    .dataframe tbody tr th:only-of-type {\n",
       "        vertical-align: middle;\n",
       "    }\n",
       "\n",
       "    .dataframe tbody tr th {\n",
       "        vertical-align: top;\n",
       "    }\n",
       "\n",
       "    .dataframe thead th {\n",
       "        text-align: right;\n",
       "    }\n",
       "</style>\n",
       "<table border=\"1\" class=\"dataframe\">\n",
       "  <thead>\n",
       "    <tr style=\"text-align: right;\">\n",
       "      <th></th>\n",
       "      <th>#</th>\n",
       "      <th>Name</th>\n",
       "      <th>Type</th>\n",
       "      <th>Total</th>\n",
       "      <th>HP</th>\n",
       "      <th>Attack</th>\n",
       "      <th>Defense</th>\n",
       "      <th>Special Attack</th>\n",
       "      <th>Special Defense</th>\n",
       "      <th>Speed</th>\n",
       "    </tr>\n",
       "  </thead>\n",
       "  <tbody>\n",
       "    <tr>\n",
       "      <th>0</th>\n",
       "      <td>001</td>\n",
       "      <td>Bulbasaur</td>\n",
       "      <td>GRASS</td>\n",
       "      <td>318</td>\n",
       "      <td>45</td>\n",
       "      <td>49</td>\n",
       "      <td>49</td>\n",
       "      <td>65</td>\n",
       "      <td>65</td>\n",
       "      <td>45</td>\n",
       "    </tr>\n",
       "    <tr>\n",
       "      <th>1</th>\n",
       "      <td>001</td>\n",
       "      <td>Bulbasaur</td>\n",
       "      <td>POISON</td>\n",
       "      <td>318</td>\n",
       "      <td>45</td>\n",
       "      <td>49</td>\n",
       "      <td>49</td>\n",
       "      <td>65</td>\n",
       "      <td>65</td>\n",
       "      <td>45</td>\n",
       "    </tr>\n",
       "    <tr>\n",
       "      <th>2</th>\n",
       "      <td>002</td>\n",
       "      <td>Ivysaur</td>\n",
       "      <td>GRASS</td>\n",
       "      <td>405</td>\n",
       "      <td>60</td>\n",
       "      <td>62</td>\n",
       "      <td>63</td>\n",
       "      <td>80</td>\n",
       "      <td>80</td>\n",
       "      <td>60</td>\n",
       "    </tr>\n",
       "    <tr>\n",
       "      <th>3</th>\n",
       "      <td>002</td>\n",
       "      <td>Ivysaur</td>\n",
       "      <td>POISON</td>\n",
       "      <td>405</td>\n",
       "      <td>60</td>\n",
       "      <td>62</td>\n",
       "      <td>63</td>\n",
       "      <td>80</td>\n",
       "      <td>80</td>\n",
       "      <td>60</td>\n",
       "    </tr>\n",
       "    <tr>\n",
       "      <th>4</th>\n",
       "      <td>003</td>\n",
       "      <td>Venusaur</td>\n",
       "      <td>GRASS</td>\n",
       "      <td>525</td>\n",
       "      <td>80</td>\n",
       "      <td>82</td>\n",
       "      <td>83</td>\n",
       "      <td>100</td>\n",
       "      <td>100</td>\n",
       "      <td>80</td>\n",
       "    </tr>\n",
       "  </tbody>\n",
       "</table>\n",
       "</div>"
      ],
      "text/plain": [
       "      #       Name    Type  Total  HP  Attack  Defense  Special Attack  \\\n",
       "0   001  Bulbasaur   GRASS    318  45      49       49              65   \n",
       "1   001  Bulbasaur  POISON    318  45      49       49              65   \n",
       "2   002    Ivysaur   GRASS    405  60      62       63              80   \n",
       "3   002    Ivysaur  POISON    405  60      62       63              80   \n",
       "4   003   Venusaur   GRASS    525  80      82       83             100   \n",
       "\n",
       "   Special Defense  Speed  \n",
       "0               65     45  \n",
       "1               65     45  \n",
       "2               80     60  \n",
       "3               80     60  \n",
       "4              100     80  "
      ]
     },
     "execution_count": 3,
     "metadata": {},
     "output_type": "execute_result"
    }
   ],
   "source": [
    "pokemon.head()"
   ]
  },
  {
   "cell_type": "code",
   "execution_count": 4,
   "id": "036b4617",
   "metadata": {},
   "outputs": [
    {
     "data": {
      "text/html": [
       "<div>\n",
       "<style scoped>\n",
       "    .dataframe tbody tr th:only-of-type {\n",
       "        vertical-align: middle;\n",
       "    }\n",
       "\n",
       "    .dataframe tbody tr th {\n",
       "        vertical-align: top;\n",
       "    }\n",
       "\n",
       "    .dataframe thead th {\n",
       "        text-align: right;\n",
       "    }\n",
       "</style>\n",
       "<table border=\"1\" class=\"dataframe\">\n",
       "  <thead>\n",
       "    <tr style=\"text-align: right;\">\n",
       "      <th></th>\n",
       "      <th>Evolving from</th>\n",
       "      <th>Evolving to</th>\n",
       "      <th>Level</th>\n",
       "      <th>Condition</th>\n",
       "      <th>Evolution Type</th>\n",
       "    </tr>\n",
       "  </thead>\n",
       "  <tbody>\n",
       "    <tr>\n",
       "      <th>0</th>\n",
       "      <td>Bulbasaur</td>\n",
       "      <td>Ivysaur</td>\n",
       "      <td>16.0</td>\n",
       "      <td>NaN</td>\n",
       "      <td>Level</td>\n",
       "    </tr>\n",
       "    <tr>\n",
       "      <th>1</th>\n",
       "      <td>Ivysaur</td>\n",
       "      <td>Venusaur</td>\n",
       "      <td>32.0</td>\n",
       "      <td>NaN</td>\n",
       "      <td>Level</td>\n",
       "    </tr>\n",
       "    <tr>\n",
       "      <th>2</th>\n",
       "      <td>Charmander</td>\n",
       "      <td>Charmeleon</td>\n",
       "      <td>16.0</td>\n",
       "      <td>NaN</td>\n",
       "      <td>Level</td>\n",
       "    </tr>\n",
       "    <tr>\n",
       "      <th>3</th>\n",
       "      <td>Charmeleon</td>\n",
       "      <td>Charizard</td>\n",
       "      <td>36.0</td>\n",
       "      <td>NaN</td>\n",
       "      <td>Level</td>\n",
       "    </tr>\n",
       "    <tr>\n",
       "      <th>4</th>\n",
       "      <td>Squirtle</td>\n",
       "      <td>Wartortle</td>\n",
       "      <td>16.0</td>\n",
       "      <td>NaN</td>\n",
       "      <td>Level</td>\n",
       "    </tr>\n",
       "  </tbody>\n",
       "</table>\n",
       "</div>"
      ],
      "text/plain": [
       "  Evolving from Evolving to  Level Condition Evolution Type\n",
       "0     Bulbasaur     Ivysaur   16.0       NaN          Level\n",
       "1       Ivysaur    Venusaur   32.0       NaN          Level\n",
       "2    Charmander  Charmeleon   16.0       NaN          Level\n",
       "3    Charmeleon   Charizard   36.0       NaN          Level\n",
       "4      Squirtle   Wartortle   16.0       NaN          Level"
      ]
     },
     "execution_count": 4,
     "metadata": {},
     "output_type": "execute_result"
    }
   ],
   "source": [
    "evolution.head()"
   ]
  },
  {
   "cell_type": "markdown",
   "id": "8580585a",
   "metadata": {},
   "source": [
    "###  2. Our Pokémon dataset actually contains too many Pokémon:"
   ]
  },
  {
   "cell_type": "code",
   "execution_count": 5,
   "id": "23b6666b",
   "metadata": {},
   "outputs": [],
   "source": [
    "#We're only interested in Pokémon up to Generation III, which is up to (and including) number 386\n",
    "#This means we're also not interested in mega evolutions so we can filter Pokémon whose name start with \"Mega\"\n",
    "pokemon['#']=pokemon['#'].astype('float')\n",
    "pokemon=pokemon.loc[pokemon['#']<=386,]\n",
    "pokemon=pokemon[~(pokemon['Name'].str.startswith('Mega'))]"
   ]
  },
  {
   "cell_type": "markdown",
   "id": "e69fa9ed",
   "metadata": {},
   "source": [
    "### 3. Some Pokémon have more than one Type. We aren't interested in Types for this challenge so remove this field and ensure we have one row per Pokémon"
   ]
  },
  {
   "cell_type": "code",
   "execution_count": 6,
   "id": "c16137c4",
   "metadata": {},
   "outputs": [],
   "source": [
    "pokemon.drop('Type',axis=1,inplace=True)\n",
    "pokemon.drop_duplicates(inplace=True)"
   ]
  },
  {
   "cell_type": "markdown",
   "id": "164f9c3c",
   "metadata": {},
   "source": [
    "### 4. Now we want to bring in information about what our Pokémon evolve to "
   ]
  },
  {
   "cell_type": "code",
   "execution_count": 7,
   "id": "810df1c3",
   "metadata": {},
   "outputs": [],
   "source": [
    "#Warning!  In our Evolution dataset, we still have Pokémon beyond Gen III. \n",
    "#You'll need to filter these out too, from both the 'evolved from' and 'evolved to' fields\n",
    "names_list = pokemon['Name']\n",
    "evolve = evolution[evolution['Evolving from'].isin(names_list)]\n",
    "evolve = evolution[evolution['Evolving to'].isin(names_list)]"
   ]
  },
  {
   "cell_type": "markdown",
   "id": "27ce0c37",
   "metadata": {},
   "source": [
    "### 5. Bring in information about what a Pokémon evolves from"
   ]
  },
  {
   "cell_type": "code",
   "execution_count": 8,
   "id": "63a53ae3",
   "metadata": {},
   "outputs": [],
   "source": [
    "evolve_dict = dict(zip(evolution['Evolving to'], evolution['Evolving from']))\n",
    "\n",
    "df = pokemon.merge(evolution, left_on='Name', right_on='Evolving from', how='left')\n",
    "df['Evolving from'] = [evolve_dict[k] if k in evolve_dict.keys() else np.NaN for k in df['Name']]"
   ]
  },
  {
   "cell_type": "markdown",
   "id": "2a4dbb8f",
   "metadata": {},
   "source": [
    "### 6 & 8. Finally, for Pokémon that have 3 evolutions, we want to know what the First Evolution is in their Evolution Group "
   ]
  },
  {
   "cell_type": "code",
   "execution_count": 9,
   "id": "43f55861",
   "metadata": {},
   "outputs": [],
   "source": [
    "def get_evolve_group(names):\n",
    "    if names not in evolve_dict.keys() or names == evolve_dict[names]: \n",
    "        return names\n",
    "    else:\n",
    "        return get_evolve_group(evolve_dict[names])"
   ]
  },
  {
   "cell_type": "code",
   "execution_count": 10,
   "id": "2d44cb6c",
   "metadata": {},
   "outputs": [],
   "source": [
    "df['Evolution Group'] = df['Name'].apply(get_evolve_group)"
   ]
  },
  {
   "cell_type": "code",
   "execution_count": 11,
   "id": "e61ef606",
   "metadata": {},
   "outputs": [],
   "source": [
    "df['First Evolution'] = [np.nan if (n==g) | (g==f) else g \n",
    "                         for n,g,f in zip(df['Name'], df['Evolution Group'], df['Evolving from'])]"
   ]
  },
  {
   "cell_type": "markdown",
   "id": "c0fc8679",
   "metadata": {},
   "source": [
    "### 7. Some duplication may have occurred with all our joins, ensure no 2 rows are exactly the same"
   ]
  },
  {
   "cell_type": "code",
   "execution_count": 12,
   "id": "dbd76624",
   "metadata": {},
   "outputs": [],
   "source": [
    "df.drop_duplicates(inplace=True)"
   ]
  },
  {
   "cell_type": "markdown",
   "id": "d84fb70f",
   "metadata": {},
   "source": [
    "### 12. Output the data "
   ]
  },
  {
   "cell_type": "code",
   "execution_count": 13,
   "id": "b117680f",
   "metadata": {},
   "outputs": [],
   "source": [
    "df=df[['Evolution Group','#','Name','Total','HP','Attack','Defense',\n",
    "            'Special Attack','Special Defense','Speed','Evolving from',\n",
    "            'Evolving to','Level','Condition','Evolution Type',\n",
    "            'First Evolution']]"
   ]
  },
  {
   "cell_type": "code",
   "execution_count": 15,
   "id": "d341b4a7",
   "metadata": {},
   "outputs": [],
   "source": [
    "df.to_csv('WK10-Pokemon Output.csv', index=False)"
   ]
  },
  {
   "cell_type": "code",
   "execution_count": 16,
   "id": "bd34e9b2",
   "metadata": {},
   "outputs": [
    {
     "data": {
      "text/html": [
       "<div>\n",
       "<style scoped>\n",
       "    .dataframe tbody tr th:only-of-type {\n",
       "        vertical-align: middle;\n",
       "    }\n",
       "\n",
       "    .dataframe tbody tr th {\n",
       "        vertical-align: top;\n",
       "    }\n",
       "\n",
       "    .dataframe thead th {\n",
       "        text-align: right;\n",
       "    }\n",
       "</style>\n",
       "<table border=\"1\" class=\"dataframe\">\n",
       "  <thead>\n",
       "    <tr style=\"text-align: right;\">\n",
       "      <th></th>\n",
       "      <th>Evolution Group</th>\n",
       "      <th>#</th>\n",
       "      <th>Name</th>\n",
       "      <th>Total</th>\n",
       "      <th>HP</th>\n",
       "      <th>Attack</th>\n",
       "      <th>Defense</th>\n",
       "      <th>Special Attack</th>\n",
       "      <th>Special Defense</th>\n",
       "      <th>Speed</th>\n",
       "      <th>Evolving from</th>\n",
       "      <th>Evolving to</th>\n",
       "      <th>Level</th>\n",
       "      <th>Condition</th>\n",
       "      <th>Evolution Type</th>\n",
       "      <th>First Evolution</th>\n",
       "    </tr>\n",
       "  </thead>\n",
       "  <tbody>\n",
       "    <tr>\n",
       "      <th>0</th>\n",
       "      <td>Bulbasaur</td>\n",
       "      <td>1.0</td>\n",
       "      <td>Bulbasaur</td>\n",
       "      <td>318</td>\n",
       "      <td>45</td>\n",
       "      <td>49</td>\n",
       "      <td>49</td>\n",
       "      <td>65</td>\n",
       "      <td>65</td>\n",
       "      <td>45</td>\n",
       "      <td>NaN</td>\n",
       "      <td>Ivysaur</td>\n",
       "      <td>16.0</td>\n",
       "      <td>NaN</td>\n",
       "      <td>Level</td>\n",
       "      <td>NaN</td>\n",
       "    </tr>\n",
       "    <tr>\n",
       "      <th>1</th>\n",
       "      <td>Bulbasaur</td>\n",
       "      <td>2.0</td>\n",
       "      <td>Ivysaur</td>\n",
       "      <td>405</td>\n",
       "      <td>60</td>\n",
       "      <td>62</td>\n",
       "      <td>63</td>\n",
       "      <td>80</td>\n",
       "      <td>80</td>\n",
       "      <td>60</td>\n",
       "      <td>Bulbasaur</td>\n",
       "      <td>Venusaur</td>\n",
       "      <td>32.0</td>\n",
       "      <td>NaN</td>\n",
       "      <td>Level</td>\n",
       "      <td>NaN</td>\n",
       "    </tr>\n",
       "    <tr>\n",
       "      <th>2</th>\n",
       "      <td>Bulbasaur</td>\n",
       "      <td>3.0</td>\n",
       "      <td>Venusaur</td>\n",
       "      <td>525</td>\n",
       "      <td>80</td>\n",
       "      <td>82</td>\n",
       "      <td>83</td>\n",
       "      <td>100</td>\n",
       "      <td>100</td>\n",
       "      <td>80</td>\n",
       "      <td>Ivysaur</td>\n",
       "      <td>NaN</td>\n",
       "      <td>NaN</td>\n",
       "      <td>NaN</td>\n",
       "      <td>NaN</td>\n",
       "      <td>Bulbasaur</td>\n",
       "    </tr>\n",
       "    <tr>\n",
       "      <th>3</th>\n",
       "      <td>Charmander</td>\n",
       "      <td>4.0</td>\n",
       "      <td>Charmander</td>\n",
       "      <td>309</td>\n",
       "      <td>39</td>\n",
       "      <td>52</td>\n",
       "      <td>43</td>\n",
       "      <td>60</td>\n",
       "      <td>50</td>\n",
       "      <td>65</td>\n",
       "      <td>NaN</td>\n",
       "      <td>Charmeleon</td>\n",
       "      <td>16.0</td>\n",
       "      <td>NaN</td>\n",
       "      <td>Level</td>\n",
       "      <td>NaN</td>\n",
       "    </tr>\n",
       "    <tr>\n",
       "      <th>4</th>\n",
       "      <td>Charmander</td>\n",
       "      <td>5.0</td>\n",
       "      <td>Charmeleon</td>\n",
       "      <td>405</td>\n",
       "      <td>58</td>\n",
       "      <td>64</td>\n",
       "      <td>58</td>\n",
       "      <td>80</td>\n",
       "      <td>65</td>\n",
       "      <td>80</td>\n",
       "      <td>Charmander</td>\n",
       "      <td>Charizard</td>\n",
       "      <td>36.0</td>\n",
       "      <td>NaN</td>\n",
       "      <td>Level</td>\n",
       "      <td>NaN</td>\n",
       "    </tr>\n",
       "  </tbody>\n",
       "</table>\n",
       "</div>"
      ],
      "text/plain": [
       "  Evolution Group    #        Name  Total  HP  Attack  Defense  \\\n",
       "0       Bulbasaur  1.0   Bulbasaur    318  45      49       49   \n",
       "1       Bulbasaur  2.0     Ivysaur    405  60      62       63   \n",
       "2       Bulbasaur  3.0    Venusaur    525  80      82       83   \n",
       "3      Charmander  4.0  Charmander    309  39      52       43   \n",
       "4      Charmander  5.0  Charmeleon    405  58      64       58   \n",
       "\n",
       "   Special Attack  Special Defense  Speed Evolving from Evolving to  Level  \\\n",
       "0              65               65     45           NaN     Ivysaur   16.0   \n",
       "1              80               80     60     Bulbasaur    Venusaur   32.0   \n",
       "2             100              100     80       Ivysaur         NaN    NaN   \n",
       "3              60               50     65           NaN  Charmeleon   16.0   \n",
       "4              80               65     80    Charmander   Charizard   36.0   \n",
       "\n",
       "  Condition Evolution Type First Evolution  \n",
       "0       NaN          Level             NaN  \n",
       "1       NaN          Level             NaN  \n",
       "2       NaN            NaN       Bulbasaur  \n",
       "3       NaN          Level             NaN  \n",
       "4       NaN          Level             NaN  "
      ]
     },
     "execution_count": 16,
     "metadata": {},
     "output_type": "execute_result"
    }
   ],
   "source": [
    "df.head()"
   ]
  },
  {
   "cell_type": "code",
   "execution_count": null,
   "id": "61a762d4",
   "metadata": {},
   "outputs": [],
   "source": []
  }
 ],
 "metadata": {
  "kernelspec": {
   "display_name": "Python 3",
   "language": "python",
   "name": "python3"
  },
  "language_info": {
   "codemirror_mode": {
    "name": "ipython",
    "version": 3
   },
   "file_extension": ".py",
   "mimetype": "text/x-python",
   "name": "python",
   "nbconvert_exporter": "python",
   "pygments_lexer": "ipython3",
   "version": "3.7.11"
  }
 },
 "nbformat": 4,
 "nbformat_minor": 5
}
