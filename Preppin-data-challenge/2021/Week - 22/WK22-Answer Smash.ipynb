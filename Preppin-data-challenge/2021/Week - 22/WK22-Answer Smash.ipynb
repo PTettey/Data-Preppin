{
 "cells": [
  {
   "cell_type": "markdown",
   "id": "dc7a3ef9",
   "metadata": {},
   "source": [
    "### Prepping Data Challenge: Answer Smash (week 22)\n",
    "\n",
    "\n",
    "### Requirements\n",
    " - Input the data\n",
    " - The category dataset requires some cleaning so that Category and Answer are 2 separate fields \n",
    " - Join the datasets together, making sure to keep an eye on row counts \n",
    " - Filter the data so that each answer smash is matched with the corresponding name and answer \n",
    " - Remove unnecessary columns\n",
    " - Output the data"
   ]
  },
  {
   "cell_type": "code",
   "execution_count": 1,
   "id": "ab924bef",
   "metadata": {},
   "outputs": [],
   "source": [
    "import pandas as pd"
   ]
  },
  {
   "cell_type": "code",
   "execution_count": 2,
   "id": "58433f2b",
   "metadata": {},
   "outputs": [],
   "source": [
    "#Input the data\n",
    "\n",
    "with pd.ExcelFile('WK22-Answer Smash Input.xlsx') as xlsx:\n",
    "    ans = pd.read_excel(xlsx, 'Answer Smash')\n",
    "    names = pd.read_excel(xlsx, 'Names')\n",
    "    questions = pd.read_excel(xlsx, 'Questions')\n",
    "    cate = pd.read_excel(xlsx, 'Category')        "
   ]
  },
  {
   "cell_type": "code",
   "execution_count": 3,
   "id": "8d4a3f33",
   "metadata": {},
   "outputs": [
    {
     "data": {
      "text/html": [
       "<div>\n",
       "<style scoped>\n",
       "    .dataframe tbody tr th:only-of-type {\n",
       "        vertical-align: middle;\n",
       "    }\n",
       "\n",
       "    .dataframe tbody tr th {\n",
       "        vertical-align: top;\n",
       "    }\n",
       "\n",
       "    .dataframe thead th {\n",
       "        text-align: right;\n",
       "    }\n",
       "</style>\n",
       "<table border=\"1\" class=\"dataframe\">\n",
       "  <thead>\n",
       "    <tr style=\"text-align: right;\">\n",
       "      <th></th>\n",
       "      <th>Q No</th>\n",
       "      <th>Answer Smash</th>\n",
       "    </tr>\n",
       "  </thead>\n",
       "  <tbody>\n",
       "    <tr>\n",
       "      <th>0</th>\n",
       "      <td>1</td>\n",
       "      <td>Mo Hassnow leopard</td>\n",
       "    </tr>\n",
       "    <tr>\n",
       "      <th>1</th>\n",
       "      <td>2</td>\n",
       "      <td>Kelly Gilbert and ernie</td>\n",
       "    </tr>\n",
       "    <tr>\n",
       "      <th>2</th>\n",
       "      <td>3</td>\n",
       "      <td>Arsenergy units</td>\n",
       "    </tr>\n",
       "    <tr>\n",
       "      <th>3</th>\n",
       "      <td>4</td>\n",
       "      <td>Nicolas Mieszalymph nodes</td>\n",
       "    </tr>\n",
       "    <tr>\n",
       "      <th>4</th>\n",
       "      <td>5</td>\n",
       "      <td>Amalia García-Vellido Santíastrophysics</td>\n",
       "    </tr>\n",
       "  </tbody>\n",
       "</table>\n",
       "</div>"
      ],
      "text/plain": [
       "   Q No                             Answer Smash\n",
       "0     1                       Mo Hassnow leopard\n",
       "1     2                  Kelly Gilbert and ernie\n",
       "2     3                          Arsenergy units\n",
       "3     4                Nicolas Mieszalymph nodes\n",
       "4     5  Amalia García-Vellido Santíastrophysics"
      ]
     },
     "execution_count": 3,
     "metadata": {},
     "output_type": "execute_result"
    }
   ],
   "source": [
    "ans.head()"
   ]
  },
  {
   "cell_type": "code",
   "execution_count": 4,
   "id": "e6e2de99",
   "metadata": {},
   "outputs": [
    {
     "data": {
      "text/html": [
       "<div>\n",
       "<style scoped>\n",
       "    .dataframe tbody tr th:only-of-type {\n",
       "        vertical-align: middle;\n",
       "    }\n",
       "\n",
       "    .dataframe tbody tr th {\n",
       "        vertical-align: top;\n",
       "    }\n",
       "\n",
       "    .dataframe thead th {\n",
       "        text-align: right;\n",
       "    }\n",
       "</style>\n",
       "<table border=\"1\" class=\"dataframe\">\n",
       "  <thead>\n",
       "    <tr style=\"text-align: right;\">\n",
       "      <th></th>\n",
       "      <th>Name</th>\n",
       "    </tr>\n",
       "  </thead>\n",
       "  <tbody>\n",
       "    <tr>\n",
       "      <th>0</th>\n",
       "      <td>Mo Hassn</td>\n",
       "    </tr>\n",
       "    <tr>\n",
       "      <th>1</th>\n",
       "      <td>Kelly Gilbert</td>\n",
       "    </tr>\n",
       "    <tr>\n",
       "      <th>2</th>\n",
       "      <td>Arsene</td>\n",
       "    </tr>\n",
       "    <tr>\n",
       "      <th>3</th>\n",
       "      <td>Nicolas Mieszaly</td>\n",
       "    </tr>\n",
       "    <tr>\n",
       "      <th>4</th>\n",
       "      <td>Amalia García-Vellido Santías</td>\n",
       "    </tr>\n",
       "  </tbody>\n",
       "</table>\n",
       "</div>"
      ],
      "text/plain": [
       "                            Name\n",
       "0                       Mo Hassn\n",
       "1                  Kelly Gilbert\n",
       "2                         Arsene\n",
       "3               Nicolas Mieszaly\n",
       "4  Amalia García-Vellido Santías"
      ]
     },
     "execution_count": 4,
     "metadata": {},
     "output_type": "execute_result"
    }
   ],
   "source": [
    "names.head()"
   ]
  },
  {
   "cell_type": "code",
   "execution_count": 5,
   "id": "ee0e1081",
   "metadata": {},
   "outputs": [
    {
     "data": {
      "text/html": [
       "<div>\n",
       "<style scoped>\n",
       "    .dataframe tbody tr th:only-of-type {\n",
       "        vertical-align: middle;\n",
       "    }\n",
       "\n",
       "    .dataframe tbody tr th {\n",
       "        vertical-align: top;\n",
       "    }\n",
       "\n",
       "    .dataframe thead th {\n",
       "        text-align: right;\n",
       "    }\n",
       "</style>\n",
       "<table border=\"1\" class=\"dataframe\">\n",
       "  <thead>\n",
       "    <tr style=\"text-align: right;\">\n",
       "      <th></th>\n",
       "      <th>Q No</th>\n",
       "      <th>Category</th>\n",
       "      <th>Question</th>\n",
       "    </tr>\n",
       "  </thead>\n",
       "  <tbody>\n",
       "    <tr>\n",
       "      <th>0</th>\n",
       "      <td>1</td>\n",
       "      <td>Animals</td>\n",
       "      <td>Which mammal has the latin name panthera uncia?</td>\n",
       "    </tr>\n",
       "    <tr>\n",
       "      <th>1</th>\n",
       "      <td>2</td>\n",
       "      <td>Characters</td>\n",
       "      <td>Name the famous Sesame Street duo.</td>\n",
       "    </tr>\n",
       "    <tr>\n",
       "      <th>2</th>\n",
       "      <td>3</td>\n",
       "      <td>Science</td>\n",
       "      <td>What are joules or therms an example of?</td>\n",
       "    </tr>\n",
       "    <tr>\n",
       "      <th>3</th>\n",
       "      <td>4</td>\n",
       "      <td>Science</td>\n",
       "      <td>What parts of the body contain immune cells to...</td>\n",
       "    </tr>\n",
       "    <tr>\n",
       "      <th>4</th>\n",
       "      <td>5</td>\n",
       "      <td>Science</td>\n",
       "      <td>Which branch of space science applies the laws...</td>\n",
       "    </tr>\n",
       "  </tbody>\n",
       "</table>\n",
       "</div>"
      ],
      "text/plain": [
       "   Q No    Category                                           Question\n",
       "0     1     Animals    Which mammal has the latin name panthera uncia?\n",
       "1     2  Characters                 Name the famous Sesame Street duo.\n",
       "2     3     Science           What are joules or therms an example of?\n",
       "3     4     Science  What parts of the body contain immune cells to...\n",
       "4     5     Science  Which branch of space science applies the laws..."
      ]
     },
     "execution_count": 5,
     "metadata": {},
     "output_type": "execute_result"
    }
   ],
   "source": [
    "questions.head()"
   ]
  },
  {
   "cell_type": "code",
   "execution_count": 6,
   "id": "f36b9dd5",
   "metadata": {},
   "outputs": [
    {
     "data": {
      "text/html": [
       "<div>\n",
       "<style scoped>\n",
       "    .dataframe tbody tr th:only-of-type {\n",
       "        vertical-align: middle;\n",
       "    }\n",
       "\n",
       "    .dataframe tbody tr th {\n",
       "        vertical-align: top;\n",
       "    }\n",
       "\n",
       "    .dataframe thead th {\n",
       "        text-align: right;\n",
       "    }\n",
       "</style>\n",
       "<table border=\"1\" class=\"dataframe\">\n",
       "  <thead>\n",
       "    <tr style=\"text-align: right;\">\n",
       "      <th></th>\n",
       "      <th>Category: Answer</th>\n",
       "    </tr>\n",
       "  </thead>\n",
       "  <tbody>\n",
       "    <tr>\n",
       "      <th>0</th>\n",
       "      <td>Animals: Aardvark</td>\n",
       "    </tr>\n",
       "    <tr>\n",
       "      <th>1</th>\n",
       "      <td>Companies: Amazon</td>\n",
       "    </tr>\n",
       "    <tr>\n",
       "      <th>2</th>\n",
       "      <td>Companies: Annies Burger Shack</td>\n",
       "    </tr>\n",
       "    <tr>\n",
       "      <th>3</th>\n",
       "      <td>Science: Astrophysics</td>\n",
       "    </tr>\n",
       "    <tr>\n",
       "      <th>4</th>\n",
       "      <td>Companies: Barnes &amp; Noble</td>\n",
       "    </tr>\n",
       "  </tbody>\n",
       "</table>\n",
       "</div>"
      ],
      "text/plain": [
       "                 Category: Answer\n",
       "0               Animals: Aardvark\n",
       "1               Companies: Amazon\n",
       "2  Companies: Annies Burger Shack\n",
       "3           Science: Astrophysics\n",
       "4       Companies: Barnes & Noble"
      ]
     },
     "execution_count": 6,
     "metadata": {},
     "output_type": "execute_result"
    }
   ],
   "source": [
    "cate.head()"
   ]
  },
  {
   "cell_type": "code",
   "execution_count": 7,
   "id": "72dd5c63",
   "metadata": {},
   "outputs": [],
   "source": [
    "# The category dataset requires some cleaning so that Category and Answer are 2 separate fields\n",
    "cate[['Category','Answer']] = cate['Category: Answer'].str.split(':', expand = True)\n",
    "cate.drop('Category: Answer', axis=1, inplace=True)"
   ]
  },
  {
   "cell_type": "code",
   "execution_count": 8,
   "id": "8cf9b769",
   "metadata": {},
   "outputs": [],
   "source": [
    "#Join the datasets together, making sure to keep an eye on row counts \n",
    "# find the name for each answer smash\n",
    "ans['Name'] = [[n for n in names['Name'] if s.lower().startswith(n.lower())] \n",
    "                 for s in ans['Answer Smash']]\n",
    "ans = ans.explode('Name')"
   ]
  },
  {
   "cell_type": "code",
   "execution_count": 9,
   "id": "40b608bb",
   "metadata": {},
   "outputs": [],
   "source": [
    "# find the answer for each answer smash\n",
    "ans['Answer'] = [[a for a in cate['Answer'] if s.lower().endswith(a.strip().lower())] \n",
    "                   for s in ans['Answer Smash']] \n",
    "ans = ans.explode('Answer')"
   ]
  },
  {
   "cell_type": "code",
   "execution_count": 10,
   "id": "9cdfaa87",
   "metadata": {},
   "outputs": [],
   "source": [
    "# join the ans to the questions\n",
    "ans = pd.merge(ans, questions, on='Q No', how='left', indicator=True)"
   ]
  },
  {
   "cell_type": "code",
   "execution_count": 11,
   "id": "521a27b9",
   "metadata": {},
   "outputs": [],
   "source": [
    "ans = ans[['Q No', 'Name', 'Question', 'Answer', 'Answer Smash']]"
   ]
  },
  {
   "cell_type": "code",
   "execution_count": 12,
   "id": "a6a02da4",
   "metadata": {},
   "outputs": [
    {
     "data": {
      "text/html": [
       "<div>\n",
       "<style scoped>\n",
       "    .dataframe tbody tr th:only-of-type {\n",
       "        vertical-align: middle;\n",
       "    }\n",
       "\n",
       "    .dataframe tbody tr th {\n",
       "        vertical-align: top;\n",
       "    }\n",
       "\n",
       "    .dataframe thead th {\n",
       "        text-align: right;\n",
       "    }\n",
       "</style>\n",
       "<table border=\"1\" class=\"dataframe\">\n",
       "  <thead>\n",
       "    <tr style=\"text-align: right;\">\n",
       "      <th></th>\n",
       "      <th>Q No</th>\n",
       "      <th>Name</th>\n",
       "      <th>Question</th>\n",
       "      <th>Answer</th>\n",
       "      <th>Answer Smash</th>\n",
       "    </tr>\n",
       "  </thead>\n",
       "  <tbody>\n",
       "    <tr>\n",
       "      <th>0</th>\n",
       "      <td>1</td>\n",
       "      <td>Mo Hassn</td>\n",
       "      <td>Which mammal has the latin name panthera uncia?</td>\n",
       "      <td>Snow leopard</td>\n",
       "      <td>Mo Hassnow leopard</td>\n",
       "    </tr>\n",
       "    <tr>\n",
       "      <th>1</th>\n",
       "      <td>2</td>\n",
       "      <td>Kelly Gilbert</td>\n",
       "      <td>Name the famous Sesame Street duo.</td>\n",
       "      <td>Bert and Ernie</td>\n",
       "      <td>Kelly Gilbert and ernie</td>\n",
       "    </tr>\n",
       "    <tr>\n",
       "      <th>2</th>\n",
       "      <td>3</td>\n",
       "      <td>Arsene</td>\n",
       "      <td>What are joules or therms an example of?</td>\n",
       "      <td>Energy units</td>\n",
       "      <td>Arsenergy units</td>\n",
       "    </tr>\n",
       "    <tr>\n",
       "      <th>3</th>\n",
       "      <td>4</td>\n",
       "      <td>Nicolas Mieszaly</td>\n",
       "      <td>What parts of the body contain immune cells to...</td>\n",
       "      <td>Lymph nodes</td>\n",
       "      <td>Nicolas Mieszalymph nodes</td>\n",
       "    </tr>\n",
       "    <tr>\n",
       "      <th>4</th>\n",
       "      <td>5</td>\n",
       "      <td>Amalia García-Vellido Santías</td>\n",
       "      <td>Which branch of space science applies the laws...</td>\n",
       "      <td>Astrophysics</td>\n",
       "      <td>Amalia García-Vellido Santíastrophysics</td>\n",
       "    </tr>\n",
       "  </tbody>\n",
       "</table>\n",
       "</div>"
      ],
      "text/plain": [
       "   Q No                           Name  \\\n",
       "0     1                       Mo Hassn   \n",
       "1     2                  Kelly Gilbert   \n",
       "2     3                         Arsene   \n",
       "3     4               Nicolas Mieszaly   \n",
       "4     5  Amalia García-Vellido Santías   \n",
       "\n",
       "                                            Question           Answer  \\\n",
       "0    Which mammal has the latin name panthera uncia?     Snow leopard   \n",
       "1                 Name the famous Sesame Street duo.   Bert and Ernie   \n",
       "2           What are joules or therms an example of?     Energy units   \n",
       "3  What parts of the body contain immune cells to...      Lymph nodes   \n",
       "4  Which branch of space science applies the laws...     Astrophysics   \n",
       "\n",
       "                              Answer Smash  \n",
       "0                       Mo Hassnow leopard  \n",
       "1                  Kelly Gilbert and ernie  \n",
       "2                          Arsenergy units  \n",
       "3                Nicolas Mieszalymph nodes  \n",
       "4  Amalia García-Vellido Santíastrophysics  "
      ]
     },
     "execution_count": 12,
     "metadata": {},
     "output_type": "execute_result"
    }
   ],
   "source": [
    "ans.head()"
   ]
  },
  {
   "cell_type": "code",
   "execution_count": 13,
   "id": "594e07aa",
   "metadata": {},
   "outputs": [],
   "source": [
    "ans.to_csv('WK22-output.csv', index=False)"
   ]
  }
 ],
 "metadata": {
  "kernelspec": {
   "display_name": "Tetteyanalysis",
   "language": "python",
   "name": "tetteyanalysis"
  },
  "language_info": {
   "codemirror_mode": {
    "name": "ipython",
    "version": 3
   },
   "file_extension": ".py",
   "mimetype": "text/x-python",
   "name": "python",
   "nbconvert_exporter": "python",
   "pygments_lexer": "ipython3",
   "version": "3.7.11"
  }
 },
 "nbformat": 4,
 "nbformat_minor": 5
}
