{
 "cells": [
  {
   "cell_type": "markdown",
   "id": "dc7a3ef9",
   "metadata": {},
   "source": [
    "### Prepping Data Challenge: Rolling Weekly Revenue (week 26)\n",
    "\n",
    "This week's challenge is looking at creating moving calculations. By this let's use the example below, where on 5th January (yes British date format), if we wanted to understand a rolling week's values, you can include 3 days before the 5th (ie the 2nd, 3rd and 4th) as well as 3 days after the 5th (ie the 6th, 7th and 8th).\n",
    "\n",
    "Clearly you need to define what your rolling period should include or not. A rolling week could look backwards for 6 days inclusive of the current date or 7 days if you don't use the current date. You could look the same period forward but ultimately you have to articulate what you are covering to your audience. The nature of the data might also influence the decision you are taking. \n",
    "\n",
    "### Challenge\n",
    "Create a rolling weekly total and average for each Prep Air destination and an overall number for all destinations. The rolling week is as detailed above, 3 days before and 3 days after a date as well as that day itself. \n",
    "\n",
    "### Requirements\n",
    " - Input data\n",
    " - Create a data set that gives 7 rows per date (unless those dates aren't included in the data set). \n",
    "    - ie 1st Jan only has 4 rows of data (1st, 2nd, 3rd & 4th)\n",
    " - Remove any additional fields you don't need \n",
    " - Create the Rolling Week Total and Rolling Week Average per destination\n",
    " - Records that have less than 7 days data should remain included in the output\n",
    " - Create the Rolling Week Total and Rolling Week Average for the whole data set\n",
    " - Pull the data together for the previous two requirements\n",
    " - Output the data"
   ]
  },
  {
   "cell_type": "code",
   "execution_count": 1,
   "id": "ab924bef",
   "metadata": {},
   "outputs": [],
   "source": [
    "import pandas as pd"
   ]
  },
  {
   "cell_type": "code",
   "execution_count": 2,
   "id": "58433f2b",
   "metadata": {},
   "outputs": [],
   "source": [
    "#Input the data\n",
    "df = pd.read_csv('WK26-Input.csv', parse_dates=['Date'], dayfirst=True)"
   ]
  },
  {
   "cell_type": "code",
   "execution_count": 3,
   "id": "72dd5c63",
   "metadata": {},
   "outputs": [
    {
     "data": {
      "text/html": [
       "<div>\n",
       "<style scoped>\n",
       "    .dataframe tbody tr th:only-of-type {\n",
       "        vertical-align: middle;\n",
       "    }\n",
       "\n",
       "    .dataframe tbody tr th {\n",
       "        vertical-align: top;\n",
       "    }\n",
       "\n",
       "    .dataframe thead th {\n",
       "        text-align: right;\n",
       "    }\n",
       "</style>\n",
       "<table border=\"1\" class=\"dataframe\">\n",
       "  <thead>\n",
       "    <tr style=\"text-align: right;\">\n",
       "      <th></th>\n",
       "      <th>Destination</th>\n",
       "      <th>Date</th>\n",
       "      <th>Revenue</th>\n",
       "    </tr>\n",
       "  </thead>\n",
       "  <tbody>\n",
       "    <tr>\n",
       "      <th>0</th>\n",
       "      <td>London</td>\n",
       "      <td>2021-01-01</td>\n",
       "      <td>232572</td>\n",
       "    </tr>\n",
       "    <tr>\n",
       "      <th>1</th>\n",
       "      <td>London</td>\n",
       "      <td>2021-01-02</td>\n",
       "      <td>105610</td>\n",
       "    </tr>\n",
       "    <tr>\n",
       "      <th>2</th>\n",
       "      <td>London</td>\n",
       "      <td>2021-01-03</td>\n",
       "      <td>149849</td>\n",
       "    </tr>\n",
       "    <tr>\n",
       "      <th>3</th>\n",
       "      <td>London</td>\n",
       "      <td>2021-01-04</td>\n",
       "      <td>164463</td>\n",
       "    </tr>\n",
       "    <tr>\n",
       "      <th>4</th>\n",
       "      <td>London</td>\n",
       "      <td>2021-01-05</td>\n",
       "      <td>129130</td>\n",
       "    </tr>\n",
       "  </tbody>\n",
       "</table>\n",
       "</div>"
      ],
      "text/plain": [
       "  Destination       Date  Revenue\n",
       "0      London 2021-01-01   232572\n",
       "1      London 2021-01-02   105610\n",
       "2      London 2021-01-03   149849\n",
       "3      London 2021-01-04   164463\n",
       "4      London 2021-01-05   129130"
      ]
     },
     "execution_count": 3,
     "metadata": {},
     "output_type": "execute_result"
    }
   ],
   "source": [
    "df.head()"
   ]
  },
  {
   "cell_type": "code",
   "execution_count": 4,
   "id": "8d4a3f33",
   "metadata": {},
   "outputs": [],
   "source": [
    "#Create a data set that gives 7 rows per date (unless those dates aren't included in the data set)\n",
    "df = df.sort_values(by='Date')\n",
    "df_1 = pd.DataFrame( {'Date' : df['Date'].unique()} )\n",
    "df_1['date_row'] = [[d + pd.Timedelta(str(n-3) + ' day') for n in range(7)] \n",
    "                         for d in df_1['Date']]\n",
    "df_1 = df_1.explode('date_row')"
   ]
  },
  {
   "cell_type": "markdown",
   "id": "0166b9ea",
   "metadata": {},
   "source": [
    "<div class=\"alert alert-block alert-info\">\n",
    "    \n",
    "Pandas <strong>Timedeltas</strong> are differences in times, expressed in difference units, Eg days, hours, minutes, seconds. They can be both positive and negative. Timedelta objects can be created using various arguments.\n",
    "    \n",
    "<strong>String</strong><br> \n",
    "By passing a string literal, we can create a timedelta object.\n",
    "    \n",
    "pd.Timedelta('2 days 2 hours 15 minutes 30 seconds')<br>\n",
    "2 days 02:15:30\n",
    "    \n",
    "<strong>Integer</strong><br>\n",
    "print pd.Timedelta(6,unit='h')<br>\n",
    "0 days 06:00:00\n",
    "    \n",
    "<strong>Data Offsets</strong><br>\n",
    "Data offsets such as - weeks, days, hours, minutes, seconds, milliseconds, microseconds, nanoseconds can also be used in construction.\n",
    "\n",
    "print pd.Timedelta(days=2)<br>\n",
    "2 days 00:00:00\n",
    "    \n",
    "<strong>to_timedelta()</strong><br>\n",
    "Using the top-level pd.to_timedelta, you can convert a scalar, array, list, or series from a recognized timedelta format/ value into a Timedelta type. It will construct Series if the input is a Series, a scalar if the input is scalar-like, otherwise will output a TimedeltaIndex.\n",
    "    \n",
    "<strong>Operations</strong><br>\n",
    "You can operate on Series/ DataFrames and construct timedelta64[ns] Series through subtraction operations on datetime64[ns] Series, or Timestamps.\n",
    "  \n",
    "https://www.tutorialspoint.com/python_pandas/python_pandas_timedelta.htm\n",
    "</div>"
   ]
  },
  {
   "cell_type": "code",
   "execution_count": 5,
   "id": "45cbb614",
   "metadata": {},
   "outputs": [],
   "source": [
    "# join back to the original data on the join date\n",
    "df_total = df.merge(df_1, on='Date', how='inner')\\\n",
    "            .merge(df, left_on=['Destination', 'date_row'], right_on=['Destination', 'Date'],\n",
    "                   how='inner', suffixes=['', '_r'])"
   ]
  },
  {
   "cell_type": "code",
   "execution_count": 6,
   "id": "40b608bb",
   "metadata": {},
   "outputs": [],
   "source": [
    "# Create the Rolling Week Total and Rolling Week Average per destination\n",
    "df_date_agg = df_total.groupby(['Destination', 'Date']).agg(Rolling_Week_Avg=('Revenue_r', 'mean'),\n",
    "                                                           Rolling_Week_Total=('Revenue_r', 'sum'))\\\n",
    "                     .reset_index()"
   ]
  },
  {
   "cell_type": "code",
   "execution_count": 7,
   "id": "dd0aaaa7",
   "metadata": {},
   "outputs": [],
   "source": [
    "#Create the Rolling Week Total and Rolling Week Average for the whole data set\n",
    "df_total_agg = df_date_agg.groupby('Date').agg(Rolling_Week_Avg=('Rolling_Week_Avg', 'mean'),\n",
    "                                               Rolling_Week_Total=('Rolling_Week_Total', 'sum'))\\\n",
    "                          .reset_index()\n",
    "df_total_agg['Destination'] = 'All'"
   ]
  },
  {
   "cell_type": "code",
   "execution_count": 8,
   "id": "48242ebf",
   "metadata": {},
   "outputs": [],
   "source": [
    "#Pull the data together for the previous two requirements\n",
    "df_all = pd.concat([df_date_agg, df_total_agg])\n",
    "df_all.columns = df_all.columns = [c.replace('_', ' ') for c in df_all.columns]"
   ]
  },
  {
   "cell_type": "code",
   "execution_count": 9,
   "id": "057ba090",
   "metadata": {},
   "outputs": [
    {
     "data": {
      "text/html": [
       "<div>\n",
       "<style scoped>\n",
       "    .dataframe tbody tr th:only-of-type {\n",
       "        vertical-align: middle;\n",
       "    }\n",
       "\n",
       "    .dataframe tbody tr th {\n",
       "        vertical-align: top;\n",
       "    }\n",
       "\n",
       "    .dataframe thead th {\n",
       "        text-align: right;\n",
       "    }\n",
       "</style>\n",
       "<table border=\"1\" class=\"dataframe\">\n",
       "  <thead>\n",
       "    <tr style=\"text-align: right;\">\n",
       "      <th></th>\n",
       "      <th>Destination</th>\n",
       "      <th>Date</th>\n",
       "      <th>Rolling Week Avg</th>\n",
       "      <th>Rolling Week Total</th>\n",
       "    </tr>\n",
       "  </thead>\n",
       "  <tbody>\n",
       "    <tr>\n",
       "      <th>0</th>\n",
       "      <td>London</td>\n",
       "      <td>2021-01-01</td>\n",
       "      <td>163123.500000</td>\n",
       "      <td>652494</td>\n",
       "    </tr>\n",
       "    <tr>\n",
       "      <th>1</th>\n",
       "      <td>London</td>\n",
       "      <td>2021-01-02</td>\n",
       "      <td>156324.800000</td>\n",
       "      <td>781624</td>\n",
       "    </tr>\n",
       "    <tr>\n",
       "      <th>2</th>\n",
       "      <td>London</td>\n",
       "      <td>2021-01-03</td>\n",
       "      <td>168986.666667</td>\n",
       "      <td>1013920</td>\n",
       "    </tr>\n",
       "    <tr>\n",
       "      <th>3</th>\n",
       "      <td>London</td>\n",
       "      <td>2021-01-04</td>\n",
       "      <td>159290.857143</td>\n",
       "      <td>1115036</td>\n",
       "    </tr>\n",
       "    <tr>\n",
       "      <th>4</th>\n",
       "      <td>London</td>\n",
       "      <td>2021-01-05</td>\n",
       "      <td>149116.142857</td>\n",
       "      <td>1043813</td>\n",
       "    </tr>\n",
       "  </tbody>\n",
       "</table>\n",
       "</div>"
      ],
      "text/plain": [
       "  Destination       Date  Rolling Week Avg  Rolling Week Total\n",
       "0      London 2021-01-01     163123.500000              652494\n",
       "1      London 2021-01-02     156324.800000              781624\n",
       "2      London 2021-01-03     168986.666667             1013920\n",
       "3      London 2021-01-04     159290.857143             1115036\n",
       "4      London 2021-01-05     149116.142857             1043813"
      ]
     },
     "execution_count": 9,
     "metadata": {},
     "output_type": "execute_result"
    }
   ],
   "source": [
    "df_all.head()"
   ]
  },
  {
   "cell_type": "code",
   "execution_count": 10,
   "id": "2b28eab2",
   "metadata": {},
   "outputs": [],
   "source": [
    "df_all.to_csv('WK26-output.csv', index=False)"
   ]
  }
 ],
 "metadata": {
  "kernelspec": {
   "display_name": "Tetteyanalysis",
   "language": "python",
   "name": "tetteyanalysis"
  },
  "language_info": {
   "codemirror_mode": {
    "name": "ipython",
    "version": 3
   },
   "file_extension": ".py",
   "mimetype": "text/x-python",
   "name": "python",
   "nbconvert_exporter": "python",
   "pygments_lexer": "ipython3",
   "version": "3.7.11"
  }
 },
 "nbformat": 4,
 "nbformat_minor": 5
}
