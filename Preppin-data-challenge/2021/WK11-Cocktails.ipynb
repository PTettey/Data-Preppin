{
 "cells": [
  {
   "cell_type": "markdown",
   "id": "dc7a3ef9",
   "metadata": {},
   "source": [
    "### Prepping Data Challenge: Cocktail Dataset (week 11)\n",
    "\n",
    "\n",
    "#### Requirement:\n",
    " \n",
    " 1. Input the dataset \n",
    " 2. Split out the recipes into the different ingredients and their measurements\n",
    " 3. Calculate the price in pounds, for the required measurement of each ingredient\n",
    " 4. Join the ingredient costs to their relative cocktails\n",
    " 5. Find the total cost of each cocktail \n",
    " 6. Include a calculated field for the profit margin i.e. the difference between each cocktail's price and it's overall cost \n",
    " 7. Round all numeric fields to 2 decimal places \n",
    " 8. Output the data"
   ]
  },
  {
   "cell_type": "markdown",
   "id": "8c8eb9b2",
   "metadata": {},
   "source": [
    "### 1. Input the data"
   ]
  },
  {
   "cell_type": "code",
   "execution_count": 1,
   "id": "ab924bef",
   "metadata": {},
   "outputs": [],
   "source": [
    "#import libraries\n",
    "import pandas as pd"
   ]
  },
  {
   "cell_type": "code",
   "execution_count": 2,
   "id": "a79e3442",
   "metadata": {},
   "outputs": [],
   "source": [
    "with pd.ExcelFile('WK11-Cocktails Dataset.xlsx') as xlsx:\n",
    "    cocktail = pd.read_excel(xlsx, 'Cocktails', index_col='Cocktail')\n",
    "    sourcing = pd.read_excel(xlsx, 'Sourcing')\n",
    "    conversion = pd.read_excel(xlsx, 'Conversion Rates', index_col='Currency', squeeze=True).to_dict()"
   ]
  },
  {
   "cell_type": "code",
   "execution_count": null,
   "id": "c2e4c149",
   "metadata": {},
   "outputs": [],
   "source": [
    "#cocktail.head()"
   ]
  },
  {
   "cell_type": "code",
   "execution_count": null,
   "id": "ca94b8a2",
   "metadata": {},
   "outputs": [],
   "source": [
    "#sourcing.head()"
   ]
  },
  {
   "cell_type": "code",
   "execution_count": null,
   "id": "4da28c08",
   "metadata": {},
   "outputs": [],
   "source": [
    "#conversion"
   ]
  },
  {
   "cell_type": "markdown",
   "id": "8580585a",
   "metadata": {},
   "source": [
    "###  2. Split out the recipes into the different ingredients and their measurements"
   ]
  },
  {
   "cell_type": "code",
   "execution_count": 3,
   "id": "640bfd13",
   "metadata": {},
   "outputs": [],
   "source": [
    "regex = r'(?P<Ingredient>.+)\\:(?P<ml>\\d+)ml'\n",
    "recipe = cocktail['Recipe (ml)'].str.split('; ').explode().str.extract(regex, expand=True)\n",
    "recipe['ml'] = [float(m) for m in recipe['ml']]"
   ]
  },
  {
   "cell_type": "code",
   "execution_count": null,
   "id": "c77ec4be",
   "metadata": {},
   "outputs": [],
   "source": [
    "#recipe.head()"
   ]
  },
  {
   "cell_type": "markdown",
   "id": "e69fa9ed",
   "metadata": {},
   "source": [
    "### 3. Calculate the price in pounds, for the required measurement of each ingredient"
   ]
  },
  {
   "cell_type": "code",
   "execution_count": 4,
   "id": "c16137c4",
   "metadata": {},
   "outputs": [],
   "source": [
    "#convert prices to pounds\n",
    "sourcing['price'] = [float(p) / float(conversion[c]) for c,p in zip(sourcing['Currency'], sourcing['Price'])]"
   ]
  },
  {
   "cell_type": "markdown",
   "id": "164f9c3c",
   "metadata": {},
   "source": [
    "### 4. Join the ingredient costs to their relative cocktails"
   ]
  },
  {
   "cell_type": "code",
   "execution_count": 5,
   "id": "022b7938",
   "metadata": {},
   "outputs": [],
   "source": [
    "recipe = recipe.reset_index().merge(sourcing[['Ingredient','ml per Bottle', 'price']], on='Ingredient', how='left')"
   ]
  },
  {
   "cell_type": "markdown",
   "id": "27ce0c37",
   "metadata": {},
   "source": [
    "### 5 & 7. Find the total cost of each cocktail and round all numeric fields to 2 decimal places"
   ]
  },
  {
   "cell_type": "code",
   "execution_count": 6,
   "id": "592f3bf9",
   "metadata": {},
   "outputs": [],
   "source": [
    "recipe['Cost'] = recipe.apply(lambda x: x['ml']* x['price'] / float(x['ml per Bottle']), axis=1)"
   ]
  },
  {
   "cell_type": "code",
   "execution_count": 7,
   "id": "e632d635",
   "metadata": {},
   "outputs": [],
   "source": [
    "T_cost = recipe.groupby(['Cocktail'],as_index=False)['Cost'].agg('sum').round(2)"
   ]
  },
  {
   "cell_type": "markdown",
   "id": "2a4dbb8f",
   "metadata": {},
   "source": [
    "### 6. Include a calculated field for the profit margin i.e. the difference between each cocktail's price and it's overall cost"
   ]
  },
  {
   "cell_type": "code",
   "execution_count": 8,
   "id": "43f55861",
   "metadata": {},
   "outputs": [],
   "source": [
    "output = cocktail.merge(T_cost, on='Cocktail', how='left').rename(columns = {'Price (£)':'Price'})"
   ]
  },
  {
   "cell_type": "code",
   "execution_count": 9,
   "id": "95a9762a",
   "metadata": {},
   "outputs": [],
   "source": [
    "output['Price'] = output['Price'].round(2)\n",
    "output['Margin'] = output['Price'] - output['Cost']"
   ]
  },
  {
   "cell_type": "markdown",
   "id": "d84fb70f",
   "metadata": {},
   "source": [
    "### 8. Output the data "
   ]
  },
  {
   "cell_type": "code",
   "execution_count": 10,
   "id": "042fddab",
   "metadata": {},
   "outputs": [],
   "source": [
    "output = output[['Cocktail', 'Price','Cost','Margin']]"
   ]
  },
  {
   "cell_type": "code",
   "execution_count": 11,
   "id": "d341b4a7",
   "metadata": {},
   "outputs": [],
   "source": [
    "output.to_csv('WK11-Cocktail Output.csv', index=False)"
   ]
  },
  {
   "cell_type": "code",
   "execution_count": 12,
   "id": "7085b67e",
   "metadata": {},
   "outputs": [
    {
     "data": {
      "text/html": [
       "<div>\n",
       "<style scoped>\n",
       "    .dataframe tbody tr th:only-of-type {\n",
       "        vertical-align: middle;\n",
       "    }\n",
       "\n",
       "    .dataframe tbody tr th {\n",
       "        vertical-align: top;\n",
       "    }\n",
       "\n",
       "    .dataframe thead th {\n",
       "        text-align: right;\n",
       "    }\n",
       "</style>\n",
       "<table border=\"1\" class=\"dataframe\">\n",
       "  <thead>\n",
       "    <tr style=\"text-align: right;\">\n",
       "      <th></th>\n",
       "      <th>Cocktail</th>\n",
       "      <th>Price</th>\n",
       "      <th>Cost</th>\n",
       "      <th>Margin</th>\n",
       "    </tr>\n",
       "  </thead>\n",
       "  <tbody>\n",
       "    <tr>\n",
       "      <th>0</th>\n",
       "      <td>Raspberry Lemon Drop</td>\n",
       "      <td>8.50</td>\n",
       "      <td>2.85</td>\n",
       "      <td>5.65</td>\n",
       "    </tr>\n",
       "    <tr>\n",
       "      <th>1</th>\n",
       "      <td>Bay Breeze</td>\n",
       "      <td>7.20</td>\n",
       "      <td>1.78</td>\n",
       "      <td>5.42</td>\n",
       "    </tr>\n",
       "    <tr>\n",
       "      <th>2</th>\n",
       "      <td>Alabama Slammer</td>\n",
       "      <td>8.25</td>\n",
       "      <td>1.52</td>\n",
       "      <td>6.73</td>\n",
       "    </tr>\n",
       "    <tr>\n",
       "      <th>3</th>\n",
       "      <td>Watermelon Man</td>\n",
       "      <td>7.00</td>\n",
       "      <td>3.58</td>\n",
       "      <td>3.42</td>\n",
       "    </tr>\n",
       "    <tr>\n",
       "      <th>4</th>\n",
       "      <td>Orange Blossom</td>\n",
       "      <td>8.70</td>\n",
       "      <td>0.88</td>\n",
       "      <td>7.82</td>\n",
       "    </tr>\n",
       "  </tbody>\n",
       "</table>\n",
       "</div>"
      ],
      "text/plain": [
       "               Cocktail  Price  Cost  Margin\n",
       "0  Raspberry Lemon Drop   8.50  2.85    5.65\n",
       "1            Bay Breeze   7.20  1.78    5.42\n",
       "2       Alabama Slammer   8.25  1.52    6.73\n",
       "3        Watermelon Man   7.00  3.58    3.42\n",
       "4        Orange Blossom   8.70  0.88    7.82"
      ]
     },
     "execution_count": 12,
     "metadata": {},
     "output_type": "execute_result"
    }
   ],
   "source": [
    "output.head()"
   ]
  },
  {
   "cell_type": "code",
   "execution_count": null,
   "id": "77fd189a",
   "metadata": {},
   "outputs": [],
   "source": []
  }
 ],
 "metadata": {
  "kernelspec": {
   "display_name": "Python 3",
   "language": "python",
   "name": "python3"
  },
  "language_info": {
   "codemirror_mode": {
    "name": "ipython",
    "version": 3
   },
   "file_extension": ".py",
   "mimetype": "text/x-python",
   "name": "python",
   "nbconvert_exporter": "python",
   "pygments_lexer": "ipython3",
   "version": "3.7.11"
  }
 },
 "nbformat": 4,
 "nbformat_minor": 5
}
