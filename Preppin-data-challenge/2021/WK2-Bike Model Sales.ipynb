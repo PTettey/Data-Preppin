{
 "cells": [
  {
   "cell_type": "markdown",
   "id": "dc7a3ef9",
   "metadata": {},
   "source": [
    "### Prepping Data Challenge: Bike Model Sales (week 2)\n",
    "\n",
    "Building on from Week 1's challenge, this week looks at the following:\n",
    "\n",
    " - Aggregation - changing the level of granularity of your data. The combination of the categorical fields often sets what each row represents, so aggregating data changes this. \n",
    " \n",
    " - Calculations - If the value or variable that you need to use isn't in your data set, you will often be able to create it from the other data fields you do have. \n",
    "\n",
    "#### Requirement:\n",
    "\n",
    " 1. Input the data\n",
    " 2. Clean up the Model field to leave only the letters to represent the Brand of the bike \n",
    " 3. Workout the Order Value using Value per Bike and Quantity.\n",
    " 4. Aggregate Value per Bike, Order Value and Quantity by Brand and Bike Type to form:  \n",
    "     - Quantity Sold\n",
    "     - Order Value\n",
    "     - Average Value Sold per Brand, Type\n",
    " 5. Calculate Days to ship by measuring the difference between when an order was placed and when it was shipped as 'Days to Ship' \n",
    " 6. Aggregate Order Value, Quantity and Days to Ship by Brand and Store to form:\n",
    "     - Total Quantity Sold\n",
    "     - Total Order Value\n",
    "     - Average Days to Ship\n",
    " 7. Round any averaged values to one decimal place to make the values easier to read\n",
    " 8. Output both data sets (help)"
   ]
  },
  {
   "cell_type": "markdown",
   "id": "8c8eb9b2",
   "metadata": {},
   "source": [
    "### 1. Imput the data"
   ]
  },
  {
   "cell_type": "code",
   "execution_count": 1,
   "id": "7b263fab",
   "metadata": {},
   "outputs": [
    {
     "data": {
      "text/html": [
       "<div>\n",
       "<style scoped>\n",
       "    .dataframe tbody tr th:only-of-type {\n",
       "        vertical-align: middle;\n",
       "    }\n",
       "\n",
       "    .dataframe tbody tr th {\n",
       "        vertical-align: top;\n",
       "    }\n",
       "\n",
       "    .dataframe thead th {\n",
       "        text-align: right;\n",
       "    }\n",
       "</style>\n",
       "<table border=\"1\" class=\"dataframe\">\n",
       "  <thead>\n",
       "    <tr style=\"text-align: right;\">\n",
       "      <th></th>\n",
       "      <th>Bike Type</th>\n",
       "      <th>Store</th>\n",
       "      <th>Order Date</th>\n",
       "      <th>Quantity</th>\n",
       "      <th>Value per Bike</th>\n",
       "      <th>Shipping Date</th>\n",
       "      <th>Model</th>\n",
       "    </tr>\n",
       "  </thead>\n",
       "  <tbody>\n",
       "    <tr>\n",
       "      <th>0</th>\n",
       "      <td>Mountain</td>\n",
       "      <td>Manchester</td>\n",
       "      <td>15/05/2020</td>\n",
       "      <td>4</td>\n",
       "      <td>1543</td>\n",
       "      <td>01/06/2020</td>\n",
       "      <td>GIA31292/003</td>\n",
       "    </tr>\n",
       "    <tr>\n",
       "      <th>1</th>\n",
       "      <td>Gravel</td>\n",
       "      <td>Manchester</td>\n",
       "      <td>16/06/2020</td>\n",
       "      <td>2</td>\n",
       "      <td>2076</td>\n",
       "      <td>24/06/2020</td>\n",
       "      <td>GIA21312/001</td>\n",
       "    </tr>\n",
       "    <tr>\n",
       "      <th>2</th>\n",
       "      <td>Road</td>\n",
       "      <td>Birmingham</td>\n",
       "      <td>04/05/2020</td>\n",
       "      <td>1</td>\n",
       "      <td>2616</td>\n",
       "      <td>13/05/2020</td>\n",
       "      <td>GIA94221/129</td>\n",
       "    </tr>\n",
       "    <tr>\n",
       "      <th>3</th>\n",
       "      <td>Gravel</td>\n",
       "      <td>York</td>\n",
       "      <td>05/09/2020</td>\n",
       "      <td>2</td>\n",
       "      <td>1359</td>\n",
       "      <td>19/09/2020</td>\n",
       "      <td>GIA12442/120</td>\n",
       "    </tr>\n",
       "    <tr>\n",
       "      <th>4</th>\n",
       "      <td>Gravel</td>\n",
       "      <td>Birmingham</td>\n",
       "      <td>28/03/2020</td>\n",
       "      <td>4</td>\n",
       "      <td>1599</td>\n",
       "      <td>04/04/2020</td>\n",
       "      <td>GIA12492/123</td>\n",
       "    </tr>\n",
       "    <tr>\n",
       "      <th>5</th>\n",
       "      <td>Mountain</td>\n",
       "      <td>Birmingham</td>\n",
       "      <td>08/09/2020</td>\n",
       "      <td>3</td>\n",
       "      <td>1263</td>\n",
       "      <td>28/09/2020</td>\n",
       "      <td>GIA14293/003</td>\n",
       "    </tr>\n",
       "    <tr>\n",
       "      <th>6</th>\n",
       "      <td>Gravel</td>\n",
       "      <td>Birmingham</td>\n",
       "      <td>01/01/2020</td>\n",
       "      <td>4</td>\n",
       "      <td>3140</td>\n",
       "      <td>10/01/2020</td>\n",
       "      <td>GIA31292/004</td>\n",
       "    </tr>\n",
       "    <tr>\n",
       "      <th>7</th>\n",
       "      <td>Gravel</td>\n",
       "      <td>Leeds</td>\n",
       "      <td>08/06/2020</td>\n",
       "      <td>5</td>\n",
       "      <td>1411</td>\n",
       "      <td>13/06/2020</td>\n",
       "      <td>GIA21312/002</td>\n",
       "    </tr>\n",
       "    <tr>\n",
       "      <th>8</th>\n",
       "      <td>Road</td>\n",
       "      <td>York</td>\n",
       "      <td>30/06/2020</td>\n",
       "      <td>4</td>\n",
       "      <td>1343</td>\n",
       "      <td>17/07/2020</td>\n",
       "      <td>GIA94221/130</td>\n",
       "    </tr>\n",
       "    <tr>\n",
       "      <th>9</th>\n",
       "      <td>Road</td>\n",
       "      <td>London</td>\n",
       "      <td>12/09/2020</td>\n",
       "      <td>2</td>\n",
       "      <td>3138</td>\n",
       "      <td>24/09/2020</td>\n",
       "      <td>GIA12442/121</td>\n",
       "    </tr>\n",
       "  </tbody>\n",
       "</table>\n",
       "</div>"
      ],
      "text/plain": [
       "  Bike Type       Store  Order Date  Quantity  Value per Bike Shipping Date  \\\n",
       "0  Mountain  Manchester  15/05/2020         4            1543    01/06/2020   \n",
       "1    Gravel  Manchester  16/06/2020         2            2076    24/06/2020   \n",
       "2      Road  Birmingham  04/05/2020         1            2616    13/05/2020   \n",
       "3    Gravel        York  05/09/2020         2            1359    19/09/2020   \n",
       "4    Gravel  Birmingham  28/03/2020         4            1599    04/04/2020   \n",
       "5  Mountain  Birmingham  08/09/2020         3            1263    28/09/2020   \n",
       "6    Gravel  Birmingham  01/01/2020         4            3140    10/01/2020   \n",
       "7    Gravel       Leeds  08/06/2020         5            1411    13/06/2020   \n",
       "8      Road        York  30/06/2020         4            1343    17/07/2020   \n",
       "9      Road      London  12/09/2020         2            3138    24/09/2020   \n",
       "\n",
       "          Model  \n",
       "0  GIA31292/003  \n",
       "1  GIA21312/001  \n",
       "2  GIA94221/129  \n",
       "3  GIA12442/120  \n",
       "4  GIA12492/123  \n",
       "5  GIA14293/003  \n",
       "6  GIA31292/004  \n",
       "7  GIA21312/002  \n",
       "8  GIA94221/130  \n",
       "9  GIA12442/121  "
      ]
     },
     "execution_count": 1,
     "metadata": {},
     "output_type": "execute_result"
    }
   ],
   "source": [
    "# import libraries and csv file\n",
    "import pandas as pd\n",
    "import numpy as np\n",
    "import re\n",
    "\n",
    "Data = pd.read_csv('WK2-Bike Model Sales.csv')\n",
    "Data.head(10)"
   ]
  },
  {
   "cell_type": "markdown",
   "id": "31d3986b",
   "metadata": {},
   "source": [
    "###  2. Clean up the Model field to leave only the letters to represent the Brand of the bike"
   ]
  },
  {
   "cell_type": "code",
   "execution_count": 2,
   "id": "2500f7a6",
   "metadata": {},
   "outputs": [
    {
     "name": "stderr",
     "output_type": "stream",
     "text": [
      "C:\\ProgramData\\Anaconda3\\envs\\Tetteyanalysis\\lib\\site-packages\\ipykernel_launcher.py:1: FutureWarning: The default value of regex will change from True to False in a future version.\n",
      "  \"\"\"Entry point for launching an IPython kernel.\n"
     ]
    }
   ],
   "source": [
    "Data['Brand'] = Data['Model'].str.replace(r'[^A-Z]+', '')"
   ]
  },
  {
   "cell_type": "code",
   "execution_count": 3,
   "id": "5f5f3aa9",
   "metadata": {},
   "outputs": [
    {
     "data": {
      "text/plain": [
       "array(['GIA', 'SPEC', 'ORRO', 'BROM', 'KONA'], dtype=object)"
      ]
     },
     "execution_count": 3,
     "metadata": {},
     "output_type": "execute_result"
    }
   ],
   "source": [
    "Data['Brand'].unique()"
   ]
  },
  {
   "cell_type": "markdown",
   "id": "b5bedb83",
   "metadata": {},
   "source": [
    "###  3. Workout the Order Value using Value per Bike and Quantity."
   ]
  },
  {
   "cell_type": "code",
   "execution_count": 4,
   "id": "2b0074a2",
   "metadata": {},
   "outputs": [],
   "source": [
    "Data['Order Value'] = Data['Quantity']*Data['Value per Bike']"
   ]
  },
  {
   "cell_type": "markdown",
   "id": "897c9142",
   "metadata": {},
   "source": [
    "### 4. Aggregate Value per Bike, Order Value and Quantity by Brand and Bike Type to form: "
   ]
  },
  {
   "cell_type": "code",
   "execution_count": 5,
   "id": "062f4b88",
   "metadata": {},
   "outputs": [
    {
     "name": "stderr",
     "output_type": "stream",
     "text": [
      "C:\\ProgramData\\Anaconda3\\envs\\Tetteyanalysis\\lib\\site-packages\\ipykernel_launcher.py:1: FutureWarning: Indexing with multiple keys (implicitly converted to a tuple of keys) will be deprecated, use a list instead.\n",
      "  \"\"\"Entry point for launching an IPython kernel.\n"
     ]
    }
   ],
   "source": [
    "Agg1 = Data.groupby(['Brand', 'Bike Type'])['Quantity','Order Value'].sum().reset_index()\n",
    "Agg2 = Data.groupby(['Brand', 'Bike Type'])['Value per Bike'].mean().reset_index()\n",
    "Agg2.rename(columns={'Value per Bike':'Avg Value per Bike, Type'},inplace=True)\n",
    "Brand_Type = pd.merge(Agg1,Agg2,on=['Brand','Bike Type'])"
   ]
  },
  {
   "cell_type": "markdown",
   "id": "3b7539ee",
   "metadata": {},
   "source": [
    "### 5. Calculate Days to ship by measuring the difference between when an order was placed and when it was shipped as 'Days to Ship'"
   ]
  },
  {
   "cell_type": "code",
   "execution_count": 6,
   "id": "8c308f03",
   "metadata": {},
   "outputs": [],
   "source": [
    "#assign datetime datatypes to the columns\n",
    "Data['Order Date'] = pd.to_datetime(Data['Order Date'],format='%d/%m/%Y')\n",
    "Data['Shipping Date'] = pd.to_datetime(Data['Shipping Date'],format='%d/%m/%Y')\n",
    "Data['Days to Ship'] = (Data['Shipping Date'] - Data['Order Date']).dt.days"
   ]
  },
  {
   "cell_type": "markdown",
   "id": "4361ecef",
   "metadata": {},
   "source": [
    "### 6. Aggregate Order Value, Quantity and Days to Ship by Brand and Store to form:"
   ]
  },
  {
   "cell_type": "code",
   "execution_count": 7,
   "id": "c05a9b6f",
   "metadata": {},
   "outputs": [
    {
     "name": "stderr",
     "output_type": "stream",
     "text": [
      "C:\\ProgramData\\Anaconda3\\envs\\Tetteyanalysis\\lib\\site-packages\\ipykernel_launcher.py:1: FutureWarning: Indexing with multiple keys (implicitly converted to a tuple of keys) will be deprecated, use a list instead.\n",
      "  \"\"\"Entry point for launching an IPython kernel.\n"
     ]
    }
   ],
   "source": [
    "Agg3 = Data.groupby(['Brand', 'Store'])['Quantity','Order Value'].sum().reset_index()\n",
    "Agg4 = Data.groupby(['Brand', 'Store'])['Days to Ship'].mean().reset_index()\n",
    "Agg4.rename(columns={'Days to Ship':'Avg Days to Ship'},inplace=True)\n",
    "Brand_Store = pd.merge(Agg3,Agg4,on=['Brand','Store'])"
   ]
  },
  {
   "cell_type": "markdown",
   "id": "88889b8e",
   "metadata": {},
   "source": [
    "### 7. Round any averaged values to one decimal place to make the values easier to read"
   ]
  },
  {
   "cell_type": "code",
   "execution_count": 8,
   "id": "79f8d2b4",
   "metadata": {},
   "outputs": [],
   "source": [
    "Brand_Type['Avg Value per Bike, Type']=round(Brand_Type['Avg Value per Bike, Type'],1)\n",
    "Brand_Store['Avg Days to Ship']=round(Brand_Store['Avg Days to Ship'],1)"
   ]
  },
  {
   "cell_type": "markdown",
   "id": "b4d704a9",
   "metadata": {},
   "source": [
    "### 8. Output both data sets (help)"
   ]
  },
  {
   "cell_type": "code",
   "execution_count": 9,
   "id": "84dc0ba3",
   "metadata": {},
   "outputs": [],
   "source": [
    "Brand_Type.to_csv('WK2-Bike Brand_type Sales Output.csv', index=False)\n",
    "Brand_Type.to_csv('WK2-Bike Brand_Store Sales Output.csv', index=False)"
   ]
  },
  {
   "cell_type": "code",
   "execution_count": null,
   "id": "7453f3f4",
   "metadata": {},
   "outputs": [],
   "source": []
  }
 ],
 "metadata": {
  "kernelspec": {
   "display_name": "Python 3",
   "language": "python",
   "name": "python3"
  },
  "language_info": {
   "codemirror_mode": {
    "name": "ipython",
    "version": 3
   },
   "file_extension": ".py",
   "mimetype": "text/x-python",
   "name": "python",
   "nbconvert_exporter": "python",
   "pygments_lexer": "ipython3",
   "version": "3.7.11"
  }
 },
 "nbformat": 4,
 "nbformat_minor": 5
}
