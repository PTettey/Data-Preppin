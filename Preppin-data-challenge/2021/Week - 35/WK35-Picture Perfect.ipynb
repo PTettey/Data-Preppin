{
 "cells": [
  {
   "cell_type": "markdown",
   "id": "dc7a3ef9",
   "metadata": {},
   "source": [
    "### Prepping Data Challenge:  Picture Perfect (week 35)\n",
    "\n",
    "\n",
    "### Requirements\n",
    "- Input the data\n",
    "- Split up the sizes of the pictures and the frames into lengths and widths\n",
    "  - Remember an inch is 2.54cm\n",
    "- Frames can always be rotated, so make sure you know which is the min/max side\n",
    "- See which pictures fit into which frames\n",
    "- Work out the area of the frame vs the area of the picture and choose the frame with the smallest excess\n",
    "- Output the data"
   ]
  },
  {
   "cell_type": "code",
   "execution_count": 1,
   "id": "ab924bef",
   "metadata": {},
   "outputs": [],
   "source": [
    "import pandas as pd\n",
    "import numpy as np\n",
    "import re"
   ]
  },
  {
   "cell_type": "code",
   "execution_count": 2,
   "id": "58433f2b",
   "metadata": {},
   "outputs": [],
   "source": [
    "#Input the data\n",
    "with pd.ExcelFile('Wk35-Input.xlsx') as xl:\n",
    "    picture = pd.read_excel(xl,'Pictures')\n",
    "    frame = pd.read_excel(xl, 'Frames')"
   ]
  },
  {
   "cell_type": "code",
   "execution_count": 3,
   "id": "fb937bf5",
   "metadata": {},
   "outputs": [
    {
     "data": {
      "text/html": [
       "<div>\n",
       "<style scoped>\n",
       "    .dataframe tbody tr th:only-of-type {\n",
       "        vertical-align: middle;\n",
       "    }\n",
       "\n",
       "    .dataframe tbody tr th {\n",
       "        vertical-align: top;\n",
       "    }\n",
       "\n",
       "    .dataframe thead th {\n",
       "        text-align: right;\n",
       "    }\n",
       "</style>\n",
       "<table border=\"1\" class=\"dataframe\">\n",
       "  <thead>\n",
       "    <tr style=\"text-align: right;\">\n",
       "      <th></th>\n",
       "      <th>Picture</th>\n",
       "      <th>Size</th>\n",
       "    </tr>\n",
       "  </thead>\n",
       "  <tbody>\n",
       "    <tr>\n",
       "      <th>0</th>\n",
       "      <td>A</td>\n",
       "      <td>26cm x 23cm</td>\n",
       "    </tr>\n",
       "    <tr>\n",
       "      <th>1</th>\n",
       "      <td>B</td>\n",
       "      <td>30cm x 26cm</td>\n",
       "    </tr>\n",
       "    <tr>\n",
       "      <th>2</th>\n",
       "      <td>C</td>\n",
       "      <td>24cm2</td>\n",
       "    </tr>\n",
       "    <tr>\n",
       "      <th>3</th>\n",
       "      <td>D</td>\n",
       "      <td>25cm x 23cm</td>\n",
       "    </tr>\n",
       "    <tr>\n",
       "      <th>4</th>\n",
       "      <td>E</td>\n",
       "      <td>22cm x 19cm</td>\n",
       "    </tr>\n",
       "  </tbody>\n",
       "</table>\n",
       "</div>"
      ],
      "text/plain": [
       "  Picture         Size\n",
       "0       A  26cm x 23cm\n",
       "1       B  30cm x 26cm\n",
       "2       C        24cm2\n",
       "3       D  25cm x 23cm\n",
       "4       E  22cm x 19cm"
      ]
     },
     "execution_count": 3,
     "metadata": {},
     "output_type": "execute_result"
    }
   ],
   "source": [
    "picture.head()"
   ]
  },
  {
   "cell_type": "code",
   "execution_count": 4,
   "id": "72dd5c63",
   "metadata": {},
   "outputs": [
    {
     "data": {
      "text/html": [
       "<div>\n",
       "<style scoped>\n",
       "    .dataframe tbody tr th:only-of-type {\n",
       "        vertical-align: middle;\n",
       "    }\n",
       "\n",
       "    .dataframe tbody tr th {\n",
       "        vertical-align: top;\n",
       "    }\n",
       "\n",
       "    .dataframe thead th {\n",
       "        text-align: right;\n",
       "    }\n",
       "</style>\n",
       "<table border=\"1\" class=\"dataframe\">\n",
       "  <thead>\n",
       "    <tr style=\"text-align: right;\">\n",
       "      <th></th>\n",
       "      <th>Size</th>\n",
       "    </tr>\n",
       "  </thead>\n",
       "  <tbody>\n",
       "    <tr>\n",
       "      <th>0</th>\n",
       "      <td>8\" x 10\"</td>\n",
       "    </tr>\n",
       "    <tr>\n",
       "      <th>1</th>\n",
       "      <td>6\" x 4\"</td>\n",
       "    </tr>\n",
       "    <tr>\n",
       "      <th>2</th>\n",
       "      <td>8\" x 6\"</td>\n",
       "    </tr>\n",
       "    <tr>\n",
       "      <th>3</th>\n",
       "      <td>30cm x 21cm</td>\n",
       "    </tr>\n",
       "    <tr>\n",
       "      <th>4</th>\n",
       "      <td>31cm x 25cm</td>\n",
       "    </tr>\n",
       "  </tbody>\n",
       "</table>\n",
       "</div>"
      ],
      "text/plain": [
       "          Size\n",
       "0     8\" x 10\"\n",
       "1      6\" x 4\"\n",
       "2      8\" x 6\"\n",
       "3  30cm x 21cm\n",
       "4  31cm x 25cm"
      ]
     },
     "execution_count": 4,
     "metadata": {},
     "output_type": "execute_result"
    }
   ],
   "source": [
    "frame.head()"
   ]
  },
  {
   "cell_type": "code",
   "execution_count": 5,
   "id": "1fa73efa",
   "metadata": {},
   "outputs": [
    {
     "data": {
      "text/plain": [
       "array(['26cm x 23cm', '30cm x 26cm', '24cm2', '25cm x 23cm',\n",
       "       '22cm x 19cm', '28cm x 20cm', '33cm x 23cm', '23cm x 21cm',\n",
       "       '36cm x 25cm', '26cm x 20cm', '26cm x 28cm ', '23cm x 32cm',\n",
       "       '33cm x 24cm'], dtype=object)"
      ]
     },
     "execution_count": 5,
     "metadata": {},
     "output_type": "execute_result"
    }
   ],
   "source": [
    "picture['Size'].unique()"
   ]
  },
  {
   "cell_type": "code",
   "execution_count": 6,
   "id": "1365e25e",
   "metadata": {},
   "outputs": [],
   "source": [
    "def get_size(x):\n",
    "    side_1 = float(re.search('^(\\d+)', x).group(1))\n",
    "    side_2 = float(re.search('\\D(\\d+)\\D', x).group(1) if re.search('\\D(\\d+)\\D', x) else side_1)\n",
    "    all_sides = [side_1, side_2] if re.search('(cm)', x) else [side_1*2.54, side_2*2.54]\n",
    "    all_sides.sort()\n",
    "    \n",
    "    return all_sides"
   ]
  },
  {
   "cell_type": "code",
   "execution_count": 7,
   "id": "2a7bd660",
   "metadata": {},
   "outputs": [],
   "source": [
    "#Split up the sizes of the pictures and the frames into lengths and widths\n",
    "picture['Side_Size'] = picture['Size'].apply(lambda x: get_size(x))\n",
    "picture['Min'] = picture['Side_Size'].apply(lambda x: x[0])\n",
    "picture['Max'] = picture['Side_Size'].apply(lambda x: x[1])"
   ]
  },
  {
   "cell_type": "code",
   "execution_count": 8,
   "id": "d5e31a87",
   "metadata": {},
   "outputs": [],
   "source": [
    "#Frames can always be rotated, so make sure you know which is the min/max side\n",
    "frame['Side_Size2'] = frame['Size'].apply(lambda x: get_size(x))"
   ]
  },
  {
   "cell_type": "code",
   "execution_count": 9,
   "id": "5f0d73e7",
   "metadata": {},
   "outputs": [],
   "source": [
    "df = pd.merge(picture, frame, how='cross')"
   ]
  },
  {
   "cell_type": "code",
   "execution_count": 10,
   "id": "857208e7",
   "metadata": {},
   "outputs": [
    {
     "data": {
      "text/html": [
       "<div>\n",
       "<style scoped>\n",
       "    .dataframe tbody tr th:only-of-type {\n",
       "        vertical-align: middle;\n",
       "    }\n",
       "\n",
       "    .dataframe tbody tr th {\n",
       "        vertical-align: top;\n",
       "    }\n",
       "\n",
       "    .dataframe thead th {\n",
       "        text-align: right;\n",
       "    }\n",
       "</style>\n",
       "<table border=\"1\" class=\"dataframe\">\n",
       "  <thead>\n",
       "    <tr style=\"text-align: right;\">\n",
       "      <th></th>\n",
       "      <th>Picture</th>\n",
       "      <th>Size_x</th>\n",
       "      <th>Side_Size</th>\n",
       "      <th>Min</th>\n",
       "      <th>Max</th>\n",
       "      <th>Size_y</th>\n",
       "      <th>Side_Size2</th>\n",
       "    </tr>\n",
       "  </thead>\n",
       "  <tbody>\n",
       "    <tr>\n",
       "      <th>0</th>\n",
       "      <td>A</td>\n",
       "      <td>26cm x 23cm</td>\n",
       "      <td>[23.0, 26.0]</td>\n",
       "      <td>23.0</td>\n",
       "      <td>26.0</td>\n",
       "      <td>8\" x 10\"</td>\n",
       "      <td>[20.32, 25.4]</td>\n",
       "    </tr>\n",
       "    <tr>\n",
       "      <th>1</th>\n",
       "      <td>A</td>\n",
       "      <td>26cm x 23cm</td>\n",
       "      <td>[23.0, 26.0]</td>\n",
       "      <td>23.0</td>\n",
       "      <td>26.0</td>\n",
       "      <td>6\" x 4\"</td>\n",
       "      <td>[10.16, 15.24]</td>\n",
       "    </tr>\n",
       "    <tr>\n",
       "      <th>2</th>\n",
       "      <td>A</td>\n",
       "      <td>26cm x 23cm</td>\n",
       "      <td>[23.0, 26.0]</td>\n",
       "      <td>23.0</td>\n",
       "      <td>26.0</td>\n",
       "      <td>8\" x 6\"</td>\n",
       "      <td>[15.24, 20.32]</td>\n",
       "    </tr>\n",
       "    <tr>\n",
       "      <th>3</th>\n",
       "      <td>A</td>\n",
       "      <td>26cm x 23cm</td>\n",
       "      <td>[23.0, 26.0]</td>\n",
       "      <td>23.0</td>\n",
       "      <td>26.0</td>\n",
       "      <td>30cm x 21cm</td>\n",
       "      <td>[21.0, 30.0]</td>\n",
       "    </tr>\n",
       "    <tr>\n",
       "      <th>4</th>\n",
       "      <td>A</td>\n",
       "      <td>26cm x 23cm</td>\n",
       "      <td>[23.0, 26.0]</td>\n",
       "      <td>23.0</td>\n",
       "      <td>26.0</td>\n",
       "      <td>31cm x 25cm</td>\n",
       "      <td>[25.0, 31.0]</td>\n",
       "    </tr>\n",
       "  </tbody>\n",
       "</table>\n",
       "</div>"
      ],
      "text/plain": [
       "  Picture       Size_x     Side_Size   Min   Max       Size_y      Side_Size2\n",
       "0       A  26cm x 23cm  [23.0, 26.0]  23.0  26.0     8\" x 10\"   [20.32, 25.4]\n",
       "1       A  26cm x 23cm  [23.0, 26.0]  23.0  26.0      6\" x 4\"  [10.16, 15.24]\n",
       "2       A  26cm x 23cm  [23.0, 26.0]  23.0  26.0      8\" x 6\"  [15.24, 20.32]\n",
       "3       A  26cm x 23cm  [23.0, 26.0]  23.0  26.0  30cm x 21cm    [21.0, 30.0]\n",
       "4       A  26cm x 23cm  [23.0, 26.0]  23.0  26.0  31cm x 25cm    [25.0, 31.0]"
      ]
     },
     "execution_count": 10,
     "metadata": {},
     "output_type": "execute_result"
    }
   ],
   "source": [
    "df.head()"
   ]
  },
  {
   "cell_type": "code",
   "execution_count": 11,
   "id": "8e6dd54e",
   "metadata": {},
   "outputs": [],
   "source": [
    "#See which pictures fit into which frames\n",
    "#Work out the area of the frame vs the area of the picture and choose the frame with the smallest excess\n",
    "df['Fit'] = df.apply(lambda x: x['Side_Size2'][0]>=x['Side_Size'][0] and x['Side_Size2'][1]>=x['Side_Size'][1], axis=1)\n",
    "df = df[df['Fit']].copy()\n",
    "df['Excess Area'] = df.apply(lambda x: np.prod(x['Side_Size2'])-np.prod(x['Side_Size']), axis=1)\n",
    "df['Min Excess Area'] = df['Excess Area'].groupby(df['Picture']).transform('min')"
   ]
  },
  {
   "cell_type": "code",
   "execution_count": 12,
   "id": "d87de370",
   "metadata": {},
   "outputs": [],
   "source": [
    "df = df[df['Excess Area']==df['Min Excess Area']][['Picture', 'Size_y', 'Max', 'Min']]"
   ]
  },
  {
   "cell_type": "code",
   "execution_count": 13,
   "id": "5a280e28",
   "metadata": {},
   "outputs": [
    {
     "data": {
      "text/html": [
       "<div>\n",
       "<style scoped>\n",
       "    .dataframe tbody tr th:only-of-type {\n",
       "        vertical-align: middle;\n",
       "    }\n",
       "\n",
       "    .dataframe tbody tr th {\n",
       "        vertical-align: top;\n",
       "    }\n",
       "\n",
       "    .dataframe thead th {\n",
       "        text-align: right;\n",
       "    }\n",
       "</style>\n",
       "<table border=\"1\" class=\"dataframe\">\n",
       "  <thead>\n",
       "    <tr style=\"text-align: right;\">\n",
       "      <th></th>\n",
       "      <th>Picture</th>\n",
       "      <th>Size_y</th>\n",
       "      <th>Max</th>\n",
       "      <th>Min</th>\n",
       "    </tr>\n",
       "  </thead>\n",
       "  <tbody>\n",
       "    <tr>\n",
       "      <th>4</th>\n",
       "      <td>A</td>\n",
       "      <td>31cm x 25cm</td>\n",
       "      <td>26.0</td>\n",
       "      <td>23.0</td>\n",
       "    </tr>\n",
       "    <tr>\n",
       "      <th>14</th>\n",
       "      <td>B</td>\n",
       "      <td>30cm2</td>\n",
       "      <td>30.0</td>\n",
       "      <td>26.0</td>\n",
       "    </tr>\n",
       "    <tr>\n",
       "      <th>24</th>\n",
       "      <td>C</td>\n",
       "      <td>25cm2</td>\n",
       "      <td>24.0</td>\n",
       "      <td>24.0</td>\n",
       "    </tr>\n",
       "    <tr>\n",
       "      <th>33</th>\n",
       "      <td>D</td>\n",
       "      <td>25cm2</td>\n",
       "      <td>25.0</td>\n",
       "      <td>23.0</td>\n",
       "    </tr>\n",
       "    <tr>\n",
       "      <th>43</th>\n",
       "      <td>E</td>\n",
       "      <td>20cm x 25cm</td>\n",
       "      <td>22.0</td>\n",
       "      <td>19.0</td>\n",
       "    </tr>\n",
       "  </tbody>\n",
       "</table>\n",
       "</div>"
      ],
      "text/plain": [
       "   Picture       Size_y   Max   Min\n",
       "4        A  31cm x 25cm  26.0  23.0\n",
       "14       B        30cm2  30.0  26.0\n",
       "24       C        25cm2  24.0  24.0\n",
       "33       D        25cm2  25.0  23.0\n",
       "43       E  20cm x 25cm  22.0  19.0"
      ]
     },
     "execution_count": 13,
     "metadata": {},
     "output_type": "execute_result"
    }
   ],
   "source": [
    "df.head()"
   ]
  },
  {
   "cell_type": "code",
   "execution_count": 14,
   "id": "fa34b6a6",
   "metadata": {},
   "outputs": [],
   "source": [
    "#output the data\n",
    "df.to_csv('wk35-output.csv', index=False)"
   ]
  }
 ],
 "metadata": {
  "kernelspec": {
   "display_name": "Python 3 (ipykernel)",
   "language": "python",
   "name": "python3"
  },
  "language_info": {
   "codemirror_mode": {
    "name": "ipython",
    "version": 3
   },
   "file_extension": ".py",
   "mimetype": "text/x-python",
   "name": "python",
   "nbconvert_exporter": "python",
   "pygments_lexer": "ipython3",
   "version": "3.9.7"
  }
 },
 "nbformat": 4,
 "nbformat_minor": 5
}
