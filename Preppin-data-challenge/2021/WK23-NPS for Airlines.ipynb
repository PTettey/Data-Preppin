{
 "cells": [
  {
   "cell_type": "markdown",
   "id": "dc7a3ef9",
   "metadata": {},
   "source": [
    "### Prepping Data Challenge: NPS for Airlines (week 23)\n",
    "\n",
    "This week Prep Air are looking into their Net Promoter Score (NPS) and how this compares with a variety of other new airlines. NPS usually takes the form of asking customers \"How likely ae you to recommend this company on a scale of 0-10?\" You then subtract the detractors of your company from the promoters and end up with a score between -100 and +100. The higher the NPS, the better!\n",
    "\n",
    "However, like most metrics, on its own it doesn't tell you a lot. Do customers feel strongly one way or the other about any airlines? So it would be good to compare Prep Air's NPS with other airline's Net Promoter Scores too! In this challenge we'll use Z-Scores to standardise the scores and see whether Prep Air is above or below average.\n",
    "\n",
    "### Requirements\n",
    " - Input the data\n",
    " - Combine Prep Air dataset with other airlines\n",
    " - Exclude any airlines who have had less than 50 customers respond\n",
    " - Classify customer responses to the question in the following way:\n",
    "   - 0-6 = Detractors\n",
    "   - 7-8 = Passive\n",
    "   - 9-10 = Promoters\n",
    " - Calculate the NPS for each airline\n",
    "   - NPS = % Promoters - % Detractors\n",
    " - Calculate the average and standard deviation of the dataset\n",
    " - Take each airline's NPS and subtract the average, then divide this by the standard deviation\n",
    " - Filter to just show Prep Air's NPS along with their Z-Score\n",
    " - Output the data"
   ]
  },
  {
   "cell_type": "code",
   "execution_count": 1,
   "id": "ab924bef",
   "metadata": {},
   "outputs": [],
   "source": [
    "import pandas as pd\n",
    "import numpy as np"
   ]
  },
  {
   "cell_type": "code",
   "execution_count": 2,
   "id": "58433f2b",
   "metadata": {},
   "outputs": [],
   "source": [
    "#Input the data\n",
    "#Combine Prep Air dataset with other airlines\n",
    "\n",
    "with pd.ExcelFile('WK23-NPS Input.xlsx') as xlsx:\n",
    "    df = pd.concat([pd.read_excel(xlsx, s) for s in xlsx.sheet_names]) "
   ]
  },
  {
   "cell_type": "code",
   "execution_count": 3,
   "id": "72dd5c63",
   "metadata": {},
   "outputs": [],
   "source": [
    "df.rename(columns={'How likely are you to recommend this airline?':'Score'}, inplace=True)"
   ]
  },
  {
   "cell_type": "code",
   "execution_count": 4,
   "id": "8d4a3f33",
   "metadata": {},
   "outputs": [
    {
     "data": {
      "text/html": [
       "<div>\n",
       "<style scoped>\n",
       "    .dataframe tbody tr th:only-of-type {\n",
       "        vertical-align: middle;\n",
       "    }\n",
       "\n",
       "    .dataframe tbody tr th {\n",
       "        vertical-align: top;\n",
       "    }\n",
       "\n",
       "    .dataframe thead th {\n",
       "        text-align: right;\n",
       "    }\n",
       "</style>\n",
       "<table border=\"1\" class=\"dataframe\">\n",
       "  <thead>\n",
       "    <tr style=\"text-align: right;\">\n",
       "      <th></th>\n",
       "      <th>Airline</th>\n",
       "      <th>CustomerID</th>\n",
       "      <th>Score</th>\n",
       "    </tr>\n",
       "  </thead>\n",
       "  <tbody>\n",
       "    <tr>\n",
       "      <th>0</th>\n",
       "      <td>Schmeler, Schimmel and Collier</td>\n",
       "      <td>013d950</td>\n",
       "      <td>6</td>\n",
       "    </tr>\n",
       "    <tr>\n",
       "      <th>1</th>\n",
       "      <td>Schmeler, Schimmel and Collier</td>\n",
       "      <td>0d25185</td>\n",
       "      <td>10</td>\n",
       "    </tr>\n",
       "    <tr>\n",
       "      <th>2</th>\n",
       "      <td>Schmeler, Schimmel and Collier</td>\n",
       "      <td>a1b541d</td>\n",
       "      <td>10</td>\n",
       "    </tr>\n",
       "    <tr>\n",
       "      <th>3</th>\n",
       "      <td>Schmeler, Schimmel and Collier</td>\n",
       "      <td>6b24ea8</td>\n",
       "      <td>9</td>\n",
       "    </tr>\n",
       "    <tr>\n",
       "      <th>4</th>\n",
       "      <td>Schmeler, Schimmel and Collier</td>\n",
       "      <td>d5f96ab</td>\n",
       "      <td>7</td>\n",
       "    </tr>\n",
       "  </tbody>\n",
       "</table>\n",
       "</div>"
      ],
      "text/plain": [
       "                          Airline CustomerID  Score\n",
       "0  Schmeler, Schimmel and Collier    013d950      6\n",
       "1  Schmeler, Schimmel and Collier    0d25185     10\n",
       "2  Schmeler, Schimmel and Collier    a1b541d     10\n",
       "3  Schmeler, Schimmel and Collier    6b24ea8      9\n",
       "4  Schmeler, Schimmel and Collier    d5f96ab      7"
      ]
     },
     "execution_count": 4,
     "metadata": {},
     "output_type": "execute_result"
    }
   ],
   "source": [
    "df.head()"
   ]
  },
  {
   "cell_type": "code",
   "execution_count": 5,
   "id": "45cbb614",
   "metadata": {},
   "outputs": [],
   "source": [
    "#Exclude any airlines who have had less than 50 customers respond\n",
    "df = df.groupby('Airline').filter(lambda x: len(x) >= 50)"
   ]
  },
  {
   "cell_type": "code",
   "execution_count": 6,
   "id": "8cf9b769",
   "metadata": {},
   "outputs": [],
   "source": [
    "#Classify customer responses to the question\n",
    "df['Cust_class'] = pd.cut(df['Score'], bins=[0, 6, 8, 10],\n",
    "                     labels=['Detractors', 'Passive', 'Promoters'], right=True, \n",
    "                     include_lowest=True).astype(str)"
   ]
  },
  {
   "cell_type": "markdown",
   "id": "0166b9ea",
   "metadata": {},
   "source": [
    "<div class=\"alert alert-block alert-info\">\n",
    "    \n",
    "Pandas <strong>cut()</strong> function is used to separate the array elements into different bins . The cut function is mainly used to perform statistical analysis on scalar data.  \n",
    "\n",
    "<ul>\n",
    "<li><strong>Syntax:</strong> <br> <strong>cut</strong> (x, bins, right=True, labels=None, retbins=False, precision=3, include_lowest=False, duplicates=”raise”,)</li>\n",
    "\n",
    "<li><strong>Parameters:</strong><br> <strong>x</strong> :The input array to be binned. Must be 1-dimensional</li>\n",
    "\n",
    "<li><strong>bins:</strong> defines the bin edges for the segmentation.</li>\n",
    "\n",
    "<li><strong>right : (bool, default True )</strong>  Indicates whether bins includes the rightmost edge or not. If <strong>right == True</strong> (the default), then the bins [0, 6, 8, 10] indicate (0,6], (6,8], (8,10].</li> \n",
    "\n",
    "<li><strong>labels : (array or bool, optional)</strong>  Specifies the labels for the returned bins. Must be the same length as the resulting bins. If False, returns only integer indicators of the bins. in this case <strong>['Detractors', 'Passive', 'Promoters']</strong></li> \n",
    "\n",
    "<li><strong>retbins : (bool, default False)</strong> Whether to return the bins or not. Useful when bins is provided as a scalar.</li>\n",
    "    </ul>\n",
    "    \n",
    "</div>"
   ]
  },
  {
   "cell_type": "code",
   "execution_count": 7,
   "id": "40b608bb",
   "metadata": {},
   "outputs": [],
   "source": [
    "# Calculate the NPS for each airline\n",
    "df_pivot = df.pivot_table(values=['CustomerID'], index=['Airline'], columns=['Cust_class'], \n",
    "                          aggfunc='count', fill_value=0).reset_index()\n",
    "df_pivot.columns = [c[1] if c[1] != '' else c[0] for c in df_pivot.columns]"
   ]
  },
  {
   "cell_type": "code",
   "execution_count": 8,
   "id": "9cdfaa87",
   "metadata": {},
   "outputs": [],
   "source": [
    "df_pivot['total'] = df_pivot['Detractors'] + df_pivot['Passive'] + df_pivot['Promoters']"
   ]
  },
  {
   "cell_type": "code",
   "execution_count": 9,
   "id": "521a27b9",
   "metadata": {},
   "outputs": [],
   "source": [
    "df_pivot['NPS'] = (np.floor(df_pivot['Promoters'] / df_pivot['total'] * 100) \\\n",
    "                   - np.floor(df_pivot['Detractors'] / df_pivot['total'] * 100)).astype(int)"
   ]
  },
  {
   "cell_type": "code",
   "execution_count": 10,
   "id": "a6a02da4",
   "metadata": {},
   "outputs": [],
   "source": [
    "# calculate the average and standard deviation of the dataset\n",
    "nps_mean = df_pivot['NPS'].mean()\n",
    "nps_std = df_pivot['NPS'].std()"
   ]
  },
  {
   "cell_type": "code",
   "execution_count": 11,
   "id": "594e07aa",
   "metadata": {},
   "outputs": [],
   "source": [
    "# take each airline's NPS and subtract the average, then divide this by the standard deviation\n",
    "df_pivot['Z-Score'] = (df_pivot['NPS'] - nps_mean) / nps_std"
   ]
  },
  {
   "cell_type": "code",
   "execution_count": 12,
   "id": "b3bd9fd7",
   "metadata": {},
   "outputs": [
    {
     "data": {
      "text/html": [
       "<div>\n",
       "<style scoped>\n",
       "    .dataframe tbody tr th:only-of-type {\n",
       "        vertical-align: middle;\n",
       "    }\n",
       "\n",
       "    .dataframe tbody tr th {\n",
       "        vertical-align: top;\n",
       "    }\n",
       "\n",
       "    .dataframe thead th {\n",
       "        text-align: right;\n",
       "    }\n",
       "</style>\n",
       "<table border=\"1\" class=\"dataframe\">\n",
       "  <thead>\n",
       "    <tr style=\"text-align: right;\">\n",
       "      <th></th>\n",
       "      <th>Airline</th>\n",
       "      <th>Detractors</th>\n",
       "      <th>Passive</th>\n",
       "      <th>Promoters</th>\n",
       "      <th>total</th>\n",
       "      <th>NPS</th>\n",
       "      <th>Z-Score</th>\n",
       "    </tr>\n",
       "  </thead>\n",
       "  <tbody>\n",
       "    <tr>\n",
       "      <th>0</th>\n",
       "      <td>Abbott, Boyle and Morar</td>\n",
       "      <td>15</td>\n",
       "      <td>22</td>\n",
       "      <td>23</td>\n",
       "      <td>60</td>\n",
       "      <td>13</td>\n",
       "      <td>0.295114</td>\n",
       "    </tr>\n",
       "    <tr>\n",
       "      <th>1</th>\n",
       "      <td>Abbott, Gutkowski and Cummings</td>\n",
       "      <td>29</td>\n",
       "      <td>41</td>\n",
       "      <td>31</td>\n",
       "      <td>101</td>\n",
       "      <td>2</td>\n",
       "      <td>-0.844939</td>\n",
       "    </tr>\n",
       "    <tr>\n",
       "      <th>2</th>\n",
       "      <td>Abshire Group</td>\n",
       "      <td>24</td>\n",
       "      <td>32</td>\n",
       "      <td>35</td>\n",
       "      <td>91</td>\n",
       "      <td>12</td>\n",
       "      <td>0.191473</td>\n",
       "    </tr>\n",
       "    <tr>\n",
       "      <th>3</th>\n",
       "      <td>Bayer-Collier</td>\n",
       "      <td>23</td>\n",
       "      <td>37</td>\n",
       "      <td>28</td>\n",
       "      <td>88</td>\n",
       "      <td>5</td>\n",
       "      <td>-0.534015</td>\n",
       "    </tr>\n",
       "    <tr>\n",
       "      <th>4</th>\n",
       "      <td>Bernhard, Ernser and Toy</td>\n",
       "      <td>20</td>\n",
       "      <td>32</td>\n",
       "      <td>30</td>\n",
       "      <td>82</td>\n",
       "      <td>12</td>\n",
       "      <td>0.191473</td>\n",
       "    </tr>\n",
       "  </tbody>\n",
       "</table>\n",
       "</div>"
      ],
      "text/plain": [
       "                          Airline  Detractors  Passive  Promoters  total  NPS  \\\n",
       "0         Abbott, Boyle and Morar          15       22         23     60   13   \n",
       "1  Abbott, Gutkowski and Cummings          29       41         31    101    2   \n",
       "2                   Abshire Group          24       32         35     91   12   \n",
       "3                   Bayer-Collier          23       37         28     88    5   \n",
       "4        Bernhard, Ernser and Toy          20       32         30     82   12   \n",
       "\n",
       "    Z-Score  \n",
       "0  0.295114  \n",
       "1 -0.844939  \n",
       "2  0.191473  \n",
       "3 -0.534015  \n",
       "4  0.191473  "
      ]
     },
     "execution_count": 12,
     "metadata": {},
     "output_type": "execute_result"
    }
   ],
   "source": [
    "df_pivot.head()"
   ]
  },
  {
   "cell_type": "code",
   "execution_count": 13,
   "id": "54b83b3e",
   "metadata": {},
   "outputs": [],
   "source": [
    "df = df_pivot[['Airline', 'NPS', 'Z-Score']]"
   ]
  },
  {
   "cell_type": "code",
   "execution_count": 14,
   "id": "dd0aaaa7",
   "metadata": {},
   "outputs": [
    {
     "data": {
      "text/html": [
       "<div>\n",
       "<style scoped>\n",
       "    .dataframe tbody tr th:only-of-type {\n",
       "        vertical-align: middle;\n",
       "    }\n",
       "\n",
       "    .dataframe tbody tr th {\n",
       "        vertical-align: top;\n",
       "    }\n",
       "\n",
       "    .dataframe thead th {\n",
       "        text-align: right;\n",
       "    }\n",
       "</style>\n",
       "<table border=\"1\" class=\"dataframe\">\n",
       "  <thead>\n",
       "    <tr style=\"text-align: right;\">\n",
       "      <th></th>\n",
       "      <th>Airline</th>\n",
       "      <th>NPS</th>\n",
       "      <th>Z-Score</th>\n",
       "    </tr>\n",
       "  </thead>\n",
       "  <tbody>\n",
       "    <tr>\n",
       "      <th>0</th>\n",
       "      <td>Abbott, Boyle and Morar</td>\n",
       "      <td>13</td>\n",
       "      <td>0.295114</td>\n",
       "    </tr>\n",
       "    <tr>\n",
       "      <th>1</th>\n",
       "      <td>Abbott, Gutkowski and Cummings</td>\n",
       "      <td>2</td>\n",
       "      <td>-0.844939</td>\n",
       "    </tr>\n",
       "    <tr>\n",
       "      <th>2</th>\n",
       "      <td>Abshire Group</td>\n",
       "      <td>12</td>\n",
       "      <td>0.191473</td>\n",
       "    </tr>\n",
       "    <tr>\n",
       "      <th>3</th>\n",
       "      <td>Bayer-Collier</td>\n",
       "      <td>5</td>\n",
       "      <td>-0.534015</td>\n",
       "    </tr>\n",
       "    <tr>\n",
       "      <th>4</th>\n",
       "      <td>Bernhard, Ernser and Toy</td>\n",
       "      <td>12</td>\n",
       "      <td>0.191473</td>\n",
       "    </tr>\n",
       "  </tbody>\n",
       "</table>\n",
       "</div>"
      ],
      "text/plain": [
       "                          Airline  NPS   Z-Score\n",
       "0         Abbott, Boyle and Morar   13  0.295114\n",
       "1  Abbott, Gutkowski and Cummings    2 -0.844939\n",
       "2                   Abshire Group   12  0.191473\n",
       "3                   Bayer-Collier    5 -0.534015\n",
       "4        Bernhard, Ernser and Toy   12  0.191473"
      ]
     },
     "execution_count": 14,
     "metadata": {},
     "output_type": "execute_result"
    }
   ],
   "source": [
    "df.head()"
   ]
  },
  {
   "cell_type": "code",
   "execution_count": 15,
   "id": "2b28eab2",
   "metadata": {},
   "outputs": [],
   "source": [
    "df.to_csv('WK23-output.csv', index=False)"
   ]
  }
 ],
 "metadata": {
  "kernelspec": {
   "display_name": "Tetteyanalysis",
   "language": "python",
   "name": "tetteyanalysis"
  },
  "language_info": {
   "codemirror_mode": {
    "name": "ipython",
    "version": 3
   },
   "file_extension": ".py",
   "mimetype": "text/x-python",
   "name": "python",
   "nbconvert_exporter": "python",
   "pygments_lexer": "ipython3",
   "version": "3.7.11"
  }
 },
 "nbformat": 4,
 "nbformat_minor": 5
}
