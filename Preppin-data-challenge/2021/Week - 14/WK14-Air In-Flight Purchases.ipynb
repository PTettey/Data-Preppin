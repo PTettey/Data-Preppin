{
 "cells": [
  {
   "cell_type": "markdown",
   "id": "dc7a3ef9",
   "metadata": {},
   "source": [
    "### Prepping Data Challenge: Prep Air In-Flight Purchases (week 14)\n",
    "\n",
    "For this week's challenge, there is a selection of different data sources that needs to be combined them to answer some questions that will help in the understanding of some purchasing patterns on the flights.\n",
    "\n",
    "#### Requirement:\n",
    " - Input the Data\n",
    " - Assign a label for where each seat is located. \n",
    "   They are assigned as follows:\n",
    "     - A & F - Window Seats\n",
    "     - B & E - Middle Seats\n",
    "     - C & D - Aisle Seats \n",
    "\n",
    " - Combine the Seat List and Passenger List tables. \n",
    "\n",
    " - Parse the Flight Details so that they are in separate fields  \n",
    "\n",
    " - Calculate the time of day for each flight. \n",
    "   They are assigned as follows: \n",
    "    - Morning - Before 12:00 \n",
    "    - Afternoon - Between 12:00 - 18:00\n",
    "    - Evening - After 18:00\n",
    "\n",
    " - Join the Flight Details & Plane Details to the Passenger & Seat tables. We should be able to identify what rows are Business or Economy Class for each flight. \n",
    "\n",
    " - Answer the following questions: \n",
    "   1. What time of day were the most purchases made? We want to take a look at the average for the flights within each time period. \n",
    "   2. What seat position had the highest purchase amount? Is the aisle seat the highest earner because it's closest to the trolley?\n",
    "   3. As Business Class purchases are free, how much is this costing us? "
   ]
  },
  {
   "cell_type": "markdown",
   "id": "8c8eb9b2",
   "metadata": {},
   "source": [
    "### Input the data"
   ]
  },
  {
   "cell_type": "code",
   "execution_count": 1,
   "id": "ab924bef",
   "metadata": {},
   "outputs": [],
   "source": [
    "import pandas as pd\n",
    "import numpy as np"
   ]
  },
  {
   "cell_type": "code",
   "execution_count": 2,
   "id": "58433f2b",
   "metadata": {},
   "outputs": [],
   "source": [
    "with pd.ExcelFile('WK14-Input.xlsx') as xlsx:\n",
    "    Passenger = pd.read_excel(xlsx, 'Passenger List')\n",
    "    Seat = pd.read_excel(xlsx, 'SeatList')\n",
    "    Flight = pd.read_excel(xlsx, 'FlightDetails')\n",
    "    Plane = pd.read_excel(xlsx, 'PlaneDetails')"
   ]
  },
  {
   "cell_type": "code",
   "execution_count": null,
   "id": "6f708b4b",
   "metadata": {},
   "outputs": [],
   "source": [
    "#Passenger.head()\n",
    "#Seat.head()\n",
    "#Flight.head()\n",
    "#Plane.head()"
   ]
  },
  {
   "cell_type": "code",
   "execution_count": 3,
   "id": "53381f16",
   "metadata": {},
   "outputs": [
    {
     "data": {
      "text/plain": [
       "Index(['first_name', 'last_name', 'passenger_number', 'flight_number',\n",
       "       'purchase_amount', 'Unnamed: 5', 'Unnamed: 6', 'Unnamed: 7',\n",
       "       'Unnamed: 8', 'Unnamed: 9', 'Unnamed: 10', 'Unnamed: 11', 'Unnamed: 12',\n",
       "       'Unnamed: 13', 'Unnamed: 14', 'Unnamed: 15'],\n",
       "      dtype='object')"
      ]
     },
     "execution_count": 3,
     "metadata": {},
     "output_type": "execute_result"
    }
   ],
   "source": [
    "Passenger.columns"
   ]
  },
  {
   "cell_type": "code",
   "execution_count": 4,
   "id": "7f30af46",
   "metadata": {},
   "outputs": [],
   "source": [
    "Passenger = Passenger[['first_name', 'last_name', 'passenger_number', 'flight_number',\n",
    "       'purchase_amount']]"
   ]
  },
  {
   "cell_type": "markdown",
   "id": "8580585a",
   "metadata": {},
   "source": [
    "### Assign a label for where each seat is located"
   ]
  },
  {
   "cell_type": "code",
   "execution_count": 5,
   "id": "97facae8",
   "metadata": {},
   "outputs": [],
   "source": [
    "Seat = pd.melt(Seat, id_vars='Row', value_vars=Seat.columns[1:], var_name = 'Seat Position', value_name = 'passenger_number')"
   ]
  },
  {
   "cell_type": "code",
   "execution_count": 6,
   "id": "6010d1bf",
   "metadata": {},
   "outputs": [],
   "source": [
    "label = {'A':'Window', 'F':'Window', 'B':'Middle', 'E':'Middle', 'C':'Aisle', 'D':'Aisle'}\n",
    "Seat['Seat Position'] = Seat['Seat Position'].map(label)"
   ]
  },
  {
   "cell_type": "markdown",
   "id": "2b346354",
   "metadata": {},
   "source": [
    "### Combine the Seat List and Passenger List tables. "
   ]
  },
  {
   "cell_type": "code",
   "execution_count": 7,
   "id": "5b735d3d",
   "metadata": {},
   "outputs": [],
   "source": [
    "passenger_seat = pd.merge(Passenger, Seat, how='left', on=['passenger_number'])"
   ]
  },
  {
   "cell_type": "markdown",
   "id": "5158e6fc",
   "metadata": {},
   "source": [
    "### Parse the Flight Details so that they are in separate fields "
   ]
  },
  {
   "cell_type": "code",
   "execution_count": 8,
   "id": "d8604721",
   "metadata": {},
   "outputs": [
    {
     "name": "stderr",
     "output_type": "stream",
     "text": [
      "C:\\ProgramData\\Anaconda3\\envs\\Tetteyanalysis\\lib\\site-packages\\ipykernel_launcher.py:1: FutureWarning: The default value of regex will change from True to False in a future version.\n",
      "  \"\"\"Entry point for launching an IPython kernel.\n"
     ]
    }
   ],
   "source": [
    "flight = Flight.iloc[:, 0].str.replace('[\\[\\]]', '').str.split('|', expand=True)\n",
    "flight.columns = Flight.columns[0].replace('[', '').replace(']', '').split('|')\n",
    "flight['FlightID'] = flight['FlightID'].astype(int)"
   ]
  },
  {
   "cell_type": "markdown",
   "id": "18f27ccb",
   "metadata": {},
   "source": [
    "### Calculate the time of day for each flight. "
   ]
  },
  {
   "cell_type": "code",
   "execution_count": 9,
   "id": "713de757",
   "metadata": {},
   "outputs": [],
   "source": [
    "flight['Time of Day'] = np.where(flight['DepTime'] < '12:00:00', 'Morning',\n",
    "                                  np.where(flight['DepTime'] <= '18:00:00', 'Afternoon', 'Evening'))"
   ]
  },
  {
   "cell_type": "markdown",
   "id": "a40b6fc4",
   "metadata": {},
   "source": [
    "### Join the Flight Details & Plane Details to the Passenger & Seat tables. We should be able to identify what rows are Business or Economy Class for each flight."
   ]
  },
  {
   "cell_type": "code",
   "execution_count": 10,
   "id": "21915325",
   "metadata": {},
   "outputs": [],
   "source": [
    "flight_plane = pd.merge(flight, Plane, left_on = 'FlightID', right_on='FlightNo.', how='left')"
   ]
  },
  {
   "cell_type": "code",
   "execution_count": 11,
   "id": "fe187b7a",
   "metadata": {},
   "outputs": [],
   "source": [
    "Combined = pd.merge(passenger_seat, flight_plane, left_on = 'flight_number', right_on = 'FlightNo.', how = 'left')"
   ]
  },
  {
   "cell_type": "code",
   "execution_count": 12,
   "id": "6912f62c",
   "metadata": {},
   "outputs": [
    {
     "data": {
      "text/html": [
       "<div>\n",
       "<style scoped>\n",
       "    .dataframe tbody tr th:only-of-type {\n",
       "        vertical-align: middle;\n",
       "    }\n",
       "\n",
       "    .dataframe tbody tr th {\n",
       "        vertical-align: top;\n",
       "    }\n",
       "\n",
       "    .dataframe thead th {\n",
       "        text-align: right;\n",
       "    }\n",
       "</style>\n",
       "<table border=\"1\" class=\"dataframe\">\n",
       "  <thead>\n",
       "    <tr style=\"text-align: right;\">\n",
       "      <th></th>\n",
       "      <th>first_name</th>\n",
       "      <th>last_name</th>\n",
       "      <th>passenger_number</th>\n",
       "      <th>flight_number</th>\n",
       "      <th>purchase_amount</th>\n",
       "      <th>Row</th>\n",
       "      <th>Seat Position</th>\n",
       "      <th>FlightID</th>\n",
       "      <th>DepAir</th>\n",
       "      <th>ArrAir</th>\n",
       "      <th>DepDate</th>\n",
       "      <th>DepTime</th>\n",
       "      <th>Time of Day</th>\n",
       "      <th>FlightNo.</th>\n",
       "      <th>Business Class</th>\n",
       "    </tr>\n",
       "  </thead>\n",
       "  <tbody>\n",
       "    <tr>\n",
       "      <th>0</th>\n",
       "      <td>Jerrylee</td>\n",
       "      <td>Rein</td>\n",
       "      <td>1</td>\n",
       "      <td>1</td>\n",
       "      <td>48.29</td>\n",
       "      <td>1</td>\n",
       "      <td>Window</td>\n",
       "      <td>1</td>\n",
       "      <td>LHR</td>\n",
       "      <td>SEA</td>\n",
       "      <td>2020-10-08</td>\n",
       "      <td>14:53:00</td>\n",
       "      <td>Afternoon</td>\n",
       "      <td>1</td>\n",
       "      <td>1-5</td>\n",
       "    </tr>\n",
       "    <tr>\n",
       "      <th>1</th>\n",
       "      <td>Forester</td>\n",
       "      <td>Iashvili</td>\n",
       "      <td>2</td>\n",
       "      <td>1</td>\n",
       "      <td>0.00</td>\n",
       "      <td>1</td>\n",
       "      <td>Middle</td>\n",
       "      <td>1</td>\n",
       "      <td>LHR</td>\n",
       "      <td>SEA</td>\n",
       "      <td>2020-10-08</td>\n",
       "      <td>14:53:00</td>\n",
       "      <td>Afternoon</td>\n",
       "      <td>1</td>\n",
       "      <td>1-5</td>\n",
       "    </tr>\n",
       "    <tr>\n",
       "      <th>2</th>\n",
       "      <td>Shaun</td>\n",
       "      <td>Sherwill</td>\n",
       "      <td>3</td>\n",
       "      <td>1</td>\n",
       "      <td>0.00</td>\n",
       "      <td>1</td>\n",
       "      <td>Aisle</td>\n",
       "      <td>1</td>\n",
       "      <td>LHR</td>\n",
       "      <td>SEA</td>\n",
       "      <td>2020-10-08</td>\n",
       "      <td>14:53:00</td>\n",
       "      <td>Afternoon</td>\n",
       "      <td>1</td>\n",
       "      <td>1-5</td>\n",
       "    </tr>\n",
       "    <tr>\n",
       "      <th>3</th>\n",
       "      <td>Werner</td>\n",
       "      <td>Basile</td>\n",
       "      <td>4</td>\n",
       "      <td>1</td>\n",
       "      <td>58.21</td>\n",
       "      <td>1</td>\n",
       "      <td>Aisle</td>\n",
       "      <td>1</td>\n",
       "      <td>LHR</td>\n",
       "      <td>SEA</td>\n",
       "      <td>2020-10-08</td>\n",
       "      <td>14:53:00</td>\n",
       "      <td>Afternoon</td>\n",
       "      <td>1</td>\n",
       "      <td>1-5</td>\n",
       "    </tr>\n",
       "    <tr>\n",
       "      <th>4</th>\n",
       "      <td>Kerwinn</td>\n",
       "      <td>Skillen</td>\n",
       "      <td>5</td>\n",
       "      <td>1</td>\n",
       "      <td>41.96</td>\n",
       "      <td>1</td>\n",
       "      <td>Middle</td>\n",
       "      <td>1</td>\n",
       "      <td>LHR</td>\n",
       "      <td>SEA</td>\n",
       "      <td>2020-10-08</td>\n",
       "      <td>14:53:00</td>\n",
       "      <td>Afternoon</td>\n",
       "      <td>1</td>\n",
       "      <td>1-5</td>\n",
       "    </tr>\n",
       "  </tbody>\n",
       "</table>\n",
       "</div>"
      ],
      "text/plain": [
       "  first_name last_name  passenger_number  flight_number  purchase_amount  Row  \\\n",
       "0   Jerrylee      Rein                 1              1            48.29    1   \n",
       "1   Forester  Iashvili                 2              1             0.00    1   \n",
       "2      Shaun  Sherwill                 3              1             0.00    1   \n",
       "3     Werner    Basile                 4              1            58.21    1   \n",
       "4    Kerwinn   Skillen                 5              1            41.96    1   \n",
       "\n",
       "  Seat Position  FlightID DepAir ArrAir     DepDate   DepTime Time of Day  \\\n",
       "0        Window         1    LHR    SEA  2020-10-08  14:53:00   Afternoon   \n",
       "1        Middle         1    LHR    SEA  2020-10-08  14:53:00   Afternoon   \n",
       "2         Aisle         1    LHR    SEA  2020-10-08  14:53:00   Afternoon   \n",
       "3         Aisle         1    LHR    SEA  2020-10-08  14:53:00   Afternoon   \n",
       "4        Middle         1    LHR    SEA  2020-10-08  14:53:00   Afternoon   \n",
       "\n",
       "   FlightNo. Business Class  \n",
       "0          1            1-5  \n",
       "1          1            1-5  \n",
       "2          1            1-5  \n",
       "3          1            1-5  \n",
       "4          1            1-5  "
      ]
     },
     "execution_count": 12,
     "metadata": {},
     "output_type": "execute_result"
    }
   ],
   "source": [
    "Combined.head()"
   ]
  },
  {
   "cell_type": "code",
   "execution_count": 13,
   "id": "12069e14",
   "metadata": {},
   "outputs": [],
   "source": [
    "#Parse the row types\n",
    "Combined[['min', 'max']] = Combined['Business Class'].str.split('-', expand=True).astype(int)\n",
    "Combined.drop(columns=['Business Class'], inplace=True)"
   ]
  },
  {
   "cell_type": "code",
   "execution_count": 14,
   "id": "ca94b8a2",
   "metadata": {},
   "outputs": [],
   "source": [
    "# identify the row type (Business Class or Economy)\n",
    "Combined['Business Class'] = np.where((Combined['Row'] >= Combined['min'])\n",
    "                                   & (Combined['Row'] <= Combined['max']),\n",
    "                                   'Business Class', 'Economy')"
   ]
  },
  {
   "cell_type": "code",
   "execution_count": 15,
   "id": "635de201",
   "metadata": {},
   "outputs": [
    {
     "data": {
      "text/plain": [
       "first_name          0\n",
       "last_name           0\n",
       "passenger_number    0\n",
       "flight_number       0\n",
       "purchase_amount     0\n",
       "Row                 0\n",
       "Seat Position       0\n",
       "FlightID            0\n",
       "DepAir              0\n",
       "ArrAir              0\n",
       "DepDate             0\n",
       "DepTime             0\n",
       "Time of Day         0\n",
       "FlightNo.           0\n",
       "min                 0\n",
       "max                 0\n",
       "Business Class      0\n",
       "dtype: int64"
      ]
     },
     "execution_count": 15,
     "metadata": {},
     "output_type": "execute_result"
    }
   ],
   "source": [
    "#check for missing values\n",
    "Combined.isna().sum()"
   ]
  },
  {
   "cell_type": "markdown",
   "id": "eb18e310",
   "metadata": {},
   "source": [
    "###  Answer the following questions: \n",
    "   1. What time of day were the most purchases made? We want to take a look at the average for the flights within each time period. \n",
    "   2. What seat position had the highest purchase amount? Is the aisle seat the highest earner because it's closest to the trolley?\n",
    "   3. As Business Class purchases are free, how much is this costing us? "
   ]
  },
  {
   "cell_type": "code",
   "execution_count": 16,
   "id": "dafa0903",
   "metadata": {},
   "outputs": [],
   "source": [
    "#question 1\n",
    "q1 = Combined[Combined['Business Class'] != 'Business Class']\\\n",
    "              .groupby(['flight_number', 'Time of Day'])['purchase_amount'].sum()\\\n",
    "              .groupby('Time of Day').mean().reset_index()\\\n",
    "              .sort_values(by='purchase_amount', ascending=False)\n",
    "q1.rename(columns={'purchase_amount' : 'Avg per Flight'}, inplace=True)\n",
    "q1['Avg per Flight'] = q1['Avg per Flight'].round(2)\n",
    "q1['Rank'] = q1['Avg per Flight'].rank(ascending=False).astype(int)"
   ]
  },
  {
   "cell_type": "code",
   "execution_count": 17,
   "id": "c16137c4",
   "metadata": {},
   "outputs": [],
   "source": [
    "#question 2\n",
    "q2 = Combined[Combined['Business Class'] != 'Business Class']\\\n",
    "         .groupby('Seat Position')['purchase_amount'].sum().reset_index()\\\n",
    "         .sort_values(by='purchase_amount', ascending=False)\n",
    "q2.rename(columns={'purchase_amount' : 'Purchase Amount'}, inplace=True)\n",
    "q2['Rank'] = q2['Purchase Amount'].rank(ascending=False).astype(int)"
   ]
  },
  {
   "cell_type": "code",
   "execution_count": 18,
   "id": "16c73875",
   "metadata": {},
   "outputs": [],
   "source": [
    "#question 3\n",
    "q3 = Combined.groupby('Business Class')['purchase_amount'].sum().reset_index()\\\n",
    "             .sort_values(by='purchase_amount', ascending=False)\n",
    "q3.rename(columns={'purchase_amount' : 'Purchase Amount'}, inplace=True)\n",
    "q3['Rank'] = q3['Purchase Amount'].rank(ascending=False).astype(int)"
   ]
  },
  {
   "cell_type": "markdown",
   "id": "d84fb70f",
   "metadata": {},
   "source": [
    "### Write the files to Excel"
   ]
  },
  {
   "cell_type": "code",
   "execution_count": 19,
   "id": "042fddab",
   "metadata": {},
   "outputs": [],
   "source": [
    "with pd.ExcelWriter('WK14-output.xlsx') as w:\n",
    "    q1[['Rank', 'Time of Day', 'Avg per Flight']]\\\n",
    "        .to_excel(w, sheet_name='Time of Day', index=False)\n",
    "    q2[['Rank', 'Seat Position', 'Purchase Amount']]\\\n",
    "        .to_excel(w, sheet_name='Seat Position', index=False)\n",
    "    q3[['Rank', 'Business Class', 'Purchase Amount']]\\\n",
    "        .to_excel(w, sheet_name='Business or Economy', index=False)"
   ]
  }
 ],
 "metadata": {
  "kernelspec": {
   "display_name": "Python 3 (ipykernel)",
   "language": "python",
   "name": "python3"
  },
  "language_info": {
   "codemirror_mode": {
    "name": "ipython",
    "version": 3
   },
   "file_extension": ".py",
   "mimetype": "text/x-python",
   "name": "python",
   "nbconvert_exporter": "python",
   "pygments_lexer": "ipython3",
   "version": "3.7.11"
  }
 },
 "nbformat": 4,
 "nbformat_minor": 5
}
