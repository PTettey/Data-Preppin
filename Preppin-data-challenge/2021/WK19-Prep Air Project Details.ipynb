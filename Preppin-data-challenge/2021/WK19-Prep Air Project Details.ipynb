{
 "cells": [
  {
   "cell_type": "markdown",
   "id": "dc7a3ef9",
   "metadata": {},
   "source": [
    "### Prepping Data Challenge: Prep Air Project Details (week 19)\n",
    "\n",
    "#### The Challenge \n",
    "This week's challenge is all about String Calculations. \n",
    "\n",
    "This week we are trying to find out more detail on what is going on with the project over runs in Prep Air (every data prepper's favourite airline). To get more detail than just what was shared last week we've uncovered the commentary log that sits behind our project management system. Like any system that holds the detail shown on the programme's interface in a log file, it has great detail but held in an unfriendly way. \n",
    "\n",
    "We need your help to get stuck into the messy data and extract out the useful details \n",
    "\n",
    "#### Requirements\n",
    " - Input the data\n",
    " \n",
    "There are lots of different ways you can do this challenge so rather than a step-by-step set of requirements, feel free to create each of these data fields in whatever order you like:\n",
    " - 'Week' with the word week and week number together 'Week x' \n",
    " - 'Project' with the full project name\n",
    " - 'Sub-Project' with the full sub-project name\n",
    " - 'Task' with the full type of task\n",
    " - 'Name' with the owner of the task's full name (Week 18's output can help you check these if needed) \n",
    " - 'Days Noted' some fields have comments that say how many days tasks might take. This field should note the number of days mentioned if said in the comment otherwise leave as a null. \n",
    " - 'Detail' the description from the system output with the project details in the [ ] \n",
    "\n",
    "- Output the file"
   ]
  },
  {
   "cell_type": "code",
   "execution_count": 1,
   "id": "ab924bef",
   "metadata": {},
   "outputs": [],
   "source": [
    "import pandas as pd"
   ]
  },
  {
   "cell_type": "code",
   "execution_count": 2,
   "id": "58433f2b",
   "metadata": {},
   "outputs": [],
   "source": [
    "#Input the data\n",
    "\n",
    "with pd.ExcelFile('WK19-Input.xlsx') as xlsx:\n",
    "    P_updates = pd.read_excel(xlsx, 'Project Schedule Updates')\n",
    "    P_lookup = pd.read_excel(xlsx, 'Project Lookup Table')\n",
    "    Sub_project = pd.read_excel(xlsx, 'Sub-Project Lookup Table')\n",
    "    Task = pd.read_excel(xlsx, 'Task Lookup Table')\n",
    "    Owner = pd.read_excel(xlsx, 'Owner Lookup Table')"
   ]
  },
  {
   "cell_type": "code",
   "execution_count": 3,
   "id": "8d4a3f33",
   "metadata": {},
   "outputs": [
    {
     "data": {
      "text/html": [
       "<div>\n",
       "<style scoped>\n",
       "    .dataframe tbody tr th:only-of-type {\n",
       "        vertical-align: middle;\n",
       "    }\n",
       "\n",
       "    .dataframe tbody tr th {\n",
       "        vertical-align: top;\n",
       "    }\n",
       "\n",
       "    .dataframe thead th {\n",
       "        text-align: right;\n",
       "    }\n",
       "</style>\n",
       "<table border=\"1\" class=\"dataframe\">\n",
       "  <thead>\n",
       "    <tr style=\"text-align: right;\">\n",
       "      <th></th>\n",
       "      <th>Week</th>\n",
       "      <th>Commentary</th>\n",
       "    </tr>\n",
       "  </thead>\n",
       "  <tbody>\n",
       "    <tr>\n",
       "      <th>0</th>\n",
       "      <td>16</td>\n",
       "      <td>[NLS/Op-Sc] Delivered scope for the project. R...</td>\n",
       "    </tr>\n",
       "    <tr>\n",
       "      <th>1</th>\n",
       "      <td>17</td>\n",
       "      <td>[NLS/Op-Bu] Build kickoff but long project. je...</td>\n",
       "    </tr>\n",
       "    <tr>\n",
       "      <th>2</th>\n",
       "      <td>18</td>\n",
       "      <td>[NLS/Op-De] Long delivery process has begun at...</td>\n",
       "    </tr>\n",
       "    <tr>\n",
       "      <th>3</th>\n",
       "      <td>19</td>\n",
       "      <td>[NTI/Mar-Bu] Project build commences. Will be ...</td>\n",
       "    </tr>\n",
       "    <tr>\n",
       "      <th>4</th>\n",
       "      <td>20</td>\n",
       "      <td>[NTI/Mar-De] Delivery next week around 8 days....</td>\n",
       "    </tr>\n",
       "  </tbody>\n",
       "</table>\n",
       "</div>"
      ],
      "text/plain": [
       "   Week                                         Commentary\n",
       "0    16  [NLS/Op-Sc] Delivered scope for the project. R...\n",
       "1    17  [NLS/Op-Bu] Build kickoff but long project. je...\n",
       "2    18  [NLS/Op-De] Long delivery process has begun at...\n",
       "3    19  [NTI/Mar-Bu] Project build commences. Will be ...\n",
       "4    20  [NTI/Mar-De] Delivery next week around 8 days...."
      ]
     },
     "execution_count": 3,
     "metadata": {},
     "output_type": "execute_result"
    }
   ],
   "source": [
    "P_updates.head()"
   ]
  },
  {
   "cell_type": "code",
   "execution_count": 4,
   "id": "8cf9b769",
   "metadata": {},
   "outputs": [
    {
     "data": {
      "text/html": [
       "<div>\n",
       "<style scoped>\n",
       "    .dataframe tbody tr th:only-of-type {\n",
       "        vertical-align: middle;\n",
       "    }\n",
       "\n",
       "    .dataframe tbody tr th {\n",
       "        vertical-align: top;\n",
       "    }\n",
       "\n",
       "    .dataframe thead th {\n",
       "        text-align: right;\n",
       "    }\n",
       "</style>\n",
       "<table border=\"1\" class=\"dataframe\">\n",
       "  <thead>\n",
       "    <tr style=\"text-align: right;\">\n",
       "      <th></th>\n",
       "      <th>Project Code</th>\n",
       "      <th>Project</th>\n",
       "    </tr>\n",
       "  </thead>\n",
       "  <tbody>\n",
       "    <tr>\n",
       "      <th>0</th>\n",
       "      <td>NLS</td>\n",
       "      <td>New Loyalty Scheme</td>\n",
       "    </tr>\n",
       "    <tr>\n",
       "      <th>1</th>\n",
       "      <td>NTI</td>\n",
       "      <td>New Trolley Inventory</td>\n",
       "    </tr>\n",
       "    <tr>\n",
       "      <th>2</th>\n",
       "      <td>SPS</td>\n",
       "      <td>Spring Sale</td>\n",
       "    </tr>\n",
       "  </tbody>\n",
       "</table>\n",
       "</div>"
      ],
      "text/plain": [
       "  Project Code                Project\n",
       "0          NLS     New Loyalty Scheme\n",
       "1          NTI  New Trolley Inventory\n",
       "2          SPS            Spring Sale"
      ]
     },
     "execution_count": 4,
     "metadata": {},
     "output_type": "execute_result"
    }
   ],
   "source": [
    "P_lookup.head()"
   ]
  },
  {
   "cell_type": "code",
   "execution_count": 5,
   "id": "a78d6c2c",
   "metadata": {},
   "outputs": [
    {
     "data": {
      "text/html": [
       "<div>\n",
       "<style scoped>\n",
       "    .dataframe tbody tr th:only-of-type {\n",
       "        vertical-align: middle;\n",
       "    }\n",
       "\n",
       "    .dataframe tbody tr th {\n",
       "        vertical-align: top;\n",
       "    }\n",
       "\n",
       "    .dataframe thead th {\n",
       "        text-align: right;\n",
       "    }\n",
       "</style>\n",
       "<table border=\"1\" class=\"dataframe\">\n",
       "  <thead>\n",
       "    <tr style=\"text-align: right;\">\n",
       "      <th></th>\n",
       "      <th>Sub-Project Code</th>\n",
       "      <th>Sub-Project</th>\n",
       "    </tr>\n",
       "  </thead>\n",
       "  <tbody>\n",
       "    <tr>\n",
       "      <th>0</th>\n",
       "      <td>mar</td>\n",
       "      <td>Marketing</td>\n",
       "    </tr>\n",
       "    <tr>\n",
       "      <th>1</th>\n",
       "      <td>op</td>\n",
       "      <td>Operations</td>\n",
       "    </tr>\n",
       "  </tbody>\n",
       "</table>\n",
       "</div>"
      ],
      "text/plain": [
       "  Sub-Project Code Sub-Project\n",
       "0              mar   Marketing\n",
       "1               op  Operations"
      ]
     },
     "execution_count": 5,
     "metadata": {},
     "output_type": "execute_result"
    }
   ],
   "source": [
    "Sub_project.head()"
   ]
  },
  {
   "cell_type": "code",
   "execution_count": 6,
   "id": "ab0d7572",
   "metadata": {},
   "outputs": [
    {
     "data": {
      "text/html": [
       "<div>\n",
       "<style scoped>\n",
       "    .dataframe tbody tr th:only-of-type {\n",
       "        vertical-align: middle;\n",
       "    }\n",
       "\n",
       "    .dataframe tbody tr th {\n",
       "        vertical-align: top;\n",
       "    }\n",
       "\n",
       "    .dataframe thead th {\n",
       "        text-align: right;\n",
       "    }\n",
       "</style>\n",
       "<table border=\"1\" class=\"dataframe\">\n",
       "  <thead>\n",
       "    <tr style=\"text-align: right;\">\n",
       "      <th></th>\n",
       "      <th>Task Code</th>\n",
       "      <th>Task</th>\n",
       "    </tr>\n",
       "  </thead>\n",
       "  <tbody>\n",
       "    <tr>\n",
       "      <th>0</th>\n",
       "      <td>Sc</td>\n",
       "      <td>Scope</td>\n",
       "    </tr>\n",
       "    <tr>\n",
       "      <th>1</th>\n",
       "      <td>Bu</td>\n",
       "      <td>Build</td>\n",
       "    </tr>\n",
       "    <tr>\n",
       "      <th>2</th>\n",
       "      <td>De</td>\n",
       "      <td>Deliver</td>\n",
       "    </tr>\n",
       "  </tbody>\n",
       "</table>\n",
       "</div>"
      ],
      "text/plain": [
       "  Task Code     Task\n",
       "0        Sc    Scope\n",
       "1        Bu    Build\n",
       "2        De  Deliver"
      ]
     },
     "execution_count": 6,
     "metadata": {},
     "output_type": "execute_result"
    }
   ],
   "source": [
    "Task.head()"
   ]
  },
  {
   "cell_type": "code",
   "execution_count": 7,
   "id": "fee0af0c",
   "metadata": {},
   "outputs": [
    {
     "data": {
      "text/html": [
       "<div>\n",
       "<style scoped>\n",
       "    .dataframe tbody tr th:only-of-type {\n",
       "        vertical-align: middle;\n",
       "    }\n",
       "\n",
       "    .dataframe tbody tr th {\n",
       "        vertical-align: top;\n",
       "    }\n",
       "\n",
       "    .dataframe thead th {\n",
       "        text-align: right;\n",
       "    }\n",
       "</style>\n",
       "<table border=\"1\" class=\"dataframe\">\n",
       "  <thead>\n",
       "    <tr style=\"text-align: right;\">\n",
       "      <th></th>\n",
       "      <th>Abbreviation</th>\n",
       "      <th>Name</th>\n",
       "    </tr>\n",
       "  </thead>\n",
       "  <tbody>\n",
       "    <tr>\n",
       "      <th>0</th>\n",
       "      <td>Tom</td>\n",
       "      <td>Tom</td>\n",
       "    </tr>\n",
       "    <tr>\n",
       "      <th>1</th>\n",
       "      <td>Jen</td>\n",
       "      <td>Jenny</td>\n",
       "    </tr>\n",
       "    <tr>\n",
       "      <th>2</th>\n",
       "      <td>Jon</td>\n",
       "      <td>Jonathan</td>\n",
       "    </tr>\n",
       "    <tr>\n",
       "      <th>3</th>\n",
       "      <td>Car</td>\n",
       "      <td>Carl</td>\n",
       "    </tr>\n",
       "  </tbody>\n",
       "</table>\n",
       "</div>"
      ],
      "text/plain": [
       "  Abbreviation      Name\n",
       "0          Tom       Tom\n",
       "1          Jen     Jenny\n",
       "2          Jon  Jonathan\n",
       "3          Car      Carl"
      ]
     },
     "execution_count": 7,
     "metadata": {},
     "output_type": "execute_result"
    }
   ],
   "source": [
    "Owner.head()"
   ]
  },
  {
   "cell_type": "code",
   "execution_count": 8,
   "id": "f5633d58",
   "metadata": {},
   "outputs": [],
   "source": [
    "#'Week' with the word week and week number together 'Week x' \n",
    "P_updates.index = 'Week ' + P_updates['Week'].astype(str)"
   ]
  },
  {
   "cell_type": "code",
   "execution_count": 9,
   "id": "4f735f6c",
   "metadata": {},
   "outputs": [],
   "source": [
    "#'Project' with the full project name\n",
    "P_updates = P_updates['Commentary'].str.split('\\s+(?=\\[)').explode().str.strip().reset_index()"
   ]
  },
  {
   "cell_type": "code",
   "execution_count": 10,
   "id": "f8d975f6",
   "metadata": {},
   "outputs": [],
   "source": [
    "# parse the commentary\n",
    "P_updates[['Project Code', 'Sub-Project Code', 'Task Code', 'Detail']] = \\\n",
    "                       P_updates['Commentary'].str.extract('\\[(.*?)\\/(.*?)\\-(.*?)\\]\\s+(.*)\\s?')"
   ]
  },
  {
   "cell_type": "code",
   "execution_count": 11,
   "id": "5a1ddfd0",
   "metadata": {},
   "outputs": [],
   "source": [
    "# parse the owner name\n",
    "P_updates['Abbreviation'] = P_updates['Detail'].str.extract('.*\\s+(.*)\\.\\s*')"
   ]
  },
  {
   "cell_type": "code",
   "execution_count": 12,
   "id": "43cfb78c",
   "metadata": {},
   "outputs": [],
   "source": [
    "#Days Noted' some fields have comments that say how many days tasks might take.\n",
    "P_updates['Days Noted'] = P_updates['Detail'].str.extract('.*?(\\d+)\\sdays.*')"
   ]
  },
  {
   "cell_type": "code",
   "execution_count": 13,
   "id": "68c385be",
   "metadata": {},
   "outputs": [],
   "source": [
    "P_updates['Days Noted'].fillna(\"\", inplace=True)"
   ]
  },
  {
   "cell_type": "code",
   "execution_count": 14,
   "id": "2a3e3443",
   "metadata": {},
   "outputs": [
    {
     "data": {
      "text/plain": [
       "array(['Op', 'Mar', 'Ops'], dtype=object)"
      ]
     },
     "execution_count": 14,
     "metadata": {},
     "output_type": "execute_result"
    }
   ],
   "source": [
    "P_updates['Sub-Project Code'].unique()"
   ]
  },
  {
   "cell_type": "code",
   "execution_count": 15,
   "id": "39ff81f6",
   "metadata": {},
   "outputs": [],
   "source": [
    "#adjust the case\n",
    "P_updates['Sub-Project Code'] = P_updates['Sub-Project Code'].str.lower().replace('ops', 'op')\n",
    "P_updates['Abbreviation'] = P_updates['Abbreviation'].str.title()"
   ]
  },
  {
   "cell_type": "code",
   "execution_count": 16,
   "id": "9d4eb4cc",
   "metadata": {},
   "outputs": [],
   "source": [
    "# join to the lookup tables\n",
    "P_updates = P_updates.merge(P_lookup, on='Project Code', how='left')\\\n",
    "       .merge(Sub_project, on='Sub-Project Code', how='left')\\\n",
    "       .merge(Task, on='Task Code', how='left')\\\n",
    "       .merge(Owner, on='Abbreviation', how='left')"
   ]
  },
  {
   "cell_type": "code",
   "execution_count": 17,
   "id": "f95bee49",
   "metadata": {},
   "outputs": [],
   "source": [
    "output = P_updates[['Week','Project','Sub-Project','Task','Name','Days Noted','Detail']]"
   ]
  },
  {
   "cell_type": "code",
   "execution_count": 18,
   "id": "ab753e30",
   "metadata": {},
   "outputs": [
    {
     "data": {
      "text/html": [
       "<div>\n",
       "<style scoped>\n",
       "    .dataframe tbody tr th:only-of-type {\n",
       "        vertical-align: middle;\n",
       "    }\n",
       "\n",
       "    .dataframe tbody tr th {\n",
       "        vertical-align: top;\n",
       "    }\n",
       "\n",
       "    .dataframe thead th {\n",
       "        text-align: right;\n",
       "    }\n",
       "</style>\n",
       "<table border=\"1\" class=\"dataframe\">\n",
       "  <thead>\n",
       "    <tr style=\"text-align: right;\">\n",
       "      <th></th>\n",
       "      <th>Week</th>\n",
       "      <th>Project</th>\n",
       "      <th>Sub-Project</th>\n",
       "      <th>Task</th>\n",
       "      <th>Name</th>\n",
       "      <th>Days Noted</th>\n",
       "      <th>Detail</th>\n",
       "    </tr>\n",
       "  </thead>\n",
       "  <tbody>\n",
       "    <tr>\n",
       "      <th>0</th>\n",
       "      <td>Week 16</td>\n",
       "      <td>New Loyalty Scheme</td>\n",
       "      <td>Operations</td>\n",
       "      <td>Scope</td>\n",
       "      <td>Jenny</td>\n",
       "      <td></td>\n",
       "      <td>Delivered scope for the project. Resourcing fi...</td>\n",
       "    </tr>\n",
       "    <tr>\n",
       "      <th>1</th>\n",
       "      <td>Week 17</td>\n",
       "      <td>New Loyalty Scheme</td>\n",
       "      <td>Operations</td>\n",
       "      <td>Build</td>\n",
       "      <td>Jenny</td>\n",
       "      <td></td>\n",
       "      <td>Build kickoff but long project. jen.</td>\n",
       "    </tr>\n",
       "    <tr>\n",
       "      <th>2</th>\n",
       "      <td>Week 17</td>\n",
       "      <td>New Loyalty Scheme</td>\n",
       "      <td>Marketing</td>\n",
       "      <td>Scope</td>\n",
       "      <td>Tom</td>\n",
       "      <td></td>\n",
       "      <td>Scope completed. tom.</td>\n",
       "    </tr>\n",
       "    <tr>\n",
       "      <th>3</th>\n",
       "      <td>Week 17</td>\n",
       "      <td>New Loyalty Scheme</td>\n",
       "      <td>Marketing</td>\n",
       "      <td>Build</td>\n",
       "      <td>Tom</td>\n",
       "      <td></td>\n",
       "      <td>Marketing Build complete. tom.</td>\n",
       "    </tr>\n",
       "    <tr>\n",
       "      <th>4</th>\n",
       "      <td>Week 17</td>\n",
       "      <td>Spring Sale</td>\n",
       "      <td>Marketing</td>\n",
       "      <td>Scope</td>\n",
       "      <td>Carl</td>\n",
       "      <td>3</td>\n",
       "      <td>Completed but late in the week due (3 days nee...</td>\n",
       "    </tr>\n",
       "  </tbody>\n",
       "</table>\n",
       "</div>"
      ],
      "text/plain": [
       "      Week             Project Sub-Project   Task   Name Days Noted  \\\n",
       "0  Week 16  New Loyalty Scheme  Operations  Scope  Jenny              \n",
       "1  Week 17  New Loyalty Scheme  Operations  Build  Jenny              \n",
       "2  Week 17  New Loyalty Scheme   Marketing  Scope    Tom              \n",
       "3  Week 17  New Loyalty Scheme   Marketing  Build    Tom              \n",
       "4  Week 17         Spring Sale   Marketing  Scope   Carl          3   \n",
       "\n",
       "                                              Detail  \n",
       "0  Delivered scope for the project. Resourcing fi...  \n",
       "1               Build kickoff but long project. jen.  \n",
       "2                              Scope completed. tom.  \n",
       "3                     Marketing Build complete. tom.  \n",
       "4  Completed but late in the week due (3 days nee...  "
      ]
     },
     "execution_count": 18,
     "metadata": {},
     "output_type": "execute_result"
    }
   ],
   "source": [
    "output.head()"
   ]
  },
  {
   "cell_type": "code",
   "execution_count": 19,
   "id": "2563a295",
   "metadata": {},
   "outputs": [],
   "source": [
    "output.to_csv('WK19-output.csv', index=False) "
   ]
  }
 ],
 "metadata": {
  "kernelspec": {
   "display_name": "Tetteyanalysis",
   "language": "python",
   "name": "tetteyanalysis"
  },
  "language_info": {
   "codemirror_mode": {
    "name": "ipython",
    "version": 3
   },
   "file_extension": ".py",
   "mimetype": "text/x-python",
   "name": "python",
   "nbconvert_exporter": "python",
   "pygments_lexer": "ipython3",
   "version": "3.7.11"
  }
 },
 "nbformat": 4,
 "nbformat_minor": 5
}
