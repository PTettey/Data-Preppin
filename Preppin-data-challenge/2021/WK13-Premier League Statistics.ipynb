{
 "cells": [
  {
   "cell_type": "markdown",
   "id": "dc7a3ef9",
   "metadata": {},
   "source": [
    "### Prepping Data Challenge: Premier League Statistics (week 13)\n",
    " \n",
    "\n",
    "#### Requirement:\n",
    " \n",
    "Open play goal scoring prowess in the Premier League 2015-2020\n",
    " 1. Input all the files\n",
    " 2. Remove all goalkeepers from the data set\n",
    " 3. Remove all records where appearances = 0\t\n",
    " 4. In this challenge we are interested in the goals scored from open play\n",
    "    - Create a new “Open Play Goals” field (the goals scored from open play is the number of goals scored that weren’t penalties or freekicks)\n",
    "    - Note some players will have scored free kicks or penalties with their left or right foot\n",
    "    - Be careful how Prep handles null fields! (have a look at those penalty and free kick fields) \n",
    "    - Rename the original Goals scored field to Total Goals Scored\n",
    " 5. Calculate the totals for each of the key metrics across the whole time period for each player, (be careful not to lose their position)\n",
    " 6. Create an open play goals per appearance field across the whole time period\n",
    " 7. Rank the players for the amount of open play goals scored across the whole time period, we are only interested in the top 20 (including those that are tied for position) – Output 1\n",
    " 8. Rank the players for the amount of open play goals scored across the whole time period by position, we are only interested in the top 20 (including those that are tied for position) – Output 2\n",
    " 9. Output the data – in your solution on twitter / the forums, state the name of the player who was the only non-forward to make it into the overall top 20 for open play goals scored"
   ]
  },
  {
   "cell_type": "markdown",
   "id": "8c8eb9b2",
   "metadata": {},
   "source": [
    "###  1. Input all the files"
   ]
  },
  {
   "cell_type": "code",
   "execution_count": 1,
   "id": "ab924bef",
   "metadata": {},
   "outputs": [],
   "source": [
    "#import libraries\n",
    "import pandas as pd"
   ]
  },
  {
   "cell_type": "code",
   "execution_count": 2,
   "id": "58433f2b",
   "metadata": {},
   "outputs": [],
   "source": [
    "df = pd.concat(map(pd.read_csv,['WK13-pl_15-16.csv','WK13-pl_16-17.csv','WK13-pl_17-18.csv','WK13-pl_18-19.csv','WK13-pl_19-20.csv']))"
   ]
  },
  {
   "cell_type": "code",
   "execution_count": null,
   "id": "97facae8",
   "metadata": {},
   "outputs": [],
   "source": [
    "#df.head()"
   ]
  },
  {
   "cell_type": "markdown",
   "id": "8580585a",
   "metadata": {},
   "source": [
    "### 2 & 3. Remove all goalkeepers from the data set & Remove all records where appearances = 0\t"
   ]
  },
  {
   "cell_type": "code",
   "execution_count": 4,
   "id": "ca94b8a2",
   "metadata": {},
   "outputs": [],
   "source": [
    "remove = ['Goalkeeper', 0]\n",
    "df = df[(~df['Position'].isin(remove)) & (~df['Appearances'].isin(remove))]"
   ]
  },
  {
   "cell_type": "markdown",
   "id": "2b346354",
   "metadata": {},
   "source": [
    "### 4. In this challenge we are interested in the goals scored from open play"
   ]
  },
  {
   "cell_type": "code",
   "execution_count": 5,
   "id": "d8604721",
   "metadata": {},
   "outputs": [],
   "source": [
    "# Create a new “Open Play Goals” field (the goals scored from open play is the number of goals scored \n",
    "# that weren’t penalties or freekicks)\n",
    "# Note some players will have scored free kicks or penalties with their left or right foot\n",
    "# Be careful how Prep handles null fields! (have a look at those penalty and free kick fields)\n",
    "df = df.fillna(0)\n",
    "df['Open Play Goals'] = (df['Goals'] - (df['Penalties scored']+df['Freekicks scored']))"
   ]
  },
  {
   "cell_type": "code",
   "execution_count": 6,
   "id": "5a1ddfd0",
   "metadata": {},
   "outputs": [],
   "source": [
    "# Rename the original Goals scored field to Total Goals Scored\n",
    "df.rename(columns={'Goals':'Total Goals'}, inplace=True)"
   ]
  },
  {
   "cell_type": "markdown",
   "id": "eb18e310",
   "metadata": {},
   "source": [
    "###   5. Calculate the totals for each of the key metrics across the whole time period for each player, (be careful not to lose their position)"
   ]
  },
  {
   "cell_type": "code",
   "execution_count": 7,
   "id": "e887d129",
   "metadata": {},
   "outputs": [
    {
     "data": {
      "text/html": [
       "<div>\n",
       "<style scoped>\n",
       "    .dataframe tbody tr th:only-of-type {\n",
       "        vertical-align: middle;\n",
       "    }\n",
       "\n",
       "    .dataframe tbody tr th {\n",
       "        vertical-align: top;\n",
       "    }\n",
       "\n",
       "    .dataframe thead th {\n",
       "        text-align: right;\n",
       "    }\n",
       "</style>\n",
       "<table border=\"1\" class=\"dataframe\">\n",
       "  <thead>\n",
       "    <tr style=\"text-align: right;\">\n",
       "      <th></th>\n",
       "      <th>Name</th>\n",
       "      <th>0</th>\n",
       "    </tr>\n",
       "  </thead>\n",
       "  <tbody>\n",
       "    <tr>\n",
       "      <th>428</th>\n",
       "      <td>Jamie Vardy</td>\n",
       "      <td>5</td>\n",
       "    </tr>\n",
       "    <tr>\n",
       "      <th>728</th>\n",
       "      <td>Moussa Sissoko</td>\n",
       "      <td>5</td>\n",
       "    </tr>\n",
       "    <tr>\n",
       "      <th>973</th>\n",
       "      <td>Victor Wanyama</td>\n",
       "      <td>5</td>\n",
       "    </tr>\n",
       "    <tr>\n",
       "      <th>895</th>\n",
       "      <td>Simon Francis</td>\n",
       "      <td>5</td>\n",
       "    </tr>\n",
       "    <tr>\n",
       "      <th>519</th>\n",
       "      <td>Joshua King</td>\n",
       "      <td>5</td>\n",
       "    </tr>\n",
       "    <tr>\n",
       "      <th>...</th>\n",
       "      <td>...</td>\n",
       "      <td>...</td>\n",
       "    </tr>\n",
       "    <tr>\n",
       "      <th>469</th>\n",
       "      <td>Joelinton</td>\n",
       "      <td>1</td>\n",
       "    </tr>\n",
       "    <tr>\n",
       "      <th>470</th>\n",
       "      <td>Joey Barton</td>\n",
       "      <td>1</td>\n",
       "    </tr>\n",
       "    <tr>\n",
       "      <th>471</th>\n",
       "      <td>John Egan</td>\n",
       "      <td>1</td>\n",
       "    </tr>\n",
       "    <tr>\n",
       "      <th>472</th>\n",
       "      <td>John Fleck</td>\n",
       "      <td>1</td>\n",
       "    </tr>\n",
       "    <tr>\n",
       "      <th>1019</th>\n",
       "      <td>Éder</td>\n",
       "      <td>1</td>\n",
       "    </tr>\n",
       "  </tbody>\n",
       "</table>\n",
       "<p>1020 rows × 2 columns</p>\n",
       "</div>"
      ],
      "text/plain": [
       "                 Name  0\n",
       "428      Jamie Vardy   5\n",
       "728   Moussa Sissoko   5\n",
       "973   Victor Wanyama   5\n",
       "895    Simon Francis   5\n",
       "519      Joshua King   5\n",
       "...               ... ..\n",
       "469        Joelinton   1\n",
       "470      Joey Barton   1\n",
       "471        John Egan   1\n",
       "472       John Fleck   1\n",
       "1019            Éder   1\n",
       "\n",
       "[1020 rows x 2 columns]"
      ]
     },
     "execution_count": 7,
     "metadata": {},
     "output_type": "execute_result"
    }
   ],
   "source": [
    "df.groupby(['Name','Position']).size().reset_index()\n",
    "df.groupby('Name').size().reset_index().sort_values(by=0, ascending=False)"
   ]
  },
  {
   "cell_type": "code",
   "execution_count": 8,
   "id": "c16137c4",
   "metadata": {},
   "outputs": [],
   "source": [
    "df_Total = df.groupby(['Name','Position'])[['Appearances','Open Play Goals','Goals with right foot','Goals with left foot',\n",
    "                                           'Headed goals','Total Goals']].sum().reset_index()"
   ]
  },
  {
   "cell_type": "markdown",
   "id": "8bdd41c7",
   "metadata": {},
   "source": [
    "### 6. Create an open play goals per appearance field across the whole time period"
   ]
  },
  {
   "cell_type": "code",
   "execution_count": 9,
   "id": "16c73875",
   "metadata": {},
   "outputs": [],
   "source": [
    "df_Total['Open Play Goals/Game'] = df_Total['Open Play Goals']/df_Total['Appearances'].astype(float)"
   ]
  },
  {
   "cell_type": "markdown",
   "id": "12eeef0b",
   "metadata": {},
   "source": [
    "###  7 & 8. Rank the players for the amount of open play goals scored across the whole time period, we are only interested in the top 20 (including those that are tied for position) – Output 1\n",
    "\n",
    "###  Rank the players for the amount of open play goals scored across the whole time period by position, we are only interested in the top 20 (including those that are tied for position) – Output 2"
   ]
  },
  {
   "cell_type": "code",
   "execution_count": 10,
   "id": "592f3bf9",
   "metadata": {},
   "outputs": [],
   "source": [
    "df_Total['Position Rank'] = df_Total.groupby('Position')['Open Play Goals'].rank(ascending=False,method='min').astype(int)\n",
    "df_Total['Rank'] = df_Total['Open Play Goals'].rank(ascending=False,method='min').astype(int)"
   ]
  },
  {
   "cell_type": "markdown",
   "id": "d84fb70f",
   "metadata": {},
   "source": [
    "### 9. Output the data "
   ]
  },
  {
   "cell_type": "code",
   "execution_count": 11,
   "id": "042fddab",
   "metadata": {},
   "outputs": [],
   "source": [
    "out_cols1 = ['Position Rank','Open Play Goals','Goals with right foot','Goals with left foot','Position','Appearances','Total Goals','Open Play Goals/Game','Headed goals','Name']\n",
    "out_cols2 = ['Open Play Goals','Goals with right foot','Goals with left foot','Position','Appearances','Rank','Total Goals','Open Play Goals/Game','Headed goals','Name']"
   ]
  },
  {
   "cell_type": "code",
   "execution_count": 12,
   "id": "2563a295",
   "metadata": {},
   "outputs": [],
   "source": [
    "df_Total[df_Total['Position Rank'] <= 20].sort_values(by=['Position','Position Rank']).to_csv('WK13-PLS output1.csv', index=False, columns=out_cols1)\n",
    "df_Total[df_Total['Rank'] <= 20].sort_values(by='Rank').to_csv('WK13-PLS output2.csv', index=False, columns=out_cols2)"
   ]
  }
 ],
 "metadata": {
  "kernelspec": {
   "display_name": "Python 3",
   "language": "python",
   "name": "python3"
  },
  "language_info": {
   "codemirror_mode": {
    "name": "ipython",
    "version": 3
   },
   "file_extension": ".py",
   "mimetype": "text/x-python",
   "name": "python",
   "nbconvert_exporter": "python",
   "pygments_lexer": "ipython3",
   "version": "3.7.11"
  }
 },
 "nbformat": 4,
 "nbformat_minor": 5
}
