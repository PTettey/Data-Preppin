{
 "cells": [
  {
   "cell_type": "markdown",
   "id": "dc7a3ef9",
   "metadata": {},
   "source": [
    "### Prepping Data Challenge:  Lift Your Spirits (week 30)\n",
    "\n",
    "### Input\n",
    "There is one input this week, detailing the time of each trip the lift takes, including which floor the passengers enter the lift and which floor the passengers leave the lift. \n",
    "\n",
    "For simplicity, assume that the lift does not stop mid-journey to pick up new passengers, but completes its current trip before starting a new one.\n",
    "\n",
    "### Requirements\n",
    " - Input the data\n",
    " - Create a TripID field based on the time of day\n",
    "   - Assume all trips took place on 12th July 2021\n",
    " - Calculate how many floors the lift has to travel between trips\n",
    "   - The order of floors is B, G, 1, 2, 3, etc.\n",
    " - Calculate which floor the majority of trips begin at - call this the Default Position\n",
    " - If every trip began from the same floor, how many floors would the lift need to travel to begin each journey?\n",
    "   - e.g. if the default position of the lift were floor 2 and the trip was starting from the 4th floor, this would be 2 floors that the lift would need to travel\n",
    " - How does the average floors travelled between trips compare to the average travel from the default position?\n",
    " - Output the data"
   ]
  },
  {
   "cell_type": "code",
   "execution_count": 1,
   "id": "ab924bef",
   "metadata": {},
   "outputs": [],
   "source": [
    "import pandas as pd"
   ]
  },
  {
   "cell_type": "code",
   "execution_count": 2,
   "id": "58433f2b",
   "metadata": {},
   "outputs": [],
   "source": [
    "#Input the data\n",
    "df = pd.read_csv('WK30-Input.csv')"
   ]
  },
  {
   "cell_type": "code",
   "execution_count": 3,
   "id": "72dd5c63",
   "metadata": {},
   "outputs": [
    {
     "data": {
      "text/html": [
       "<div>\n",
       "<style scoped>\n",
       "    .dataframe tbody tr th:only-of-type {\n",
       "        vertical-align: middle;\n",
       "    }\n",
       "\n",
       "    .dataframe tbody tr th {\n",
       "        vertical-align: top;\n",
       "    }\n",
       "\n",
       "    .dataframe thead th {\n",
       "        text-align: right;\n",
       "    }\n",
       "</style>\n",
       "<table border=\"1\" class=\"dataframe\">\n",
       "  <thead>\n",
       "    <tr style=\"text-align: right;\">\n",
       "      <th></th>\n",
       "      <th>Hour</th>\n",
       "      <th>Minute</th>\n",
       "      <th>From</th>\n",
       "      <th>To</th>\n",
       "    </tr>\n",
       "  </thead>\n",
       "  <tbody>\n",
       "    <tr>\n",
       "      <th>0</th>\n",
       "      <td>0</td>\n",
       "      <td>1</td>\n",
       "      <td>G</td>\n",
       "      <td>8</td>\n",
       "    </tr>\n",
       "    <tr>\n",
       "      <th>1</th>\n",
       "      <td>0</td>\n",
       "      <td>2</td>\n",
       "      <td>4</td>\n",
       "      <td>G</td>\n",
       "    </tr>\n",
       "    <tr>\n",
       "      <th>2</th>\n",
       "      <td>0</td>\n",
       "      <td>2</td>\n",
       "      <td>11</td>\n",
       "      <td>G</td>\n",
       "    </tr>\n",
       "    <tr>\n",
       "      <th>3</th>\n",
       "      <td>0</td>\n",
       "      <td>3</td>\n",
       "      <td>B</td>\n",
       "      <td>G</td>\n",
       "    </tr>\n",
       "    <tr>\n",
       "      <th>4</th>\n",
       "      <td>0</td>\n",
       "      <td>4</td>\n",
       "      <td>1</td>\n",
       "      <td>G</td>\n",
       "    </tr>\n",
       "  </tbody>\n",
       "</table>\n",
       "</div>"
      ],
      "text/plain": [
       "   Hour  Minute From To\n",
       "0     0       1    G  8\n",
       "1     0       2    4  G\n",
       "2     0       2   11  G\n",
       "3     0       3    B  G\n",
       "4     0       4    1  G"
      ]
     },
     "execution_count": 3,
     "metadata": {},
     "output_type": "execute_result"
    }
   ],
   "source": [
    "df.head()"
   ]
  },
  {
   "cell_type": "code",
   "execution_count": 4,
   "id": "4029c66b",
   "metadata": {},
   "outputs": [],
   "source": [
    "#Create a TripID field based on the time of day\n",
    "#Assume all trips took place on 12th July 2021\n",
    "df['Trip_time'] = pd.to_datetime('2021-07-12 ' + df['Hour'].astype(str) + ':' + df['Minute'].astype(str), format='%Y-%m-%d %H:%M')\n",
    "df = df.reset_index().sort_values(by=['Trip_time', 'index']).rename(columns={'index' : 'TripID'})"
   ]
  },
  {
   "cell_type": "code",
   "execution_count": 5,
   "id": "f7ea3d26",
   "metadata": {},
   "outputs": [],
   "source": [
    "#Calculate how many floors the lift has to travel between trips\n",
    "#The order of floors is B, G, 1, 2, 3, etc.\n",
    "df = df.replace({'From':{'G':0, 'B':-1}, 'To':{'G':0, 'B':-1}})\n",
    "df['From'] = df['From'].astype('int')\n",
    "df['To'] = df['To'].astype('int')\n",
    "df['Floors'] = abs(df['From'].shift(-1) - df['To'])"
   ]
  },
  {
   "cell_type": "code",
   "execution_count": 6,
   "id": "2270e991",
   "metadata": {},
   "outputs": [
    {
     "data": {
      "text/html": [
       "<div>\n",
       "<style scoped>\n",
       "    .dataframe tbody tr th:only-of-type {\n",
       "        vertical-align: middle;\n",
       "    }\n",
       "\n",
       "    .dataframe tbody tr th {\n",
       "        vertical-align: top;\n",
       "    }\n",
       "\n",
       "    .dataframe thead th {\n",
       "        text-align: right;\n",
       "    }\n",
       "</style>\n",
       "<table border=\"1\" class=\"dataframe\">\n",
       "  <thead>\n",
       "    <tr style=\"text-align: right;\">\n",
       "      <th></th>\n",
       "      <th>TripID</th>\n",
       "      <th>Hour</th>\n",
       "      <th>Minute</th>\n",
       "      <th>From</th>\n",
       "      <th>To</th>\n",
       "      <th>Trip_time</th>\n",
       "      <th>Floors</th>\n",
       "    </tr>\n",
       "  </thead>\n",
       "  <tbody>\n",
       "    <tr>\n",
       "      <th>0</th>\n",
       "      <td>0</td>\n",
       "      <td>0</td>\n",
       "      <td>1</td>\n",
       "      <td>0</td>\n",
       "      <td>8</td>\n",
       "      <td>2021-07-12 00:01:00</td>\n",
       "      <td>4.0</td>\n",
       "    </tr>\n",
       "    <tr>\n",
       "      <th>1</th>\n",
       "      <td>1</td>\n",
       "      <td>0</td>\n",
       "      <td>2</td>\n",
       "      <td>4</td>\n",
       "      <td>0</td>\n",
       "      <td>2021-07-12 00:02:00</td>\n",
       "      <td>11.0</td>\n",
       "    </tr>\n",
       "    <tr>\n",
       "      <th>2</th>\n",
       "      <td>2</td>\n",
       "      <td>0</td>\n",
       "      <td>2</td>\n",
       "      <td>11</td>\n",
       "      <td>0</td>\n",
       "      <td>2021-07-12 00:02:00</td>\n",
       "      <td>1.0</td>\n",
       "    </tr>\n",
       "    <tr>\n",
       "      <th>3</th>\n",
       "      <td>3</td>\n",
       "      <td>0</td>\n",
       "      <td>3</td>\n",
       "      <td>-1</td>\n",
       "      <td>0</td>\n",
       "      <td>2021-07-12 00:03:00</td>\n",
       "      <td>1.0</td>\n",
       "    </tr>\n",
       "    <tr>\n",
       "      <th>4</th>\n",
       "      <td>4</td>\n",
       "      <td>0</td>\n",
       "      <td>4</td>\n",
       "      <td>1</td>\n",
       "      <td>0</td>\n",
       "      <td>2021-07-12 00:04:00</td>\n",
       "      <td>10.0</td>\n",
       "    </tr>\n",
       "  </tbody>\n",
       "</table>\n",
       "</div>"
      ],
      "text/plain": [
       "   TripID  Hour  Minute  From  To           Trip_time  Floors\n",
       "0       0     0       1     0   8 2021-07-12 00:01:00     4.0\n",
       "1       1     0       2     4   0 2021-07-12 00:02:00    11.0\n",
       "2       2     0       2    11   0 2021-07-12 00:02:00     1.0\n",
       "3       3     0       3    -1   0 2021-07-12 00:03:00     1.0\n",
       "4       4     0       4     1   0 2021-07-12 00:04:00    10.0"
      ]
     },
     "execution_count": 6,
     "metadata": {},
     "output_type": "execute_result"
    }
   ],
   "source": [
    "df.head()"
   ]
  },
  {
   "cell_type": "code",
   "execution_count": 7,
   "id": "56b06d14",
   "metadata": {},
   "outputs": [],
   "source": [
    "#Calculate which floor the majority of trips begin at - call this the Default Position\n",
    "df['Default Position'] = df.groupby('From').count().Hour.idxmax()"
   ]
  },
  {
   "cell_type": "code",
   "execution_count": 8,
   "id": "5a280e28",
   "metadata": {},
   "outputs": [],
   "source": [
    "#If every trip began from the same floor, how many floors would the lift need to travel to begin each journey?\n",
    "#e.g. if the default position of the lift were floor 2 and the trip was starting from the 4th floor, \n",
    "#this would be 2 floors that the lift would need to travel\n",
    "df['From Default floor'] = abs(df['From'] - df['Default Position'])"
   ]
  },
  {
   "cell_type": "code",
   "execution_count": 9,
   "id": "8e440917",
   "metadata": {},
   "outputs": [],
   "source": [
    "#How does the average floors travelled between trips compare to the average travel from the default position?\n",
    "output = df.groupby('Default Position', as_index=False).agg({'From Default floor':'mean','Floors':'mean'})\n",
    "output['Difference'] = output['From Default floor'] - output['Floors']\n",
    "output = output.rename(columns={'From Default Position':'Avg travel from default position','Floor':'Avg travel between trips currently'})"
   ]
  },
  {
   "cell_type": "code",
   "execution_count": 10,
   "id": "924f5e3b",
   "metadata": {},
   "outputs": [
    {
     "data": {
      "text/html": [
       "<div>\n",
       "<style scoped>\n",
       "    .dataframe tbody tr th:only-of-type {\n",
       "        vertical-align: middle;\n",
       "    }\n",
       "\n",
       "    .dataframe tbody tr th {\n",
       "        vertical-align: top;\n",
       "    }\n",
       "\n",
       "    .dataframe thead th {\n",
       "        text-align: right;\n",
       "    }\n",
       "</style>\n",
       "<table border=\"1\" class=\"dataframe\">\n",
       "  <thead>\n",
       "    <tr style=\"text-align: right;\">\n",
       "      <th></th>\n",
       "      <th>Default Position</th>\n",
       "      <th>From Default floor</th>\n",
       "      <th>Floors</th>\n",
       "      <th>Difference</th>\n",
       "    </tr>\n",
       "  </thead>\n",
       "  <tbody>\n",
       "    <tr>\n",
       "      <th>0</th>\n",
       "      <td>0</td>\n",
       "      <td>3.744692</td>\n",
       "      <td>4.364188</td>\n",
       "      <td>-0.619497</td>\n",
       "    </tr>\n",
       "  </tbody>\n",
       "</table>\n",
       "</div>"
      ],
      "text/plain": [
       "   Default Position  From Default floor    Floors  Difference\n",
       "0                 0            3.744692  4.364188   -0.619497"
      ]
     },
     "execution_count": 10,
     "metadata": {},
     "output_type": "execute_result"
    }
   ],
   "source": [
    "output.head()"
   ]
  },
  {
   "cell_type": "code",
   "execution_count": 11,
   "id": "fa34b6a6",
   "metadata": {},
   "outputs": [],
   "source": [
    "output.to_csv('wk30-output.csv', index=False)"
   ]
  }
 ],
 "metadata": {
  "kernelspec": {
   "display_name": "Tetteyanalysis",
   "language": "python",
   "name": "tetteyanalysis"
  },
  "language_info": {
   "codemirror_mode": {
    "name": "ipython",
    "version": 3
   },
   "file_extension": ".py",
   "mimetype": "text/x-python",
   "name": "python",
   "nbconvert_exporter": "python",
   "pygments_lexer": "ipython3",
   "version": "3.7.11"
  }
 },
 "nbformat": 4,
 "nbformat_minor": 5
}
