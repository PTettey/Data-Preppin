{
 "cells": [
  {
   "cell_type": "markdown",
   "id": "dc7a3ef9",
   "metadata": {},
   "source": [
    "### Prepping Data Challenge:  What's Trendy? (week 36)\n",
    "For this week's challenge, We wanted to use Google Trends to take a look back over the past couple of years and see what people were searching for. In particular, are these categories still as popular now as they were in peak lockdown? How does the experience vary around the world? We'll be looking at:\n",
    "\n",
    "Pet adoption (who didn't want a furry work from home buddy?!)\n",
    "Online streamer (can one make money from playing video games?)\n",
    "Staycations (everyone's favourite word, right?)\n",
    "\n",
    "### Requirements\n",
    "- Input the data\n",
    "- Calculate the overall average index for each search term\n",
    "- Work out the earliest peak for each of these search terms\n",
    "- For each year (1st September - 31st August), calculate the average index\n",
    "- Classify each search term as either a Lockdown Fad or Still Trendy based on whether the average index has increased or decreased since last year\n",
    "- Filter the countries so that only those with values for each search term remain\n",
    "- For each search term, work out which country has the highest percentage\n",
    "- Bring everything together into one dataset\n",
    "- Output the data\n",
    "\n",
    "I used part of <b>Arsene Xie</b> code."
   ]
  },
  {
   "cell_type": "code",
   "execution_count": 1,
   "id": "ab924bef",
   "metadata": {},
   "outputs": [],
   "source": [
    "import pandas as pd\n",
    "import numpy as np"
   ]
  },
  {
   "cell_type": "code",
   "execution_count": 2,
   "id": "58433f2b",
   "metadata": {},
   "outputs": [],
   "source": [
    "#Input the data\n",
    "with pd.ExcelFile('Wk36-Input.xlsx') as xl:\n",
    "    tl = pd.read_excel(xl,'Timeline', header=2)\\\n",
    "        .melt(id_vars='Week', var_name='Search Term', value_name = 'index')\n",
    "    cb = pd.read_excel(xl, 'Country Breakdown', header=2)\\\n",
    "        .melt(id_vars='Country', var_name='Search Term', value_name = 'index')"
   ]
  },
  {
   "cell_type": "code",
   "execution_count": 3,
   "id": "b16a71c1",
   "metadata": {},
   "outputs": [],
   "source": [
    "tl['Week'] = tl['Week'].dt.date\n",
    "tl['Search Term'] = tl['Search Term'].str.replace('(:.*)','',regex = True)\n",
    "cb['Search Term'] = cb['Search Term'].str.replace('(:.*)','',regex = True)"
   ]
  },
  {
   "cell_type": "code",
   "execution_count": 4,
   "id": "72dd5c63",
   "metadata": {},
   "outputs": [
    {
     "data": {
      "text/html": [
       "<div>\n",
       "<style scoped>\n",
       "    .dataframe tbody tr th:only-of-type {\n",
       "        vertical-align: middle;\n",
       "    }\n",
       "\n",
       "    .dataframe tbody tr th {\n",
       "        vertical-align: top;\n",
       "    }\n",
       "\n",
       "    .dataframe thead th {\n",
       "        text-align: right;\n",
       "    }\n",
       "</style>\n",
       "<table border=\"1\" class=\"dataframe\">\n",
       "  <thead>\n",
       "    <tr style=\"text-align: right;\">\n",
       "      <th></th>\n",
       "      <th>Country</th>\n",
       "      <th>Search Term</th>\n",
       "      <th>index</th>\n",
       "    </tr>\n",
       "  </thead>\n",
       "  <tbody>\n",
       "    <tr>\n",
       "      <th>0</th>\n",
       "      <td>Hong Kong</td>\n",
       "      <td>Pet adoption</td>\n",
       "      <td>0.03</td>\n",
       "    </tr>\n",
       "    <tr>\n",
       "      <th>1</th>\n",
       "      <td>South Korea</td>\n",
       "      <td>Pet adoption</td>\n",
       "      <td>NaN</td>\n",
       "    </tr>\n",
       "    <tr>\n",
       "      <th>2</th>\n",
       "      <td>Guernsey</td>\n",
       "      <td>Pet adoption</td>\n",
       "      <td>NaN</td>\n",
       "    </tr>\n",
       "    <tr>\n",
       "      <th>3</th>\n",
       "      <td>Singapore</td>\n",
       "      <td>Pet adoption</td>\n",
       "      <td>0.11</td>\n",
       "    </tr>\n",
       "    <tr>\n",
       "      <th>4</th>\n",
       "      <td>Barbados</td>\n",
       "      <td>Pet adoption</td>\n",
       "      <td>NaN</td>\n",
       "    </tr>\n",
       "  </tbody>\n",
       "</table>\n",
       "</div>"
      ],
      "text/plain": [
       "       Country   Search Term  index\n",
       "0    Hong Kong  Pet adoption   0.03\n",
       "1  South Korea  Pet adoption    NaN\n",
       "2     Guernsey  Pet adoption    NaN\n",
       "3    Singapore  Pet adoption   0.11\n",
       "4     Barbados  Pet adoption    NaN"
      ]
     },
     "execution_count": 4,
     "metadata": {},
     "output_type": "execute_result"
    }
   ],
   "source": [
    "cb.head()"
   ]
  },
  {
   "cell_type": "code",
   "execution_count": 5,
   "id": "2a7bd660",
   "metadata": {},
   "outputs": [],
   "source": [
    "#Calculate the overall average index for each search term\n",
    "tl['Average Index'] = round(tl['index'].groupby(tl['Search Term']).transform('mean'),1)"
   ]
  },
  {
   "cell_type": "code",
   "execution_count": 6,
   "id": "fb937bf5",
   "metadata": {},
   "outputs": [
    {
     "data": {
      "text/html": [
       "<div>\n",
       "<style scoped>\n",
       "    .dataframe tbody tr th:only-of-type {\n",
       "        vertical-align: middle;\n",
       "    }\n",
       "\n",
       "    .dataframe tbody tr th {\n",
       "        vertical-align: top;\n",
       "    }\n",
       "\n",
       "    .dataframe thead th {\n",
       "        text-align: right;\n",
       "    }\n",
       "</style>\n",
       "<table border=\"1\" class=\"dataframe\">\n",
       "  <thead>\n",
       "    <tr style=\"text-align: right;\">\n",
       "      <th></th>\n",
       "      <th>Week</th>\n",
       "      <th>Search Term</th>\n",
       "      <th>index</th>\n",
       "      <th>Average Index</th>\n",
       "    </tr>\n",
       "  </thead>\n",
       "  <tbody>\n",
       "    <tr>\n",
       "      <th>0</th>\n",
       "      <td>2016-09-04</td>\n",
       "      <td>Pet adoption</td>\n",
       "      <td>69</td>\n",
       "      <td>63.5</td>\n",
       "    </tr>\n",
       "    <tr>\n",
       "      <th>1</th>\n",
       "      <td>2016-09-11</td>\n",
       "      <td>Pet adoption</td>\n",
       "      <td>70</td>\n",
       "      <td>63.5</td>\n",
       "    </tr>\n",
       "    <tr>\n",
       "      <th>2</th>\n",
       "      <td>2016-09-18</td>\n",
       "      <td>Pet adoption</td>\n",
       "      <td>64</td>\n",
       "      <td>63.5</td>\n",
       "    </tr>\n",
       "    <tr>\n",
       "      <th>3</th>\n",
       "      <td>2016-09-25</td>\n",
       "      <td>Pet adoption</td>\n",
       "      <td>64</td>\n",
       "      <td>63.5</td>\n",
       "    </tr>\n",
       "    <tr>\n",
       "      <th>4</th>\n",
       "      <td>2016-10-02</td>\n",
       "      <td>Pet adoption</td>\n",
       "      <td>63</td>\n",
       "      <td>63.5</td>\n",
       "    </tr>\n",
       "  </tbody>\n",
       "</table>\n",
       "</div>"
      ],
      "text/plain": [
       "         Week   Search Term  index  Average Index\n",
       "0  2016-09-04  Pet adoption     69           63.5\n",
       "1  2016-09-11  Pet adoption     70           63.5\n",
       "2  2016-09-18  Pet adoption     64           63.5\n",
       "3  2016-09-25  Pet adoption     64           63.5\n",
       "4  2016-10-02  Pet adoption     63           63.5"
      ]
     },
     "execution_count": 6,
     "metadata": {},
     "output_type": "execute_result"
    }
   ],
   "source": [
    "tl.head()"
   ]
  },
  {
   "cell_type": "code",
   "execution_count": 7,
   "id": "d5e31a87",
   "metadata": {},
   "outputs": [],
   "source": [
    "#Work out the earliest peak for each of these search terms\n",
    "tl['peak index'] = tl['index'].groupby(tl['Search Term']).transform('max')\n",
    "tl['peak index week'] = tl.apply(lambda x: x['Week'] if x['index']==x['peak index'] else max(tl['Week']), axis=1)\n",
    "tl['earliest peak'] = tl['peak index week'].groupby(tl['Search Term']).transform('min')"
   ]
  },
  {
   "cell_type": "code",
   "execution_count": 8,
   "id": "59c766d9",
   "metadata": {},
   "outputs": [],
   "source": [
    "#For each year (1st September - 31st August), calculate the average index\n",
    "tl['year'] = tl['Week'].apply(lambda x: x.year+1 if x.month>=9 else x.year)\n",
    "tl = tl[tl['year']>=max(tl['year'])-1].copy()"
   ]
  },
  {
   "cell_type": "code",
   "execution_count": 9,
   "id": "1fa73efa",
   "metadata": {},
   "outputs": [],
   "source": [
    "#Classify each search term as either a Lockdown Fad or Still Trendy based on whether the average index has \n",
    "#increased or decreased since last year\n",
    "tl['YearMeasure'] = tl['year'].apply(lambda x: f'{str(x-1)}/{str(x)[2:]} avg index')\n",
    "tl = tl.drop(['Week', 'peak index week', 'year'], axis=1)"
   ]
  },
  {
   "cell_type": "code",
   "execution_count": 10,
   "id": "8e6dd54e",
   "metadata": {},
   "outputs": [],
   "source": [
    "#Filter the countries so that only those with values for each search term remain\n",
    "cb['Search Term'] = cb['Search Term'].replace('(:.*)','', regex = True)\n",
    "cb = cb.loc[cb.reset_index().groupby(['Search Term'])['index'].idxmax()][['Search Term','Country']]"
   ]
  },
  {
   "cell_type": "code",
   "execution_count": 11,
   "id": "d87de370",
   "metadata": {},
   "outputs": [],
   "source": [
    "#For each search term, work out which country has the highest percentage\n",
    "output = tl.pivot_table(index=[c for c in tl.columns if c not in ['index','YearMeasure']], \n",
    "                             columns='YearMeasure', values='index', aggfunc='mean').reset_index()\n",
    "output['Status'] = output.apply(lambda x: 'Still Trendy' if x['2020/21 avg index']>=x['2019/20 avg index'] else 'Lockdown Fad', axis=1)\n",
    "output['2020/21 avg index'] = round(output['2020/21 avg index'],1)"
   ]
  },
  {
   "cell_type": "code",
   "execution_count": 12,
   "id": "5a280e28",
   "metadata": {},
   "outputs": [],
   "source": [
    "#Bring everything together into one dataset\n",
    "output = output.merge(cb, on='Search Term').rename(columns={'Country':'Country with highest percentage'})"
   ]
  },
  {
   "cell_type": "code",
   "execution_count": 13,
   "id": "857208e7",
   "metadata": {},
   "outputs": [],
   "source": [
    "output = output[['Search Term', 'Status', '2020/21 avg index', 'Average Index', 'peak index', 'earliest peak', 'Country with highest percentage']]"
   ]
  },
  {
   "cell_type": "code",
   "execution_count": 14,
   "id": "2acf477f",
   "metadata": {},
   "outputs": [
    {
     "data": {
      "text/html": [
       "<div>\n",
       "<style scoped>\n",
       "    .dataframe tbody tr th:only-of-type {\n",
       "        vertical-align: middle;\n",
       "    }\n",
       "\n",
       "    .dataframe tbody tr th {\n",
       "        vertical-align: top;\n",
       "    }\n",
       "\n",
       "    .dataframe thead th {\n",
       "        text-align: right;\n",
       "    }\n",
       "</style>\n",
       "<table border=\"1\" class=\"dataframe\">\n",
       "  <thead>\n",
       "    <tr style=\"text-align: right;\">\n",
       "      <th></th>\n",
       "      <th>Search Term</th>\n",
       "      <th>Status</th>\n",
       "      <th>2020/21 avg index</th>\n",
       "      <th>Average Index</th>\n",
       "      <th>peak index</th>\n",
       "      <th>earliest peak</th>\n",
       "      <th>Country with highest percentage</th>\n",
       "    </tr>\n",
       "  </thead>\n",
       "  <tbody>\n",
       "    <tr>\n",
       "      <th>0</th>\n",
       "      <td>Online streamer</td>\n",
       "      <td>Still Trendy</td>\n",
       "      <td>53.1</td>\n",
       "      <td>29.8</td>\n",
       "      <td>84</td>\n",
       "      <td>2020-11-29</td>\n",
       "      <td>Slovakia</td>\n",
       "    </tr>\n",
       "    <tr>\n",
       "      <th>1</th>\n",
       "      <td>Pet adoption</td>\n",
       "      <td>Lockdown Fad</td>\n",
       "      <td>66.5</td>\n",
       "      <td>63.5</td>\n",
       "      <td>100</td>\n",
       "      <td>2020-04-12</td>\n",
       "      <td>Australia</td>\n",
       "    </tr>\n",
       "    <tr>\n",
       "      <th>2</th>\n",
       "      <td>Staycation</td>\n",
       "      <td>Still Trendy</td>\n",
       "      <td>34.8</td>\n",
       "      <td>14.2</td>\n",
       "      <td>44</td>\n",
       "      <td>2020-07-19</td>\n",
       "      <td>Guernsey</td>\n",
       "    </tr>\n",
       "  </tbody>\n",
       "</table>\n",
       "</div>"
      ],
      "text/plain": [
       "       Search Term        Status  2020/21 avg index  Average Index  \\\n",
       "0  Online streamer  Still Trendy               53.1           29.8   \n",
       "1     Pet adoption  Lockdown Fad               66.5           63.5   \n",
       "2       Staycation  Still Trendy               34.8           14.2   \n",
       "\n",
       "   peak index earliest peak Country with highest percentage  \n",
       "0          84    2020-11-29                        Slovakia  \n",
       "1         100    2020-04-12                       Australia  \n",
       "2          44    2020-07-19                        Guernsey  "
      ]
     },
     "execution_count": 14,
     "metadata": {},
     "output_type": "execute_result"
    }
   ],
   "source": [
    "output.head(10)"
   ]
  },
  {
   "cell_type": "code",
   "execution_count": 15,
   "id": "fa34b6a6",
   "metadata": {},
   "outputs": [],
   "source": [
    "#output the data\n",
    "output.to_csv('wk35-output.csv', index=False)"
   ]
  }
 ],
 "metadata": {
  "kernelspec": {
   "display_name": "Python 3 (ipykernel)",
   "language": "python",
   "name": "python3"
  },
  "language_info": {
   "codemirror_mode": {
    "name": "ipython",
    "version": 3
   },
   "file_extension": ".py",
   "mimetype": "text/x-python",
   "name": "python",
   "nbconvert_exporter": "python",
   "pygments_lexer": "ipython3",
   "version": "3.9.7"
  }
 },
 "nbformat": 4,
 "nbformat_minor": 5
}
