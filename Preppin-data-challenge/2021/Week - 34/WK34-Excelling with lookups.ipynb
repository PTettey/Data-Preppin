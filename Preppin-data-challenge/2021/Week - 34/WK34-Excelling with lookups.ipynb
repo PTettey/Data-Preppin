{
 "cells": [
  {
   "cell_type": "markdown",
   "id": "dc7a3ef9",
   "metadata": {},
   "source": [
    "### Prepping Data Challenge:  Excelling with lookups (week 34)\n",
    "\n",
    "Our scenario this week is looking at Employee Sales at Allchains for each month of the year so far and we want to compare this to their Monthly Targets, stored on another sheet.\n",
    "\n",
    "### Requirements\n",
    "- Input data\n",
    "- Calculate the Average Monthly Sales for each employee\n",
    "- In the Targets sheet the Store Name needs cleaning up\n",
    "- Filter the data so that only employees who are below 90% of their target on average remain\n",
    "- For these employees, we also want to know the % of months that they met/exceeded their target\n",
    "- Output the data"
   ]
  },
  {
   "cell_type": "code",
   "execution_count": 1,
   "id": "ab924bef",
   "metadata": {},
   "outputs": [],
   "source": [
    "import pandas as pd\n",
    "import numpy as np"
   ]
  },
  {
   "cell_type": "code",
   "execution_count": 2,
   "id": "58433f2b",
   "metadata": {},
   "outputs": [],
   "source": [
    "#Input the data\n",
    "df = None\n",
    "with pd.ExcelFile('Wk34-Input.xlsx') as xl:\n",
    "    sales = pd.read_excel(xl,'Employee Sales')\n",
    "    target = pd.read_excel(xl, 'Employee Targets')"
   ]
  },
  {
   "cell_type": "code",
   "execution_count": 3,
   "id": "fb937bf5",
   "metadata": {},
   "outputs": [],
   "source": [
    "sales = sales.melt(id_vars = ['Store', 'Employee'], var_name='Month', value_name='Sales')"
   ]
  },
  {
   "cell_type": "code",
   "execution_count": 4,
   "id": "2a7bd660",
   "metadata": {},
   "outputs": [],
   "source": [
    "#Calculate the Average Monthly Sales for each employee\n",
    "sales['Avg monthly Sales'] = sales.groupby(['Store','Employee'])['Sales'].transform('mean').round()"
   ]
  },
  {
   "cell_type": "code",
   "execution_count": 5,
   "id": "72dd5c63",
   "metadata": {},
   "outputs": [
    {
     "data": {
      "text/html": [
       "<div>\n",
       "<style scoped>\n",
       "    .dataframe tbody tr th:only-of-type {\n",
       "        vertical-align: middle;\n",
       "    }\n",
       "\n",
       "    .dataframe tbody tr th {\n",
       "        vertical-align: top;\n",
       "    }\n",
       "\n",
       "    .dataframe thead th {\n",
       "        text-align: right;\n",
       "    }\n",
       "</style>\n",
       "<table border=\"1\" class=\"dataframe\">\n",
       "  <thead>\n",
       "    <tr style=\"text-align: right;\">\n",
       "      <th></th>\n",
       "      <th>Store</th>\n",
       "      <th>Employee</th>\n",
       "      <th>Month</th>\n",
       "      <th>Sales</th>\n",
       "      <th>Avg monthly Sales</th>\n",
       "    </tr>\n",
       "  </thead>\n",
       "  <tbody>\n",
       "    <tr>\n",
       "      <th>0</th>\n",
       "      <td>Stratford</td>\n",
       "      <td>Julie</td>\n",
       "      <td>2021-01-01</td>\n",
       "      <td>3302</td>\n",
       "      <td>5005.0</td>\n",
       "    </tr>\n",
       "    <tr>\n",
       "      <th>1</th>\n",
       "      <td>Stratford</td>\n",
       "      <td>Pete</td>\n",
       "      <td>2021-01-01</td>\n",
       "      <td>4052</td>\n",
       "      <td>5485.0</td>\n",
       "    </tr>\n",
       "    <tr>\n",
       "      <th>2</th>\n",
       "      <td>Stratford</td>\n",
       "      <td>Jose</td>\n",
       "      <td>2021-01-01</td>\n",
       "      <td>5226</td>\n",
       "      <td>4073.0</td>\n",
       "    </tr>\n",
       "    <tr>\n",
       "      <th>3</th>\n",
       "      <td>Stratford</td>\n",
       "      <td>Andre</td>\n",
       "      <td>2021-01-01</td>\n",
       "      <td>9369</td>\n",
       "      <td>5908.0</td>\n",
       "    </tr>\n",
       "    <tr>\n",
       "      <th>4</th>\n",
       "      <td>Stratford</td>\n",
       "      <td>Edward</td>\n",
       "      <td>2021-01-01</td>\n",
       "      <td>7854</td>\n",
       "      <td>6055.0</td>\n",
       "    </tr>\n",
       "  </tbody>\n",
       "</table>\n",
       "</div>"
      ],
      "text/plain": [
       "       Store Employee      Month  Sales  Avg monthly Sales\n",
       "0  Stratford    Julie 2021-01-01   3302             5005.0\n",
       "1  Stratford     Pete 2021-01-01   4052             5485.0\n",
       "2  Stratford     Jose 2021-01-01   5226             4073.0\n",
       "3  Stratford    Andre 2021-01-01   9369             5908.0\n",
       "4  Stratford   Edward 2021-01-01   7854             6055.0"
      ]
     },
     "execution_count": 5,
     "metadata": {},
     "output_type": "execute_result"
    }
   ],
   "source": [
    "sales.head()"
   ]
  },
  {
   "cell_type": "code",
   "execution_count": 6,
   "id": "d5e31a87",
   "metadata": {},
   "outputs": [
    {
     "data": {
      "text/plain": [
       "array(['Stratfod', 'Stratford', 'Stratfodd', 'Statford', 'Straford',\n",
       "       'Wimbledan', 'Wimbledon', 'Vimbledon', 'Wimbledone', 'Bristoll',\n",
       "       'Bristol', 'Bristal', 'Bristole', 'York', 'Yor', 'Yorkk', 'Yark'],\n",
       "      dtype=object)"
      ]
     },
     "execution_count": 6,
     "metadata": {},
     "output_type": "execute_result"
    }
   ],
   "source": [
    "target['Store'].unique()"
   ]
  },
  {
   "cell_type": "code",
   "execution_count": 7,
   "id": "5f0d73e7",
   "metadata": {},
   "outputs": [],
   "source": [
    "#In the Targets sheet the Store Name needs cleaning up\n",
    "spellcheck = {'Stratford':'^S.*','Wimbledon':'^[WV]?im.*','Bristol':'^B.*','York':'^Y.*'}\n",
    "   \n",
    "target['Store'] = target['Store'].replace(list(spellcheck.values()), list(spellcheck.keys()), regex = True)"
   ]
  },
  {
   "cell_type": "code",
   "execution_count": 8,
   "id": "8e6dd54e",
   "metadata": {},
   "outputs": [
    {
     "data": {
      "text/plain": [
       "array(['Stratford', 'Wimbledon', 'Bristol', 'York'], dtype=object)"
      ]
     },
     "execution_count": 8,
     "metadata": {},
     "output_type": "execute_result"
    }
   ],
   "source": [
    "target['Store'].unique()"
   ]
  },
  {
   "cell_type": "code",
   "execution_count": 9,
   "id": "f7ea3d26",
   "metadata": {},
   "outputs": [
    {
     "data": {
      "text/html": [
       "<div>\n",
       "<style scoped>\n",
       "    .dataframe tbody tr th:only-of-type {\n",
       "        vertical-align: middle;\n",
       "    }\n",
       "\n",
       "    .dataframe tbody tr th {\n",
       "        vertical-align: top;\n",
       "    }\n",
       "\n",
       "    .dataframe thead th {\n",
       "        text-align: right;\n",
       "    }\n",
       "</style>\n",
       "<table border=\"1\" class=\"dataframe\">\n",
       "  <thead>\n",
       "    <tr style=\"text-align: right;\">\n",
       "      <th></th>\n",
       "      <th>Store</th>\n",
       "      <th>Employee</th>\n",
       "      <th>Monthly Target</th>\n",
       "    </tr>\n",
       "  </thead>\n",
       "  <tbody>\n",
       "    <tr>\n",
       "      <th>0</th>\n",
       "      <td>Stratford</td>\n",
       "      <td>Julie</td>\n",
       "      <td>5000</td>\n",
       "    </tr>\n",
       "    <tr>\n",
       "      <th>1</th>\n",
       "      <td>Stratford</td>\n",
       "      <td>Pete</td>\n",
       "      <td>5000</td>\n",
       "    </tr>\n",
       "    <tr>\n",
       "      <th>2</th>\n",
       "      <td>Stratford</td>\n",
       "      <td>Jose</td>\n",
       "      <td>5000</td>\n",
       "    </tr>\n",
       "    <tr>\n",
       "      <th>3</th>\n",
       "      <td>Stratford</td>\n",
       "      <td>Andre</td>\n",
       "      <td>6000</td>\n",
       "    </tr>\n",
       "    <tr>\n",
       "      <th>4</th>\n",
       "      <td>Stratford</td>\n",
       "      <td>Edward</td>\n",
       "      <td>6000</td>\n",
       "    </tr>\n",
       "  </tbody>\n",
       "</table>\n",
       "</div>"
      ],
      "text/plain": [
       "       Store Employee  Monthly Target\n",
       "0  Stratford    Julie            5000\n",
       "1  Stratford     Pete            5000\n",
       "2  Stratford     Jose            5000\n",
       "3  Stratford    Andre            6000\n",
       "4  Stratford   Edward            6000"
      ]
     },
     "execution_count": 9,
     "metadata": {},
     "output_type": "execute_result"
    }
   ],
   "source": [
    "target.head()"
   ]
  },
  {
   "cell_type": "code",
   "execution_count": 10,
   "id": "14f67c38",
   "metadata": {},
   "outputs": [],
   "source": [
    "df = sales.merge(target, on=['Store','Employee'], how='left')\n",
    "df['met target'] = np.where(df['Sales'] >= df['Monthly Target'], 1, 0)"
   ]
  },
  {
   "cell_type": "code",
   "execution_count": 11,
   "id": "b1251385",
   "metadata": {},
   "outputs": [],
   "source": [
    "#For these employees, we also want to know the % of months that they met/exceeded their target\n",
    "df = df.groupby(['Store','Employee']).agg(a_m_s = ('Sales','mean'),\n",
    "                                         p_m_t =('met target','mean'),\n",
    "                                         m_t = ('Monthly Target','mean'))"
   ]
  },
  {
   "cell_type": "code",
   "execution_count": 12,
   "id": "292d3ac5",
   "metadata": {},
   "outputs": [],
   "source": [
    "#Filter the data so that only employees who are below 90% of their target on average remain\n",
    "df = df.loc[df['a_m_s'] < df['m_t']*0.9]"
   ]
  },
  {
   "cell_type": "code",
   "execution_count": 13,
   "id": "fc10a307",
   "metadata": {},
   "outputs": [],
   "source": [
    "df['p_m_t'] = (df['p_m_t']*100).round(0)\n",
    "df['a_m_s'] = df['a_m_s'].round(0)"
   ]
  },
  {
   "cell_type": "code",
   "execution_count": 14,
   "id": "d87de370",
   "metadata": {},
   "outputs": [],
   "source": [
    "df.rename(columns={'a_m_s':'Avg monthly Sales','p_m_t':'% of months target met','m_t':'Monthly Target'}, inplace=True)"
   ]
  },
  {
   "cell_type": "code",
   "execution_count": 15,
   "id": "5a280e28",
   "metadata": {},
   "outputs": [
    {
     "data": {
      "text/html": [
       "<div>\n",
       "<style scoped>\n",
       "    .dataframe tbody tr th:only-of-type {\n",
       "        vertical-align: middle;\n",
       "    }\n",
       "\n",
       "    .dataframe tbody tr th {\n",
       "        vertical-align: top;\n",
       "    }\n",
       "\n",
       "    .dataframe thead th {\n",
       "        text-align: right;\n",
       "    }\n",
       "</style>\n",
       "<table border=\"1\" class=\"dataframe\">\n",
       "  <thead>\n",
       "    <tr style=\"text-align: right;\">\n",
       "      <th></th>\n",
       "      <th></th>\n",
       "      <th>Avg monthly Sales</th>\n",
       "      <th>% of months target met</th>\n",
       "      <th>Monthly Target</th>\n",
       "    </tr>\n",
       "    <tr>\n",
       "      <th>Store</th>\n",
       "      <th>Employee</th>\n",
       "      <th></th>\n",
       "      <th></th>\n",
       "      <th></th>\n",
       "    </tr>\n",
       "  </thead>\n",
       "  <tbody>\n",
       "    <tr>\n",
       "      <th>Stratford</th>\n",
       "      <th>Jose</th>\n",
       "      <td>4073.0</td>\n",
       "      <td>57.0</td>\n",
       "      <td>5000.0</td>\n",
       "    </tr>\n",
       "    <tr>\n",
       "      <th rowspan=\"3\" valign=\"top\">Wimbledon</th>\n",
       "      <th>Edward</th>\n",
       "      <td>4391.0</td>\n",
       "      <td>29.0</td>\n",
       "      <td>5000.0</td>\n",
       "    </tr>\n",
       "    <tr>\n",
       "      <th>Francis</th>\n",
       "      <td>4447.0</td>\n",
       "      <td>43.0</td>\n",
       "      <td>5000.0</td>\n",
       "    </tr>\n",
       "    <tr>\n",
       "      <th>Quentin</th>\n",
       "      <td>3387.0</td>\n",
       "      <td>43.0</td>\n",
       "      <td>4000.0</td>\n",
       "    </tr>\n",
       "  </tbody>\n",
       "</table>\n",
       "</div>"
      ],
      "text/plain": [
       "                    Avg monthly Sales  % of months target met  Monthly Target\n",
       "Store     Employee                                                           \n",
       "Stratford Jose                 4073.0                    57.0          5000.0\n",
       "Wimbledon Edward               4391.0                    29.0          5000.0\n",
       "          Francis              4447.0                    43.0          5000.0\n",
       "          Quentin              3387.0                    43.0          4000.0"
      ]
     },
     "execution_count": 15,
     "metadata": {},
     "output_type": "execute_result"
    }
   ],
   "source": [
    "df.head()"
   ]
  },
  {
   "cell_type": "code",
   "execution_count": 16,
   "id": "fa34b6a6",
   "metadata": {},
   "outputs": [],
   "source": [
    "#output the data\n",
    "df.to_csv('wk34-output.csv', index=False)"
   ]
  }
 ],
 "metadata": {
  "kernelspec": {
   "display_name": "Python 3 (ipykernel)",
   "language": "python",
   "name": "python3"
  },
  "language_info": {
   "codemirror_mode": {
    "name": "ipython",
    "version": 3
   },
   "file_extension": ".py",
   "mimetype": "text/x-python",
   "name": "python",
   "nbconvert_exporter": "python",
   "pygments_lexer": "ipython3",
   "version": "3.9.7"
  }
 },
 "nbformat": 4,
 "nbformat_minor": 5
}
