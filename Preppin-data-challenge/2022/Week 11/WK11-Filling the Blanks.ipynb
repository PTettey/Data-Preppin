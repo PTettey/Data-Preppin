{
 "cells": [
  {
   "cell_type": "markdown",
   "id": "dc7a3ef9",
   "metadata": {},
   "source": [
    "### Prepping Data Challenge: Filling the Blanks (Week 11)\n",
    "\n",
    "Dealing with gaps in data sets is something any data prepper will have to deal with frequently. At the Prep School, some of our attendance recording isn't filled in well. \n",
    "\n",
    "Each lesson is taught at the same time, on the same day.\n",
    "\n",
    "### Requirements\n",
    "- Input the data set\n",
    "- Fill in the blanks \n",
    "- Find the average Attendance per Lesson and Subject per weekday\n",
    "- Output the data"
   ]
  },
  {
   "cell_type": "code",
   "execution_count": 1,
   "id": "7b263fab",
   "metadata": {},
   "outputs": [],
   "source": [
    "import pandas as pd"
   ]
  },
  {
   "cell_type": "code",
   "execution_count": 2,
   "id": "077cd1f1",
   "metadata": {
    "scrolled": true
   },
   "outputs": [],
   "source": [
    "# Input the data.\n",
    "df = pd.read_csv('WK11-PD Fill the Blanks challenge.csv')"
   ]
  },
  {
   "cell_type": "code",
   "execution_count": 3,
   "id": "61267301",
   "metadata": {},
   "outputs": [
    {
     "data": {
      "text/html": [
       "<div>\n",
       "<style scoped>\n",
       "    .dataframe tbody tr th:only-of-type {\n",
       "        vertical-align: middle;\n",
       "    }\n",
       "\n",
       "    .dataframe tbody tr th {\n",
       "        vertical-align: top;\n",
       "    }\n",
       "\n",
       "    .dataframe thead th {\n",
       "        text-align: right;\n",
       "    }\n",
       "</style>\n",
       "<table border=\"1\" class=\"dataframe\">\n",
       "  <thead>\n",
       "    <tr style=\"text-align: right;\">\n",
       "      <th></th>\n",
       "      <th>Weekday</th>\n",
       "      <th>Week</th>\n",
       "      <th>Teacher</th>\n",
       "      <th>Lesson Time</th>\n",
       "      <th>Lesson Name</th>\n",
       "      <th>Subject</th>\n",
       "      <th>Attendance</th>\n",
       "    </tr>\n",
       "  </thead>\n",
       "  <tbody>\n",
       "    <tr>\n",
       "      <th>0</th>\n",
       "      <td>Monday</td>\n",
       "      <td>1</td>\n",
       "      <td>J. Martin</td>\n",
       "      <td>09:00</td>\n",
       "      <td>Statistics</td>\n",
       "      <td>Maths</td>\n",
       "      <td>24</td>\n",
       "    </tr>\n",
       "    <tr>\n",
       "      <th>1</th>\n",
       "      <td>Monday</td>\n",
       "      <td>2</td>\n",
       "      <td>J. Martin</td>\n",
       "      <td>09:00</td>\n",
       "      <td>Statistics</td>\n",
       "      <td>Maths</td>\n",
       "      <td>12</td>\n",
       "    </tr>\n",
       "    <tr>\n",
       "      <th>2</th>\n",
       "      <td>Monday</td>\n",
       "      <td>3</td>\n",
       "      <td>J. Martin</td>\n",
       "      <td>09:00</td>\n",
       "      <td>NaN</td>\n",
       "      <td>NaN</td>\n",
       "      <td>20</td>\n",
       "    </tr>\n",
       "    <tr>\n",
       "      <th>3</th>\n",
       "      <td>Monday</td>\n",
       "      <td>4</td>\n",
       "      <td>J. Martin</td>\n",
       "      <td>09:00</td>\n",
       "      <td>NaN</td>\n",
       "      <td>NaN</td>\n",
       "      <td>24</td>\n",
       "    </tr>\n",
       "    <tr>\n",
       "      <th>4</th>\n",
       "      <td>Monday</td>\n",
       "      <td>1</td>\n",
       "      <td>T. Prowse</td>\n",
       "      <td>14:00</td>\n",
       "      <td>Literature</td>\n",
       "      <td>English</td>\n",
       "      <td>21</td>\n",
       "    </tr>\n",
       "  </tbody>\n",
       "</table>\n",
       "</div>"
      ],
      "text/plain": [
       "  Weekday  Week    Teacher Lesson Time Lesson Name  Subject  Attendance\n",
       "0  Monday     1  J. Martin       09:00  Statistics    Maths          24\n",
       "1  Monday     2  J. Martin       09:00  Statistics    Maths          12\n",
       "2  Monday     3  J. Martin       09:00         NaN      NaN          20\n",
       "3  Monday     4  J. Martin       09:00         NaN      NaN          24\n",
       "4  Monday     1  T. Prowse       14:00  Literature  English          21"
      ]
     },
     "execution_count": 3,
     "metadata": {},
     "output_type": "execute_result"
    }
   ],
   "source": [
    "df.head()"
   ]
  },
  {
   "cell_type": "code",
   "execution_count": 4,
   "id": "475da926",
   "metadata": {},
   "outputs": [
    {
     "name": "stdout",
     "output_type": "stream",
     "text": [
      "<class 'pandas.core.frame.DataFrame'>\n",
      "RangeIndex: 40 entries, 0 to 39\n",
      "Data columns (total 7 columns):\n",
      " #   Column       Non-Null Count  Dtype \n",
      "---  ------       --------------  ----- \n",
      " 0   Weekday      40 non-null     object\n",
      " 1   Week         40 non-null     int64 \n",
      " 2   Teacher      40 non-null     object\n",
      " 3   Lesson Time  40 non-null     object\n",
      " 4   Lesson Name  27 non-null     object\n",
      " 5   Subject      25 non-null     object\n",
      " 6   Attendance   40 non-null     int64 \n",
      "dtypes: int64(2), object(5)\n",
      "memory usage: 2.3+ KB\n"
     ]
    }
   ],
   "source": [
    "df.info()"
   ]
  },
  {
   "cell_type": "code",
   "execution_count": 5,
   "id": "ad0e5c0a",
   "metadata": {},
   "outputs": [
    {
     "data": {
      "text/plain": [
       "array(['J. Martin', 'T. Prowse', 'C. Allchin', 'O. Feather'], dtype=object)"
      ]
     },
     "execution_count": 5,
     "metadata": {},
     "output_type": "execute_result"
    }
   ],
   "source": [
    "df['Teacher'].unique()"
   ]
  },
  {
   "cell_type": "code",
   "execution_count": 6,
   "id": "fb5921e3",
   "metadata": {},
   "outputs": [
    {
     "data": {
      "text/plain": [
       "array(['Statistics', nan, 'Literature', 'Chemistry', 'Rugby', 'Algebra',\n",
       "       'Poetry', 'Biology', 'Basketball', 'Discrete', 'Prose'],\n",
       "      dtype=object)"
      ]
     },
     "execution_count": 6,
     "metadata": {},
     "output_type": "execute_result"
    }
   ],
   "source": [
    "df['Lesson Name'].unique()"
   ]
  },
  {
   "cell_type": "code",
   "execution_count": 7,
   "id": "54eedddb",
   "metadata": {},
   "outputs": [],
   "source": [
    "#Fill in the blanks\n",
    "df['Lesson Name'] = df.groupby(['Teacher','Weekday'])['Lesson Name'].ffill().bfill()\n",
    "df['Subject'] = df.groupby('Teacher')['Subject'].ffill().bfill()"
   ]
  },
  {
   "cell_type": "code",
   "execution_count": 8,
   "id": "0ce781de",
   "metadata": {},
   "outputs": [],
   "source": [
    "#Find the average Attendance per Lesson and Subject per weekday\n",
    "df[\"Avg. Attendance per Subject & Lesson\"] = df.groupby(['Lesson Name','Subject'])['Attendance'].transform('mean')"
   ]
  },
  {
   "cell_type": "code",
   "execution_count": 9,
   "id": "c6a8b3de",
   "metadata": {},
   "outputs": [],
   "source": [
    "df = df.rename(columns={'Lesson Time':'Time'})"
   ]
  },
  {
   "cell_type": "code",
   "execution_count": 10,
   "id": "b4c7fe34",
   "metadata": {},
   "outputs": [],
   "source": [
    "df['Time'] = df['Time']+':00'"
   ]
  },
  {
   "cell_type": "code",
   "execution_count": 11,
   "id": "b775680e",
   "metadata": {},
   "outputs": [
    {
     "data": {
      "text/html": [
       "<div>\n",
       "<style scoped>\n",
       "    .dataframe tbody tr th:only-of-type {\n",
       "        vertical-align: middle;\n",
       "    }\n",
       "\n",
       "    .dataframe tbody tr th {\n",
       "        vertical-align: top;\n",
       "    }\n",
       "\n",
       "    .dataframe thead th {\n",
       "        text-align: right;\n",
       "    }\n",
       "</style>\n",
       "<table border=\"1\" class=\"dataframe\">\n",
       "  <thead>\n",
       "    <tr style=\"text-align: right;\">\n",
       "      <th></th>\n",
       "      <th>Weekday</th>\n",
       "      <th>Week</th>\n",
       "      <th>Teacher</th>\n",
       "      <th>Time</th>\n",
       "      <th>Lesson Name</th>\n",
       "      <th>Subject</th>\n",
       "      <th>Attendance</th>\n",
       "      <th>Avg. Attendance per Subject &amp; Lesson</th>\n",
       "    </tr>\n",
       "  </thead>\n",
       "  <tbody>\n",
       "    <tr>\n",
       "      <th>0</th>\n",
       "      <td>Monday</td>\n",
       "      <td>1</td>\n",
       "      <td>J. Martin</td>\n",
       "      <td>09:00:00</td>\n",
       "      <td>Statistics</td>\n",
       "      <td>Maths</td>\n",
       "      <td>24</td>\n",
       "      <td>20.0</td>\n",
       "    </tr>\n",
       "    <tr>\n",
       "      <th>1</th>\n",
       "      <td>Monday</td>\n",
       "      <td>2</td>\n",
       "      <td>J. Martin</td>\n",
       "      <td>09:00:00</td>\n",
       "      <td>Statistics</td>\n",
       "      <td>Maths</td>\n",
       "      <td>12</td>\n",
       "      <td>20.0</td>\n",
       "    </tr>\n",
       "    <tr>\n",
       "      <th>2</th>\n",
       "      <td>Monday</td>\n",
       "      <td>3</td>\n",
       "      <td>J. Martin</td>\n",
       "      <td>09:00:00</td>\n",
       "      <td>Statistics</td>\n",
       "      <td>Maths</td>\n",
       "      <td>20</td>\n",
       "      <td>20.0</td>\n",
       "    </tr>\n",
       "    <tr>\n",
       "      <th>3</th>\n",
       "      <td>Monday</td>\n",
       "      <td>4</td>\n",
       "      <td>J. Martin</td>\n",
       "      <td>09:00:00</td>\n",
       "      <td>Statistics</td>\n",
       "      <td>Maths</td>\n",
       "      <td>24</td>\n",
       "      <td>20.0</td>\n",
       "    </tr>\n",
       "    <tr>\n",
       "      <th>4</th>\n",
       "      <td>Monday</td>\n",
       "      <td>1</td>\n",
       "      <td>T. Prowse</td>\n",
       "      <td>14:00:00</td>\n",
       "      <td>Literature</td>\n",
       "      <td>English</td>\n",
       "      <td>21</td>\n",
       "      <td>16.5</td>\n",
       "    </tr>\n",
       "    <tr>\n",
       "      <th>5</th>\n",
       "      <td>Monday</td>\n",
       "      <td>2</td>\n",
       "      <td>T. Prowse</td>\n",
       "      <td>14:00:00</td>\n",
       "      <td>Literature</td>\n",
       "      <td>English</td>\n",
       "      <td>15</td>\n",
       "      <td>16.5</td>\n",
       "    </tr>\n",
       "    <tr>\n",
       "      <th>6</th>\n",
       "      <td>Monday</td>\n",
       "      <td>3</td>\n",
       "      <td>T. Prowse</td>\n",
       "      <td>14:00:00</td>\n",
       "      <td>Literature</td>\n",
       "      <td>English</td>\n",
       "      <td>13</td>\n",
       "      <td>16.5</td>\n",
       "    </tr>\n",
       "    <tr>\n",
       "      <th>7</th>\n",
       "      <td>Monday</td>\n",
       "      <td>4</td>\n",
       "      <td>T. Prowse</td>\n",
       "      <td>14:00:00</td>\n",
       "      <td>Literature</td>\n",
       "      <td>English</td>\n",
       "      <td>17</td>\n",
       "      <td>16.5</td>\n",
       "    </tr>\n",
       "    <tr>\n",
       "      <th>8</th>\n",
       "      <td>Tuesday</td>\n",
       "      <td>1</td>\n",
       "      <td>C. Allchin</td>\n",
       "      <td>09:00:00</td>\n",
       "      <td>Chemistry</td>\n",
       "      <td>Science</td>\n",
       "      <td>13</td>\n",
       "      <td>24.0</td>\n",
       "    </tr>\n",
       "    <tr>\n",
       "      <th>9</th>\n",
       "      <td>Tuesday</td>\n",
       "      <td>2</td>\n",
       "      <td>C. Allchin</td>\n",
       "      <td>09:00:00</td>\n",
       "      <td>Chemistry</td>\n",
       "      <td>Science</td>\n",
       "      <td>30</td>\n",
       "      <td>24.0</td>\n",
       "    </tr>\n",
       "  </tbody>\n",
       "</table>\n",
       "</div>"
      ],
      "text/plain": [
       "   Weekday  Week     Teacher      Time Lesson Name  Subject  Attendance  \\\n",
       "0   Monday     1   J. Martin  09:00:00  Statistics    Maths          24   \n",
       "1   Monday     2   J. Martin  09:00:00  Statistics    Maths          12   \n",
       "2   Monday     3   J. Martin  09:00:00  Statistics    Maths          20   \n",
       "3   Monday     4   J. Martin  09:00:00  Statistics    Maths          24   \n",
       "4   Monday     1   T. Prowse  14:00:00  Literature  English          21   \n",
       "5   Monday     2   T. Prowse  14:00:00  Literature  English          15   \n",
       "6   Monday     3   T. Prowse  14:00:00  Literature  English          13   \n",
       "7   Monday     4   T. Prowse  14:00:00  Literature  English          17   \n",
       "8  Tuesday     1  C. Allchin  09:00:00   Chemistry  Science          13   \n",
       "9  Tuesday     2  C. Allchin  09:00:00   Chemistry  Science          30   \n",
       "\n",
       "   Avg. Attendance per Subject & Lesson  \n",
       "0                                  20.0  \n",
       "1                                  20.0  \n",
       "2                                  20.0  \n",
       "3                                  20.0  \n",
       "4                                  16.5  \n",
       "5                                  16.5  \n",
       "6                                  16.5  \n",
       "7                                  16.5  \n",
       "8                                  24.0  \n",
       "9                                  24.0  "
      ]
     },
     "execution_count": 11,
     "metadata": {},
     "output_type": "execute_result"
    }
   ],
   "source": [
    "df.head(10)"
   ]
  },
  {
   "cell_type": "code",
   "execution_count": 12,
   "id": "85f20872",
   "metadata": {},
   "outputs": [],
   "source": [
    "#output the data\n",
    "df.to_csv('wk11-output.csv', index=False)"
   ]
  }
 ],
 "metadata": {
  "kernelspec": {
   "display_name": "Tetteyanalysis",
   "language": "python",
   "name": "tetteyanalysis"
  },
  "language_info": {
   "codemirror_mode": {
    "name": "ipython",
    "version": 3
   },
   "file_extension": ".py",
   "mimetype": "text/x-python",
   "name": "python",
   "nbconvert_exporter": "python",
   "pygments_lexer": "ipython3",
   "version": "3.7.11"
  }
 },
 "nbformat": 4,
 "nbformat_minor": 5
}
