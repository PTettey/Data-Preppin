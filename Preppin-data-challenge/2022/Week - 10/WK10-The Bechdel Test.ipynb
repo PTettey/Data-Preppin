{
 "cells": [
  {
   "cell_type": "markdown",
   "id": "dc7a3ef9",
   "metadata": {},
   "source": [
    "### Prepping Data Challenge: The Bechdel Test (Week 10)\n",
    "\n",
    "If you're unfamiliar, there are 3 criteria to passing the Bechdel Test:\n",
    "\n",
    "1. The film has to have at least two [named] women in it,\n",
    "2. who talk to each other,\n",
    "3. about something besides a man\n",
    "\n",
    "### Inputs\n",
    "We are taking our data from this website for this challenge. It has been webscraped to a certain point and we will continue parsing out the data. As part of cleaning up the data, we have to deal with various html codes from different symbols.\n",
    "\n",
    "### Requirements\n",
    "- Input the data\n",
    "- Parse out the data in the Download Data field so that we have one field containing the Movie title and one field containing information about whether of not the movie passes the Bechdel Test\n",
    "Before we deal with the majority of the html codes, I would recommend replacing <code>&amp;</code> instances with <code>'&'</code> because of this film on the website incorrectly converting the html code \n",
    "- Extract the html codes from the Movie titles\n",
    "  - These will always start with a '&' and end with a ';'\n",
    "  - The maximum number of html codes in a Movie title is 5\n",
    "- Replace the html codes with their correct characters\n",
    "  - Ensure that codes which match up to spaces have a space in their character cell rather than a null value\n",
    "- Parse out the information for whether a film passes or fails the Bechdel test as well as the detailed reasoning behind this\n",
    "- Rank the Bechdel Test Categorisations from 1 to 5, 1 being the best result, 5 being the worst result\n",
    "- Where a film has multiple categorisations, keep only the worse ranking, even if this means the movie moves from pass to fail\n",
    "- Output the data"
   ]
  },
  {
   "cell_type": "code",
   "execution_count": 1,
   "id": "7b263fab",
   "metadata": {},
   "outputs": [],
   "source": [
    "import pandas as pd\n",
    "from re import sub"
   ]
  },
  {
   "cell_type": "code",
   "execution_count": 2,
   "id": "077cd1f1",
   "metadata": {
    "scrolled": true
   },
   "outputs": [],
   "source": [
    "# Input the data.\n",
    "with pd.ExcelFile('WK10-PD Bechdel Test.xlsx') as xlsx:\n",
    "    web = pd.read_excel(xlsx, 'Webscraping')\n",
    "    html = pd.read_excel(xlsx, 'html')"
   ]
  },
  {
   "cell_type": "code",
   "execution_count": 3,
   "id": "61267301",
   "metadata": {},
   "outputs": [
    {
     "data": {
      "text/html": [
       "<div>\n",
       "<style scoped>\n",
       "    .dataframe tbody tr th:only-of-type {\n",
       "        vertical-align: middle;\n",
       "    }\n",
       "\n",
       "    .dataframe tbody tr th {\n",
       "        vertical-align: top;\n",
       "    }\n",
       "\n",
       "    .dataframe thead th {\n",
       "        text-align: right;\n",
       "    }\n",
       "</style>\n",
       "<table border=\"1\" class=\"dataframe\">\n",
       "  <thead>\n",
       "    <tr style=\"text-align: right;\">\n",
       "      <th></th>\n",
       "      <th>DownloadData</th>\n",
       "      <th>Year</th>\n",
       "    </tr>\n",
       "  </thead>\n",
       "  <tbody>\n",
       "    <tr>\n",
       "      <th>0</th>\n",
       "      <td>&lt;a href=\"http://us.imdb.com/title/tt3155794/\"&gt;...</td>\n",
       "      <td>1874</td>\n",
       "    </tr>\n",
       "    <tr>\n",
       "      <th>1</th>\n",
       "      <td>&lt;a href=\"http://us.imdb.com/title/tt14495706/\"...</td>\n",
       "      <td>1877</td>\n",
       "    </tr>\n",
       "    <tr>\n",
       "      <th>2</th>\n",
       "      <td>&lt;a href=\"http://us.imdb.com/title/tt12592084/\"...</td>\n",
       "      <td>1878</td>\n",
       "    </tr>\n",
       "    <tr>\n",
       "      <th>3</th>\n",
       "      <td>&lt;a href=\"http://us.imdb.com/title/tt2221420/\"&gt;...</td>\n",
       "      <td>1878</td>\n",
       "    </tr>\n",
       "    <tr>\n",
       "      <th>4</th>\n",
       "      <td>&lt;a href=\"http://us.imdb.com/title/tt7816420/\"&gt;...</td>\n",
       "      <td>1881</td>\n",
       "    </tr>\n",
       "  </tbody>\n",
       "</table>\n",
       "</div>"
      ],
      "text/plain": [
       "                                        DownloadData  Year\n",
       "0  <a href=\"http://us.imdb.com/title/tt3155794/\">...  1874\n",
       "1  <a href=\"http://us.imdb.com/title/tt14495706/\"...  1877\n",
       "2  <a href=\"http://us.imdb.com/title/tt12592084/\"...  1878\n",
       "3  <a href=\"http://us.imdb.com/title/tt2221420/\">...  1878\n",
       "4  <a href=\"http://us.imdb.com/title/tt7816420/\">...  1881"
      ]
     },
     "execution_count": 3,
     "metadata": {},
     "output_type": "execute_result"
    }
   ],
   "source": [
    "web.head()"
   ]
  },
  {
   "cell_type": "code",
   "execution_count": 4,
   "id": "54eedddb",
   "metadata": {},
   "outputs": [
    {
     "data": {
      "text/html": [
       "<div>\n",
       "<style scoped>\n",
       "    .dataframe tbody tr th:only-of-type {\n",
       "        vertical-align: middle;\n",
       "    }\n",
       "\n",
       "    .dataframe tbody tr th {\n",
       "        vertical-align: top;\n",
       "    }\n",
       "\n",
       "    .dataframe thead th {\n",
       "        text-align: right;\n",
       "    }\n",
       "</style>\n",
       "<table border=\"1\" class=\"dataframe\">\n",
       "  <thead>\n",
       "    <tr style=\"text-align: right;\">\n",
       "      <th></th>\n",
       "      <th>Char</th>\n",
       "      <th>Numeric</th>\n",
       "      <th>Named</th>\n",
       "      <th>Description</th>\n",
       "    </tr>\n",
       "  </thead>\n",
       "  <tbody>\n",
       "    <tr>\n",
       "      <th>0</th>\n",
       "      <td>NaN</td>\n",
       "      <td>code</td>\n",
       "      <td>code</td>\n",
       "      <td>NaN</td>\n",
       "    </tr>\n",
       "    <tr>\n",
       "      <th>1</th>\n",
       "      <td>NaN</td>\n",
       "      <td>&amp;#32;</td>\n",
       "      <td>NaN</td>\n",
       "      <td>space</td>\n",
       "    </tr>\n",
       "    <tr>\n",
       "      <th>2</th>\n",
       "      <td>!</td>\n",
       "      <td>&amp;#33;</td>\n",
       "      <td>NaN</td>\n",
       "      <td>exclamation mark</td>\n",
       "    </tr>\n",
       "    <tr>\n",
       "      <th>3</th>\n",
       "      <td>\"</td>\n",
       "      <td>&amp;#34;</td>\n",
       "      <td>&amp;quot;</td>\n",
       "      <td>double quote</td>\n",
       "    </tr>\n",
       "    <tr>\n",
       "      <th>4</th>\n",
       "      <td>#</td>\n",
       "      <td>&amp;#35;</td>\n",
       "      <td>NaN</td>\n",
       "      <td>number</td>\n",
       "    </tr>\n",
       "  </tbody>\n",
       "</table>\n",
       "</div>"
      ],
      "text/plain": [
       "  Char Numeric   Named       Description\n",
       "0  NaN    code    code               NaN\n",
       "1  NaN   &#32;     NaN             space\n",
       "2    !   &#33;     NaN  exclamation mark\n",
       "3    \"   &#34;  &quot;      double quote\n",
       "4    #   &#35;     NaN            number"
      ]
     },
     "execution_count": 4,
     "metadata": {},
     "output_type": "execute_result"
    }
   ],
   "source": [
    "html.head()"
   ]
  },
  {
   "cell_type": "code",
   "execution_count": 5,
   "id": "ad0e5c0a",
   "metadata": {},
   "outputs": [],
   "source": [
    "#Parse out the data in the Download Data field so that we have one field containing the Movie title \n",
    "#and one field containing information about whether of not the movie passes the Bechdel Test\n",
    "#web[\"Movie\"] = web['DownloadData'].str.extract('view/[0-9]+/[([\\$#:.a-zA-Z?<_&\\s=>0-9;,\\-()\\'\"!\\[\\]\\/]+/\">([([\\$#:.a-zA-Z?_&\\s=0-9;,\\-()\\'\"!\\[\\]\\/]+)')\n",
    "web[\"Movie\"] = web['DownloadData'].str.extract('view/[0-9]+.*?>(.*?)<.*')\n",
    "web[\"Categorisation\"] = web['DownloadData'].str.extract('\\[\\[\\d]\\]\"\\s+title=\"\\[(.*?)\\].*?')\n",
    "#web[\"Categorisation\"] = web['DownloadData'].str.extract('\\[\\[\\d]\\]\"\\s+title=\"\\[([:.a-zA-Z?<_&\\s=>0-9;,\\-()\\']+)')\n",
    "web[\"Pass/Fail\"] = web['DownloadData'].str.extract(\"static*\\/([a-z]+)\\.png\")"
   ]
  },
  {
   "cell_type": "code",
   "execution_count": 6,
   "id": "0ce781de",
   "metadata": {},
   "outputs": [
    {
     "data": {
      "text/plain": [
       "0"
      ]
     },
     "execution_count": 6,
     "metadata": {},
     "output_type": "execute_result"
    }
   ],
   "source": [
    "web['Movie'].isnull().sum()"
   ]
  },
  {
   "cell_type": "code",
   "execution_count": 7,
   "id": "3fa07f71",
   "metadata": {},
   "outputs": [],
   "source": [
    "#web['Movie'].isnull().sum()\n",
    "html.fillna(\" \", inplace = True)"
   ]
  },
  {
   "cell_type": "code",
   "execution_count": 8,
   "id": "b775680e",
   "metadata": {},
   "outputs": [],
   "source": [
    "html = html.drop(labels=0, axis=0)"
   ]
  },
  {
   "cell_type": "code",
   "execution_count": 9,
   "id": "a49addd4",
   "metadata": {},
   "outputs": [
    {
     "data": {
      "text/html": [
       "<div>\n",
       "<style scoped>\n",
       "    .dataframe tbody tr th:only-of-type {\n",
       "        vertical-align: middle;\n",
       "    }\n",
       "\n",
       "    .dataframe tbody tr th {\n",
       "        vertical-align: top;\n",
       "    }\n",
       "\n",
       "    .dataframe thead th {\n",
       "        text-align: right;\n",
       "    }\n",
       "</style>\n",
       "<table border=\"1\" class=\"dataframe\">\n",
       "  <thead>\n",
       "    <tr style=\"text-align: right;\">\n",
       "      <th></th>\n",
       "      <th>Char</th>\n",
       "      <th>Numeric</th>\n",
       "      <th>Named</th>\n",
       "      <th>Description</th>\n",
       "    </tr>\n",
       "  </thead>\n",
       "  <tbody>\n",
       "    <tr>\n",
       "      <th>1</th>\n",
       "      <td></td>\n",
       "      <td>&amp;#32;</td>\n",
       "      <td></td>\n",
       "      <td>space</td>\n",
       "    </tr>\n",
       "    <tr>\n",
       "      <th>2</th>\n",
       "      <td>!</td>\n",
       "      <td>&amp;#33;</td>\n",
       "      <td></td>\n",
       "      <td>exclamation mark</td>\n",
       "    </tr>\n",
       "    <tr>\n",
       "      <th>3</th>\n",
       "      <td>\"</td>\n",
       "      <td>&amp;#34;</td>\n",
       "      <td>&amp;quot;</td>\n",
       "      <td>double quote</td>\n",
       "    </tr>\n",
       "    <tr>\n",
       "      <th>4</th>\n",
       "      <td>#</td>\n",
       "      <td>&amp;#35;</td>\n",
       "      <td></td>\n",
       "      <td>number</td>\n",
       "    </tr>\n",
       "    <tr>\n",
       "      <th>5</th>\n",
       "      <td>$</td>\n",
       "      <td>&amp;#36;</td>\n",
       "      <td></td>\n",
       "      <td>dollar</td>\n",
       "    </tr>\n",
       "  </tbody>\n",
       "</table>\n",
       "</div>"
      ],
      "text/plain": [
       "  Char Numeric   Named       Description\n",
       "1        &#32;                     space\n",
       "2    !   &#33;          exclamation mark\n",
       "3    \"   &#34;  &quot;      double quote\n",
       "4    #   &#35;                    number\n",
       "5    $   &#36;                    dollar"
      ]
     },
     "execution_count": 9,
     "metadata": {},
     "output_type": "execute_result"
    }
   ],
   "source": [
    "html.head()"
   ]
  },
  {
   "cell_type": "code",
   "execution_count": 10,
   "id": "e0e789d6",
   "metadata": {},
   "outputs": [],
   "source": [
    "#Extract the html codes from the Movie titles\n",
    "#Replace the html codes with their correct characters\n",
    "numeric_dict = dict(zip(html['Numeric'], html[\"Char\"]))\n",
    "named_dict = dict(zip(html['Named'], html[\"Char\"]))\n",
    "T_dict = [numeric_dict, named_dict]\n",
    "pattern = ['(?P<html_code>&#\\[0-9]+;)', '(?P<html_code>&.*?;)']"
   ]
  },
  {
   "cell_type": "code",
   "execution_count": 11,
   "id": "4ebffb5d",
   "metadata": {},
   "outputs": [],
   "source": [
    "#Replace the html codes with their correct characters\n",
    "for p, t in zip(pattern, T_dict):\n",
    "    def new_html(n):\n",
    "        return t.get(n.group('html_code'))\n",
    "    web['Movie'] = web['Movie'].apply(lambda x: sub(p, new_html, x))"
   ]
  },
  {
   "cell_type": "code",
   "execution_count": 12,
   "id": "f2949d7f",
   "metadata": {},
   "outputs": [
    {
     "data": {
      "text/plain": [
       "array(['Passage de Venus', 'La Rosace Magique', 'Le singe musicien', ...,\n",
       "       'Without Remorse', 'Zack Snyders Justice League', 'The 355'],\n",
       "      dtype=object)"
      ]
     },
     "execution_count": 12,
     "metadata": {},
     "output_type": "execute_result"
    }
   ],
   "source": [
    "web['Movie'].unique()"
   ]
  },
  {
   "cell_type": "code",
   "execution_count": 13,
   "id": "80f7f21b",
   "metadata": {},
   "outputs": [
    {
     "data": {
      "text/plain": [
       "array(['Fewer than two women in this movie',\n",
       "       \"There are two or more women in this movie, but they don't talk to each other\",\n",
       "       'There are two or more women in this movie and they talk to each other about something other than a man',\n",
       "       'There are two or more women in this movie, but they only talk to each other about a man',\n",
       "       'There are two or more women in this movie and they talk to each other about something other than a man, although dubious'],\n",
       "      dtype=object)"
      ]
     },
     "execution_count": 13,
     "metadata": {},
     "output_type": "execute_result"
    }
   ],
   "source": [
    "web[\"Categorisation\"].unique()"
   ]
  },
  {
   "cell_type": "code",
   "execution_count": 14,
   "id": "4db1c2eb",
   "metadata": {},
   "outputs": [],
   "source": [
    "#Parse out the information for whether a film passes or fails the Bechdel test as well as the detailed reasoning behind this\n",
    "web['Pass/Fail'] = web['Pass/Fail'].apply(lambda x: 'Pass' if x == 'pass' else 'Fail')"
   ]
  },
  {
   "cell_type": "code",
   "execution_count": 15,
   "id": "a3b632cf",
   "metadata": {},
   "outputs": [
    {
     "data": {
      "text/plain": [
       "array(['Fail', 'Pass'], dtype=object)"
      ]
     },
     "execution_count": 15,
     "metadata": {},
     "output_type": "execute_result"
    }
   ],
   "source": [
    "web['Pass/Fail'].unique()"
   ]
  },
  {
   "cell_type": "code",
   "execution_count": 16,
   "id": "e6b8096e",
   "metadata": {},
   "outputs": [],
   "source": [
    "#Rank the Bechdel Test Categorisations from 1 to 5, 1 being the best result, 5 being the worst result\n",
    "points = {'There are two or more women in this movie and they talk to each other about something other than a man' : 1, \n",
    "          'There are two or more women in this movie and they talk to each other about something other than a man, although dubious' : 2,\n",
    "          'There are two or more women in this movie, but they only talk to each other about a man' : 3, \n",
    "          \"There are two or more women in this movie, but they don't talk to each other\" : 4, \n",
    "          'Fewer than two women in this movie' : 5}\n",
    "web['Ranking'] = web['Categorisation'].map(points)"
   ]
  },
  {
   "cell_type": "code",
   "execution_count": 17,
   "id": "d0144d58",
   "metadata": {},
   "outputs": [],
   "source": [
    "#Where a film has multiple categorisations, keep only the worse ranking, even if this means the movie moves from pass to fail\n",
    "web = web.sort_values(by='Ranking', ascending=False)\\\n",
    "         .drop_duplicates(subset=['Movie','Year'])"
   ]
  },
  {
   "cell_type": "code",
   "execution_count": 18,
   "id": "c9dd01fb",
   "metadata": {},
   "outputs": [],
   "source": [
    "df = web[['Movie','Year','Pass/Fail','Ranking','Categorisation']]"
   ]
  },
  {
   "cell_type": "code",
   "execution_count": 19,
   "id": "ace1a492",
   "metadata": {},
   "outputs": [
    {
     "data": {
      "text/html": [
       "<div>\n",
       "<style scoped>\n",
       "    .dataframe tbody tr th:only-of-type {\n",
       "        vertical-align: middle;\n",
       "    }\n",
       "\n",
       "    .dataframe tbody tr th {\n",
       "        vertical-align: top;\n",
       "    }\n",
       "\n",
       "    .dataframe thead th {\n",
       "        text-align: right;\n",
       "    }\n",
       "</style>\n",
       "<table border=\"1\" class=\"dataframe\">\n",
       "  <thead>\n",
       "    <tr style=\"text-align: right;\">\n",
       "      <th></th>\n",
       "      <th>Movie</th>\n",
       "      <th>Year</th>\n",
       "      <th>Pass/Fail</th>\n",
       "      <th>Ranking</th>\n",
       "      <th>Categorisation</th>\n",
       "    </tr>\n",
       "  </thead>\n",
       "  <tbody>\n",
       "    <tr>\n",
       "      <th>0</th>\n",
       "      <td>Passage de Venus</td>\n",
       "      <td>1874</td>\n",
       "      <td>Fail</td>\n",
       "      <td>5</td>\n",
       "      <td>Fewer than two women in this movie</td>\n",
       "    </tr>\n",
       "    <tr>\n",
       "      <th>5921</th>\n",
       "      <td>The Corridor</td>\n",
       "      <td>2010</td>\n",
       "      <td>Fail</td>\n",
       "      <td>5</td>\n",
       "      <td>Fewer than two women in this movie</td>\n",
       "    </tr>\n",
       "    <tr>\n",
       "      <th>1297</th>\n",
       "      <td>Reconstruction</td>\n",
       "      <td>1968</td>\n",
       "      <td>Fail</td>\n",
       "      <td>5</td>\n",
       "      <td>Fewer than two women in this movie</td>\n",
       "    </tr>\n",
       "    <tr>\n",
       "      <th>1295</th>\n",
       "      <td>The Producers</td>\n",
       "      <td>1968</td>\n",
       "      <td>Fail</td>\n",
       "      <td>5</td>\n",
       "      <td>Fewer than two women in this movie</td>\n",
       "    </tr>\n",
       "    <tr>\n",
       "      <th>5897</th>\n",
       "      <td>Ca$h</td>\n",
       "      <td>2010</td>\n",
       "      <td>Fail</td>\n",
       "      <td>5</td>\n",
       "      <td>Fewer than two women in this movie</td>\n",
       "    </tr>\n",
       "  </tbody>\n",
       "</table>\n",
       "</div>"
      ],
      "text/plain": [
       "                 Movie  Year Pass/Fail  Ranking  \\\n",
       "0     Passage de Venus  1874      Fail        5   \n",
       "5921      The Corridor  2010      Fail        5   \n",
       "1297    Reconstruction  1968      Fail        5   \n",
       "1295     The Producers  1968      Fail        5   \n",
       "5897              Ca$h  2010      Fail        5   \n",
       "\n",
       "                          Categorisation  \n",
       "0     Fewer than two women in this movie  \n",
       "5921  Fewer than two women in this movie  \n",
       "1297  Fewer than two women in this movie  \n",
       "1295  Fewer than two women in this movie  \n",
       "5897  Fewer than two women in this movie  "
      ]
     },
     "execution_count": 19,
     "metadata": {},
     "output_type": "execute_result"
    }
   ],
   "source": [
    "df.head()"
   ]
  },
  {
   "cell_type": "code",
   "execution_count": 20,
   "id": "85f20872",
   "metadata": {},
   "outputs": [],
   "source": [
    "#output the dataset\n",
    "df.to_csv('wk10-output.csv', index=False)"
   ]
  }
 ],
 "metadata": {
  "kernelspec": {
   "display_name": "Tetteyanalysis",
   "language": "python",
   "name": "tetteyanalysis"
  },
  "language_info": {
   "codemirror_mode": {
    "name": "ipython",
    "version": 3
   },
   "file_extension": ".py",
   "mimetype": "text/x-python",
   "name": "python",
   "nbconvert_exporter": "python",
   "pygments_lexer": "ipython3",
   "version": "3.7.11"
  }
 },
 "nbformat": 4,
 "nbformat_minor": 5
}
