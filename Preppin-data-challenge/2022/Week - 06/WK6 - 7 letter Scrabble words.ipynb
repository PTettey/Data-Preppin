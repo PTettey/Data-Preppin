{
 "cells": [
  {
   "cell_type": "markdown",
   "id": "dc7a3ef9",
   "metadata": {},
   "source": [
    "### Prepping Data Challenge: 7 letter Scrabble Words (Week 6)\n",
    "\n",
    "For this challenge, we're going to take a look at 7 letter words which could be potentially high scoring in Scrabble and work out the likelihood of drawing the tiles needed to create this word. Are we going to make our lives easier by assuming that each tile drawn is an independent event and that the order tiles are drawn is irrelevant? Yes, but equally, if you have the statistical brain to calculate the probabilities as dependent events, considering all the possible orderings then we'd love to see that solution! \n",
    "\n",
    "### Requirements\n",
    " - Input the data\n",
    " - Parse out the information in the Scrabble Scores Input so that there are 3 fields:\n",
    "   - Tile\n",
    "   - Frequency\n",
    "   - Points\n",
    " - Calculate the % Chance of drawing a particular tile and round to 2 decimal places\n",
    "   - Frequency / Total number of tiles\n",
    " - Split each of the 7 letter words into individual letters and count the number of occurrences of each letter\n",
    " - Join each letter to its scrabble tile \n",
    " - Update the % chance of drawing a tile based on the number of occurrences in that word\n",
    "   - If the word contains more occurrences of that letter than the frequency of the tile, set the probability to 0 - it is impossible to make this word in Scrabble\n",
    "   - Remember for independent events, you multiple together probabilities i.e. if a letter appears more than once in a word, you will need to multiple the % chance by itself that many times\n",
    " - Calculate the total points each word would score\n",
    " - Calculate the total % chance of drawing all the tiles necessary to create each word\n",
    " - Filter out words with a 0% chance\n",
    " - Rank the words by their % chance (dense rank)\n",
    " - Rank the words by their total points (dense rank)\n",
    " - Output the data"
   ]
  },
  {
   "cell_type": "code",
   "execution_count": 1,
   "id": "7b263fab",
   "metadata": {},
   "outputs": [],
   "source": [
    "import pandas as pd\n",
    "import numpy as np"
   ]
  },
  {
   "cell_type": "code",
   "execution_count": 2,
   "id": "077cd1f1",
   "metadata": {
    "scrolled": true
   },
   "outputs": [],
   "source": [
    "# Input the data.\n",
    "with pd.ExcelFile('WK6-7 letter words.xlsx') as xlsx:\n",
    "    words = pd.read_excel(xlsx, '7 letter words')\n",
    "    scrabble = pd.read_excel(xlsx, 'Scrabble Scores')"
   ]
  },
  {
   "cell_type": "code",
   "execution_count": 3,
   "id": "e6b8096e",
   "metadata": {},
   "outputs": [
    {
     "data": {
      "text/html": [
       "<div>\n",
       "<style scoped>\n",
       "    .dataframe tbody tr th:only-of-type {\n",
       "        vertical-align: middle;\n",
       "    }\n",
       "\n",
       "    .dataframe tbody tr th {\n",
       "        vertical-align: top;\n",
       "    }\n",
       "\n",
       "    .dataframe thead th {\n",
       "        text-align: right;\n",
       "    }\n",
       "</style>\n",
       "<table border=\"1\" class=\"dataframe\">\n",
       "  <thead>\n",
       "    <tr style=\"text-align: right;\">\n",
       "      <th></th>\n",
       "      <th>7 letter word</th>\n",
       "    </tr>\n",
       "  </thead>\n",
       "  <tbody>\n",
       "    <tr>\n",
       "      <th>0</th>\n",
       "      <td>ability</td>\n",
       "    </tr>\n",
       "    <tr>\n",
       "      <th>1</th>\n",
       "      <td>absence</td>\n",
       "    </tr>\n",
       "    <tr>\n",
       "      <th>2</th>\n",
       "      <td>academy</td>\n",
       "    </tr>\n",
       "    <tr>\n",
       "      <th>3</th>\n",
       "      <td>account</td>\n",
       "    </tr>\n",
       "    <tr>\n",
       "      <th>4</th>\n",
       "      <td>accused</td>\n",
       "    </tr>\n",
       "  </tbody>\n",
       "</table>\n",
       "</div>"
      ],
      "text/plain": [
       "  7 letter word\n",
       "0       ability\n",
       "1       absence\n",
       "2       academy\n",
       "3       account\n",
       "4       accused"
      ]
     },
     "execution_count": 3,
     "metadata": {},
     "output_type": "execute_result"
    }
   ],
   "source": [
    "words.head()"
   ]
  },
  {
   "cell_type": "code",
   "execution_count": 4,
   "id": "7de23cf0",
   "metadata": {},
   "outputs": [
    {
     "data": {
      "text/html": [
       "<div>\n",
       "<style scoped>\n",
       "    .dataframe tbody tr th:only-of-type {\n",
       "        vertical-align: middle;\n",
       "    }\n",
       "\n",
       "    .dataframe tbody tr th {\n",
       "        vertical-align: top;\n",
       "    }\n",
       "\n",
       "    .dataframe thead th {\n",
       "        text-align: right;\n",
       "    }\n",
       "</style>\n",
       "<table border=\"1\" class=\"dataframe\">\n",
       "  <thead>\n",
       "    <tr style=\"text-align: right;\">\n",
       "      <th></th>\n",
       "      <th>Scrabble</th>\n",
       "    </tr>\n",
       "  </thead>\n",
       "  <tbody>\n",
       "    <tr>\n",
       "      <th>0</th>\n",
       "      <td>0 points: Blank ×2</td>\n",
       "    </tr>\n",
       "    <tr>\n",
       "      <th>1</th>\n",
       "      <td>1 point: E ×12, A ×9, I ×9, O ×8, N ×6, R ×6, ...</td>\n",
       "    </tr>\n",
       "    <tr>\n",
       "      <th>2</th>\n",
       "      <td>2 points: D ×4, G ×3</td>\n",
       "    </tr>\n",
       "    <tr>\n",
       "      <th>3</th>\n",
       "      <td>3 points: B ×2, C ×2, M ×2, P ×2</td>\n",
       "    </tr>\n",
       "    <tr>\n",
       "      <th>4</th>\n",
       "      <td>4 points: F ×2, H ×2, V ×2, W ×2, Y ×2</td>\n",
       "    </tr>\n",
       "  </tbody>\n",
       "</table>\n",
       "</div>"
      ],
      "text/plain": [
       "                                            Scrabble\n",
       "0                                 0 points: Blank ×2\n",
       "1  1 point: E ×12, A ×9, I ×9, O ×8, N ×6, R ×6, ...\n",
       "2                               2 points: D ×4, G ×3\n",
       "3                   3 points: B ×2, C ×2, M ×2, P ×2\n",
       "4             4 points: F ×2, H ×2, V ×2, W ×2, Y ×2"
      ]
     },
     "execution_count": 4,
     "metadata": {},
     "output_type": "execute_result"
    }
   ],
   "source": [
    "scrabble.head()"
   ]
  },
  {
   "cell_type": "code",
   "execution_count": 5,
   "id": "f9832fd7",
   "metadata": {},
   "outputs": [
    {
     "name": "stderr",
     "output_type": "stream",
     "text": [
      "C:\\ProgramData\\Anaconda3\\envs\\Tetteyanalysis\\lib\\site-packages\\ipykernel_launcher.py:3: FutureWarning: The default value of regex will change from True to False in a future version.\n",
      "  This is separate from the ipykernel package so we can avoid doing imports until\n"
     ]
    }
   ],
   "source": [
    "#Parse out the information in the Scrabble Scores Input so that there are 3 fields:\n",
    "#Tile , Frequency, Points\n",
    "scrabble['Scrabble'] = scrabble['Scrabble'].str.replace('(\\d+\\s[a-z]+:)', ' ')\n",
    "scrabble = scrabble['Scrabble'].str.split(',').explode()\n",
    "scrabble2 = pd.DataFrame()\n",
    "scrabble2['Scrabble'] = scrabble"
   ]
  },
  {
   "cell_type": "code",
   "execution_count": 6,
   "id": "c9dd01fb",
   "metadata": {},
   "outputs": [],
   "source": [
    "scrabble2['Tile'] = scrabble2['Scrabble'].str.extract('([a-zA-Z]+)')\n",
    "scrabble2['Frequency'] = scrabble2['Scrabble'].str.extract('(\\d+)').astype('int64')\n",
    "scrabble2['Points'] = scrabble2.index"
   ]
  },
  {
   "cell_type": "code",
   "execution_count": 7,
   "id": "a7af31c5",
   "metadata": {},
   "outputs": [
    {
     "data": {
      "text/html": [
       "<div>\n",
       "<style scoped>\n",
       "    .dataframe tbody tr th:only-of-type {\n",
       "        vertical-align: middle;\n",
       "    }\n",
       "\n",
       "    .dataframe tbody tr th {\n",
       "        vertical-align: top;\n",
       "    }\n",
       "\n",
       "    .dataframe thead th {\n",
       "        text-align: right;\n",
       "    }\n",
       "</style>\n",
       "<table border=\"1\" class=\"dataframe\">\n",
       "  <thead>\n",
       "    <tr style=\"text-align: right;\">\n",
       "      <th></th>\n",
       "      <th>Scrabble</th>\n",
       "      <th>Tile</th>\n",
       "      <th>Frequency</th>\n",
       "      <th>Points</th>\n",
       "    </tr>\n",
       "  </thead>\n",
       "  <tbody>\n",
       "    <tr>\n",
       "      <th>0</th>\n",
       "      <td>Blank ×2</td>\n",
       "      <td>Blank</td>\n",
       "      <td>2</td>\n",
       "      <td>0</td>\n",
       "    </tr>\n",
       "    <tr>\n",
       "      <th>1</th>\n",
       "      <td>E ×12</td>\n",
       "      <td>E</td>\n",
       "      <td>12</td>\n",
       "      <td>1</td>\n",
       "    </tr>\n",
       "    <tr>\n",
       "      <th>1</th>\n",
       "      <td>A ×9</td>\n",
       "      <td>A</td>\n",
       "      <td>9</td>\n",
       "      <td>1</td>\n",
       "    </tr>\n",
       "    <tr>\n",
       "      <th>1</th>\n",
       "      <td>I ×9</td>\n",
       "      <td>I</td>\n",
       "      <td>9</td>\n",
       "      <td>1</td>\n",
       "    </tr>\n",
       "    <tr>\n",
       "      <th>1</th>\n",
       "      <td>O ×8</td>\n",
       "      <td>O</td>\n",
       "      <td>8</td>\n",
       "      <td>1</td>\n",
       "    </tr>\n",
       "  </tbody>\n",
       "</table>\n",
       "</div>"
      ],
      "text/plain": [
       "     Scrabble   Tile  Frequency  Points\n",
       "0    Blank ×2  Blank          2       0\n",
       "1       E ×12      E         12       1\n",
       "1        A ×9      A          9       1\n",
       "1        I ×9      I          9       1\n",
       "1        O ×8      O          8       1"
      ]
     },
     "execution_count": 7,
     "metadata": {},
     "output_type": "execute_result"
    }
   ],
   "source": [
    "scrabble2.head()"
   ]
  },
  {
   "cell_type": "code",
   "execution_count": 8,
   "id": "1d61f170",
   "metadata": {},
   "outputs": [],
   "source": [
    "#Calculate the % Chance of drawing a particular tile and round to 2 decimal places\n",
    "#Frequency / Total number of tiles\n",
    "scrabble2['total number of tiles'] = scrabble2['Frequency'].sum()\n",
    "scrabble2[\"% chance of tile\"] = scrabble2['Frequency'] / scrabble2['total number of tiles']"
   ]
  },
  {
   "cell_type": "code",
   "execution_count": 9,
   "id": "439eeded",
   "metadata": {},
   "outputs": [],
   "source": [
    "#Split each of the 7 letter words into individual letters and count the number of occurrences of each letter\n",
    "letters = words.assign(Tile = lambda x: x['7 letter word'].str.upper().str.findall('(.)'))\\\n",
    "                .explode('Tile')\\\n",
    "                .groupby(['7 letter word','Tile'], as_index =False).agg(Count=('Tile','size'))"
   ]
  },
  {
   "cell_type": "code",
   "execution_count": 10,
   "id": "faeac663",
   "metadata": {},
   "outputs": [
    {
     "data": {
      "text/html": [
       "<div>\n",
       "<style scoped>\n",
       "    .dataframe tbody tr th:only-of-type {\n",
       "        vertical-align: middle;\n",
       "    }\n",
       "\n",
       "    .dataframe tbody tr th {\n",
       "        vertical-align: top;\n",
       "    }\n",
       "\n",
       "    .dataframe thead th {\n",
       "        text-align: right;\n",
       "    }\n",
       "</style>\n",
       "<table border=\"1\" class=\"dataframe\">\n",
       "  <thead>\n",
       "    <tr style=\"text-align: right;\">\n",
       "      <th></th>\n",
       "      <th>7 letter word</th>\n",
       "      <th>Tile</th>\n",
       "      <th>Count</th>\n",
       "    </tr>\n",
       "  </thead>\n",
       "  <tbody>\n",
       "    <tr>\n",
       "      <th>0</th>\n",
       "      <td>Reading</td>\n",
       "      <td>A</td>\n",
       "      <td>1</td>\n",
       "    </tr>\n",
       "    <tr>\n",
       "      <th>1</th>\n",
       "      <td>Reading</td>\n",
       "      <td>D</td>\n",
       "      <td>1</td>\n",
       "    </tr>\n",
       "    <tr>\n",
       "      <th>2</th>\n",
       "      <td>Reading</td>\n",
       "      <td>E</td>\n",
       "      <td>1</td>\n",
       "    </tr>\n",
       "    <tr>\n",
       "      <th>3</th>\n",
       "      <td>Reading</td>\n",
       "      <td>G</td>\n",
       "      <td>1</td>\n",
       "    </tr>\n",
       "    <tr>\n",
       "      <th>4</th>\n",
       "      <td>Reading</td>\n",
       "      <td>I</td>\n",
       "      <td>1</td>\n",
       "    </tr>\n",
       "  </tbody>\n",
       "</table>\n",
       "</div>"
      ],
      "text/plain": [
       "  7 letter word Tile  Count\n",
       "0       Reading    A      1\n",
       "1       Reading    D      1\n",
       "2       Reading    E      1\n",
       "3       Reading    G      1\n",
       "4       Reading    I      1"
      ]
     },
     "execution_count": 10,
     "metadata": {},
     "output_type": "execute_result"
    }
   ],
   "source": [
    "letters.head()"
   ]
  },
  {
   "cell_type": "code",
   "execution_count": 11,
   "id": "4f110a3c",
   "metadata": {},
   "outputs": [],
   "source": [
    "#Join each letter to its scrabble tile \n",
    "df = scrabble2[['Tile','Frequency','Points','% chance of tile']].merge(letters, on ='Tile')"
   ]
  },
  {
   "cell_type": "code",
   "execution_count": 12,
   "id": "0c3b125c",
   "metadata": {},
   "outputs": [],
   "source": [
    "#Update the % chance of drawing a tile based on the number of occurrences in that word\n",
    "#Calculate the total points each word would score\n",
    "#Calculate the total % chance of drawing all the tiles necessary to create each word\n",
    "\n",
    "df = df.assign(pChance=lambda x: np.where((x['Count'] > x['Frequency']), 0,\n",
    "                                           x[\"% chance of tile\"] ** x['Count']),\n",
    "               tPoints=lambda x: np.where(x['Count'] > x['Frequency'], 0,\n",
    "                                           x['Points'] * x['Count']))                                          "
   ]
  },
  {
   "cell_type": "code",
   "execution_count": 13,
   "id": "68252f60",
   "metadata": {},
   "outputs": [],
   "source": [
    "#Filter out words with a 0% chance\n",
    "df = df.groupby('7 letter word')\\\n",
    "       .filter(lambda x: x['pChance'].min() > 0.0)\\\n",
    "       .groupby('7 letter word', as_index=False)\\\n",
    "       .agg(pChance = ('pChance','prod'), tPoints=('tPoints','sum'))"
   ]
  },
  {
   "cell_type": "code",
   "execution_count": 14,
   "id": "7e39f7af",
   "metadata": {},
   "outputs": [],
   "source": [
    "df = df.rename(columns={'pChance':'% Chance','tPoints':'Total Points'})"
   ]
  },
  {
   "cell_type": "code",
   "execution_count": 15,
   "id": "17bdea66",
   "metadata": {},
   "outputs": [],
   "source": [
    "#Rank the words by their % chance (dense rank)\n",
    "df['Points Rank'] = df['Total Points'].rank(method='dense',ascending=False).astype(int)"
   ]
  },
  {
   "cell_type": "code",
   "execution_count": 16,
   "id": "8f7553f5",
   "metadata": {},
   "outputs": [],
   "source": [
    "#Rank the words by their total points (dense rank)\n",
    "df['Likelihood Rank'] = df['% Chance'].rank(method='dense', ascending=False).astype(int)"
   ]
  },
  {
   "cell_type": "code",
   "execution_count": 17,
   "id": "c6afc4cb",
   "metadata": {},
   "outputs": [],
   "source": [
    "df = df[['Points Rank', 'Likelihood Rank','7 letter word',\"% Chance\",'Total Points']]"
   ]
  },
  {
   "cell_type": "code",
   "execution_count": 18,
   "id": "d2dd0bf8",
   "metadata": {},
   "outputs": [
    {
     "data": {
      "text/html": [
       "<div>\n",
       "<style scoped>\n",
       "    .dataframe tbody tr th:only-of-type {\n",
       "        vertical-align: middle;\n",
       "    }\n",
       "\n",
       "    .dataframe tbody tr th {\n",
       "        vertical-align: top;\n",
       "    }\n",
       "\n",
       "    .dataframe thead th {\n",
       "        text-align: right;\n",
       "    }\n",
       "</style>\n",
       "<table border=\"1\" class=\"dataframe\">\n",
       "  <thead>\n",
       "    <tr style=\"text-align: right;\">\n",
       "      <th></th>\n",
       "      <th>Points Rank</th>\n",
       "      <th>Likelihood Rank</th>\n",
       "      <th>7 letter word</th>\n",
       "      <th>% Chance</th>\n",
       "      <th>Total Points</th>\n",
       "    </tr>\n",
       "  </thead>\n",
       "  <tbody>\n",
       "    <tr>\n",
       "      <th>0</th>\n",
       "      <td>16</td>\n",
       "      <td>16</td>\n",
       "      <td>Reading</td>\n",
       "      <td>4.199040e-09</td>\n",
       "      <td>9</td>\n",
       "    </tr>\n",
       "    <tr>\n",
       "      <th>1</th>\n",
       "      <td>13</td>\n",
       "      <td>61</td>\n",
       "      <td>ability</td>\n",
       "      <td>6.998400e-10</td>\n",
       "      <td>12</td>\n",
       "    </tr>\n",
       "    <tr>\n",
       "      <th>2</th>\n",
       "      <td>14</td>\n",
       "      <td>45</td>\n",
       "      <td>absence</td>\n",
       "      <td>1.244160e-09</td>\n",
       "      <td>11</td>\n",
       "    </tr>\n",
       "    <tr>\n",
       "      <th>3</th>\n",
       "      <td>10</td>\n",
       "      <td>79</td>\n",
       "      <td>academy</td>\n",
       "      <td>3.110400e-10</td>\n",
       "      <td>15</td>\n",
       "    </tr>\n",
       "    <tr>\n",
       "      <th>4</th>\n",
       "      <td>14</td>\n",
       "      <td>73</td>\n",
       "      <td>account</td>\n",
       "      <td>4.147200e-10</td>\n",
       "      <td>11</td>\n",
       "    </tr>\n",
       "  </tbody>\n",
       "</table>\n",
       "</div>"
      ],
      "text/plain": [
       "   Points Rank  Likelihood Rank 7 letter word      % Chance  Total Points\n",
       "0           16               16       Reading  4.199040e-09             9\n",
       "1           13               61       ability  6.998400e-10            12\n",
       "2           14               45       absence  1.244160e-09            11\n",
       "3           10               79       academy  3.110400e-10            15\n",
       "4           14               73       account  4.147200e-10            11"
      ]
     },
     "execution_count": 18,
     "metadata": {},
     "output_type": "execute_result"
    }
   ],
   "source": [
    "df.head()"
   ]
  },
  {
   "cell_type": "code",
   "execution_count": 19,
   "id": "85f20872",
   "metadata": {},
   "outputs": [],
   "source": [
    "df.to_csv('wk6-output.csv', index=False)"
   ]
  }
 ],
 "metadata": {
  "kernelspec": {
   "display_name": "Tetteyanalysis",
   "language": "python",
   "name": "tetteyanalysis"
  },
  "language_info": {
   "codemirror_mode": {
    "name": "ipython",
    "version": 3
   },
   "file_extension": ".py",
   "mimetype": "text/x-python",
   "name": "python",
   "nbconvert_exporter": "python",
   "pygments_lexer": "ipython3",
   "version": "3.7.11"
  }
 },
 "nbformat": 4,
 "nbformat_minor": 5
}
