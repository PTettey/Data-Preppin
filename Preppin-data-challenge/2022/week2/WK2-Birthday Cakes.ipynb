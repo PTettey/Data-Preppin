{
 "cells": [
  {
   "cell_type": "markdown",
   "id": "dc7a3ef9",
   "metadata": {},
   "source": [
    "### Prepping Data Challenge: Birthday Cakes (Week 2)\n",
    "\n",
    "The Prep School loves any excuse to buy a cake to celebrate and what is better than celebrating one of our student's birthdays? This sounds easy until you realise we have 1,000 students and what do we do about those who's birthday are on a weekend day? We can't have them miss out. \n",
    "\n",
    "#### Requirement:\n",
    "\n",
    " - Input the data set\n",
    "   - Removing any unnecessary fields (parental fields) will make this challenge easier to see what is happening at each step\n",
    " - Format the pupil's name in First Name Last Name format (ie Carl Allchin)\n",
    " - Create the date for the pupil's birthday in calendar year 2022 (not academic year) \n",
    " - Work out what day of the week the pupil's birthday falls on \n",
    "   - Remember if the birthday falls on a Saturday or Sunday, we need to change the weekday to Friday\n",
    " - Work out what month the pupil's birthday falls within\n",
    " - Count how many birthdays there are on each weekday in each month \n",
    " - Output the data"
   ]
  },
  {
   "cell_type": "code",
   "execution_count": 1,
   "id": "7b263fab",
   "metadata": {},
   "outputs": [],
   "source": [
    "import pandas as pd\n",
    "import numpy as np"
   ]
  },
  {
   "cell_type": "code",
   "execution_count": 2,
   "id": "077cd1f1",
   "metadata": {
    "scrolled": true
   },
   "outputs": [
    {
     "data": {
      "text/html": [
       "<div>\n",
       "<style scoped>\n",
       "    .dataframe tbody tr th:only-of-type {\n",
       "        vertical-align: middle;\n",
       "    }\n",
       "\n",
       "    .dataframe tbody tr th {\n",
       "        vertical-align: top;\n",
       "    }\n",
       "\n",
       "    .dataframe thead th {\n",
       "        text-align: right;\n",
       "    }\n",
       "</style>\n",
       "<table border=\"1\" class=\"dataframe\">\n",
       "  <thead>\n",
       "    <tr style=\"text-align: right;\">\n",
       "      <th></th>\n",
       "      <th>id</th>\n",
       "      <th>pupil first name</th>\n",
       "      <th>pupil last name</th>\n",
       "      <th>gender</th>\n",
       "      <th>Date of Birth</th>\n",
       "      <th>Parental Contact Name_1</th>\n",
       "      <th>Parental Contact Name_2</th>\n",
       "      <th>Preferred Contact Employer</th>\n",
       "      <th>Parental Contact</th>\n",
       "    </tr>\n",
       "  </thead>\n",
       "  <tbody>\n",
       "    <tr>\n",
       "      <th>0</th>\n",
       "      <td>1</td>\n",
       "      <td>Ronna</td>\n",
       "      <td>Nellies</td>\n",
       "      <td>Female</td>\n",
       "      <td>2013-12-21</td>\n",
       "      <td>Purcell</td>\n",
       "      <td>Ketti</td>\n",
       "      <td>Demizz</td>\n",
       "      <td>1</td>\n",
       "    </tr>\n",
       "    <tr>\n",
       "      <th>1</th>\n",
       "      <td>2</td>\n",
       "      <td>Rusty</td>\n",
       "      <td>Andriulis</td>\n",
       "      <td>Male</td>\n",
       "      <td>2012-07-21</td>\n",
       "      <td>Vassili</td>\n",
       "      <td>Rivi</td>\n",
       "      <td>Brainbox</td>\n",
       "      <td>1</td>\n",
       "    </tr>\n",
       "    <tr>\n",
       "      <th>2</th>\n",
       "      <td>3</td>\n",
       "      <td>Roberta</td>\n",
       "      <td>Oakeshott</td>\n",
       "      <td>Female</td>\n",
       "      <td>2011-12-04</td>\n",
       "      <td>Lind</td>\n",
       "      <td>Haskell</td>\n",
       "      <td>Centidel</td>\n",
       "      <td>2</td>\n",
       "    </tr>\n",
       "    <tr>\n",
       "      <th>3</th>\n",
       "      <td>4</td>\n",
       "      <td>Lola</td>\n",
       "      <td>Rubinfajn</td>\n",
       "      <td>Male</td>\n",
       "      <td>2012-06-29</td>\n",
       "      <td>Elie</td>\n",
       "      <td>Tresa</td>\n",
       "      <td>Edgeblab</td>\n",
       "      <td>2</td>\n",
       "    </tr>\n",
       "    <tr>\n",
       "      <th>4</th>\n",
       "      <td>5</td>\n",
       "      <td>Kamila</td>\n",
       "      <td>Benedtti</td>\n",
       "      <td>Female</td>\n",
       "      <td>2012-07-10</td>\n",
       "      <td>Adela</td>\n",
       "      <td>Clevey</td>\n",
       "      <td>Trudoo</td>\n",
       "      <td>1</td>\n",
       "    </tr>\n",
       "  </tbody>\n",
       "</table>\n",
       "</div>"
      ],
      "text/plain": [
       "   id pupil first name pupil last name  gender Date of Birth  \\\n",
       "0   1            Ronna         Nellies  Female    2013-12-21   \n",
       "1   2            Rusty       Andriulis    Male    2012-07-21   \n",
       "2   3          Roberta       Oakeshott  Female    2011-12-04   \n",
       "3   4             Lola       Rubinfajn    Male    2012-06-29   \n",
       "4   5           Kamila        Benedtti  Female    2012-07-10   \n",
       "\n",
       "  Parental Contact Name_1 Parental Contact Name_2 Preferred Contact Employer  \\\n",
       "0                 Purcell                   Ketti                     Demizz   \n",
       "1                 Vassili                    Rivi                   Brainbox   \n",
       "2                    Lind                 Haskell                   Centidel   \n",
       "3                    Elie                   Tresa                   Edgeblab   \n",
       "4                   Adela                  Clevey                     Trudoo   \n",
       "\n",
       "   Parental Contact  \n",
       "0                 1  \n",
       "1                 1  \n",
       "2                 2  \n",
       "3                 2  \n",
       "4                 1  "
      ]
     },
     "execution_count": 2,
     "metadata": {},
     "output_type": "execute_result"
    }
   ],
   "source": [
    "# Input the data set.\n",
    "df = pd.read_csv('WK2-Input.csv', parse_dates=['Date of Birth'])\n",
    "df.head()"
   ]
  },
  {
   "cell_type": "code",
   "execution_count": 3,
   "id": "98c2815f",
   "metadata": {},
   "outputs": [],
   "source": [
    "df = df[['id','pupil first name','pupil last name','gender','Date of Birth']]"
   ]
  },
  {
   "cell_type": "code",
   "execution_count": 4,
   "id": "2500f7a6",
   "metadata": {},
   "outputs": [],
   "source": [
    "#Format the pupil's name in First Name Last Name format (ie Carl Allchin)\n",
    "df['Pupil Name'] = df['pupil first name'] + ' ' + df['pupil last name']"
   ]
  },
  {
   "cell_type": "code",
   "execution_count": 5,
   "id": "1d8979cd",
   "metadata": {},
   "outputs": [],
   "source": [
    "#Create the date for the pupil's birthday in calendar year 2022 (not academic year)\n",
    "df[\"This Year's Birthday\"] = '2022'+'-'+ df['Date of Birth'].dt.strftime('%m-%d')\n",
    "#df[\"This Year's Birthday\"] = df['Date of Birth'].apply{lambda x:x.replace(year=datetime.now().year)}"
   ]
  },
  {
   "cell_type": "code",
   "execution_count": 6,
   "id": "e6b8096e",
   "metadata": {},
   "outputs": [],
   "source": [
    "#Work out what day of the week the pupil's birthday falls on \n",
    "df['weekday'] = (pd.to_datetime(df[\"This Year's Birthday\"])).dt.day_name() "
   ]
  },
  {
   "cell_type": "code",
   "execution_count": 7,
   "id": "257333bc",
   "metadata": {},
   "outputs": [],
   "source": [
    "wkends = ['Saturday', 'Sunday']\n",
    "\n",
    "df['Cake Needed On'] = np.where((df['weekday'].isin(wkends)), 'Friday',\n",
    "                                df['weekday'])"
   ]
  },
  {
   "cell_type": "code",
   "execution_count": 8,
   "id": "7de23cf0",
   "metadata": {},
   "outputs": [],
   "source": [
    "#Work out what month the pupil's birthday falls within\n",
    "df['Month'] = df['Date of Birth'].dt.month_name()"
   ]
  },
  {
   "cell_type": "code",
   "execution_count": 9,
   "id": "17bc22ba",
   "metadata": {},
   "outputs": [],
   "source": [
    "#Count how many birthdays there are on each weekday in each month \n",
    "df['BDs per Weekday and Month'] = df.groupby(['Month', 'Cake Needed On'])['id'].transform('size')"
   ]
  },
  {
   "cell_type": "markdown",
   "id": "2f6ce196",
   "metadata": {},
   "source": [
    "<div class=\"alert alert-block alert-info\">\n",
    "    \n",
    "<strong>Further Reading on .transform</strong> <br>\n",
    "https://www.analyticsvidhya.com/blog/2020/03/understanding-transform-function-python/ \n",
    "    \n",
    "</div>"
   ]
  },
  {
   "cell_type": "code",
   "execution_count": 10,
   "id": "8e7fcba7",
   "metadata": {},
   "outputs": [],
   "source": [
    "df = df[['Pupil Name','Date of Birth',\"This Year's Birthday\",'Month','Cake Needed On','BDs per Weekday and Month']]"
   ]
  },
  {
   "cell_type": "code",
   "execution_count": 11,
   "id": "61b15fd0",
   "metadata": {},
   "outputs": [
    {
     "data": {
      "text/html": [
       "<div>\n",
       "<style scoped>\n",
       "    .dataframe tbody tr th:only-of-type {\n",
       "        vertical-align: middle;\n",
       "    }\n",
       "\n",
       "    .dataframe tbody tr th {\n",
       "        vertical-align: top;\n",
       "    }\n",
       "\n",
       "    .dataframe thead th {\n",
       "        text-align: right;\n",
       "    }\n",
       "</style>\n",
       "<table border=\"1\" class=\"dataframe\">\n",
       "  <thead>\n",
       "    <tr style=\"text-align: right;\">\n",
       "      <th></th>\n",
       "      <th>Pupil Name</th>\n",
       "      <th>Date of Birth</th>\n",
       "      <th>This Year's Birthday</th>\n",
       "      <th>Month</th>\n",
       "      <th>Cake Needed On</th>\n",
       "      <th>BDs per Weekday and Month</th>\n",
       "    </tr>\n",
       "  </thead>\n",
       "  <tbody>\n",
       "    <tr>\n",
       "      <th>0</th>\n",
       "      <td>Ronna Nellies</td>\n",
       "      <td>2013-12-21</td>\n",
       "      <td>2022-12-21</td>\n",
       "      <td>December</td>\n",
       "      <td>Wednesday</td>\n",
       "      <td>9</td>\n",
       "    </tr>\n",
       "    <tr>\n",
       "      <th>1</th>\n",
       "      <td>Rusty Andriulis</td>\n",
       "      <td>2012-07-21</td>\n",
       "      <td>2022-07-21</td>\n",
       "      <td>July</td>\n",
       "      <td>Thursday</td>\n",
       "      <td>12</td>\n",
       "    </tr>\n",
       "    <tr>\n",
       "      <th>2</th>\n",
       "      <td>Roberta Oakeshott</td>\n",
       "      <td>2011-12-04</td>\n",
       "      <td>2022-12-04</td>\n",
       "      <td>December</td>\n",
       "      <td>Friday</td>\n",
       "      <td>45</td>\n",
       "    </tr>\n",
       "    <tr>\n",
       "      <th>3</th>\n",
       "      <td>Lola Rubinfajn</td>\n",
       "      <td>2012-06-29</td>\n",
       "      <td>2022-06-29</td>\n",
       "      <td>June</td>\n",
       "      <td>Wednesday</td>\n",
       "      <td>15</td>\n",
       "    </tr>\n",
       "    <tr>\n",
       "      <th>4</th>\n",
       "      <td>Kamila Benedtti</td>\n",
       "      <td>2012-07-10</td>\n",
       "      <td>2022-07-10</td>\n",
       "      <td>July</td>\n",
       "      <td>Friday</td>\n",
       "      <td>49</td>\n",
       "    </tr>\n",
       "    <tr>\n",
       "      <th>5</th>\n",
       "      <td>Avery Colebourn</td>\n",
       "      <td>2012-08-30</td>\n",
       "      <td>2022-08-30</td>\n",
       "      <td>August</td>\n",
       "      <td>Tuesday</td>\n",
       "      <td>15</td>\n",
       "    </tr>\n",
       "    <tr>\n",
       "      <th>6</th>\n",
       "      <td>Valentino Klimko</td>\n",
       "      <td>2014-12-23</td>\n",
       "      <td>2022-12-23</td>\n",
       "      <td>December</td>\n",
       "      <td>Friday</td>\n",
       "      <td>45</td>\n",
       "    </tr>\n",
       "    <tr>\n",
       "      <th>7</th>\n",
       "      <td>Cal Shearwood</td>\n",
       "      <td>2015-01-18</td>\n",
       "      <td>2022-01-18</td>\n",
       "      <td>January</td>\n",
       "      <td>Tuesday</td>\n",
       "      <td>12</td>\n",
       "    </tr>\n",
       "  </tbody>\n",
       "</table>\n",
       "</div>"
      ],
      "text/plain": [
       "          Pupil Name Date of Birth This Year's Birthday     Month  \\\n",
       "0      Ronna Nellies    2013-12-21           2022-12-21  December   \n",
       "1    Rusty Andriulis    2012-07-21           2022-07-21      July   \n",
       "2  Roberta Oakeshott    2011-12-04           2022-12-04  December   \n",
       "3     Lola Rubinfajn    2012-06-29           2022-06-29      June   \n",
       "4    Kamila Benedtti    2012-07-10           2022-07-10      July   \n",
       "5    Avery Colebourn    2012-08-30           2022-08-30    August   \n",
       "6   Valentino Klimko    2014-12-23           2022-12-23  December   \n",
       "7      Cal Shearwood    2015-01-18           2022-01-18   January   \n",
       "\n",
       "  Cake Needed On  BDs per Weekday and Month  \n",
       "0      Wednesday                          9  \n",
       "1       Thursday                         12  \n",
       "2         Friday                         45  \n",
       "3      Wednesday                         15  \n",
       "4         Friday                         49  \n",
       "5        Tuesday                         15  \n",
       "6         Friday                         45  \n",
       "7        Tuesday                         12  "
      ]
     },
     "execution_count": 11,
     "metadata": {},
     "output_type": "execute_result"
    }
   ],
   "source": [
    "df.head(8)"
   ]
  },
  {
   "cell_type": "code",
   "execution_count": 12,
   "id": "91d33a8e",
   "metadata": {},
   "outputs": [],
   "source": [
    "#Output the data\n",
    "df.to_csv('wk2-output.csv',index=False, date_format = '%d/%m/%Y')"
   ]
  }
 ],
 "metadata": {
  "kernelspec": {
   "display_name": "Tetteyanalysis",
   "language": "python",
   "name": "tetteyanalysis"
  },
  "language_info": {
   "codemirror_mode": {
    "name": "ipython",
    "version": 3
   },
   "file_extension": ".py",
   "mimetype": "text/x-python",
   "name": "python",
   "nbconvert_exporter": "python",
   "pygments_lexer": "ipython3",
   "version": "3.7.11"
  }
 },
 "nbformat": 4,
 "nbformat_minor": 5
}
