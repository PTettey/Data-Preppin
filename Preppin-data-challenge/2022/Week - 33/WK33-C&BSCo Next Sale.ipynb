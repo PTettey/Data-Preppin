{
 "cells": [
  {
   "cell_type": "markdown",
   "id": "dc7a3ef9",
   "metadata": {},
   "source": [
    "### Prepping Data Challenge: C&BSCo Next Sale (Week 33)\n",
    " \n",
    "### Requirements\n",
    " - Input the data sets\n",
    " - Link the Instore and Online sales together to be one data source\n",
    "   - Call the Nulls in the Stores field Online \n",
    " - Link in the product Lookup to name the products instead of having their ID number\n",
    " - Create the 'Product Type' field by taking the first word of the product name\n",
    " - Create a data set from your work so far that includes the next sale after the one made in the SAME store of the same product type \n",
    "   - Requirement updated 20th Aug 2022\n",
    " - Workout how long it took between the original sale and the next sale in minutes\n",
    "   - Remove any negative differences. These are sales that got refunded. \n",
    " - Create a data set that shows the average of these values for each store and product type. Call this field 'Average mins to next sale' \n",
    " - Output the results"
   ]
  },
  {
   "cell_type": "code",
   "execution_count": 1,
   "id": "7b263fab",
   "metadata": {},
   "outputs": [],
   "source": [
    "import pandas as pd\n",
    "import numpy as np"
   ]
  },
  {
   "cell_type": "code",
   "execution_count": 2,
   "id": "2391e31f",
   "metadata": {},
   "outputs": [],
   "source": [
    "#Input the data sets\n",
    "#Link the Instore and Online sales together to be one data source\n",
    "\n",
    "df_1 = (pd.concat([pd.read_csv('Wk33 Input Instore Orders.csv', parse_dates=['Sales Date'], dayfirst=True)\n",
    "                     .rename(columns={'Sales Date':'Sales Timestamp'}),\n",
    "                   pd.read_csv('Wk33 Input Online Orders.csv', parse_dates=['Sales Timestamp'], dayfirst=True)\n",
    "                     .assign(Store='Online')]))\n",
    "\n",
    "df_2 = (pd.read_csv('wk33 Product Lookup.csv').assign(Product_Type = lambda x: x['Product Name'].str.extract('(.*) - .*'))\n",
    "                                              .rename(columns = lambda y: y.replace('_', ' ')))"
   ]
  },
  {
   "cell_type": "code",
   "execution_count": 3,
   "id": "a56977a6",
   "metadata": {},
   "outputs": [
    {
     "data": {
      "text/html": [
       "<div>\n",
       "<style scoped>\n",
       "    .dataframe tbody tr th:only-of-type {\n",
       "        vertical-align: middle;\n",
       "    }\n",
       "\n",
       "    .dataframe tbody tr th {\n",
       "        vertical-align: top;\n",
       "    }\n",
       "\n",
       "    .dataframe thead th {\n",
       "        text-align: right;\n",
       "    }\n",
       "</style>\n",
       "<table border=\"1\" class=\"dataframe\">\n",
       "  <thead>\n",
       "    <tr style=\"text-align: right;\">\n",
       "      <th></th>\n",
       "      <th>Sales Timestamp</th>\n",
       "      <th>Store</th>\n",
       "      <th>ID</th>\n",
       "      <th>Product</th>\n",
       "    </tr>\n",
       "  </thead>\n",
       "  <tbody>\n",
       "    <tr>\n",
       "      <th>0</th>\n",
       "      <td>2022-01-01 10:00:00</td>\n",
       "      <td>Wimbledon</td>\n",
       "      <td>1</td>\n",
       "      <td>7</td>\n",
       "    </tr>\n",
       "    <tr>\n",
       "      <th>1</th>\n",
       "      <td>2022-01-01 10:00:00</td>\n",
       "      <td>Wimbledon</td>\n",
       "      <td>2</td>\n",
       "      <td>1</td>\n",
       "    </tr>\n",
       "    <tr>\n",
       "      <th>2</th>\n",
       "      <td>2022-01-01 12:00:00</td>\n",
       "      <td>Wimbledon</td>\n",
       "      <td>3</td>\n",
       "      <td>4</td>\n",
       "    </tr>\n",
       "    <tr>\n",
       "      <th>3</th>\n",
       "      <td>2022-01-01 12:00:00</td>\n",
       "      <td>Wimbledon</td>\n",
       "      <td>4</td>\n",
       "      <td>6</td>\n",
       "    </tr>\n",
       "    <tr>\n",
       "      <th>4</th>\n",
       "      <td>2022-01-01 14:00:00</td>\n",
       "      <td>Wimbledon</td>\n",
       "      <td>5</td>\n",
       "      <td>4</td>\n",
       "    </tr>\n",
       "  </tbody>\n",
       "</table>\n",
       "</div>"
      ],
      "text/plain": [
       "      Sales Timestamp      Store  ID  Product\n",
       "0 2022-01-01 10:00:00  Wimbledon   1        7\n",
       "1 2022-01-01 10:00:00  Wimbledon   2        1\n",
       "2 2022-01-01 12:00:00  Wimbledon   3        4\n",
       "3 2022-01-01 12:00:00  Wimbledon   4        6\n",
       "4 2022-01-01 14:00:00  Wimbledon   5        4"
      ]
     },
     "execution_count": 3,
     "metadata": {},
     "output_type": "execute_result"
    }
   ],
   "source": [
    "df_1.head()"
   ]
  },
  {
   "cell_type": "code",
   "execution_count": 4,
   "id": "f48b027f",
   "metadata": {},
   "outputs": [
    {
     "data": {
      "text/html": [
       "<div>\n",
       "<style scoped>\n",
       "    .dataframe tbody tr th:only-of-type {\n",
       "        vertical-align: middle;\n",
       "    }\n",
       "\n",
       "    .dataframe tbody tr th {\n",
       "        vertical-align: top;\n",
       "    }\n",
       "\n",
       "    .dataframe thead th {\n",
       "        text-align: right;\n",
       "    }\n",
       "</style>\n",
       "<table border=\"1\" class=\"dataframe\">\n",
       "  <thead>\n",
       "    <tr style=\"text-align: right;\">\n",
       "      <th></th>\n",
       "      <th>Product ID</th>\n",
       "      <th>Product Name</th>\n",
       "      <th>Product Type</th>\n",
       "    </tr>\n",
       "  </thead>\n",
       "  <tbody>\n",
       "    <tr>\n",
       "      <th>0</th>\n",
       "      <td>1</td>\n",
       "      <td>Liquid - 25ml</td>\n",
       "      <td>Liquid</td>\n",
       "    </tr>\n",
       "    <tr>\n",
       "      <th>1</th>\n",
       "      <td>2</td>\n",
       "      <td>Liquid - 50ml</td>\n",
       "      <td>Liquid</td>\n",
       "    </tr>\n",
       "    <tr>\n",
       "      <th>2</th>\n",
       "      <td>3</td>\n",
       "      <td>Liquid - 100ml</td>\n",
       "      <td>Liquid</td>\n",
       "    </tr>\n",
       "    <tr>\n",
       "      <th>3</th>\n",
       "      <td>4</td>\n",
       "      <td>Liquid - 250ml</td>\n",
       "      <td>Liquid</td>\n",
       "    </tr>\n",
       "    <tr>\n",
       "      <th>4</th>\n",
       "      <td>5</td>\n",
       "      <td>Liquid - 500ml</td>\n",
       "      <td>Liquid</td>\n",
       "    </tr>\n",
       "  </tbody>\n",
       "</table>\n",
       "</div>"
      ],
      "text/plain": [
       "   Product ID    Product Name Product Type\n",
       "0           1   Liquid - 25ml       Liquid\n",
       "1           2   Liquid - 50ml       Liquid\n",
       "2           3  Liquid - 100ml       Liquid\n",
       "3           4  Liquid - 250ml       Liquid\n",
       "4           5  Liquid - 500ml       Liquid"
      ]
     },
     "execution_count": 4,
     "metadata": {},
     "output_type": "execute_result"
    }
   ],
   "source": [
    "df_2.head()"
   ]
  },
  {
   "cell_type": "code",
   "execution_count": 5,
   "id": "525fb86e",
   "metadata": {},
   "outputs": [],
   "source": [
    "# Create the 'Product Type' field by taking the first word of the product name\n",
    "df_1['Product Type'] = df_1['Product'].replace({k:v for k,v in zip(df_2['Product ID'], df_2['Product Type'])})"
   ]
  },
  {
   "cell_type": "code",
   "execution_count": 6,
   "id": "6143a519",
   "metadata": {},
   "outputs": [],
   "source": [
    "# find the time between each sale (by store and product type)\n",
    "df_1 = df_1.sort_values(by=['ID'])"
   ]
  },
  {
   "cell_type": "code",
   "execution_count": 7,
   "id": "e1ad6b52",
   "metadata": {},
   "outputs": [],
   "source": [
    "df = pd.merge_asof(df_1,df_1[['Store','Product Type','ID','Sales Timestamp']].rename(columns={'Sales Timestamp':'Next Timestamp'}), \n",
    "                         by=['Store', 'Product Type'], on='ID',allow_exact_matches=False, direction='forward')\n",
    "\n",
    "df['time_diff_min'] = (df['Next Timestamp'] - df['Sales Timestamp']).dt.total_seconds() / 60"
   ]
  },
  {
   "cell_type": "code",
   "execution_count": 8,
   "id": "a0526863",
   "metadata": {},
   "outputs": [],
   "source": [
    "# summarize by product type and store\n",
    "output = (df[df['time_diff_min'] >= 0].groupby(['Product Type', 'Store'], as_index=False)['time_diff_min'].mean().round(1)\n",
    "               .rename(columns={'time_diff_min' : 'Average mins to next sale'}))"
   ]
  },
  {
   "cell_type": "code",
   "execution_count": 9,
   "id": "3d6f96b2",
   "metadata": {},
   "outputs": [
    {
     "data": {
      "text/html": [
       "<div>\n",
       "<style scoped>\n",
       "    .dataframe tbody tr th:only-of-type {\n",
       "        vertical-align: middle;\n",
       "    }\n",
       "\n",
       "    .dataframe tbody tr th {\n",
       "        vertical-align: top;\n",
       "    }\n",
       "\n",
       "    .dataframe thead th {\n",
       "        text-align: right;\n",
       "    }\n",
       "</style>\n",
       "<table border=\"1\" class=\"dataframe\">\n",
       "  <thead>\n",
       "    <tr style=\"text-align: right;\">\n",
       "      <th></th>\n",
       "      <th>Product Type</th>\n",
       "      <th>Store</th>\n",
       "      <th>Average mins to next sale</th>\n",
       "    </tr>\n",
       "  </thead>\n",
       "  <tbody>\n",
       "    <tr>\n",
       "      <th>0</th>\n",
       "      <td>Bar</td>\n",
       "      <td>Lewisham</td>\n",
       "      <td>284.5</td>\n",
       "    </tr>\n",
       "    <tr>\n",
       "      <th>1</th>\n",
       "      <td>Bar</td>\n",
       "      <td>Online</td>\n",
       "      <td>159.7</td>\n",
       "    </tr>\n",
       "    <tr>\n",
       "      <th>2</th>\n",
       "      <td>Bar</td>\n",
       "      <td>Wimbledon</td>\n",
       "      <td>258.2</td>\n",
       "    </tr>\n",
       "    <tr>\n",
       "      <th>3</th>\n",
       "      <td>Liquid</td>\n",
       "      <td>Lewisham</td>\n",
       "      <td>117.0</td>\n",
       "    </tr>\n",
       "    <tr>\n",
       "      <th>4</th>\n",
       "      <td>Liquid</td>\n",
       "      <td>Online</td>\n",
       "      <td>75.7</td>\n",
       "    </tr>\n",
       "    <tr>\n",
       "      <th>5</th>\n",
       "      <td>Liquid</td>\n",
       "      <td>Wimbledon</td>\n",
       "      <td>113.8</td>\n",
       "    </tr>\n",
       "  </tbody>\n",
       "</table>\n",
       "</div>"
      ],
      "text/plain": [
       "  Product Type      Store  Average mins to next sale\n",
       "0          Bar   Lewisham                      284.5\n",
       "1          Bar     Online                      159.7\n",
       "2          Bar  Wimbledon                      258.2\n",
       "3       Liquid   Lewisham                      117.0\n",
       "4       Liquid     Online                       75.7\n",
       "5       Liquid  Wimbledon                      113.8"
      ]
     },
     "execution_count": 9,
     "metadata": {},
     "output_type": "execute_result"
    }
   ],
   "source": [
    "output.head(10)"
   ]
  },
  {
   "cell_type": "code",
   "execution_count": 10,
   "id": "85f20872",
   "metadata": {},
   "outputs": [],
   "source": [
    "#Output the results \n",
    "output.to_csv('wk33-output.csv', index=False)"
   ]
  }
 ],
 "metadata": {
  "kernelspec": {
   "display_name": "Python 3 (ipykernel)",
   "language": "python",
   "name": "python3"
  },
  "language_info": {
   "codemirror_mode": {
    "name": "ipython",
    "version": 3
   },
   "file_extension": ".py",
   "mimetype": "text/x-python",
   "name": "python",
   "nbconvert_exporter": "python",
   "pygments_lexer": "ipython3",
   "version": "3.9.12"
  }
 },
 "nbformat": 4,
 "nbformat_minor": 5
}
