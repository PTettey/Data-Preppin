{
 "cells": [
  {
   "cell_type": "markdown",
   "id": "dc7a3ef9",
   "metadata": {},
   "source": [
    "### Prepping Data Challenge: Travel Plans (Week 4)\n",
    "\n",
    "The final introductory challenge for 2022 looks at how are students are getting to and from the school. Are the students travelling in a sustainable manner? What's the most popular type of sustainable travel?\n",
    "\n",
    "### Input\n",
    "There are two inputs this week.\n",
    "\n",
    "1. The same input as week 1:\n",
    "\n",
    "2. Travel choices where each student has filled in how they got to school in the previous week. The students entered these themselves so there are some spelling mistakes to watch out for. \n",
    "\n",
    "### Requirements\n",
    " - Input the data sets\n",
    " - Join the data sets together based on their common field\n",
    " - Remove any fields you don't need for the challenge\n",
    " - Change the weekdays from separate columns to one column of weekdays and one of the pupil's travel choice\n",
    " - Group the travel choices together to remove spelling mistakes\n",
    " - Create a Sustainable (non-motorised) vs Non-Sustainable (motorised) data field \n",
    "   - Scooters are the child type rather than the motorised type\n",
    " - Total up the number of pupil's travelling by each method of travel \n",
    " - Work out the % of trips taken by each method of travel each day\n",
    "   - Round to 2 decimal places\n",
    " - Output the data"
   ]
  },
  {
   "cell_type": "code",
   "execution_count": 1,
   "id": "7b263fab",
   "metadata": {},
   "outputs": [],
   "source": [
    "import pandas as pd\n",
    "import numpy as np\n",
    "import re"
   ]
  },
  {
   "cell_type": "code",
   "execution_count": 2,
   "id": "077cd1f1",
   "metadata": {
    "scrolled": true
   },
   "outputs": [],
   "source": [
    "# Input the data sets.\n",
    "df = pd.read_csv('wk4-Input.csv')"
   ]
  },
  {
   "cell_type": "code",
   "execution_count": 3,
   "id": "e6b8096e",
   "metadata": {},
   "outputs": [
    {
     "data": {
      "text/html": [
       "<div>\n",
       "<style scoped>\n",
       "    .dataframe tbody tr th:only-of-type {\n",
       "        vertical-align: middle;\n",
       "    }\n",
       "\n",
       "    .dataframe tbody tr th {\n",
       "        vertical-align: top;\n",
       "    }\n",
       "\n",
       "    .dataframe thead th {\n",
       "        text-align: right;\n",
       "    }\n",
       "</style>\n",
       "<table border=\"1\" class=\"dataframe\">\n",
       "  <thead>\n",
       "    <tr style=\"text-align: right;\">\n",
       "      <th></th>\n",
       "      <th>Student ID</th>\n",
       "      <th>M</th>\n",
       "      <th>Tu</th>\n",
       "      <th>W</th>\n",
       "      <th>Th</th>\n",
       "      <th>F</th>\n",
       "    </tr>\n",
       "  </thead>\n",
       "  <tbody>\n",
       "    <tr>\n",
       "      <th>0</th>\n",
       "      <td>1</td>\n",
       "      <td>Car</td>\n",
       "      <td>Car</td>\n",
       "      <td>Car</td>\n",
       "      <td>Car</td>\n",
       "      <td>Bycycle</td>\n",
       "    </tr>\n",
       "    <tr>\n",
       "      <th>1</th>\n",
       "      <td>2</td>\n",
       "      <td>Bicycle</td>\n",
       "      <td>Bicycle</td>\n",
       "      <td>Bicycle</td>\n",
       "      <td>Walk</td>\n",
       "      <td>Walk</td>\n",
       "    </tr>\n",
       "    <tr>\n",
       "      <th>2</th>\n",
       "      <td>3</td>\n",
       "      <td>Car</td>\n",
       "      <td>Bicycle</td>\n",
       "      <td>Carr</td>\n",
       "      <td>Walk</td>\n",
       "      <td>Car</td>\n",
       "    </tr>\n",
       "    <tr>\n",
       "      <th>3</th>\n",
       "      <td>4</td>\n",
       "      <td>Scooter</td>\n",
       "      <td>Scooter</td>\n",
       "      <td>Scootr</td>\n",
       "      <td>Scooter</td>\n",
       "      <td>Scoter</td>\n",
       "    </tr>\n",
       "    <tr>\n",
       "      <th>4</th>\n",
       "      <td>5</td>\n",
       "      <td>Bycycle</td>\n",
       "      <td>Carr</td>\n",
       "      <td>Scoter</td>\n",
       "      <td>Walkk</td>\n",
       "      <td>Scoter</td>\n",
       "    </tr>\n",
       "  </tbody>\n",
       "</table>\n",
       "</div>"
      ],
      "text/plain": [
       "   Student ID        M       Tu        W       Th        F\n",
       "0           1      Car      Car      Car      Car  Bycycle\n",
       "1           2  Bicycle  Bicycle  Bicycle     Walk     Walk\n",
       "2           3      Car  Bicycle     Carr     Walk      Car\n",
       "3           4  Scooter  Scooter   Scootr  Scooter   Scoter\n",
       "4           5  Bycycle     Carr   Scoter    Walkk   Scoter"
      ]
     },
     "execution_count": 3,
     "metadata": {},
     "output_type": "execute_result"
    }
   ],
   "source": [
    "df.head()"
   ]
  },
  {
   "cell_type": "code",
   "execution_count": 4,
   "id": "7de23cf0",
   "metadata": {},
   "outputs": [],
   "source": [
    "#Change the weekdays from separate columns to one column of weekdays and one of the pupil's travel choice\n",
    "#Group the travel choices together\n",
    "df_pivot = pd.melt(df, id_vars=['Student ID'], value_vars=['M','Tu','W','Th','F'], var_name='Weekday', value_name='Method of Travel')"
   ]
  },
  {
   "cell_type": "code",
   "execution_count": 5,
   "id": "95459be4",
   "metadata": {},
   "outputs": [
    {
     "data": {
      "text/html": [
       "<div>\n",
       "<style scoped>\n",
       "    .dataframe tbody tr th:only-of-type {\n",
       "        vertical-align: middle;\n",
       "    }\n",
       "\n",
       "    .dataframe tbody tr th {\n",
       "        vertical-align: top;\n",
       "    }\n",
       "\n",
       "    .dataframe thead th {\n",
       "        text-align: right;\n",
       "    }\n",
       "</style>\n",
       "<table border=\"1\" class=\"dataframe\">\n",
       "  <thead>\n",
       "    <tr style=\"text-align: right;\">\n",
       "      <th></th>\n",
       "      <th>Student ID</th>\n",
       "      <th>Weekday</th>\n",
       "      <th>Method of Travel</th>\n",
       "    </tr>\n",
       "  </thead>\n",
       "  <tbody>\n",
       "    <tr>\n",
       "      <th>0</th>\n",
       "      <td>1</td>\n",
       "      <td>M</td>\n",
       "      <td>Car</td>\n",
       "    </tr>\n",
       "    <tr>\n",
       "      <th>1</th>\n",
       "      <td>2</td>\n",
       "      <td>M</td>\n",
       "      <td>Bicycle</td>\n",
       "    </tr>\n",
       "    <tr>\n",
       "      <th>2</th>\n",
       "      <td>3</td>\n",
       "      <td>M</td>\n",
       "      <td>Car</td>\n",
       "    </tr>\n",
       "    <tr>\n",
       "      <th>3</th>\n",
       "      <td>4</td>\n",
       "      <td>M</td>\n",
       "      <td>Scooter</td>\n",
       "    </tr>\n",
       "    <tr>\n",
       "      <th>4</th>\n",
       "      <td>5</td>\n",
       "      <td>M</td>\n",
       "      <td>Bycycle</td>\n",
       "    </tr>\n",
       "  </tbody>\n",
       "</table>\n",
       "</div>"
      ],
      "text/plain": [
       "   Student ID Weekday Method of Travel\n",
       "0           1       M              Car\n",
       "1           2       M          Bicycle\n",
       "2           3       M              Car\n",
       "3           4       M          Scooter\n",
       "4           5       M          Bycycle"
      ]
     },
     "execution_count": 5,
     "metadata": {},
     "output_type": "execute_result"
    }
   ],
   "source": [
    "df_pivot.head()"
   ]
  },
  {
   "cell_type": "code",
   "execution_count": 6,
   "id": "17bc22ba",
   "metadata": {},
   "outputs": [
    {
     "data": {
      "text/plain": [
       "array(['Car', 'Bicycle', 'Scooter', 'Bycycle', 'Walk', 'Aeroplane',\n",
       "       'Helicopter', 'Van', \"Mum's Shoulders\", 'Hopped', 'Carr', 'Walkk',\n",
       "       \"Dad's Shoulders\", 'Skipped', 'Scootr', 'Scoter', 'Wallk',\n",
       "       'Jumped', 'Helicopeter', 'WAlk', 'Waalk'], dtype=object)"
      ]
     },
     "execution_count": 6,
     "metadata": {},
     "output_type": "execute_result"
    }
   ],
   "source": [
    "#remove spelling mistakes\n",
    "df_pivot['Method of Travel'].unique()"
   ]
  },
  {
   "cell_type": "code",
   "execution_count": 7,
   "id": "17bdea66",
   "metadata": {},
   "outputs": [],
   "source": [
    "spellcheck = {'Car':'^C.*','Bicycle':'^B.*','Walk':'^W.*','Scooter':'^Sc.*','Helicopter':'^He.*'}\n",
    "\n",
    "for correct, pattern in spellcheck.items():\n",
    "    df_pivot['Method of Travel'] = df_pivot['Method of Travel'].replace(to_replace = pattern, value = correct, regex = True)"
   ]
  },
  {
   "cell_type": "code",
   "execution_count": 8,
   "id": "c7b08f4b",
   "metadata": {},
   "outputs": [
    {
     "data": {
      "text/plain": [
       "array(['Car', 'Bicycle', 'Scooter', 'Walk', 'Aeroplane', 'Helicopter',\n",
       "       'Van', \"Mum's Shoulders\", 'Hopped', \"Dad's Shoulders\", 'Skipped',\n",
       "       'Jumped'], dtype=object)"
      ]
     },
     "execution_count": 8,
     "metadata": {},
     "output_type": "execute_result"
    }
   ],
   "source": [
    "df_pivot['Method of Travel'].unique()"
   ]
  },
  {
   "cell_type": "code",
   "execution_count": 9,
   "id": "8e7fcba7",
   "metadata": {},
   "outputs": [],
   "source": [
    "#Create a Sustainable (non-motorised) vs Non-Sustainable (motorised) data field \n",
    "Sus = ['Scooter','Bicycle','Walk',\"Mum's Shoulders\",\"Dad's Shoulders\",\"Jumped\"]\n",
    "\n",
    "df_pivot[\"Sustainable?\"] = np.where((df_pivot['Method of Travel'].isin(Sus)), 'Sustainable',\"Non-Sustainable\")"
   ]
  },
  {
   "cell_type": "code",
   "execution_count": 10,
   "id": "61b15fd0",
   "metadata": {},
   "outputs": [],
   "source": [
    "#Total up the number of pupil's travelling by each method of travel\n",
    "df_pivot['Number of Trips'] = df_pivot.groupby(['Weekday', 'Method of Travel'])['Student ID'].transform('size')\n",
    "df_pivot['Trips per day'] = df_pivot.groupby(['Weekday'])['Student ID'].transform('size')\n",
    "df_pivot[\"% of trips per day\"] = (df_pivot['Number of Trips']/ df_pivot['Trips per day']).round(2)"
   ]
  },
  {
   "cell_type": "code",
   "execution_count": 11,
   "id": "5f392b60",
   "metadata": {},
   "outputs": [],
   "source": [
    "df_pivot2 = df_pivot.groupby([\"Sustainable?\",'Method of Travel','Weekday','Number of Trips','Trips per day',\"% of trips per day\"])['Student ID'].count().reset_index()"
   ]
  },
  {
   "cell_type": "code",
   "execution_count": 12,
   "id": "1a0d50ae",
   "metadata": {},
   "outputs": [
    {
     "data": {
      "text/html": [
       "<div>\n",
       "<style scoped>\n",
       "    .dataframe tbody tr th:only-of-type {\n",
       "        vertical-align: middle;\n",
       "    }\n",
       "\n",
       "    .dataframe tbody tr th {\n",
       "        vertical-align: top;\n",
       "    }\n",
       "\n",
       "    .dataframe thead th {\n",
       "        text-align: right;\n",
       "    }\n",
       "</style>\n",
       "<table border=\"1\" class=\"dataframe\">\n",
       "  <thead>\n",
       "    <tr style=\"text-align: right;\">\n",
       "      <th></th>\n",
       "      <th>Sustainable?</th>\n",
       "      <th>Method of Travel</th>\n",
       "      <th>Weekday</th>\n",
       "      <th>Number of Trips</th>\n",
       "      <th>Trips per day</th>\n",
       "      <th>% of trips per day</th>\n",
       "      <th>Student ID</th>\n",
       "    </tr>\n",
       "  </thead>\n",
       "  <tbody>\n",
       "    <tr>\n",
       "      <th>0</th>\n",
       "      <td>Non-Sustainable</td>\n",
       "      <td>Aeroplane</td>\n",
       "      <td>F</td>\n",
       "      <td>9</td>\n",
       "      <td>1000</td>\n",
       "      <td>0.01</td>\n",
       "      <td>9</td>\n",
       "    </tr>\n",
       "    <tr>\n",
       "      <th>1</th>\n",
       "      <td>Non-Sustainable</td>\n",
       "      <td>Aeroplane</td>\n",
       "      <td>M</td>\n",
       "      <td>9</td>\n",
       "      <td>1000</td>\n",
       "      <td>0.01</td>\n",
       "      <td>9</td>\n",
       "    </tr>\n",
       "    <tr>\n",
       "      <th>2</th>\n",
       "      <td>Non-Sustainable</td>\n",
       "      <td>Aeroplane</td>\n",
       "      <td>Th</td>\n",
       "      <td>9</td>\n",
       "      <td>1000</td>\n",
       "      <td>0.01</td>\n",
       "      <td>9</td>\n",
       "    </tr>\n",
       "    <tr>\n",
       "      <th>3</th>\n",
       "      <td>Non-Sustainable</td>\n",
       "      <td>Aeroplane</td>\n",
       "      <td>Tu</td>\n",
       "      <td>9</td>\n",
       "      <td>1000</td>\n",
       "      <td>0.01</td>\n",
       "      <td>9</td>\n",
       "    </tr>\n",
       "    <tr>\n",
       "      <th>4</th>\n",
       "      <td>Non-Sustainable</td>\n",
       "      <td>Aeroplane</td>\n",
       "      <td>W</td>\n",
       "      <td>9</td>\n",
       "      <td>1000</td>\n",
       "      <td>0.01</td>\n",
       "      <td>9</td>\n",
       "    </tr>\n",
       "  </tbody>\n",
       "</table>\n",
       "</div>"
      ],
      "text/plain": [
       "      Sustainable? Method of Travel Weekday  Number of Trips  Trips per day  \\\n",
       "0  Non-Sustainable        Aeroplane       F                9           1000   \n",
       "1  Non-Sustainable        Aeroplane       M                9           1000   \n",
       "2  Non-Sustainable        Aeroplane      Th                9           1000   \n",
       "3  Non-Sustainable        Aeroplane      Tu                9           1000   \n",
       "4  Non-Sustainable        Aeroplane       W                9           1000   \n",
       "\n",
       "   % of trips per day  Student ID  \n",
       "0                0.01           9  \n",
       "1                0.01           9  \n",
       "2                0.01           9  \n",
       "3                0.01           9  \n",
       "4                0.01           9  "
      ]
     },
     "execution_count": 12,
     "metadata": {},
     "output_type": "execute_result"
    }
   ],
   "source": [
    "df_pivot2.head()"
   ]
  },
  {
   "cell_type": "code",
   "execution_count": 13,
   "id": "820f943c",
   "metadata": {},
   "outputs": [],
   "source": [
    "output = df_pivot2[[\"Sustainable?\",'Method of Travel','Weekday','Number of Trips','Trips per day',\"% of trips per day\"]]"
   ]
  },
  {
   "cell_type": "code",
   "execution_count": 14,
   "id": "4f2169eb",
   "metadata": {},
   "outputs": [
    {
     "data": {
      "text/html": [
       "<div>\n",
       "<style scoped>\n",
       "    .dataframe tbody tr th:only-of-type {\n",
       "        vertical-align: middle;\n",
       "    }\n",
       "\n",
       "    .dataframe tbody tr th {\n",
       "        vertical-align: top;\n",
       "    }\n",
       "\n",
       "    .dataframe thead th {\n",
       "        text-align: right;\n",
       "    }\n",
       "</style>\n",
       "<table border=\"1\" class=\"dataframe\">\n",
       "  <thead>\n",
       "    <tr style=\"text-align: right;\">\n",
       "      <th></th>\n",
       "      <th>Sustainable?</th>\n",
       "      <th>Method of Travel</th>\n",
       "      <th>Weekday</th>\n",
       "      <th>Number of Trips</th>\n",
       "      <th>Trips per day</th>\n",
       "      <th>% of trips per day</th>\n",
       "    </tr>\n",
       "  </thead>\n",
       "  <tbody>\n",
       "    <tr>\n",
       "      <th>0</th>\n",
       "      <td>Non-Sustainable</td>\n",
       "      <td>Aeroplane</td>\n",
       "      <td>F</td>\n",
       "      <td>9</td>\n",
       "      <td>1000</td>\n",
       "      <td>0.01</td>\n",
       "    </tr>\n",
       "    <tr>\n",
       "      <th>1</th>\n",
       "      <td>Non-Sustainable</td>\n",
       "      <td>Aeroplane</td>\n",
       "      <td>M</td>\n",
       "      <td>9</td>\n",
       "      <td>1000</td>\n",
       "      <td>0.01</td>\n",
       "    </tr>\n",
       "    <tr>\n",
       "      <th>2</th>\n",
       "      <td>Non-Sustainable</td>\n",
       "      <td>Aeroplane</td>\n",
       "      <td>Th</td>\n",
       "      <td>9</td>\n",
       "      <td>1000</td>\n",
       "      <td>0.01</td>\n",
       "    </tr>\n",
       "    <tr>\n",
       "      <th>3</th>\n",
       "      <td>Non-Sustainable</td>\n",
       "      <td>Aeroplane</td>\n",
       "      <td>Tu</td>\n",
       "      <td>9</td>\n",
       "      <td>1000</td>\n",
       "      <td>0.01</td>\n",
       "    </tr>\n",
       "    <tr>\n",
       "      <th>4</th>\n",
       "      <td>Non-Sustainable</td>\n",
       "      <td>Aeroplane</td>\n",
       "      <td>W</td>\n",
       "      <td>9</td>\n",
       "      <td>1000</td>\n",
       "      <td>0.01</td>\n",
       "    </tr>\n",
       "    <tr>\n",
       "      <th>5</th>\n",
       "      <td>Non-Sustainable</td>\n",
       "      <td>Car</td>\n",
       "      <td>F</td>\n",
       "      <td>254</td>\n",
       "      <td>1000</td>\n",
       "      <td>0.25</td>\n",
       "    </tr>\n",
       "    <tr>\n",
       "      <th>6</th>\n",
       "      <td>Non-Sustainable</td>\n",
       "      <td>Car</td>\n",
       "      <td>M</td>\n",
       "      <td>422</td>\n",
       "      <td>1000</td>\n",
       "      <td>0.42</td>\n",
       "    </tr>\n",
       "    <tr>\n",
       "      <th>7</th>\n",
       "      <td>Non-Sustainable</td>\n",
       "      <td>Car</td>\n",
       "      <td>Th</td>\n",
       "      <td>302</td>\n",
       "      <td>1000</td>\n",
       "      <td>0.30</td>\n",
       "    </tr>\n",
       "    <tr>\n",
       "      <th>8</th>\n",
       "      <td>Non-Sustainable</td>\n",
       "      <td>Car</td>\n",
       "      <td>Tu</td>\n",
       "      <td>364</td>\n",
       "      <td>1000</td>\n",
       "      <td>0.36</td>\n",
       "    </tr>\n",
       "    <tr>\n",
       "      <th>9</th>\n",
       "      <td>Non-Sustainable</td>\n",
       "      <td>Car</td>\n",
       "      <td>W</td>\n",
       "      <td>413</td>\n",
       "      <td>1000</td>\n",
       "      <td>0.41</td>\n",
       "    </tr>\n",
       "  </tbody>\n",
       "</table>\n",
       "</div>"
      ],
      "text/plain": [
       "      Sustainable? Method of Travel Weekday  Number of Trips  Trips per day  \\\n",
       "0  Non-Sustainable        Aeroplane       F                9           1000   \n",
       "1  Non-Sustainable        Aeroplane       M                9           1000   \n",
       "2  Non-Sustainable        Aeroplane      Th                9           1000   \n",
       "3  Non-Sustainable        Aeroplane      Tu                9           1000   \n",
       "4  Non-Sustainable        Aeroplane       W                9           1000   \n",
       "5  Non-Sustainable              Car       F              254           1000   \n",
       "6  Non-Sustainable              Car       M              422           1000   \n",
       "7  Non-Sustainable              Car      Th              302           1000   \n",
       "8  Non-Sustainable              Car      Tu              364           1000   \n",
       "9  Non-Sustainable              Car       W              413           1000   \n",
       "\n",
       "   % of trips per day  \n",
       "0                0.01  \n",
       "1                0.01  \n",
       "2                0.01  \n",
       "3                0.01  \n",
       "4                0.01  \n",
       "5                0.25  \n",
       "6                0.42  \n",
       "7                0.30  \n",
       "8                0.36  \n",
       "9                0.41  "
      ]
     },
     "execution_count": 14,
     "metadata": {},
     "output_type": "execute_result"
    }
   ],
   "source": [
    "output.head(10)"
   ]
  },
  {
   "cell_type": "code",
   "execution_count": 15,
   "id": "91d33a8e",
   "metadata": {},
   "outputs": [],
   "source": [
    "#Output the data\n",
    "output.to_csv('wk4-output.csv',index=False)"
   ]
  }
 ],
 "metadata": {
  "kernelspec": {
   "display_name": "Tetteyanalysis",
   "language": "python",
   "name": "tetteyanalysis"
  },
  "language_info": {
   "codemirror_mode": {
    "name": "ipython",
    "version": 3
   },
   "file_extension": ".py",
   "mimetype": "text/x-python",
   "name": "python",
   "nbconvert_exporter": "python",
   "pygments_lexer": "ipython3",
   "version": "3.7.11"
  }
 },
 "nbformat": 4,
 "nbformat_minor": 5
}
