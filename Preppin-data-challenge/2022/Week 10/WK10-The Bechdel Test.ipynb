{
 "cells": [
  {
   "cell_type": "markdown",
   "id": "dc7a3ef9",
   "metadata": {},
   "source": [
    "### Prepping Data Challenge: The Bechdel Test (Week 10)\n",
    "\n",
    "If you're unfamiliar, there are 3 criteria to passing the Bechdel Test:\n",
    "\n",
    "1. The film has to have at least two [named] women in it,\n",
    "2. who talk to each other,\n",
    "3. about something besides a man\n",
    "\n",
    "### Inputs\n",
    "We are taking our data from this website for this challenge. It has been webscraped to a certain point and we will continue parsing out the data. As part of cleaning up the data, we have to deal with various html codes from different symbols.\n",
    "\n",
    "### Requirements\n",
    "- Input the data\n",
    "- Parse out the data in the Download Data field so that we have one field containing the Movie title and one field containing information about whether of not the movie passes the Bechdel Test\n",
    "Before we deal with the majority of the html codes, I would recommend replacing <code>&amp;</code> instances with <code>'&'</code> because of this film on the website incorrectly converting the html code \n",
    "- Extract the html codes from the Movie titles\n",
    "  - These will always start with a '&' and end with a ';'\n",
    "  - The maximum number of html codes in a Movie title is 5\n",
    "- Replace the html codes with their correct characters\n",
    "  - Ensure that codes which match up to spaces have a space in their character cell rather than a null value\n",
    "- Parse out the information for whether a film passes or fails the Bechdel test as well as the detailed reasoning behind this\n",
    "- Rank the Bechdel Test Categorisations from 1 to 5, 1 being the best result, 5 being the worst result\n",
    "- Where a film has multiple categorisations, keep only the worse ranking, even if this means the movie moves from pass to fail\n",
    "- Output the data"
   ]
  },
  {
   "cell_type": "code",
   "execution_count": 1,
   "id": "7b263fab",
   "metadata": {},
   "outputs": [],
   "source": [
    "import pandas as pd\n",
    "import numpy as np"
   ]
  },
  {
   "cell_type": "code",
   "execution_count": 2,
   "id": "077cd1f1",
   "metadata": {
    "scrolled": true
   },
   "outputs": [],
   "source": [
    "# Input the data.\n",
    "with pd.ExcelFile('WK10-PD Bechdel Test.xlsx') as xlsx:\n",
    "    web = pd.read_excel(xlsx, 'Webscraping')\n",
    "    html = pd.read_excel(xlsx, 'html')"
   ]
  },
  {
   "cell_type": "code",
   "execution_count": 3,
   "id": "ad0e5c0a",
   "metadata": {},
   "outputs": [],
   "source": [
    "#Parse out the data in the Download Data field so that we have one field containing the Movie title \n",
    "#and one field containing information about whether of not the movie passes the Bechdel Test\n",
    "web[\"Movie\"] = web['DownloadData'].str.extract('view/[0-9]+/[([\\$#:.a-zA-Z?<_&\\s=>0-9;,\\-()\\'\"!\\[\\]\\/]+/\">([([\\$#:.a-zA-Z?_&\\s=0-9;,\\-()\\'\"!\\[\\]\\/]+)')\n",
    "web[\"Categorisation\"] = web['DownloadData'].str.extract('\\[\\[\\d]\\]\"\\s+title=\"\\[([:.a-zA-Z?<_&\\s=>0-9;,\\-()\\']+)')\n",
    "web[\"Pass/Fail\"] = web['DownloadData'].str.extract(\"static*\\/([a-z]+)\\.png\")"
   ]
  },
  {
   "cell_type": "code",
   "execution_count": 4,
   "id": "786b90b1",
   "metadata": {},
   "outputs": [
    {
     "data": {
      "text/html": [
       "<div>\n",
       "<style scoped>\n",
       "    .dataframe tbody tr th:only-of-type {\n",
       "        vertical-align: middle;\n",
       "    }\n",
       "\n",
       "    .dataframe tbody tr th {\n",
       "        vertical-align: top;\n",
       "    }\n",
       "\n",
       "    .dataframe thead th {\n",
       "        text-align: right;\n",
       "    }\n",
       "</style>\n",
       "<table border=\"1\" class=\"dataframe\">\n",
       "  <thead>\n",
       "    <tr style=\"text-align: right;\">\n",
       "      <th></th>\n",
       "      <th>DownloadData</th>\n",
       "      <th>Year</th>\n",
       "      <th>Movie</th>\n",
       "      <th>Categorisation</th>\n",
       "      <th>Pass/Fail</th>\n",
       "    </tr>\n",
       "  </thead>\n",
       "  <tbody>\n",
       "    <tr>\n",
       "      <th>0</th>\n",
       "      <td>&lt;a href=\"http://us.imdb.com/title/tt3155794/\"&gt;...</td>\n",
       "      <td>1874</td>\n",
       "      <td>Passage de Venus</td>\n",
       "      <td>Fewer than two women in this movie</td>\n",
       "      <td>nopass</td>\n",
       "    </tr>\n",
       "    <tr>\n",
       "      <th>1</th>\n",
       "      <td>&lt;a href=\"http://us.imdb.com/title/tt14495706/\"...</td>\n",
       "      <td>1877</td>\n",
       "      <td>La Rosace Magique</td>\n",
       "      <td>Fewer than two women in this movie</td>\n",
       "      <td>nopass</td>\n",
       "    </tr>\n",
       "    <tr>\n",
       "      <th>2</th>\n",
       "      <td>&lt;a href=\"http://us.imdb.com/title/tt12592084/\"...</td>\n",
       "      <td>1878</td>\n",
       "      <td>Le singe musicien</td>\n",
       "      <td>Fewer than two women in this movie</td>\n",
       "      <td>nopass</td>\n",
       "    </tr>\n",
       "    <tr>\n",
       "      <th>3</th>\n",
       "      <td>&lt;a href=\"http://us.imdb.com/title/tt2221420/\"&gt;...</td>\n",
       "      <td>1878</td>\n",
       "      <td>Sallie Gardner at a Gallop</td>\n",
       "      <td>Fewer than two women in this movie</td>\n",
       "      <td>nopass</td>\n",
       "    </tr>\n",
       "    <tr>\n",
       "      <th>4</th>\n",
       "      <td>&lt;a href=\"http://us.imdb.com/title/tt7816420/\"&gt;...</td>\n",
       "      <td>1881</td>\n",
       "      <td>Athlete Swinging a Pick</td>\n",
       "      <td>Fewer than two women in this movie</td>\n",
       "      <td>nopass</td>\n",
       "    </tr>\n",
       "  </tbody>\n",
       "</table>\n",
       "</div>"
      ],
      "text/plain": [
       "                                        DownloadData  Year  \\\n",
       "0  <a href=\"http://us.imdb.com/title/tt3155794/\">...  1874   \n",
       "1  <a href=\"http://us.imdb.com/title/tt14495706/\"...  1877   \n",
       "2  <a href=\"http://us.imdb.com/title/tt12592084/\"...  1878   \n",
       "3  <a href=\"http://us.imdb.com/title/tt2221420/\">...  1878   \n",
       "4  <a href=\"http://us.imdb.com/title/tt7816420/\">...  1881   \n",
       "\n",
       "                        Movie                      Categorisation Pass/Fail  \n",
       "0            Passage de Venus  Fewer than two women in this movie    nopass  \n",
       "1           La Rosace Magique  Fewer than two women in this movie    nopass  \n",
       "2           Le singe musicien  Fewer than two women in this movie    nopass  \n",
       "3  Sallie Gardner at a Gallop  Fewer than two women in this movie    nopass  \n",
       "4     Athlete Swinging a Pick  Fewer than two women in this movie    nopass  "
      ]
     },
     "execution_count": 4,
     "metadata": {},
     "output_type": "execute_result"
    }
   ],
   "source": [
    "web.head()"
   ]
  },
  {
   "cell_type": "code",
   "execution_count": 5,
   "id": "80f7f21b",
   "metadata": {},
   "outputs": [
    {
     "data": {
      "text/plain": [
       "array(['Fewer than two women in this movie',\n",
       "       \"There are two or more women in this movie, but they don't talk to each other\",\n",
       "       'There are two or more women in this movie and they talk to each other about something other than a man',\n",
       "       'There are two or more women in this movie, but they only talk to each other about a man',\n",
       "       'There are two or more women in this movie and they talk to each other about something other than a man, although dubious'],\n",
       "      dtype=object)"
      ]
     },
     "execution_count": 5,
     "metadata": {},
     "output_type": "execute_result"
    }
   ],
   "source": [
    "web[\"Categorisation\"].unique()"
   ]
  },
  {
   "cell_type": "code",
   "execution_count": 6,
   "id": "0efaa7e2",
   "metadata": {},
   "outputs": [],
   "source": [
    "web['Pass/Fail'] = web['Pass/Fail'].apply(lambda x: 'Pass' if x == 'pass' else 'Fail')"
   ]
  },
  {
   "cell_type": "code",
   "execution_count": 7,
   "id": "a3b632cf",
   "metadata": {},
   "outputs": [
    {
     "data": {
      "text/plain": [
       "array(['Fail', 'Pass'], dtype=object)"
      ]
     },
     "execution_count": 7,
     "metadata": {},
     "output_type": "execute_result"
    }
   ],
   "source": [
    "web['Pass/Fail'].unique()"
   ]
  },
  {
   "cell_type": "code",
   "execution_count": 8,
   "id": "e6b8096e",
   "metadata": {},
   "outputs": [],
   "source": [
    "points = {'There are two or more women in this movie and they talk to each other about something other than a man' : 1, \n",
    "          'There are two or more women in this movie and they talk to each other about something other than a man, although dubious' : 2,\n",
    "          'There are two or more women in this movie, but they only talk to each other about a man' : 3, \n",
    "          \"There are two or more women in this movie, but they don't talk to each other\" : 4, \n",
    "          'Fewer than two women in this movie' : 5}\n",
    "web['Ranking'] = web['Categorisation'].map(points)"
   ]
  },
  {
   "cell_type": "code",
   "execution_count": 9,
   "id": "c9dd01fb",
   "metadata": {},
   "outputs": [],
   "source": [
    "df = web[['Movie','Year','Ranking','Categorisation']]"
   ]
  },
  {
   "cell_type": "code",
   "execution_count": 10,
   "id": "ace1a492",
   "metadata": {},
   "outputs": [
    {
     "data": {
      "text/html": [
       "<div>\n",
       "<style scoped>\n",
       "    .dataframe tbody tr th:only-of-type {\n",
       "        vertical-align: middle;\n",
       "    }\n",
       "\n",
       "    .dataframe tbody tr th {\n",
       "        vertical-align: top;\n",
       "    }\n",
       "\n",
       "    .dataframe thead th {\n",
       "        text-align: right;\n",
       "    }\n",
       "</style>\n",
       "<table border=\"1\" class=\"dataframe\">\n",
       "  <thead>\n",
       "    <tr style=\"text-align: right;\">\n",
       "      <th></th>\n",
       "      <th>Movie</th>\n",
       "      <th>Year</th>\n",
       "      <th>Ranking</th>\n",
       "      <th>Categorisation</th>\n",
       "    </tr>\n",
       "  </thead>\n",
       "  <tbody>\n",
       "    <tr>\n",
       "      <th>0</th>\n",
       "      <td>Passage de Venus</td>\n",
       "      <td>1874</td>\n",
       "      <td>5</td>\n",
       "      <td>Fewer than two women in this movie</td>\n",
       "    </tr>\n",
       "    <tr>\n",
       "      <th>1</th>\n",
       "      <td>La Rosace Magique</td>\n",
       "      <td>1877</td>\n",
       "      <td>5</td>\n",
       "      <td>Fewer than two women in this movie</td>\n",
       "    </tr>\n",
       "    <tr>\n",
       "      <th>2</th>\n",
       "      <td>Le singe musicien</td>\n",
       "      <td>1878</td>\n",
       "      <td>5</td>\n",
       "      <td>Fewer than two women in this movie</td>\n",
       "    </tr>\n",
       "    <tr>\n",
       "      <th>3</th>\n",
       "      <td>Sallie Gardner at a Gallop</td>\n",
       "      <td>1878</td>\n",
       "      <td>5</td>\n",
       "      <td>Fewer than two women in this movie</td>\n",
       "    </tr>\n",
       "    <tr>\n",
       "      <th>4</th>\n",
       "      <td>Athlete Swinging a Pick</td>\n",
       "      <td>1881</td>\n",
       "      <td>5</td>\n",
       "      <td>Fewer than two women in this movie</td>\n",
       "    </tr>\n",
       "  </tbody>\n",
       "</table>\n",
       "</div>"
      ],
      "text/plain": [
       "                        Movie  Year  Ranking  \\\n",
       "0            Passage de Venus  1874        5   \n",
       "1           La Rosace Magique  1877        5   \n",
       "2           Le singe musicien  1878        5   \n",
       "3  Sallie Gardner at a Gallop  1878        5   \n",
       "4     Athlete Swinging a Pick  1881        5   \n",
       "\n",
       "                       Categorisation  \n",
       "0  Fewer than two women in this movie  \n",
       "1  Fewer than two women in this movie  \n",
       "2  Fewer than two women in this movie  \n",
       "3  Fewer than two women in this movie  \n",
       "4  Fewer than two women in this movie  "
      ]
     },
     "execution_count": 10,
     "metadata": {},
     "output_type": "execute_result"
    }
   ],
   "source": [
    "df.head()"
   ]
  },
  {
   "cell_type": "code",
   "execution_count": 11,
   "id": "85f20872",
   "metadata": {},
   "outputs": [],
   "source": [
    "#output the dataset\n",
    "df.to_csv('wk10-output.csv', index=False)"
   ]
  }
 ],
 "metadata": {
  "kernelspec": {
   "display_name": "Tetteyanalysis",
   "language": "python",
   "name": "tetteyanalysis"
  },
  "language_info": {
   "codemirror_mode": {
    "name": "ipython",
    "version": 3
   },
   "file_extension": ".py",
   "mimetype": "text/x-python",
   "name": "python",
   "nbconvert_exporter": "python",
   "pygments_lexer": "ipython3",
   "version": "3.7.11"
  }
 },
 "nbformat": 4,
 "nbformat_minor": 5
}
