{
 "cells": [
  {
   "cell_type": "markdown",
   "id": "dc7a3ef9",
   "metadata": {},
   "source": [
    "### Prepping Data Challenge: Setting Grades (Week 5)\n",
    "\n",
    "This week's challenge is looking to take the numeric score our students' have received and turn it to:\n",
    "\n",
    " - A letter grade (our students' parents prefer this) \n",
    " - A score that goes towards their High School applications\n",
    "The challenge's aim is understand how many points on average a student who receives an A gets. This will help us understand how many students would get a higher score than the average student receiving an A without receiving one. \n",
    "\n",
    "### Input\n",
    "\n",
    "One file (the same Grades as 2022 Week 3) of grades by student and subject.\n",
    "\n",
    "### Requirements\n",
    " - Input the data\n",
    " - Divide the students grades into 6 evenly distributed groups \n",
    "   - By evenly distributed, it means the same number of students gain each grade within a subject\n",
    " - Convert the groups to two different metrics:\n",
    "   - The top scoring group should get an A, second group B etc through to the sixth group who receive an F\n",
    "   - An A is worth 10 points for their high school application, B gets 8, C gets 6, D gets 4, E gets 2 and F gets 1.\n",
    " - Determine how many high school application points each Student has received across all their subjects \n",
    " - Work out the average total points per student by grade \n",
    "   - ie for all the students who got an A, how many points did they get across all their subjects\n",
    " - Take the average total score you get for students who have received at least one A and remove anyone who scored less than this. \n",
    " - Remove students who received an A\n",
    " - How many students scored more than the average and never received an A?\n",
    " - Output the data"
   ]
  },
  {
   "cell_type": "code",
   "execution_count": 1,
   "id": "7b263fab",
   "metadata": {},
   "outputs": [],
   "source": [
    "import pandas as pd"
   ]
  },
  {
   "cell_type": "code",
   "execution_count": 2,
   "id": "077cd1f1",
   "metadata": {
    "scrolled": true
   },
   "outputs": [],
   "source": [
    "# Input the data.\n",
    "df = pd.read_csv('WK3- Grades input.csv')"
   ]
  },
  {
   "cell_type": "code",
   "execution_count": 3,
   "id": "e6b8096e",
   "metadata": {},
   "outputs": [
    {
     "data": {
      "text/html": [
       "<div>\n",
       "<style scoped>\n",
       "    .dataframe tbody tr th:only-of-type {\n",
       "        vertical-align: middle;\n",
       "    }\n",
       "\n",
       "    .dataframe tbody tr th {\n",
       "        vertical-align: top;\n",
       "    }\n",
       "\n",
       "    .dataframe thead th {\n",
       "        text-align: right;\n",
       "    }\n",
       "</style>\n",
       "<table border=\"1\" class=\"dataframe\">\n",
       "  <thead>\n",
       "    <tr style=\"text-align: right;\">\n",
       "      <th></th>\n",
       "      <th>Student ID</th>\n",
       "      <th>Maths</th>\n",
       "      <th>English</th>\n",
       "      <th>Spanish</th>\n",
       "      <th>Science</th>\n",
       "      <th>Art</th>\n",
       "      <th>History</th>\n",
       "      <th>Geography</th>\n",
       "    </tr>\n",
       "  </thead>\n",
       "  <tbody>\n",
       "    <tr>\n",
       "      <th>0</th>\n",
       "      <td>1</td>\n",
       "      <td>66</td>\n",
       "      <td>97</td>\n",
       "      <td>85</td>\n",
       "      <td>75</td>\n",
       "      <td>76</td>\n",
       "      <td>94</td>\n",
       "      <td>76</td>\n",
       "    </tr>\n",
       "    <tr>\n",
       "      <th>1</th>\n",
       "      <td>2</td>\n",
       "      <td>84</td>\n",
       "      <td>85</td>\n",
       "      <td>62</td>\n",
       "      <td>87</td>\n",
       "      <td>68</td>\n",
       "      <td>75</td>\n",
       "      <td>74</td>\n",
       "    </tr>\n",
       "    <tr>\n",
       "      <th>2</th>\n",
       "      <td>3</td>\n",
       "      <td>88</td>\n",
       "      <td>68</td>\n",
       "      <td>69</td>\n",
       "      <td>81</td>\n",
       "      <td>92</td>\n",
       "      <td>89</td>\n",
       "      <td>75</td>\n",
       "    </tr>\n",
       "    <tr>\n",
       "      <th>3</th>\n",
       "      <td>4</td>\n",
       "      <td>65</td>\n",
       "      <td>97</td>\n",
       "      <td>96</td>\n",
       "      <td>89</td>\n",
       "      <td>98</td>\n",
       "      <td>77</td>\n",
       "      <td>62</td>\n",
       "    </tr>\n",
       "    <tr>\n",
       "      <th>4</th>\n",
       "      <td>5</td>\n",
       "      <td>86</td>\n",
       "      <td>97</td>\n",
       "      <td>94</td>\n",
       "      <td>98</td>\n",
       "      <td>67</td>\n",
       "      <td>77</td>\n",
       "      <td>97</td>\n",
       "    </tr>\n",
       "  </tbody>\n",
       "</table>\n",
       "</div>"
      ],
      "text/plain": [
       "   Student ID  Maths  English  Spanish  Science  Art  History  Geography\n",
       "0           1     66       97       85       75   76       94         76\n",
       "1           2     84       85       62       87   68       75         74\n",
       "2           3     88       68       69       81   92       89         75\n",
       "3           4     65       97       96       89   98       77         62\n",
       "4           5     86       97       94       98   67       77         97"
      ]
     },
     "execution_count": 3,
     "metadata": {},
     "output_type": "execute_result"
    }
   ],
   "source": [
    "df.head()"
   ]
  },
  {
   "cell_type": "code",
   "execution_count": 4,
   "id": "7de23cf0",
   "metadata": {},
   "outputs": [],
   "source": [
    "#Divide the students grades into 6 evenly distributed groups \n",
    "#By evenly distributed, it means the same number of students gain each grade within a subject\n",
    "df2 = pd.melt(df, id_vars=['Student ID'], var_name = 'Subject',value_name='Score')"
   ]
  },
  {
   "cell_type": "code",
   "execution_count": 5,
   "id": "95459be4",
   "metadata": {},
   "outputs": [
    {
     "data": {
      "text/html": [
       "<div>\n",
       "<style scoped>\n",
       "    .dataframe tbody tr th:only-of-type {\n",
       "        vertical-align: middle;\n",
       "    }\n",
       "\n",
       "    .dataframe tbody tr th {\n",
       "        vertical-align: top;\n",
       "    }\n",
       "\n",
       "    .dataframe thead th {\n",
       "        text-align: right;\n",
       "    }\n",
       "</style>\n",
       "<table border=\"1\" class=\"dataframe\">\n",
       "  <thead>\n",
       "    <tr style=\"text-align: right;\">\n",
       "      <th></th>\n",
       "      <th>Student ID</th>\n",
       "      <th>Subject</th>\n",
       "      <th>Score</th>\n",
       "    </tr>\n",
       "  </thead>\n",
       "  <tbody>\n",
       "    <tr>\n",
       "      <th>0</th>\n",
       "      <td>1</td>\n",
       "      <td>Maths</td>\n",
       "      <td>66</td>\n",
       "    </tr>\n",
       "    <tr>\n",
       "      <th>1</th>\n",
       "      <td>2</td>\n",
       "      <td>Maths</td>\n",
       "      <td>84</td>\n",
       "    </tr>\n",
       "    <tr>\n",
       "      <th>2</th>\n",
       "      <td>3</td>\n",
       "      <td>Maths</td>\n",
       "      <td>88</td>\n",
       "    </tr>\n",
       "    <tr>\n",
       "      <th>3</th>\n",
       "      <td>4</td>\n",
       "      <td>Maths</td>\n",
       "      <td>65</td>\n",
       "    </tr>\n",
       "    <tr>\n",
       "      <th>4</th>\n",
       "      <td>5</td>\n",
       "      <td>Maths</td>\n",
       "      <td>86</td>\n",
       "    </tr>\n",
       "  </tbody>\n",
       "</table>\n",
       "</div>"
      ],
      "text/plain": [
       "   Student ID Subject  Score\n",
       "0           1   Maths     66\n",
       "1           2   Maths     84\n",
       "2           3   Maths     88\n",
       "3           4   Maths     65\n",
       "4           5   Maths     86"
      ]
     },
     "execution_count": 5,
     "metadata": {},
     "output_type": "execute_result"
    }
   ],
   "source": [
    "df2.head()"
   ]
  },
  {
   "cell_type": "code",
   "execution_count": 6,
   "id": "f9832fd7",
   "metadata": {},
   "outputs": [],
   "source": [
    "label = ['F', 'E', 'D', 'C', 'B', 'A']\n",
    "#df2['Grade'] = pd.cut(df2['Score'], bins=6, labels=label)\n",
    "df2['Grade'] = df2.groupby('Subject')['Score']\\\n",
    "                  .transform(lambda x: pd.qcut(x, q=6, labels=label))"
   ]
  },
  {
   "cell_type": "code",
   "execution_count": 7,
   "id": "17bdea66",
   "metadata": {},
   "outputs": [],
   "source": [
    "#An A is worth 10 points for their high school application, B gets 8, C gets 6, D gets 4, E gets 2 and F gets 1.\n",
    "points = {'A' : 10, 'B' : 8,'C' : 6, 'D' : 4, 'E' : 2, 'F' : 1}\n",
    "df2['Points'] = df2['Grade'].map(points)"
   ]
  },
  {
   "cell_type": "code",
   "execution_count": 8,
   "id": "8f7553f5",
   "metadata": {},
   "outputs": [
    {
     "data": {
      "text/plain": [
       "CategoricalDtype(categories=[1, 2, 4, 6, 8, 10], ordered=True)"
      ]
     },
     "execution_count": 8,
     "metadata": {},
     "output_type": "execute_result"
    }
   ],
   "source": [
    "df2['Points'].dtypes"
   ]
  },
  {
   "cell_type": "code",
   "execution_count": 9,
   "id": "1ffee1bd",
   "metadata": {},
   "outputs": [],
   "source": [
    "df2['Points'] = df2['Points'].astype('int64')"
   ]
  },
  {
   "cell_type": "code",
   "execution_count": 10,
   "id": "8e7fcba7",
   "metadata": {},
   "outputs": [],
   "source": [
    "#Determine how many high school application points each Student has received across all their subjects \n",
    "df2['Total Points per Student'] = df2.groupby(['Student ID'])['Points'].transform('sum')"
   ]
  },
  {
   "cell_type": "code",
   "execution_count": 11,
   "id": "d12489fb",
   "metadata": {},
   "outputs": [],
   "source": [
    "#Work out the average total points per student by grade \n",
    "#ie for all the students who got an A, how many points did they get across all their subjects\n",
    "df2['Avg student total points per grade'] = df2.groupby('Grade')['Total Points per Student'].transform('mean').round(2)"
   ]
  },
  {
   "cell_type": "code",
   "execution_count": 12,
   "id": "5f392b60",
   "metadata": {},
   "outputs": [],
   "source": [
    "#Take the average total score you get for students who have received at least one A \n",
    "#and remove anyone who scored less than this. \n",
    "atleast_a = df2[df2['Grade']=='A']['Avg student total points per grade'].min()\n",
    "df2 = df2.loc[df2['Total Points per Student'] >= atleast_a]"
   ]
  },
  {
   "cell_type": "code",
   "execution_count": 13,
   "id": "820f943c",
   "metadata": {},
   "outputs": [],
   "source": [
    "#Remove students who received an A\n",
    "df2 = df2[df2['Grade'] != 'A']"
   ]
  },
  {
   "cell_type": "code",
   "execution_count": 14,
   "id": "22b94305",
   "metadata": {},
   "outputs": [
    {
     "data": {
      "text/plain": [
       "15"
      ]
     },
     "execution_count": 14,
     "metadata": {},
     "output_type": "execute_result"
    }
   ],
   "source": [
    "#How many students scored more than the average and never received an A?\n",
    "df2['students without A'] = df2.groupby('Student ID')['Points'].transform('sum')\n",
    "without_a = df2[df2['students without A'] > atleast_a]['Student ID'].nunique()\n",
    "without_a"
   ]
  },
  {
   "cell_type": "code",
   "execution_count": 15,
   "id": "c6afc4cb",
   "metadata": {},
   "outputs": [],
   "source": [
    "df2 = df2[['Avg student total points per grade', 'Total Points per Student','Grade','Points','Subject','Score','Student ID']]"
   ]
  },
  {
   "cell_type": "code",
   "execution_count": 16,
   "id": "c72ff31e",
   "metadata": {},
   "outputs": [
    {
     "data": {
      "text/html": [
       "<div>\n",
       "<style scoped>\n",
       "    .dataframe tbody tr th:only-of-type {\n",
       "        vertical-align: middle;\n",
       "    }\n",
       "\n",
       "    .dataframe tbody tr th {\n",
       "        vertical-align: top;\n",
       "    }\n",
       "\n",
       "    .dataframe thead th {\n",
       "        text-align: right;\n",
       "    }\n",
       "</style>\n",
       "<table border=\"1\" class=\"dataframe\">\n",
       "  <thead>\n",
       "    <tr style=\"text-align: right;\">\n",
       "      <th></th>\n",
       "      <th>Avg student total points per grade</th>\n",
       "      <th>Total Points per Student</th>\n",
       "      <th>Grade</th>\n",
       "      <th>Points</th>\n",
       "      <th>Subject</th>\n",
       "      <th>Score</th>\n",
       "      <th>Student ID</th>\n",
       "    </tr>\n",
       "  </thead>\n",
       "  <tbody>\n",
       "    <tr>\n",
       "      <th>3</th>\n",
       "      <td>31.09</td>\n",
       "      <td>44</td>\n",
       "      <td>F</td>\n",
       "      <td>1</td>\n",
       "      <td>Maths</td>\n",
       "      <td>65</td>\n",
       "      <td>4</td>\n",
       "    </tr>\n",
       "    <tr>\n",
       "      <th>4</th>\n",
       "      <td>38.34</td>\n",
       "      <td>52</td>\n",
       "      <td>B</td>\n",
       "      <td>8</td>\n",
       "      <td>Maths</td>\n",
       "      <td>86</td>\n",
       "      <td>5</td>\n",
       "    </tr>\n",
       "    <tr>\n",
       "      <th>7</th>\n",
       "      <td>36.19</td>\n",
       "      <td>42</td>\n",
       "      <td>C</td>\n",
       "      <td>6</td>\n",
       "      <td>Maths</td>\n",
       "      <td>82</td>\n",
       "      <td>8</td>\n",
       "    </tr>\n",
       "    <tr>\n",
       "      <th>10</th>\n",
       "      <td>31.09</td>\n",
       "      <td>45</td>\n",
       "      <td>F</td>\n",
       "      <td>1</td>\n",
       "      <td>Maths</td>\n",
       "      <td>61</td>\n",
       "      <td>11</td>\n",
       "    </tr>\n",
       "    <tr>\n",
       "      <th>13</th>\n",
       "      <td>31.09</td>\n",
       "      <td>45</td>\n",
       "      <td>F</td>\n",
       "      <td>1</td>\n",
       "      <td>Maths</td>\n",
       "      <td>63</td>\n",
       "      <td>14</td>\n",
       "    </tr>\n",
       "    <tr>\n",
       "      <th>16</th>\n",
       "      <td>32.72</td>\n",
       "      <td>42</td>\n",
       "      <td>E</td>\n",
       "      <td>2</td>\n",
       "      <td>Maths</td>\n",
       "      <td>70</td>\n",
       "      <td>17</td>\n",
       "    </tr>\n",
       "    <tr>\n",
       "      <th>21</th>\n",
       "      <td>38.34</td>\n",
       "      <td>43</td>\n",
       "      <td>B</td>\n",
       "      <td>8</td>\n",
       "      <td>Maths</td>\n",
       "      <td>91</td>\n",
       "      <td>22</td>\n",
       "    </tr>\n",
       "    <tr>\n",
       "      <th>22</th>\n",
       "      <td>34.24</td>\n",
       "      <td>52</td>\n",
       "      <td>D</td>\n",
       "      <td>4</td>\n",
       "      <td>Maths</td>\n",
       "      <td>78</td>\n",
       "      <td>23</td>\n",
       "    </tr>\n",
       "    <tr>\n",
       "      <th>24</th>\n",
       "      <td>38.34</td>\n",
       "      <td>47</td>\n",
       "      <td>B</td>\n",
       "      <td>8</td>\n",
       "      <td>Maths</td>\n",
       "      <td>90</td>\n",
       "      <td>25</td>\n",
       "    </tr>\n",
       "    <tr>\n",
       "      <th>41</th>\n",
       "      <td>38.34</td>\n",
       "      <td>51</td>\n",
       "      <td>B</td>\n",
       "      <td>8</td>\n",
       "      <td>Maths</td>\n",
       "      <td>90</td>\n",
       "      <td>42</td>\n",
       "    </tr>\n",
       "  </tbody>\n",
       "</table>\n",
       "</div>"
      ],
      "text/plain": [
       "    Avg student total points per grade  Total Points per Student Grade  \\\n",
       "3                                31.09                        44     F   \n",
       "4                                38.34                        52     B   \n",
       "7                                36.19                        42     C   \n",
       "10                               31.09                        45     F   \n",
       "13                               31.09                        45     F   \n",
       "16                               32.72                        42     E   \n",
       "21                               38.34                        43     B   \n",
       "22                               34.24                        52     D   \n",
       "24                               38.34                        47     B   \n",
       "41                               38.34                        51     B   \n",
       "\n",
       "    Points Subject  Score  Student ID  \n",
       "3        1   Maths     65           4  \n",
       "4        8   Maths     86           5  \n",
       "7        6   Maths     82           8  \n",
       "10       1   Maths     61          11  \n",
       "13       1   Maths     63          14  \n",
       "16       2   Maths     70          17  \n",
       "21       8   Maths     91          22  \n",
       "22       4   Maths     78          23  \n",
       "24       8   Maths     90          25  \n",
       "41       8   Maths     90          42  "
      ]
     },
     "execution_count": 16,
     "metadata": {},
     "output_type": "execute_result"
    }
   ],
   "source": [
    "df2.head(10)"
   ]
  },
  {
   "cell_type": "code",
   "execution_count": 17,
   "id": "85f20872",
   "metadata": {},
   "outputs": [],
   "source": [
    "df2.to_csv('wk5-output.csv', index=False)"
   ]
  }
 ],
 "metadata": {
  "kernelspec": {
   "display_name": "Tetteyanalysis",
   "language": "python",
   "name": "tetteyanalysis"
  },
  "language_info": {
   "codemirror_mode": {
    "name": "ipython",
    "version": 3
   },
   "file_extension": ".py",
   "mimetype": "text/x-python",
   "name": "python",
   "nbconvert_exporter": "python",
   "pygments_lexer": "ipython3",
   "version": "3.7.11"
  }
 },
 "nbformat": 4,
 "nbformat_minor": 5
}
