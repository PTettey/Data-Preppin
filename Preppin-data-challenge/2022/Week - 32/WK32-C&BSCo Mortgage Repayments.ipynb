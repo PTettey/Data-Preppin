{
 "cells": [
  {
   "cell_type": "markdown",
   "id": "dc7a3ef9",
   "metadata": {},
   "source": [
    "### Prepping Data Challenge: C&BSCo Mortgage Repayment (Week 32)\n",
    " \n",
    "### Requirements\n",
    "- Input the data\n",
    "- Create a field for today (10th August 2022)\n",
    "- Create a data field to show how much capital is paid off each month\n",
    "- Create a data field to show how many months are needed to pay off the entire debt (whole months only)\n",
    "- Create a field when the mortgages will be paid off by (Assuming a payment is to be made in August 2022)\n",
    "- Create a row per month between now and when the mortgage is paid off showing:\n",
    "  - How much is still to be paid off for that mortgage? Call this field 'Remaining Capital to Repay'\n",
    "  - How much is still to be paid off for all mortgages? Call this field ' Capital Outstanding Total'\n",
    "- Rename the date field 'Monthly Payment Date'\n",
    "- Output the data"
   ]
  },
  {
   "cell_type": "code",
   "execution_count": 1,
   "id": "7b263fab",
   "metadata": {},
   "outputs": [],
   "source": [
    "import pandas as pd\n",
    "import numpy as np"
   ]
  },
  {
   "cell_type": "code",
   "execution_count": 2,
   "id": "2391e31f",
   "metadata": {},
   "outputs": [],
   "source": [
    "#Input the data\n",
    "df = pd.read_csv('WK32-input.csv')"
   ]
  },
  {
   "cell_type": "code",
   "execution_count": 3,
   "id": "a56977a6",
   "metadata": {},
   "outputs": [
    {
     "data": {
      "text/html": [
       "<div>\n",
       "<style scoped>\n",
       "    .dataframe tbody tr th:only-of-type {\n",
       "        vertical-align: middle;\n",
       "    }\n",
       "\n",
       "    .dataframe tbody tr th {\n",
       "        vertical-align: top;\n",
       "    }\n",
       "\n",
       "    .dataframe thead th {\n",
       "        text-align: right;\n",
       "    }\n",
       "</style>\n",
       "<table border=\"1\" class=\"dataframe\">\n",
       "  <thead>\n",
       "    <tr style=\"text-align: right;\">\n",
       "      <th></th>\n",
       "      <th>Store</th>\n",
       "      <th>Capital Repayment Remaining</th>\n",
       "      <th>Monthly Payment</th>\n",
       "      <th>% of Monthly Repayment going to Capital</th>\n",
       "    </tr>\n",
       "  </thead>\n",
       "  <tbody>\n",
       "    <tr>\n",
       "      <th>0</th>\n",
       "      <td>Lewisham</td>\n",
       "      <td>250000</td>\n",
       "      <td>1500</td>\n",
       "      <td>60</td>\n",
       "    </tr>\n",
       "    <tr>\n",
       "      <th>1</th>\n",
       "      <td>Wimbledon</td>\n",
       "      <td>350000</td>\n",
       "      <td>1900</td>\n",
       "      <td>55</td>\n",
       "    </tr>\n",
       "  </tbody>\n",
       "</table>\n",
       "</div>"
      ],
      "text/plain": [
       "       Store  Capital Repayment Remaining  Monthly Payment  \\\n",
       "0   Lewisham                       250000             1500   \n",
       "1  Wimbledon                       350000             1900   \n",
       "\n",
       "   % of Monthly Repayment going to Capital  \n",
       "0                                       60  \n",
       "1                                       55  "
      ]
     },
     "execution_count": 3,
     "metadata": {},
     "output_type": "execute_result"
    }
   ],
   "source": [
    "df.head()"
   ]
  },
  {
   "cell_type": "code",
   "execution_count": 4,
   "id": "525fb86e",
   "metadata": {},
   "outputs": [],
   "source": [
    "#Create a field for today (10th August 2022)\n",
    "#df['today_date'] = pd.to_datetime(\"today\").strftime(\"%m/%d/%Y\")\n",
    "df['today_date'] = pd.to_datetime((\"10/08/2022\"), format='%d/%m/%Y')"
   ]
  },
  {
   "cell_type": "code",
   "execution_count": 5,
   "id": "6143a519",
   "metadata": {},
   "outputs": [],
   "source": [
    "#Create a data field to show how much capital is paid off each month\n",
    "df['mc_paid off'] = df['Monthly Payment'] * (df[\"% of Monthly Repayment going to Capital\"]/100)"
   ]
  },
  {
   "cell_type": "code",
   "execution_count": 6,
   "id": "a0526863",
   "metadata": {},
   "outputs": [],
   "source": [
    "#Create a data field to show how many months are needed to pay off the entire debt (whole months only)\n",
    "df['months_needed'] = (df[\"Capital Repayment Remaining\"] / df[\"mc_paid off\"]).round().astype(np.int64)"
   ]
  },
  {
   "cell_type": "code",
   "execution_count": 7,
   "id": "0c2768d0",
   "metadata": {},
   "outputs": [],
   "source": [
    "#Create a field when the mortgages will be paid off by (Assuming a payment is to be made in August 2022)\n",
    "df['paid_off_date'] = np.where(df[\"Store\"] == 'Lewisham', df[\"today_date\"] + pd.DateOffset(months = 278), \n",
    "                                               df[\"today_date\"] + pd.DateOffset(months = 335))"
   ]
  },
  {
   "cell_type": "code",
   "execution_count": 8,
   "id": "8e05b57d",
   "metadata": {},
   "outputs": [
    {
     "data": {
      "text/html": [
       "<div>\n",
       "<style scoped>\n",
       "    .dataframe tbody tr th:only-of-type {\n",
       "        vertical-align: middle;\n",
       "    }\n",
       "\n",
       "    .dataframe tbody tr th {\n",
       "        vertical-align: top;\n",
       "    }\n",
       "\n",
       "    .dataframe thead th {\n",
       "        text-align: right;\n",
       "    }\n",
       "</style>\n",
       "<table border=\"1\" class=\"dataframe\">\n",
       "  <thead>\n",
       "    <tr style=\"text-align: right;\">\n",
       "      <th></th>\n",
       "      <th>Store</th>\n",
       "      <th>Capital Repayment Remaining</th>\n",
       "      <th>Monthly Payment</th>\n",
       "      <th>% of Monthly Repayment going to Capital</th>\n",
       "      <th>today_date</th>\n",
       "      <th>mc_paid off</th>\n",
       "      <th>months_needed</th>\n",
       "      <th>paid_off_date</th>\n",
       "    </tr>\n",
       "  </thead>\n",
       "  <tbody>\n",
       "    <tr>\n",
       "      <th>0</th>\n",
       "      <td>Lewisham</td>\n",
       "      <td>250000</td>\n",
       "      <td>1500</td>\n",
       "      <td>60</td>\n",
       "      <td>2022-08-10</td>\n",
       "      <td>900.0</td>\n",
       "      <td>278</td>\n",
       "      <td>2045-10-10</td>\n",
       "    </tr>\n",
       "    <tr>\n",
       "      <th>1</th>\n",
       "      <td>Wimbledon</td>\n",
       "      <td>350000</td>\n",
       "      <td>1900</td>\n",
       "      <td>55</td>\n",
       "      <td>2022-08-10</td>\n",
       "      <td>1045.0</td>\n",
       "      <td>335</td>\n",
       "      <td>2050-07-10</td>\n",
       "    </tr>\n",
       "  </tbody>\n",
       "</table>\n",
       "</div>"
      ],
      "text/plain": [
       "       Store  Capital Repayment Remaining  Monthly Payment  \\\n",
       "0   Lewisham                       250000             1500   \n",
       "1  Wimbledon                       350000             1900   \n",
       "\n",
       "   % of Monthly Repayment going to Capital today_date  mc_paid off  \\\n",
       "0                                       60 2022-08-10        900.0   \n",
       "1                                       55 2022-08-10       1045.0   \n",
       "\n",
       "   months_needed paid_off_date  \n",
       "0            278    2045-10-10  \n",
       "1            335    2050-07-10  "
      ]
     },
     "execution_count": 8,
     "metadata": {},
     "output_type": "execute_result"
    }
   ],
   "source": [
    "df.head()"
   ]
  },
  {
   "cell_type": "code",
   "execution_count": 10,
   "id": "31f5f2c2",
   "metadata": {},
   "outputs": [],
   "source": [
    "#Create a row per month between now and when the mortgage is paid off showing:\n",
    "#Rename the date field 'Monthly Payment Date'\n",
    "df['Monthly Payment Date'] = [pd.date_range(d, periods=p, freq=pd.DateOffset(months=1)) \n",
    "                              for d, p in zip(df[\"today_date\"], df[\"months_needed\"])]\n",
    "df = df.explode('Monthly Payment Date')"
   ]
  },
  {
   "cell_type": "code",
   "execution_count": 11,
   "id": "dcfc179c",
   "metadata": {},
   "outputs": [
    {
     "data": {
      "text/html": [
       "<div>\n",
       "<style scoped>\n",
       "    .dataframe tbody tr th:only-of-type {\n",
       "        vertical-align: middle;\n",
       "    }\n",
       "\n",
       "    .dataframe tbody tr th {\n",
       "        vertical-align: top;\n",
       "    }\n",
       "\n",
       "    .dataframe thead th {\n",
       "        text-align: right;\n",
       "    }\n",
       "</style>\n",
       "<table border=\"1\" class=\"dataframe\">\n",
       "  <thead>\n",
       "    <tr style=\"text-align: right;\">\n",
       "      <th></th>\n",
       "      <th>Store</th>\n",
       "      <th>Capital Repayment Remaining</th>\n",
       "      <th>Monthly Payment</th>\n",
       "      <th>% of Monthly Repayment going to Capital</th>\n",
       "      <th>today_date</th>\n",
       "      <th>mc_paid off</th>\n",
       "      <th>months_needed</th>\n",
       "      <th>paid_off_date</th>\n",
       "      <th>Monthly Payment Date</th>\n",
       "    </tr>\n",
       "  </thead>\n",
       "  <tbody>\n",
       "    <tr>\n",
       "      <th>0</th>\n",
       "      <td>Lewisham</td>\n",
       "      <td>250000</td>\n",
       "      <td>1500</td>\n",
       "      <td>60</td>\n",
       "      <td>2022-08-10</td>\n",
       "      <td>900.0</td>\n",
       "      <td>278</td>\n",
       "      <td>2045-10-10</td>\n",
       "      <td>2022-08-10</td>\n",
       "    </tr>\n",
       "    <tr>\n",
       "      <th>0</th>\n",
       "      <td>Lewisham</td>\n",
       "      <td>250000</td>\n",
       "      <td>1500</td>\n",
       "      <td>60</td>\n",
       "      <td>2022-08-10</td>\n",
       "      <td>900.0</td>\n",
       "      <td>278</td>\n",
       "      <td>2045-10-10</td>\n",
       "      <td>2022-09-10</td>\n",
       "    </tr>\n",
       "    <tr>\n",
       "      <th>0</th>\n",
       "      <td>Lewisham</td>\n",
       "      <td>250000</td>\n",
       "      <td>1500</td>\n",
       "      <td>60</td>\n",
       "      <td>2022-08-10</td>\n",
       "      <td>900.0</td>\n",
       "      <td>278</td>\n",
       "      <td>2045-10-10</td>\n",
       "      <td>2022-10-10</td>\n",
       "    </tr>\n",
       "    <tr>\n",
       "      <th>0</th>\n",
       "      <td>Lewisham</td>\n",
       "      <td>250000</td>\n",
       "      <td>1500</td>\n",
       "      <td>60</td>\n",
       "      <td>2022-08-10</td>\n",
       "      <td>900.0</td>\n",
       "      <td>278</td>\n",
       "      <td>2045-10-10</td>\n",
       "      <td>2022-11-10</td>\n",
       "    </tr>\n",
       "    <tr>\n",
       "      <th>0</th>\n",
       "      <td>Lewisham</td>\n",
       "      <td>250000</td>\n",
       "      <td>1500</td>\n",
       "      <td>60</td>\n",
       "      <td>2022-08-10</td>\n",
       "      <td>900.0</td>\n",
       "      <td>278</td>\n",
       "      <td>2045-10-10</td>\n",
       "      <td>2022-12-10</td>\n",
       "    </tr>\n",
       "  </tbody>\n",
       "</table>\n",
       "</div>"
      ],
      "text/plain": [
       "      Store  Capital Repayment Remaining  Monthly Payment  \\\n",
       "0  Lewisham                       250000             1500   \n",
       "0  Lewisham                       250000             1500   \n",
       "0  Lewisham                       250000             1500   \n",
       "0  Lewisham                       250000             1500   \n",
       "0  Lewisham                       250000             1500   \n",
       "\n",
       "   % of Monthly Repayment going to Capital today_date  mc_paid off  \\\n",
       "0                                       60 2022-08-10        900.0   \n",
       "0                                       60 2022-08-10        900.0   \n",
       "0                                       60 2022-08-10        900.0   \n",
       "0                                       60 2022-08-10        900.0   \n",
       "0                                       60 2022-08-10        900.0   \n",
       "\n",
       "   months_needed paid_off_date Monthly Payment Date  \n",
       "0            278    2045-10-10           2022-08-10  \n",
       "0            278    2045-10-10           2022-09-10  \n",
       "0            278    2045-10-10           2022-10-10  \n",
       "0            278    2045-10-10           2022-11-10  \n",
       "0            278    2045-10-10           2022-12-10  "
      ]
     },
     "execution_count": 11,
     "metadata": {},
     "output_type": "execute_result"
    }
   ],
   "source": [
    "df.head()"
   ]
  },
  {
   "cell_type": "code",
   "execution_count": null,
   "id": "a060443f",
   "metadata": {},
   "outputs": [],
   "source": [
    "#How much is still to be paid off for that mortgage? Call this field 'Remaining Capital to Repay'\n",
    "df['Remaining Capital to Repay']"
   ]
  },
  {
   "cell_type": "code",
   "execution_count": null,
   "id": "d9f547e6",
   "metadata": {},
   "outputs": [],
   "source": [
    "output = df[[\"Monthly Payment Date\",\"Store\",'Capital Outstanding Total','Remaining Capital to Repay']]"
   ]
  },
  {
   "cell_type": "code",
   "execution_count": null,
   "id": "85f20872",
   "metadata": {},
   "outputs": [],
   "source": [
    "#Output the data \n",
    "output.to_csv('wk31-output.csv', index=False)"
   ]
  }
 ],
 "metadata": {
  "kernelspec": {
   "display_name": "Python 3 (ipykernel)",
   "language": "python",
   "name": "python3"
  },
  "language_info": {
   "codemirror_mode": {
    "name": "ipython",
    "version": 3
   },
   "file_extension": ".py",
   "mimetype": "text/x-python",
   "name": "python",
   "nbconvert_exporter": "python",
   "pygments_lexer": "ipython3",
   "version": "3.9.12"
  }
 },
 "nbformat": 4,
 "nbformat_minor": 5
}
