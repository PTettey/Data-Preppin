{
 "cells": [
  {
   "cell_type": "markdown",
   "id": "dc7a3ef9",
   "metadata": {},
   "source": [
    "### Prepping Data Challenge: C&BSCo Preppin' Parameters (Week 31)\n",
    " \n",
    "### Requirements\n",
    "- Input the data\n",
    "- Split the Product Name field into Product Type and Size\n",
    "- Only keep the Liquid products\n",
    "- Total up the sales for each Product Size and Scent for each Store\n",
    "- Rank each of the Product Size and Scent combinations for each Store\n",
    "- Only leave the top 10 based on total sales value calculated above\n",
    "- Round the Sales Values to the nearest 10 value (ie 1913 becomes 1910)\n",
    "- Create a parameter to select the store\n",
    "- Ensure the output only contains the chosen store\n",
    "- Output the data and include the Store Name in the file name"
   ]
  },
  {
   "cell_type": "code",
   "execution_count": 1,
   "id": "7b263fab",
   "metadata": {},
   "outputs": [],
   "source": [
    "import pandas as pd"
   ]
  },
  {
   "cell_type": "code",
   "execution_count": 2,
   "id": "2391e31f",
   "metadata": {},
   "outputs": [],
   "source": [
    "#Input the data\n",
    "df = pd.read_csv('wk27-input.csv', parse_dates=['Sale Date'], dayfirst=True)"
   ]
  },
  {
   "cell_type": "code",
   "execution_count": 3,
   "id": "a56977a6",
   "metadata": {},
   "outputs": [
    {
     "data": {
      "text/html": [
       "<div>\n",
       "<style scoped>\n",
       "    .dataframe tbody tr th:only-of-type {\n",
       "        vertical-align: middle;\n",
       "    }\n",
       "\n",
       "    .dataframe tbody tr th {\n",
       "        vertical-align: top;\n",
       "    }\n",
       "\n",
       "    .dataframe thead th {\n",
       "        text-align: right;\n",
       "    }\n",
       "</style>\n",
       "<table border=\"1\" class=\"dataframe\">\n",
       "  <thead>\n",
       "    <tr style=\"text-align: right;\">\n",
       "      <th></th>\n",
       "      <th>Sale Date</th>\n",
       "      <th>Order ID</th>\n",
       "      <th>Sale Value</th>\n",
       "      <th>Product Name</th>\n",
       "      <th>Store Name</th>\n",
       "      <th>Region</th>\n",
       "      <th>Scent Name</th>\n",
       "    </tr>\n",
       "  </thead>\n",
       "  <tbody>\n",
       "    <tr>\n",
       "      <th>0</th>\n",
       "      <td>2022-12-12</td>\n",
       "      <td>937</td>\n",
       "      <td>109.84</td>\n",
       "      <td>Liquid - 25ml</td>\n",
       "      <td>Lewisham</td>\n",
       "      <td>East</td>\n",
       "      <td>Rose</td>\n",
       "    </tr>\n",
       "    <tr>\n",
       "      <th>1</th>\n",
       "      <td>2022-10-14</td>\n",
       "      <td>427</td>\n",
       "      <td>207.61</td>\n",
       "      <td>Liquid - 25ml</td>\n",
       "      <td>Lewisham</td>\n",
       "      <td>East</td>\n",
       "      <td>Rose</td>\n",
       "    </tr>\n",
       "    <tr>\n",
       "      <th>2</th>\n",
       "      <td>2022-09-09</td>\n",
       "      <td>135</td>\n",
       "      <td>111.96</td>\n",
       "      <td>Liquid - 25ml</td>\n",
       "      <td>Lewisham</td>\n",
       "      <td>East</td>\n",
       "      <td>Rose</td>\n",
       "    </tr>\n",
       "    <tr>\n",
       "      <th>3</th>\n",
       "      <td>2022-12-11</td>\n",
       "      <td>791</td>\n",
       "      <td>170.68</td>\n",
       "      <td>Liquid - 25ml</td>\n",
       "      <td>Wimbledon</td>\n",
       "      <td>West</td>\n",
       "      <td>Rose</td>\n",
       "    </tr>\n",
       "    <tr>\n",
       "      <th>4</th>\n",
       "      <td>2022-09-08</td>\n",
       "      <td>270</td>\n",
       "      <td>214.12</td>\n",
       "      <td>Liquid - 25ml</td>\n",
       "      <td>Wimbledon</td>\n",
       "      <td>West</td>\n",
       "      <td>Rose</td>\n",
       "    </tr>\n",
       "  </tbody>\n",
       "</table>\n",
       "</div>"
      ],
      "text/plain": [
       "   Sale Date  Order ID  Sale Value   Product Name Store Name Region Scent Name\n",
       "0 2022-12-12       937      109.84  Liquid - 25ml   Lewisham   East       Rose\n",
       "1 2022-10-14       427      207.61  Liquid - 25ml   Lewisham   East       Rose\n",
       "2 2022-09-09       135      111.96  Liquid - 25ml   Lewisham   East       Rose\n",
       "3 2022-12-11       791      170.68  Liquid - 25ml  Wimbledon   West       Rose\n",
       "4 2022-09-08       270      214.12  Liquid - 25ml  Wimbledon   West       Rose"
      ]
     },
     "execution_count": 3,
     "metadata": {},
     "output_type": "execute_result"
    }
   ],
   "source": [
    "df.head()"
   ]
  },
  {
   "cell_type": "code",
   "execution_count": 4,
   "id": "525fb86e",
   "metadata": {},
   "outputs": [],
   "source": [
    "#Split the Product Name field into Product Type and Size\n",
    "df[['Product Type','Size']] = df['Product Name'].str.split(' - ', expand=True)"
   ]
  },
  {
   "cell_type": "code",
   "execution_count": 5,
   "id": "6143a519",
   "metadata": {},
   "outputs": [],
   "source": [
    "#Only keep the Liquid products\n",
    "df = df[df['Product Type'] == 'Liquid']"
   ]
  },
  {
   "cell_type": "code",
   "execution_count": 6,
   "id": "a0526863",
   "metadata": {},
   "outputs": [],
   "source": [
    "#Total up the sales for each Product Size and Scent for each Store\n",
    "df['Total Sales'] = df.groupby(['Size','Scent Name','Store Name'])['Sale Value'].transform('sum')"
   ]
  },
  {
   "cell_type": "code",
   "execution_count": 7,
   "id": "0b0feb88",
   "metadata": {},
   "outputs": [],
   "source": [
    "#Rank each of the Product Size and Scent combinations for each Store\n",
    "df[\"Rank of Product Size & Scent by Store\"] = df.groupby(['Store Name'])['Total Sales'].rank(method ='dense',ascending=False).astype(int)"
   ]
  },
  {
   "cell_type": "code",
   "execution_count": 8,
   "id": "b3a74e3d",
   "metadata": {},
   "outputs": [],
   "source": [
    "#Only leave the top 10 based on total sales value calculated above\n",
    "df = df[df[\"Rank of Product Size & Scent by Store\"] <= 10]"
   ]
  },
  {
   "cell_type": "code",
   "execution_count": 9,
   "id": "29b937ba",
   "metadata": {},
   "outputs": [],
   "source": [
    "#Round the Sales Values to the nearest 10 value (ie 1913 becomes 1910)\n",
    "df['Total Sales'] = df['Total Sales'].round(-1)"
   ]
  },
  {
   "cell_type": "code",
   "execution_count": 10,
   "id": "d9f547e6",
   "metadata": {},
   "outputs": [],
   "source": [
    "df = df[[\"Store Name\",\"Rank of Product Size & Scent by Store\",'Scent Name','Size','Total Sales']]"
   ]
  },
  {
   "cell_type": "code",
   "execution_count": 11,
   "id": "b1f185ec",
   "metadata": {},
   "outputs": [],
   "source": [
    "df.rename(columns = {'Total Sales':'Sale Value'}, inplace=True)\n",
    "df.drop_duplicates(subset =['Store Name','Scent Name','Size'], keep = 'first', inplace=True)"
   ]
  },
  {
   "cell_type": "code",
   "execution_count": 12,
   "id": "38ac3ee0",
   "metadata": {},
   "outputs": [
    {
     "name": "stdout",
     "output_type": "stream",
     "text": [
      "Enter a Store Name: Notting Hill\n"
     ]
    },
    {
     "data": {
      "text/html": [
       "<div>\n",
       "<style scoped>\n",
       "    .dataframe tbody tr th:only-of-type {\n",
       "        vertical-align: middle;\n",
       "    }\n",
       "\n",
       "    .dataframe tbody tr th {\n",
       "        vertical-align: top;\n",
       "    }\n",
       "\n",
       "    .dataframe thead th {\n",
       "        text-align: right;\n",
       "    }\n",
       "</style>\n",
       "<table border=\"1\" class=\"dataframe\">\n",
       "  <thead>\n",
       "    <tr style=\"text-align: right;\">\n",
       "      <th></th>\n",
       "      <th>Store Name</th>\n",
       "      <th>Rank of Product Size &amp; Scent by Store</th>\n",
       "      <th>Scent Name</th>\n",
       "      <th>Size</th>\n",
       "      <th>Sale Value</th>\n",
       "    </tr>\n",
       "  </thead>\n",
       "  <tbody>\n",
       "    <tr>\n",
       "      <th>1473</th>\n",
       "      <td>Notting Hill</td>\n",
       "      <td>1</td>\n",
       "      <td>Lavender</td>\n",
       "      <td>250ml</td>\n",
       "      <td>1850.0</td>\n",
       "    </tr>\n",
       "    <tr>\n",
       "      <th>391</th>\n",
       "      <td>Notting Hill</td>\n",
       "      <td>2</td>\n",
       "      <td>Rose</td>\n",
       "      <td>50ml</td>\n",
       "      <td>1830.0</td>\n",
       "    </tr>\n",
       "    <tr>\n",
       "      <th>91</th>\n",
       "      <td>Notting Hill</td>\n",
       "      <td>3</td>\n",
       "      <td>Apricot</td>\n",
       "      <td>25ml</td>\n",
       "      <td>1790.0</td>\n",
       "    </tr>\n",
       "    <tr>\n",
       "      <th>1981</th>\n",
       "      <td>Notting Hill</td>\n",
       "      <td>4</td>\n",
       "      <td>Mint</td>\n",
       "      <td>500ml</td>\n",
       "      <td>1770.0</td>\n",
       "    </tr>\n",
       "    <tr>\n",
       "      <th>2705</th>\n",
       "      <td>Notting Hill</td>\n",
       "      <td>5</td>\n",
       "      <td>Strawberry</td>\n",
       "      <td>1L</td>\n",
       "      <td>1530.0</td>\n",
       "    </tr>\n",
       "    <tr>\n",
       "      <th>2654</th>\n",
       "      <td>Notting Hill</td>\n",
       "      <td>6</td>\n",
       "      <td>Lemongrass</td>\n",
       "      <td>1L</td>\n",
       "      <td>1530.0</td>\n",
       "    </tr>\n",
       "    <tr>\n",
       "      <th>1717</th>\n",
       "      <td>Notting Hill</td>\n",
       "      <td>7</td>\n",
       "      <td>Watermelon</td>\n",
       "      <td>500ml</td>\n",
       "      <td>1500.0</td>\n",
       "    </tr>\n",
       "    <tr>\n",
       "      <th>2257</th>\n",
       "      <td>Notting Hill</td>\n",
       "      <td>8</td>\n",
       "      <td>Lemongrass</td>\n",
       "      <td>750ml</td>\n",
       "      <td>1380.0</td>\n",
       "    </tr>\n",
       "    <tr>\n",
       "      <th>554</th>\n",
       "      <td>Notting Hill</td>\n",
       "      <td>9</td>\n",
       "      <td>Rosemary</td>\n",
       "      <td>50ml</td>\n",
       "      <td>1350.0</td>\n",
       "    </tr>\n",
       "    <tr>\n",
       "      <th>2620</th>\n",
       "      <td>Notting Hill</td>\n",
       "      <td>10</td>\n",
       "      <td>Rosemary</td>\n",
       "      <td>1L</td>\n",
       "      <td>1330.0</td>\n",
       "    </tr>\n",
       "  </tbody>\n",
       "</table>\n",
       "</div>"
      ],
      "text/plain": [
       "        Store Name  Rank of Product Size & Scent by Store  Scent Name   Size  \\\n",
       "1473  Notting Hill                                      1    Lavender  250ml   \n",
       "391   Notting Hill                                      2        Rose   50ml   \n",
       "91    Notting Hill                                      3     Apricot   25ml   \n",
       "1981  Notting Hill                                      4        Mint  500ml   \n",
       "2705  Notting Hill                                      5  Strawberry     1L   \n",
       "2654  Notting Hill                                      6  Lemongrass     1L   \n",
       "1717  Notting Hill                                      7  Watermelon  500ml   \n",
       "2257  Notting Hill                                      8  Lemongrass  750ml   \n",
       "554   Notting Hill                                      9    Rosemary   50ml   \n",
       "2620  Notting Hill                                     10    Rosemary     1L   \n",
       "\n",
       "      Sale Value  \n",
       "1473      1850.0  \n",
       "391       1830.0  \n",
       "91        1790.0  \n",
       "1981      1770.0  \n",
       "2705      1530.0  \n",
       "2654      1530.0  \n",
       "1717      1500.0  \n",
       "2257      1380.0  \n",
       "554       1350.0  \n",
       "2620      1330.0  "
      ]
     },
     "execution_count": 12,
     "metadata": {},
     "output_type": "execute_result"
    }
   ],
   "source": [
    "#Create a parameter to select the store\n",
    "#Ensure the output only contains the chosen store\n",
    "\n",
    "select_store = input('Enter a Store Name: ')\n",
    "\n",
    "# Filter data based on selected Store Name \n",
    "store_name = (df[df['Store Name'] == select_store]).sort_values(by = \"Rank of Product Size & Scent by Store\")\n",
    "\n",
    "store_name.head(10)"
   ]
  },
  {
   "cell_type": "code",
   "execution_count": 13,
   "id": "85f20872",
   "metadata": {},
   "outputs": [],
   "source": [
    "##Output the data and include the Store Name in the file name\n",
    "store_name.to_csv(f'wk31 Top 10 Products for {select_store}.csv', index=False)"
   ]
  }
 ],
 "metadata": {
  "kernelspec": {
   "display_name": "Python 3 (ipykernel)",
   "language": "python",
   "name": "python3"
  },
  "language_info": {
   "codemirror_mode": {
    "name": "ipython",
    "version": 3
   },
   "file_extension": ".py",
   "mimetype": "text/x-python",
   "name": "python",
   "nbconvert_exporter": "python",
   "pygments_lexer": "ipython3",
   "version": "3.9.7"
  }
 },
 "nbformat": 4,
 "nbformat_minor": 5
}
