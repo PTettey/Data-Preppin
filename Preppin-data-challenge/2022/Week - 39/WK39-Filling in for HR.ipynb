{
 "cells": [
  {
   "cell_type": "markdown",
   "id": "dc7a3ef9",
   "metadata": {},
   "source": [
    "### Prepping Data Challenge:  Filling in for HR (week 39)\n",
    "\n",
    "### Requirements\n",
    "- Input the data\n",
    "- Fill down the Employee field\n",
    "- Fill down the Work Level field\n",
    "- Reorder the data so that it is output in the same order as it comes in\n",
    "- Output the data"
   ]
  },
  {
   "cell_type": "code",
   "execution_count": 1,
   "id": "ab924bef",
   "metadata": {},
   "outputs": [],
   "source": [
    "import pandas as pd\n",
    "import numpy as np"
   ]
  },
  {
   "cell_type": "code",
   "execution_count": 2,
   "id": "58433f2b",
   "metadata": {},
   "outputs": [],
   "source": [
    "#input the data\n",
    "df = pd.read_csv(r\"\\Dataprep\\2022\\Fill Down Input.csv\")"
   ]
  },
  {
   "cell_type": "code",
   "execution_count": 5,
   "id": "4cdcd9c6",
   "metadata": {},
   "outputs": [
    {
     "data": {
      "text/html": [
       "<div>\n",
       "<style scoped>\n",
       "    .dataframe tbody tr th:only-of-type {\n",
       "        vertical-align: middle;\n",
       "    }\n",
       "\n",
       "    .dataframe tbody tr th {\n",
       "        vertical-align: top;\n",
       "    }\n",
       "\n",
       "    .dataframe thead th {\n",
       "        text-align: right;\n",
       "    }\n",
       "</style>\n",
       "<table border=\"1\" class=\"dataframe\">\n",
       "  <thead>\n",
       "    <tr style=\"text-align: right;\">\n",
       "      <th></th>\n",
       "      <th>Record ID</th>\n",
       "      <th>Employee</th>\n",
       "      <th>Work Level</th>\n",
       "      <th>Stage</th>\n",
       "      <th>Date</th>\n",
       "    </tr>\n",
       "  </thead>\n",
       "  <tbody>\n",
       "    <tr>\n",
       "      <th>0</th>\n",
       "      <td>1</td>\n",
       "      <td>Andrea</td>\n",
       "      <td>3</td>\n",
       "      <td>Application Received</td>\n",
       "      <td>11/10/2019</td>\n",
       "    </tr>\n",
       "    <tr>\n",
       "      <th>1</th>\n",
       "      <td>2</td>\n",
       "      <td>Andrea</td>\n",
       "      <td>3</td>\n",
       "      <td>Interview</td>\n",
       "      <td>31/10/2019</td>\n",
       "    </tr>\n",
       "    <tr>\n",
       "      <th>2</th>\n",
       "      <td>3</td>\n",
       "      <td>Andrea</td>\n",
       "      <td>3</td>\n",
       "      <td>Start Date</td>\n",
       "      <td>06/01/2020</td>\n",
       "    </tr>\n",
       "    <tr>\n",
       "      <th>3</th>\n",
       "      <td>4</td>\n",
       "      <td>Andrea</td>\n",
       "      <td>3</td>\n",
       "      <td>Work Anniverary</td>\n",
       "      <td>06/01/2021</td>\n",
       "    </tr>\n",
       "    <tr>\n",
       "      <th>4</th>\n",
       "      <td>5</td>\n",
       "      <td>Andrea</td>\n",
       "      <td>4</td>\n",
       "      <td>Promotion</td>\n",
       "      <td>01/03/2021</td>\n",
       "    </tr>\n",
       "  </tbody>\n",
       "</table>\n",
       "</div>"
      ],
      "text/plain": [
       "   Record ID Employee  Work Level                 Stage        Date\n",
       "0          1   Andrea           3  Application Received  11/10/2019\n",
       "1          2   Andrea           3             Interview  31/10/2019\n",
       "2          3   Andrea           3            Start Date  06/01/2020\n",
       "3          4   Andrea           3       Work Anniverary  06/01/2021\n",
       "4          5   Andrea           4             Promotion  01/03/2021"
      ]
     },
     "execution_count": 5,
     "metadata": {},
     "output_type": "execute_result"
    }
   ],
   "source": [
    "df.head()"
   ]
  },
  {
   "cell_type": "code",
   "execution_count": 4,
   "id": "4d1d6c90",
   "metadata": {},
   "outputs": [],
   "source": [
    "# fill down the employee and work level fields\n",
    "df['Employee'] = df['Employee'].ffill()\n",
    "df['Work Level'] = df['Work Level'].ffill().astype(int)"
   ]
  },
  {
   "cell_type": "code",
   "execution_count": 6,
   "id": "8e21ded0",
   "metadata": {},
   "outputs": [],
   "source": [
    "# Reorder the data so that it is output in the same order as it comes in\n",
    "# Output the data\n",
    "output =  df.sort_values(by='Record ID').to_csv('wk39-output.csv', index=False) "
   ]
  },
  {
   "cell_type": "code",
   "execution_count": 7,
   "id": "16e5e972",
   "metadata": {},
   "outputs": [
    {
     "data": {
      "text/html": [
       "<div>\n",
       "<style scoped>\n",
       "    .dataframe tbody tr th:only-of-type {\n",
       "        vertical-align: middle;\n",
       "    }\n",
       "\n",
       "    .dataframe tbody tr th {\n",
       "        vertical-align: top;\n",
       "    }\n",
       "\n",
       "    .dataframe thead th {\n",
       "        text-align: right;\n",
       "    }\n",
       "</style>\n",
       "<table border=\"1\" class=\"dataframe\">\n",
       "  <thead>\n",
       "    <tr style=\"text-align: right;\">\n",
       "      <th></th>\n",
       "      <th>Record ID</th>\n",
       "      <th>Employee</th>\n",
       "      <th>Work Level</th>\n",
       "      <th>Stage</th>\n",
       "      <th>Date</th>\n",
       "    </tr>\n",
       "  </thead>\n",
       "  <tbody>\n",
       "    <tr>\n",
       "      <th>0</th>\n",
       "      <td>1</td>\n",
       "      <td>Andrea</td>\n",
       "      <td>3</td>\n",
       "      <td>Application Received</td>\n",
       "      <td>11/10/2019</td>\n",
       "    </tr>\n",
       "    <tr>\n",
       "      <th>1</th>\n",
       "      <td>2</td>\n",
       "      <td>Andrea</td>\n",
       "      <td>3</td>\n",
       "      <td>Interview</td>\n",
       "      <td>31/10/2019</td>\n",
       "    </tr>\n",
       "    <tr>\n",
       "      <th>2</th>\n",
       "      <td>3</td>\n",
       "      <td>Andrea</td>\n",
       "      <td>3</td>\n",
       "      <td>Start Date</td>\n",
       "      <td>06/01/2020</td>\n",
       "    </tr>\n",
       "    <tr>\n",
       "      <th>3</th>\n",
       "      <td>4</td>\n",
       "      <td>Andrea</td>\n",
       "      <td>3</td>\n",
       "      <td>Work Anniverary</td>\n",
       "      <td>06/01/2021</td>\n",
       "    </tr>\n",
       "    <tr>\n",
       "      <th>4</th>\n",
       "      <td>5</td>\n",
       "      <td>Andrea</td>\n",
       "      <td>4</td>\n",
       "      <td>Promotion</td>\n",
       "      <td>01/03/2021</td>\n",
       "    </tr>\n",
       "  </tbody>\n",
       "</table>\n",
       "</div>"
      ],
      "text/plain": [
       "   Record ID Employee  Work Level                 Stage        Date\n",
       "0          1   Andrea           3  Application Received  11/10/2019\n",
       "1          2   Andrea           3             Interview  31/10/2019\n",
       "2          3   Andrea           3            Start Date  06/01/2020\n",
       "3          4   Andrea           3       Work Anniverary  06/01/2021\n",
       "4          5   Andrea           4             Promotion  01/03/2021"
      ]
     },
     "execution_count": 7,
     "metadata": {},
     "output_type": "execute_result"
    }
   ],
   "source": [
    "df.head()"
   ]
  }
 ],
 "metadata": {
  "kernelspec": {
   "display_name": "llmenv",
   "language": "python",
   "name": "llmenv"
  },
  "language_info": {
   "codemirror_mode": {
    "name": "ipython",
    "version": 3
   },
   "file_extension": ".py",
   "mimetype": "text/x-python",
   "name": "python",
   "nbconvert_exporter": "python",
   "pygments_lexer": "ipython3",
   "version": "3.13.0"
  }
 },
 "nbformat": 4,
 "nbformat_minor": 5
}
