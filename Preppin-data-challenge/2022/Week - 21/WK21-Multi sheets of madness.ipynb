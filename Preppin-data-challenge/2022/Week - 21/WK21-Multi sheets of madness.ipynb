{
 "cells": [
  {
   "cell_type": "markdown",
   "id": "dc7a3ef9",
   "metadata": {},
   "source": [
    "### Prepping Data Challenge: Multi Sheets of Madness (Week 21)\n",
    "There are 12 sheets from different shops reporting the Key Metrics that we are interested in. There are Additional Metrics in a table below that are not of interest to us for this challenge. \n",
    " \n",
    "### Requirements\n",
    "- Connect to the data\n",
    "- Bring together the Key Metrics tables from each Shop\n",
    "- You'll notice that we have fields which report the quarter in addition to the monthly values. We only wish to keep the monthly values\n",
    "- Reshape the data so that we have a Date field\n",
    "- For Orders and Returns, we are only interested in reporting % values, whilst for Complaints we are only interested in the # Received\n",
    "- We wish to update the Breakdown field to include the Department to make the Measure Name easier to interpret\n",
    "- We wish to have a field for each of the measures rather than a row per measure\n",
    "- We wish to have the targets for each measure as field that we can compare each measure to\n",
    "- Output the data"
   ]
  },
  {
   "cell_type": "code",
   "execution_count": 1,
   "id": "7b263fab",
   "metadata": {},
   "outputs": [],
   "source": [
    "import pandas as pd\n",
    "import numpy as np"
   ]
  },
  {
   "cell_type": "code",
   "execution_count": 2,
   "id": "cff8f30b",
   "metadata": {},
   "outputs": [],
   "source": [
    "df = None\n",
    "with pd.ExcelFile(\"WK21-Input.xlsx\") as xl:\n",
    "    for s in xl.sheet_names:\n",
    "        df_new = pd.read_excel(xl, s, header=3)\n",
    "        df_new['Shop'] = s\n",
    "        df = pd.concat([df, df_new])"
   ]
  },
  {
   "cell_type": "code",
   "execution_count": 3,
   "id": "74df2714",
   "metadata": {},
   "outputs": [],
   "source": [
    "#Bring together the Key Metrics tables from each Shop\n",
    "df = df[(df['Department'] != 'HR') & (df['Department'] != 'Additonal Metrics') & (df['Department'] !='Department')]"
   ]
  },
  {
   "cell_type": "code",
   "execution_count": 4,
   "id": "2d7a8d65",
   "metadata": {},
   "outputs": [],
   "source": [
    "df['Department'] = df['Department'].ffill()\n",
    "df['Target'] = df['Target'].ffill()"
   ]
  },
  {
   "cell_type": "code",
   "execution_count": 5,
   "id": "fb5e7b0c",
   "metadata": {},
   "outputs": [],
   "source": [
    "#We only wish to keep the monthly values\n",
    "df.drop(columns=['FY22 Q1 ','FY22 Q2','FY22 Q3','FY22 Q4','Comments'], inplace=True, axis=1)"
   ]
  },
  {
   "cell_type": "code",
   "execution_count": 6,
   "id": "376a4315",
   "metadata": {},
   "outputs": [],
   "source": [
    "#For Orders and Returns, we are only interested in reporting % values, \n",
    "#whilst for Complaints we are only interested in the # Received \n",
    "df = df[(df['Breakdown'].isin(['% Shipped in 3 days','% Shipped in 5 days','% Processed in 3 days',\n",
    "                               '% Processed in 5 days','# Received']))]"
   ]
  },
  {
   "cell_type": "code",
   "execution_count": 7,
   "id": "1e2289b6",
   "metadata": {},
   "outputs": [],
   "source": [
    "#Reshape the data so that we have a Date field\n",
    "#df_pivot = pd.melt(df, id_vars=['Department','Target','Breakdown','Shop'], var_name='Date', value_name='values')"
   ]
  },
  {
   "cell_type": "code",
   "execution_count": 8,
   "id": "fdc9d28e",
   "metadata": {},
   "outputs": [
    {
     "data": {
      "text/html": [
       "<div>\n",
       "<style scoped>\n",
       "    .dataframe tbody tr th:only-of-type {\n",
       "        vertical-align: middle;\n",
       "    }\n",
       "\n",
       "    .dataframe tbody tr th {\n",
       "        vertical-align: top;\n",
       "    }\n",
       "\n",
       "    .dataframe thead th {\n",
       "        text-align: right;\n",
       "    }\n",
       "</style>\n",
       "<table border=\"1\" class=\"dataframe\">\n",
       "  <thead>\n",
       "    <tr style=\"text-align: right;\">\n",
       "      <th></th>\n",
       "      <th>Department</th>\n",
       "      <th>Target</th>\n",
       "      <th>Breakdown</th>\n",
       "      <th>2021-07-01 00:00:00</th>\n",
       "      <th>2021-08-01 00:00:00</th>\n",
       "      <th>2021-09-01 00:00:00</th>\n",
       "      <th>2021-10-01 00:00:00</th>\n",
       "      <th>2021-11-01 00:00:00</th>\n",
       "      <th>2021-12-01 00:00:00</th>\n",
       "      <th>2022-01-01 00:00:00</th>\n",
       "      <th>2022-02-01 00:00:00</th>\n",
       "      <th>2022-03-01 00:00:00</th>\n",
       "      <th>2022-04-01 00:00:00</th>\n",
       "      <th>2022-05-01 00:00:00</th>\n",
       "      <th>2022-06-01 00:00:00</th>\n",
       "      <th>Shop</th>\n",
       "    </tr>\n",
       "  </thead>\n",
       "  <tbody>\n",
       "    <tr>\n",
       "      <th>1</th>\n",
       "      <td>Orders</td>\n",
       "      <td>&gt;95%</td>\n",
       "      <td>% Shipped in 3 days</td>\n",
       "      <td>0.91</td>\n",
       "      <td>0.88</td>\n",
       "      <td>0.85</td>\n",
       "      <td>0.87</td>\n",
       "      <td>0.86</td>\n",
       "      <td>0.86</td>\n",
       "      <td>0.88</td>\n",
       "      <td>0.8</td>\n",
       "      <td>0.92</td>\n",
       "      <td>0.94</td>\n",
       "      <td>NaT</td>\n",
       "      <td>NaT</td>\n",
       "      <td>Bath</td>\n",
       "    </tr>\n",
       "    <tr>\n",
       "      <th>3</th>\n",
       "      <td>Orders</td>\n",
       "      <td>&gt;99%</td>\n",
       "      <td>% Shipped in 5 days</td>\n",
       "      <td>0.99</td>\n",
       "      <td>0.94</td>\n",
       "      <td>0.95</td>\n",
       "      <td>0.89</td>\n",
       "      <td>0.91</td>\n",
       "      <td>0.86</td>\n",
       "      <td>0.96</td>\n",
       "      <td>0.8</td>\n",
       "      <td>0.94</td>\n",
       "      <td>1</td>\n",
       "      <td>NaT</td>\n",
       "      <td>NaT</td>\n",
       "      <td>Bath</td>\n",
       "    </tr>\n",
       "    <tr>\n",
       "      <th>5</th>\n",
       "      <td>Returns</td>\n",
       "      <td>&gt;80%</td>\n",
       "      <td>% Processed in 3 days</td>\n",
       "      <td>0.88</td>\n",
       "      <td>0.83</td>\n",
       "      <td>0.89</td>\n",
       "      <td>0.75</td>\n",
       "      <td>0.77</td>\n",
       "      <td>0.84</td>\n",
       "      <td>0.67</td>\n",
       "      <td>0.67</td>\n",
       "      <td>0.99</td>\n",
       "      <td>0.97</td>\n",
       "      <td>NaT</td>\n",
       "      <td>NaT</td>\n",
       "      <td>Bath</td>\n",
       "    </tr>\n",
       "    <tr>\n",
       "      <th>7</th>\n",
       "      <td>Returns</td>\n",
       "      <td>&gt;95%</td>\n",
       "      <td>% Processed in 5 days</td>\n",
       "      <td>0.91</td>\n",
       "      <td>0.85</td>\n",
       "      <td>0.91</td>\n",
       "      <td>0.85</td>\n",
       "      <td>0.79</td>\n",
       "      <td>0.91</td>\n",
       "      <td>0.7</td>\n",
       "      <td>0.76</td>\n",
       "      <td>1</td>\n",
       "      <td>1</td>\n",
       "      <td>NaT</td>\n",
       "      <td>NaT</td>\n",
       "      <td>Bath</td>\n",
       "    </tr>\n",
       "    <tr>\n",
       "      <th>8</th>\n",
       "      <td>Complaints</td>\n",
       "      <td>0</td>\n",
       "      <td># Received</td>\n",
       "      <td>25</td>\n",
       "      <td>6</td>\n",
       "      <td>10</td>\n",
       "      <td>28</td>\n",
       "      <td>11</td>\n",
       "      <td>13</td>\n",
       "      <td>9</td>\n",
       "      <td>3</td>\n",
       "      <td>14</td>\n",
       "      <td>33</td>\n",
       "      <td>NaT</td>\n",
       "      <td>NaT</td>\n",
       "      <td>Bath</td>\n",
       "    </tr>\n",
       "    <tr>\n",
       "      <th>1</th>\n",
       "      <td>Orders</td>\n",
       "      <td>&gt;95%</td>\n",
       "      <td>% Shipped in 3 days</td>\n",
       "      <td>0.84</td>\n",
       "      <td>0.84</td>\n",
       "      <td>0.96</td>\n",
       "      <td>0.84</td>\n",
       "      <td>0.89</td>\n",
       "      <td>0.97</td>\n",
       "      <td>0.9</td>\n",
       "      <td>0.83</td>\n",
       "      <td>0.8</td>\n",
       "      <td>0.8</td>\n",
       "      <td>NaT</td>\n",
       "      <td>NaT</td>\n",
       "      <td>Torquay</td>\n",
       "    </tr>\n",
       "    <tr>\n",
       "      <th>3</th>\n",
       "      <td>Orders</td>\n",
       "      <td>&gt;99%</td>\n",
       "      <td>% Shipped in 5 days</td>\n",
       "      <td>0.92</td>\n",
       "      <td>0.89</td>\n",
       "      <td>0.98</td>\n",
       "      <td>0.85</td>\n",
       "      <td>0.93</td>\n",
       "      <td>1</td>\n",
       "      <td>0.92</td>\n",
       "      <td>0.93</td>\n",
       "      <td>0.9</td>\n",
       "      <td>0.8</td>\n",
       "      <td>NaT</td>\n",
       "      <td>NaT</td>\n",
       "      <td>Torquay</td>\n",
       "    </tr>\n",
       "  </tbody>\n",
       "</table>\n",
       "</div>"
      ],
      "text/plain": [
       "   Department Target              Breakdown 2021-07-01 00:00:00  \\\n",
       "1      Orders   >95%    % Shipped in 3 days                0.91   \n",
       "3      Orders   >99%    % Shipped in 5 days                0.99   \n",
       "5     Returns   >80%  % Processed in 3 days                0.88   \n",
       "7     Returns   >95%  % Processed in 5 days                0.91   \n",
       "8  Complaints      0             # Received                  25   \n",
       "1      Orders   >95%    % Shipped in 3 days                0.84   \n",
       "3      Orders   >99%    % Shipped in 5 days                0.92   \n",
       "\n",
       "  2021-08-01 00:00:00 2021-09-01 00:00:00 2021-10-01 00:00:00  \\\n",
       "1                0.88                0.85                0.87   \n",
       "3                0.94                0.95                0.89   \n",
       "5                0.83                0.89                0.75   \n",
       "7                0.85                0.91                0.85   \n",
       "8                   6                  10                  28   \n",
       "1                0.84                0.96                0.84   \n",
       "3                0.89                0.98                0.85   \n",
       "\n",
       "  2021-11-01 00:00:00 2021-12-01 00:00:00 2022-01-01 00:00:00  \\\n",
       "1                0.86                0.86                0.88   \n",
       "3                0.91                0.86                0.96   \n",
       "5                0.77                0.84                0.67   \n",
       "7                0.79                0.91                 0.7   \n",
       "8                  11                  13                   9   \n",
       "1                0.89                0.97                 0.9   \n",
       "3                0.93                   1                0.92   \n",
       "\n",
       "  2022-02-01 00:00:00 2022-03-01 00:00:00 2022-04-01 00:00:00  \\\n",
       "1                 0.8                0.92                0.94   \n",
       "3                 0.8                0.94                   1   \n",
       "5                0.67                0.99                0.97   \n",
       "7                0.76                   1                   1   \n",
       "8                   3                  14                  33   \n",
       "1                0.83                 0.8                 0.8   \n",
       "3                0.93                 0.9                 0.8   \n",
       "\n",
       "  2022-05-01 00:00:00 2022-06-01 00:00:00     Shop  \n",
       "1                 NaT                 NaT     Bath  \n",
       "3                 NaT                 NaT     Bath  \n",
       "5                 NaT                 NaT     Bath  \n",
       "7                 NaT                 NaT     Bath  \n",
       "8                 NaT                 NaT     Bath  \n",
       "1                 NaT                 NaT  Torquay  \n",
       "3                 NaT                 NaT  Torquay  "
      ]
     },
     "execution_count": 8,
     "metadata": {},
     "output_type": "execute_result"
    }
   ],
   "source": [
    "df.head(7)"
   ]
  },
  {
   "cell_type": "code",
   "execution_count": null,
   "id": "d61001db",
   "metadata": {},
   "outputs": [],
   "source": [
    "\n"
   ]
  },
  {
   "cell_type": "code",
   "execution_count": null,
   "id": "77cfe2a9",
   "metadata": {},
   "outputs": [],
   "source": []
  },
  {
   "cell_type": "code",
   "execution_count": null,
   "id": "c5e0a463",
   "metadata": {},
   "outputs": [],
   "source": []
  },
  {
   "cell_type": "code",
   "execution_count": null,
   "id": "3071db87",
   "metadata": {},
   "outputs": [],
   "source": []
  },
  {
   "cell_type": "code",
   "execution_count": null,
   "id": "4962e3a0",
   "metadata": {},
   "outputs": [],
   "source": [
    "#We wish to update the Breakdown field to include the Department to make the Measure Name easier to interpret\n"
   ]
  },
  {
   "cell_type": "code",
   "execution_count": null,
   "id": "f149812e",
   "metadata": {},
   "outputs": [],
   "source": [
    "#We wish to have a field for each of the measures rather than a row per measure\n"
   ]
  },
  {
   "cell_type": "code",
   "execution_count": null,
   "id": "dc496349",
   "metadata": {},
   "outputs": [],
   "source": []
  },
  {
   "cell_type": "code",
   "execution_count": null,
   "id": "60328941",
   "metadata": {},
   "outputs": [],
   "source": [
    "#We wish to have the targets for each measure as field that we can compare each measure to\n"
   ]
  },
  {
   "cell_type": "code",
   "execution_count": null,
   "id": "f17cf55e",
   "metadata": {},
   "outputs": [],
   "source": [
    "#"
   ]
  },
  {
   "cell_type": "code",
   "execution_count": null,
   "id": "82721473",
   "metadata": {},
   "outputs": [],
   "source": [
    "not_able2.head()"
   ]
  },
  {
   "cell_type": "code",
   "execution_count": null,
   "id": "3d76e87e",
   "metadata": {},
   "outputs": [],
   "source": []
  },
  {
   "cell_type": "code",
   "execution_count": null,
   "id": "a7fb0c08",
   "metadata": {},
   "outputs": [],
   "source": []
  },
  {
   "cell_type": "code",
   "execution_count": null,
   "id": "5aa0c908",
   "metadata": {},
   "outputs": [],
   "source": []
  },
  {
   "cell_type": "code",
   "execution_count": null,
   "id": "66d9eb6a",
   "metadata": {},
   "outputs": [],
   "source": []
  },
  {
   "cell_type": "code",
   "execution_count": null,
   "id": "5195f553",
   "metadata": {},
   "outputs": [],
   "source": []
  },
  {
   "cell_type": "code",
   "execution_count": null,
   "id": "d9f547e6",
   "metadata": {},
   "outputs": [],
   "source": [
    "output.head(10)"
   ]
  },
  {
   "cell_type": "code",
   "execution_count": null,
   "id": "85f20872",
   "metadata": {},
   "outputs": [],
   "source": [
    "#output the data \n",
    "output.to_excel('wk21-output.xlsx', index=False)"
   ]
  }
 ],
 "metadata": {
  "kernelspec": {
   "display_name": "Python 3 (ipykernel)",
   "language": "python",
   "name": "python3"
  },
  "language_info": {
   "codemirror_mode": {
    "name": "ipython",
    "version": 3
   },
   "file_extension": ".py",
   "mimetype": "text/x-python",
   "name": "python",
   "nbconvert_exporter": "python",
   "pygments_lexer": "ipython3",
   "version": "3.9.7"
  }
 },
 "nbformat": 4,
 "nbformat_minor": 5
}
