{
 "cells": [
  {
   "cell_type": "markdown",
   "id": "dc7a3ef9",
   "metadata": {},
   "source": [
    "### Prepping Data Challenge: Multi Sheets of Madness (Week 21)\n",
    "There are 12 sheets from different shops reporting the Key Metrics that we are interested in. There are Additional Metrics in a table below that are not of interest to us for this challenge. \n",
    " \n",
    "### Requirements\n",
    "- Connect to the data\n",
    "- Bring together the Key Metrics tables from each Shop\n",
    "- You'll notice that we have fields which report the quarter in addition to the monthly values. We only wish to keep the monthly values\n",
    "- Reshape the data so that we have a Date field\n",
    "- For Orders and Returns, we are only interested in reporting % values, whilst for Complaints we are only interested in the # Received\n",
    "- We wish to update the Breakdown field to include the Department to make the Measure Name easier to interpret\n",
    "- We wish to have a field for each of the measures rather than a row per measure\n",
    "- We wish to have the targets for each measure as field that we can compare each measure to\n",
    "- Output the data"
   ]
  },
  {
   "cell_type": "code",
   "execution_count": 1,
   "id": "7b263fab",
   "metadata": {},
   "outputs": [],
   "source": [
    "import pandas as pd\n",
    "import numpy as np"
   ]
  },
  {
   "cell_type": "code",
   "execution_count": 14,
   "id": "dead1487",
   "metadata": {},
   "outputs": [],
   "source": [
    "df = None\n",
    "with pd.ExcelFile(\"WK21-Input.xlsx\") as xl:\n",
    "    for s in xl.sheet_names:\n",
    "        df_new = pd.read_excel(xl, s, header=3)\n",
    "        df_new['Shop'] = s\n",
    "        df = pd.concat([df, df_new])"
   ]
  },
  {
   "cell_type": "code",
   "execution_count": 15,
   "id": "74df2714",
   "metadata": {},
   "outputs": [],
   "source": [
    "#Bring together the Key Metrics tables from each Shop\n",
    "df = df[(df['Department'] != 'HR') & (df['Department'] != 'Additonal Metrics') & (df['Department'] !='Department')]"
   ]
  },
  {
   "cell_type": "code",
   "execution_count": 16,
   "id": "2d7a8d65",
   "metadata": {},
   "outputs": [],
   "source": [
    "df['Department'] = df['Department'].ffill()\n",
    "df['Target'] = df['Target'].ffill()"
   ]
  },
  {
   "cell_type": "code",
   "execution_count": 17,
   "id": "fb5e7b0c",
   "metadata": {},
   "outputs": [],
   "source": [
    "#We only wish to keep the monthly values\n",
    "df.drop(columns=['FY22 Q1 ','FY22 Q2','FY22 Q3','FY22 Q4','Comments'], inplace=True, axis=1)"
   ]
  },
  {
   "cell_type": "code",
   "execution_count": 18,
   "id": "376a4315",
   "metadata": {},
   "outputs": [],
   "source": [
    "#For Orders and Returns, we are only interested in reporting % values, \n",
    "#whilst for Complaints we are only interested in the # Received \n",
    "df = df[(df['Breakdown'].isin(['% Shipped in 3 days','% Shipped in 5 days','% Processed in 3 days',\n",
    "                               '% Processed in 5 days','# Received']))]"
   ]
  },
  {
   "cell_type": "code",
   "execution_count": 19,
   "id": "1e2289b6",
   "metadata": {},
   "outputs": [],
   "source": [
    "#Reshape the data so that we have a Date field\n",
    "df_pivot = pd.melt(df, id_vars=['Department','Target','Breakdown','Shop'], var_name='Date')"
   ]
  },
  {
   "cell_type": "code",
   "execution_count": 25,
   "id": "d61001db",
   "metadata": {},
   "outputs": [
    {
     "data": {
      "text/html": [
       "<div>\n",
       "<style scoped>\n",
       "    .dataframe tbody tr th:only-of-type {\n",
       "        vertical-align: middle;\n",
       "    }\n",
       "\n",
       "    .dataframe tbody tr th {\n",
       "        vertical-align: top;\n",
       "    }\n",
       "\n",
       "    .dataframe thead th {\n",
       "        text-align: right;\n",
       "    }\n",
       "</style>\n",
       "<table border=\"1\" class=\"dataframe\">\n",
       "  <thead>\n",
       "    <tr style=\"text-align: right;\">\n",
       "      <th></th>\n",
       "      <th>Department</th>\n",
       "      <th>Target</th>\n",
       "      <th>Breakdown</th>\n",
       "      <th>Shop</th>\n",
       "      <th>Date</th>\n",
       "      <th>value</th>\n",
       "      <th>Target - % Orders Shipped in 3 days</th>\n",
       "      <th>Target - % Orders Shipped in 5 days</th>\n",
       "      <th>Target - % Returns Processed in 3 days</th>\n",
       "      <th>Target - % Returns Processed in 5 days</th>\n",
       "      <th>Target - # Compaints Received</th>\n",
       "    </tr>\n",
       "  </thead>\n",
       "  <tbody>\n",
       "    <tr>\n",
       "      <th>0</th>\n",
       "      <td>Orders</td>\n",
       "      <td>&gt;95%</td>\n",
       "      <td>% Shipped in 3 days</td>\n",
       "      <td>Bath</td>\n",
       "      <td>2021-07-01</td>\n",
       "      <td>0.91</td>\n",
       "      <td>0.95</td>\n",
       "      <td>0.99</td>\n",
       "      <td>0.8</td>\n",
       "      <td>0.95</td>\n",
       "      <td>0</td>\n",
       "    </tr>\n",
       "    <tr>\n",
       "      <th>1</th>\n",
       "      <td>Orders</td>\n",
       "      <td>&gt;99%</td>\n",
       "      <td>% Shipped in 5 days</td>\n",
       "      <td>Bath</td>\n",
       "      <td>2021-07-01</td>\n",
       "      <td>0.99</td>\n",
       "      <td>0.95</td>\n",
       "      <td>0.99</td>\n",
       "      <td>0.8</td>\n",
       "      <td>0.95</td>\n",
       "      <td>0</td>\n",
       "    </tr>\n",
       "    <tr>\n",
       "      <th>2</th>\n",
       "      <td>Returns</td>\n",
       "      <td>&gt;80%</td>\n",
       "      <td>% Processed in 3 days</td>\n",
       "      <td>Bath</td>\n",
       "      <td>2021-07-01</td>\n",
       "      <td>0.88</td>\n",
       "      <td>0.95</td>\n",
       "      <td>0.99</td>\n",
       "      <td>0.8</td>\n",
       "      <td>0.95</td>\n",
       "      <td>0</td>\n",
       "    </tr>\n",
       "    <tr>\n",
       "      <th>3</th>\n",
       "      <td>Returns</td>\n",
       "      <td>&gt;95%</td>\n",
       "      <td>% Processed in 5 days</td>\n",
       "      <td>Bath</td>\n",
       "      <td>2021-07-01</td>\n",
       "      <td>0.91</td>\n",
       "      <td>0.95</td>\n",
       "      <td>0.99</td>\n",
       "      <td>0.8</td>\n",
       "      <td>0.95</td>\n",
       "      <td>0</td>\n",
       "    </tr>\n",
       "    <tr>\n",
       "      <th>4</th>\n",
       "      <td>Complaints</td>\n",
       "      <td>0</td>\n",
       "      <td># Received</td>\n",
       "      <td>Bath</td>\n",
       "      <td>2021-07-01</td>\n",
       "      <td>25</td>\n",
       "      <td>0.95</td>\n",
       "      <td>0.99</td>\n",
       "      <td>0.8</td>\n",
       "      <td>0.95</td>\n",
       "      <td>0</td>\n",
       "    </tr>\n",
       "  </tbody>\n",
       "</table>\n",
       "</div>"
      ],
      "text/plain": [
       "   Department Target              Breakdown  Shop       Date value  \\\n",
       "0      Orders   >95%    % Shipped in 3 days  Bath 2021-07-01  0.91   \n",
       "1      Orders   >99%    % Shipped in 5 days  Bath 2021-07-01  0.99   \n",
       "2     Returns   >80%  % Processed in 3 days  Bath 2021-07-01  0.88   \n",
       "3     Returns   >95%  % Processed in 5 days  Bath 2021-07-01  0.91   \n",
       "4  Complaints      0             # Received  Bath 2021-07-01    25   \n",
       "\n",
       "   Target - % Orders Shipped in 3 days  Target - % Orders Shipped in 5 days  \\\n",
       "0                                 0.95                                 0.99   \n",
       "1                                 0.95                                 0.99   \n",
       "2                                 0.95                                 0.99   \n",
       "3                                 0.95                                 0.99   \n",
       "4                                 0.95                                 0.99   \n",
       "\n",
       "   Target - % Returns Processed in 3 days  \\\n",
       "0                                     0.8   \n",
       "1                                     0.8   \n",
       "2                                     0.8   \n",
       "3                                     0.8   \n",
       "4                                     0.8   \n",
       "\n",
       "   Target - % Returns Processed in 5 days  Target - # Compaints Received  \n",
       "0                                    0.95                              0  \n",
       "1                                    0.95                              0  \n",
       "2                                    0.95                              0  \n",
       "3                                    0.95                              0  \n",
       "4                                    0.95                              0  "
      ]
     },
     "execution_count": 25,
     "metadata": {},
     "output_type": "execute_result"
    }
   ],
   "source": [
    "df_pivot.head()"
   ]
  },
  {
   "cell_type": "code",
   "execution_count": null,
   "id": "f149812e",
   "metadata": {},
   "outputs": [],
   "source": [
    "#We wish to update the Breakdown field to include the Department to make the Measure Name easier to interpret\n",
    "#We wish to have a field for each of the measures rather than a row per measure\n"
   ]
  },
  {
   "cell_type": "code",
   "execution_count": 24,
   "id": "77cfe2a9",
   "metadata": {},
   "outputs": [],
   "source": [
    "df_pivot['% Orders Shipped in 3 days']\n",
    "df_pivot['% Orders Shipped in 5 days'] \n",
    "df_pivot['% Returns Processed in 3 days'] \n",
    "df_pivot['% Returns Processed in 5 days']\n",
    "df_pivot['# Compaints Received']"
   ]
  },
  {
   "cell_type": "code",
   "execution_count": null,
   "id": "60328941",
   "metadata": {},
   "outputs": [],
   "source": [
    "#We wish to have the targets for each measure as field that we can compare each measure to\n",
    "df_pivot['Target - % Orders Shipped in 3 days'] = 0.95\n",
    "df_pivot['Target - % Orders Shipped in 5 days'] = 0.99\n",
    "df_pivot['Target - % Returns Processed in 3 days'] = 0.80\n",
    "df_pivot['Target - % Returns Processed in 5 days'] = 0.95\n",
    "df_pivot['Target - # Compaints Received'] = 0"
   ]
  },
  {
   "cell_type": "code",
   "execution_count": null,
   "id": "5aa0c908",
   "metadata": {},
   "outputs": [],
   "source": [
    "output = df_pivot[['Shop','Date','% Orders Shipped in 3 days','Target - % Orders Shipped in 3 days',\n",
    "                   '% Orders Shipped in 5 days','Target - % Orders Shipped in 5 days','% Returns Processed in 3 days',\n",
    "                   'Target - % Returns Processed in 3 days','% Returns Processed in 5 days',\n",
    "                   'Target - % Returns Processed in 5 days','# Compaints Received','Target - # Compaints Received']]"
   ]
  },
  {
   "cell_type": "code",
   "execution_count": null,
   "id": "d9f547e6",
   "metadata": {},
   "outputs": [],
   "source": [
    "output.head(10)"
   ]
  },
  {
   "cell_type": "code",
   "execution_count": null,
   "id": "85f20872",
   "metadata": {},
   "outputs": [],
   "source": [
    "#output the data \n",
    "output.to_excel('wk21-output.xlsx', index=False)"
   ]
  }
 ],
 "metadata": {
  "kernelspec": {
   "display_name": "Python 3 (ipykernel)",
   "language": "python",
   "name": "python3"
  },
  "language_info": {
   "codemirror_mode": {
    "name": "ipython",
    "version": 3
   },
   "file_extension": ".py",
   "mimetype": "text/x-python",
   "name": "python",
   "nbconvert_exporter": "python",
   "pygments_lexer": "ipython3",
   "version": "3.9.7"
  }
 },
 "nbformat": 4,
 "nbformat_minor": 5
}
