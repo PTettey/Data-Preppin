{
 "cells": [
  {
   "cell_type": "markdown",
   "id": "dc7a3ef9",
   "metadata": {},
   "source": [
    "### Prepping Data Challenge: Parental Contact Details (week 1)\n",
    "\n",
    "This week's challenge involves creating contact details for parents. We have the pupil's name, although it's not in the correct format, and will use the pupil's last name to match to the parent's details. We also have the employer for the parental contact so we can form an email address to contact them. \n",
    "\n",
    "#### Requirement:\n",
    "\n",
    " - Input the csv file  \n",
    " - Form the pupil's name correctly for the records in the format Last Name, First Name \n",
    " - Form the parental contact's name in the same format as the pupil's \n",
    " - Create the email address to contact the parent using the format Parent First Name.Parent Last Name@Employer.com\n",
    " - Create the academic year the pupils are in \n",
    "   - Each academic year starts on 1st September.\n",
    "   - Year 1 is anyone born after 1st Sept 2014 \n",
    "   - Year 2 is anyone born between 1st Sept 2013 and 31st Aug 2014 etc\n",
    " - Remove any unnecessary columns of data \n",
    " - Output the data "
   ]
  },
  {
   "cell_type": "code",
   "execution_count": 1,
   "id": "7b263fab",
   "metadata": {},
   "outputs": [],
   "source": [
    "import pandas as pd\n",
    "import numpy as np"
   ]
  },
  {
   "cell_type": "code",
   "execution_count": 2,
   "id": "077cd1f1",
   "metadata": {
    "scrolled": true
   },
   "outputs": [
    {
     "data": {
      "text/html": [
       "<div>\n",
       "<style scoped>\n",
       "    .dataframe tbody tr th:only-of-type {\n",
       "        vertical-align: middle;\n",
       "    }\n",
       "\n",
       "    .dataframe tbody tr th {\n",
       "        vertical-align: top;\n",
       "    }\n",
       "\n",
       "    .dataframe thead th {\n",
       "        text-align: right;\n",
       "    }\n",
       "</style>\n",
       "<table border=\"1\" class=\"dataframe\">\n",
       "  <thead>\n",
       "    <tr style=\"text-align: right;\">\n",
       "      <th></th>\n",
       "      <th>id</th>\n",
       "      <th>pupil first name</th>\n",
       "      <th>pupil last name</th>\n",
       "      <th>gender</th>\n",
       "      <th>Date of Birth</th>\n",
       "      <th>Parental Contact Name_1</th>\n",
       "      <th>Parental Contact Name_2</th>\n",
       "      <th>Preferred Contact Employer</th>\n",
       "      <th>Parental Contact</th>\n",
       "    </tr>\n",
       "  </thead>\n",
       "  <tbody>\n",
       "    <tr>\n",
       "      <th>0</th>\n",
       "      <td>1</td>\n",
       "      <td>Ronna</td>\n",
       "      <td>Nellies</td>\n",
       "      <td>Female</td>\n",
       "      <td>2013-12-21</td>\n",
       "      <td>Purcell</td>\n",
       "      <td>Ketti</td>\n",
       "      <td>Demizz</td>\n",
       "      <td>1</td>\n",
       "    </tr>\n",
       "    <tr>\n",
       "      <th>1</th>\n",
       "      <td>2</td>\n",
       "      <td>Rusty</td>\n",
       "      <td>Andriulis</td>\n",
       "      <td>Male</td>\n",
       "      <td>2012-07-21</td>\n",
       "      <td>Vassili</td>\n",
       "      <td>Rivi</td>\n",
       "      <td>Brainbox</td>\n",
       "      <td>1</td>\n",
       "    </tr>\n",
       "    <tr>\n",
       "      <th>2</th>\n",
       "      <td>3</td>\n",
       "      <td>Roberta</td>\n",
       "      <td>Oakeshott</td>\n",
       "      <td>Female</td>\n",
       "      <td>2011-12-04</td>\n",
       "      <td>Lind</td>\n",
       "      <td>Haskell</td>\n",
       "      <td>Centidel</td>\n",
       "      <td>2</td>\n",
       "    </tr>\n",
       "    <tr>\n",
       "      <th>3</th>\n",
       "      <td>4</td>\n",
       "      <td>Lola</td>\n",
       "      <td>Rubinfajn</td>\n",
       "      <td>Male</td>\n",
       "      <td>2012-06-29</td>\n",
       "      <td>Elie</td>\n",
       "      <td>Tresa</td>\n",
       "      <td>Edgeblab</td>\n",
       "      <td>2</td>\n",
       "    </tr>\n",
       "    <tr>\n",
       "      <th>4</th>\n",
       "      <td>5</td>\n",
       "      <td>Kamila</td>\n",
       "      <td>Benedtti</td>\n",
       "      <td>Female</td>\n",
       "      <td>2012-07-10</td>\n",
       "      <td>Adela</td>\n",
       "      <td>Clevey</td>\n",
       "      <td>Trudoo</td>\n",
       "      <td>1</td>\n",
       "    </tr>\n",
       "  </tbody>\n",
       "</table>\n",
       "</div>"
      ],
      "text/plain": [
       "   id pupil first name pupil last name  gender Date of Birth  \\\n",
       "0   1            Ronna         Nellies  Female    2013-12-21   \n",
       "1   2            Rusty       Andriulis    Male    2012-07-21   \n",
       "2   3          Roberta       Oakeshott  Female    2011-12-04   \n",
       "3   4             Lola       Rubinfajn    Male    2012-06-29   \n",
       "4   5           Kamila        Benedtti  Female    2012-07-10   \n",
       "\n",
       "  Parental Contact Name_1 Parental Contact Name_2 Preferred Contact Employer  \\\n",
       "0                 Purcell                   Ketti                     Demizz   \n",
       "1                 Vassili                    Rivi                   Brainbox   \n",
       "2                    Lind                 Haskell                   Centidel   \n",
       "3                    Elie                   Tresa                   Edgeblab   \n",
       "4                   Adela                  Clevey                     Trudoo   \n",
       "\n",
       "   Parental Contact  \n",
       "0                 1  \n",
       "1                 1  \n",
       "2                 2  \n",
       "3                 2  \n",
       "4                 1  "
      ]
     },
     "execution_count": 2,
     "metadata": {},
     "output_type": "execute_result"
    }
   ],
   "source": [
    "# Input the csv file.\n",
    "df = pd.read_csv('WK1-Input.csv', parse_dates =['Date of Birth'])\n",
    "df.head()"
   ]
  },
  {
   "cell_type": "code",
   "execution_count": 3,
   "id": "2500f7a6",
   "metadata": {},
   "outputs": [],
   "source": [
    "#Form the pupil's name correctly for the records in the format Last Name, First Name \n",
    "df['Pupil\\'s Name'] = df['pupil last name'] + ', ' + df['pupil first name']"
   ]
  },
  {
   "cell_type": "code",
   "execution_count": 4,
   "id": "1d8979cd",
   "metadata": {},
   "outputs": [],
   "source": [
    "#Form the parental contact's name in the same format as the pupil's\n",
    "df['Parental Contact Full Name'] = np.where(df['Parental Contact'] == 1,\n",
    "                                           df['pupil last name'] + ', ' + df['Parental Contact Name_1'],\n",
    "                                           df['pupil last name'] + ', ' + df['Parental Contact Name_2'])"
   ]
  },
  {
   "cell_type": "code",
   "execution_count": 5,
   "id": "e6b8096e",
   "metadata": {},
   "outputs": [],
   "source": [
    "#Create the email address to contact the parent using the format Parent First Name.Parent Last Name@Employer.com\n",
    "df['Parental Contact Email Address'] = np.where(df['Parental Contact'] == 1,\n",
    "                                                df['Parental Contact Name_1']+'.'+df['pupil last name']+'@'+df['Preferred Contact Employer']+'.com',\n",
    "                                                df['Parental Contact Name_2']+'.'+df['pupil last name']+'@'+df['Preferred Contact Employer']+'.com')"
   ]
  },
  {
   "cell_type": "code",
   "execution_count": 6,
   "id": "7de23cf0",
   "metadata": {},
   "outputs": [],
   "source": [
    "#Create the academic year the pupils are in\n",
    "df = df.assign(Academic_Year= pd.PeriodIndex(df['Date of Birth'], freq='A-Aug'))\n",
    "df['Academic_Year'] = df['Academic_Year'].map(lambda x: int(x.strftime('%Y'))) \n",
    "df['Academic_Year'] = np.where(df['Academic_Year'] >=2015, 1, (2015 - df['Academic_Year'] )+1)"
   ]
  },
  {
   "cell_type": "code",
   "execution_count": 7,
   "id": "a7d1d6b0",
   "metadata": {},
   "outputs": [
    {
     "data": {
      "text/plain": [
       "Index(['id', 'pupil first name', 'pupil last name', 'gender', 'Date of Birth',\n",
       "       'Parental Contact Name_1', 'Parental Contact Name_2',\n",
       "       'Preferred Contact Employer', 'Parental Contact', 'Pupil's Name',\n",
       "       'Parental Contact Full Name', 'Parental Contact Email Address',\n",
       "       'Academic_Year'],\n",
       "      dtype='object')"
      ]
     },
     "execution_count": 7,
     "metadata": {},
     "output_type": "execute_result"
    }
   ],
   "source": [
    "df.columns"
   ]
  },
  {
   "cell_type": "code",
   "execution_count": 8,
   "id": "f4190a1d",
   "metadata": {},
   "outputs": [],
   "source": [
    "df = df[['Academic_Year','Pupil\\'s Name','Parental Contact Full Name','Parental Contact Email Address']]"
   ]
  },
  {
   "cell_type": "code",
   "execution_count": 9,
   "id": "75128916",
   "metadata": {},
   "outputs": [
    {
     "data": {
      "text/html": [
       "<div>\n",
       "<style scoped>\n",
       "    .dataframe tbody tr th:only-of-type {\n",
       "        vertical-align: middle;\n",
       "    }\n",
       "\n",
       "    .dataframe tbody tr th {\n",
       "        vertical-align: top;\n",
       "    }\n",
       "\n",
       "    .dataframe thead th {\n",
       "        text-align: right;\n",
       "    }\n",
       "</style>\n",
       "<table border=\"1\" class=\"dataframe\">\n",
       "  <thead>\n",
       "    <tr style=\"text-align: right;\">\n",
       "      <th></th>\n",
       "      <th>Academic_Year</th>\n",
       "      <th>Pupil's Name</th>\n",
       "      <th>Parental Contact Full Name</th>\n",
       "      <th>Parental Contact Email Address</th>\n",
       "    </tr>\n",
       "  </thead>\n",
       "  <tbody>\n",
       "    <tr>\n",
       "      <th>0</th>\n",
       "      <td>2</td>\n",
       "      <td>Nellies, Ronna</td>\n",
       "      <td>Nellies, Purcell</td>\n",
       "      <td>Purcell.Nellies@Demizz.com</td>\n",
       "    </tr>\n",
       "    <tr>\n",
       "      <th>1</th>\n",
       "      <td>4</td>\n",
       "      <td>Andriulis, Rusty</td>\n",
       "      <td>Andriulis, Vassili</td>\n",
       "      <td>Vassili.Andriulis@Brainbox.com</td>\n",
       "    </tr>\n",
       "    <tr>\n",
       "      <th>2</th>\n",
       "      <td>4</td>\n",
       "      <td>Oakeshott, Roberta</td>\n",
       "      <td>Oakeshott, Haskell</td>\n",
       "      <td>Haskell.Oakeshott@Centidel.com</td>\n",
       "    </tr>\n",
       "    <tr>\n",
       "      <th>3</th>\n",
       "      <td>4</td>\n",
       "      <td>Rubinfajn, Lola</td>\n",
       "      <td>Rubinfajn, Tresa</td>\n",
       "      <td>Tresa.Rubinfajn@Edgeblab.com</td>\n",
       "    </tr>\n",
       "    <tr>\n",
       "      <th>4</th>\n",
       "      <td>4</td>\n",
       "      <td>Benedtti, Kamila</td>\n",
       "      <td>Benedtti, Adela</td>\n",
       "      <td>Adela.Benedtti@Trudoo.com</td>\n",
       "    </tr>\n",
       "    <tr>\n",
       "      <th>5</th>\n",
       "      <td>4</td>\n",
       "      <td>Colebourn, Avery</td>\n",
       "      <td>Colebourn, Dalenna</td>\n",
       "      <td>Dalenna.Colebourn@Linktype.com</td>\n",
       "    </tr>\n",
       "    <tr>\n",
       "      <th>6</th>\n",
       "      <td>1</td>\n",
       "      <td>Klimko, Valentino</td>\n",
       "      <td>Klimko, Onofredo</td>\n",
       "      <td>Onofredo.Klimko@Thoughtblab.com</td>\n",
       "    </tr>\n",
       "    <tr>\n",
       "      <th>7</th>\n",
       "      <td>1</td>\n",
       "      <td>Shearwood, Cal</td>\n",
       "      <td>Shearwood, Berne</td>\n",
       "      <td>Berne.Shearwood@Browseblab.com</td>\n",
       "    </tr>\n",
       "    <tr>\n",
       "      <th>8</th>\n",
       "      <td>3</td>\n",
       "      <td>Truswell, King</td>\n",
       "      <td>Truswell, Evvy</td>\n",
       "      <td>Evvy.Truswell@Photospace.com</td>\n",
       "    </tr>\n",
       "    <tr>\n",
       "      <th>9</th>\n",
       "      <td>1</td>\n",
       "      <td>Stichall, Towney</td>\n",
       "      <td>Stichall, Joyann</td>\n",
       "      <td>Joyann.Stichall@Kwimbee.com</td>\n",
       "    </tr>\n",
       "  </tbody>\n",
       "</table>\n",
       "</div>"
      ],
      "text/plain": [
       "   Academic_Year        Pupil's Name Parental Contact Full Name  \\\n",
       "0              2      Nellies, Ronna           Nellies, Purcell   \n",
       "1              4    Andriulis, Rusty         Andriulis, Vassili   \n",
       "2              4  Oakeshott, Roberta         Oakeshott, Haskell   \n",
       "3              4     Rubinfajn, Lola           Rubinfajn, Tresa   \n",
       "4              4    Benedtti, Kamila            Benedtti, Adela   \n",
       "5              4    Colebourn, Avery         Colebourn, Dalenna   \n",
       "6              1   Klimko, Valentino           Klimko, Onofredo   \n",
       "7              1      Shearwood, Cal           Shearwood, Berne   \n",
       "8              3      Truswell, King             Truswell, Evvy   \n",
       "9              1    Stichall, Towney           Stichall, Joyann   \n",
       "\n",
       "    Parental Contact Email Address  \n",
       "0       Purcell.Nellies@Demizz.com  \n",
       "1   Vassili.Andriulis@Brainbox.com  \n",
       "2   Haskell.Oakeshott@Centidel.com  \n",
       "3     Tresa.Rubinfajn@Edgeblab.com  \n",
       "4        Adela.Benedtti@Trudoo.com  \n",
       "5   Dalenna.Colebourn@Linktype.com  \n",
       "6  Onofredo.Klimko@Thoughtblab.com  \n",
       "7   Berne.Shearwood@Browseblab.com  \n",
       "8     Evvy.Truswell@Photospace.com  \n",
       "9      Joyann.Stichall@Kwimbee.com  "
      ]
     },
     "execution_count": 9,
     "metadata": {},
     "output_type": "execute_result"
    }
   ],
   "source": [
    "df.head(10)"
   ]
  },
  {
   "cell_type": "code",
   "execution_count": 10,
   "id": "268d6e47",
   "metadata": {},
   "outputs": [],
   "source": [
    "df.to_csv('WK1-output.csv', index=False)"
   ]
  }
 ],
 "metadata": {
  "kernelspec": {
   "display_name": "Tetteyanalysis",
   "language": "python",
   "name": "tetteyanalysis"
  },
  "language_info": {
   "codemirror_mode": {
    "name": "ipython",
    "version": 3
   },
   "file_extension": ".py",
   "mimetype": "text/x-python",
   "name": "python",
   "nbconvert_exporter": "python",
   "pygments_lexer": "ipython3",
   "version": "3.7.11"
  }
 },
 "nbformat": 4,
 "nbformat_minor": 5
}
