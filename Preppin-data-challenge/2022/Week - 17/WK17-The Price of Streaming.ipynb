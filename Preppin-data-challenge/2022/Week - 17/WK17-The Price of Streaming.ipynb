{
 "cells": [
  {
   "cell_type": "markdown",
   "id": "dc7a3ef9",
   "metadata": {},
   "source": [
    "### Prepping Data Challenge: The Price of Streaming (Week 17)\n",
    " The involves bringing together 2 datasets which have different levels of aggregation. \n",
    "\n",
    "### Requirements\n",
    " - Input the data\n",
    " - Check the location field for spelling errors\n",
    "   - Data roles may help you identify these\n",
    " - Fix the date fields so they are recognised as date data types\n",
    " - Aggregate the data to find the total duration of each streaming session (as identified by the timestamp)\n",
    " - We need to update the content_type field:\n",
    "   - For London, Cardiff and Edinburgh, the content_type is defined as \"Primary\"\n",
    "   - For other locations, maintain the \"Preserved\" content_type and update all others to have a \"Secondary\" content_type\n",
    "- To join to the Avg Pricing Table, we need to work out when each user's first streaming session was. However, it's a little more complex than that. \n",
    "   - For \"Primary\" content, we take the overall minimum streaming month, ignoring location\n",
    "   - For all other content, we work out the minimum active month for each user, in each location and for each content_type\n",
    "- We're now ready to join to the Avg Pricing Table\n",
    "- For \"Preserved\" content, we manually input the Avg Price as £14.98\n",
    "- Output the data"
   ]
  },
  {
   "cell_type": "code",
   "execution_count": 1,
   "id": "7b263fab",
   "metadata": {},
   "outputs": [],
   "source": [
    "import pandas as pd\n",
    "import numpy as np"
   ]
  },
  {
   "cell_type": "code",
   "execution_count": 65,
   "id": "077cd1f1",
   "metadata": {
    "scrolled": true
   },
   "outputs": [],
   "source": [
    "# Input the data.\n",
    "with pd.ExcelFile('2022W17 Input.xlsx') as xlsx:\n",
    "    stream = pd.read_excel(xlsx, 'Streaming')\n",
    "    price = pd.read_excel(xlsx, 'Avg Pricing')"
   ]
  },
  {
   "cell_type": "code",
   "execution_count": 66,
   "id": "9f0be7e1",
   "metadata": {},
   "outputs": [
    {
     "data": {
      "text/html": [
       "<div>\n",
       "<style scoped>\n",
       "    .dataframe tbody tr th:only-of-type {\n",
       "        vertical-align: middle;\n",
       "    }\n",
       "\n",
       "    .dataframe tbody tr th {\n",
       "        vertical-align: top;\n",
       "    }\n",
       "\n",
       "    .dataframe thead th {\n",
       "        text-align: right;\n",
       "    }\n",
       "</style>\n",
       "<table border=\"1\" class=\"dataframe\">\n",
       "  <thead>\n",
       "    <tr style=\"text-align: right;\">\n",
       "      <th></th>\n",
       "      <th>userID</th>\n",
       "      <th>t</th>\n",
       "      <th>location</th>\n",
       "      <th>content_type</th>\n",
       "      <th>duration</th>\n",
       "    </tr>\n",
       "  </thead>\n",
       "  <tbody>\n",
       "    <tr>\n",
       "      <th>0</th>\n",
       "      <td>3</td>\n",
       "      <td>2021-01-05T21:44:55Z</td>\n",
       "      <td>Essex</td>\n",
       "      <td>Preserved</td>\n",
       "      <td>47</td>\n",
       "    </tr>\n",
       "    <tr>\n",
       "      <th>1</th>\n",
       "      <td>3</td>\n",
       "      <td>2021-01-05T21:44:55Z</td>\n",
       "      <td>Essex</td>\n",
       "      <td>Preserved</td>\n",
       "      <td>29</td>\n",
       "    </tr>\n",
       "    <tr>\n",
       "      <th>2</th>\n",
       "      <td>3</td>\n",
       "      <td>2021-01-05T21:44:55Z</td>\n",
       "      <td>Essex</td>\n",
       "      <td>Preserved</td>\n",
       "      <td>31</td>\n",
       "    </tr>\n",
       "    <tr>\n",
       "      <th>3</th>\n",
       "      <td>3</td>\n",
       "      <td>2021-01-05T21:44:55Z</td>\n",
       "      <td>Essex</td>\n",
       "      <td>Preserved</td>\n",
       "      <td>4</td>\n",
       "    </tr>\n",
       "    <tr>\n",
       "      <th>4</th>\n",
       "      <td>3</td>\n",
       "      <td>2021-01-05T21:44:55Z</td>\n",
       "      <td>Essex</td>\n",
       "      <td>Preserved</td>\n",
       "      <td>8</td>\n",
       "    </tr>\n",
       "  </tbody>\n",
       "</table>\n",
       "</div>"
      ],
      "text/plain": [
       "   userID                     t location content_type  duration\n",
       "0       3  2021-01-05T21:44:55Z    Essex    Preserved        47\n",
       "1       3  2021-01-05T21:44:55Z    Essex    Preserved        29\n",
       "2       3  2021-01-05T21:44:55Z    Essex    Preserved        31\n",
       "3       3  2021-01-05T21:44:55Z    Essex    Preserved         4\n",
       "4       3  2021-01-05T21:44:55Z    Essex    Preserved         8"
      ]
     },
     "execution_count": 66,
     "metadata": {},
     "output_type": "execute_result"
    }
   ],
   "source": [
    "stream.head()"
   ]
  },
  {
   "cell_type": "code",
   "execution_count": 68,
   "id": "d61001db",
   "metadata": {},
   "outputs": [
    {
     "data": {
      "text/plain": [
       "array(['Essex', 'Plymouth', 'Edinurgh', 'Newcastle', 'Cardiff', 'London',\n",
       "       'Manchester', 'Cornwall', 'Nottingham', 'Perth', 'Glasgow',\n",
       "       'Norfolk', 'Bristol', 'Kent'], dtype=object)"
      ]
     },
     "execution_count": 68,
     "metadata": {},
     "output_type": "execute_result"
    }
   ],
   "source": [
    "#Check the location field for spelling errors\n",
    "stream['location'].unique()"
   ]
  },
  {
   "cell_type": "code",
   "execution_count": 69,
   "id": "2963522a",
   "metadata": {},
   "outputs": [],
   "source": [
    "spellcheck = {'Edinburgh':'Edinurgh'}    \n",
    "stream['location'] = stream['location'].replace(list(spellcheck.values()), list(spellcheck.keys()), regex = True)"
   ]
  },
  {
   "cell_type": "code",
   "execution_count": 70,
   "id": "fb5e7b0c",
   "metadata": {},
   "outputs": [
    {
     "data": {
      "text/plain": [
       "array(['Essex', 'Plymouth', 'Edinburgh', 'Newcastle', 'Cardiff', 'London',\n",
       "       'Manchester', 'Cornwall', 'Nottingham', 'Perth', 'Glasgow',\n",
       "       'Norfolk', 'Bristol', 'Kent'], dtype=object)"
      ]
     },
     "execution_count": 70,
     "metadata": {},
     "output_type": "execute_result"
    }
   ],
   "source": [
    "stream['location'].unique()"
   ]
  },
  {
   "cell_type": "code",
   "execution_count": 71,
   "id": "3d76e87e",
   "metadata": {},
   "outputs": [
    {
     "name": "stderr",
     "output_type": "stream",
     "text": [
      "C:\\Users\\HP\\AppData\\Local\\Temp/ipykernel_1052/240703303.py:1: FutureWarning: The default value of regex will change from True to False in a future version.\n",
      "  stream['t'] = stream['t'].str.replace('([TZ])',' ')\n"
     ]
    }
   ],
   "source": [
    "stream['t'] = stream['t'].str.replace('([TZ])',' ')"
   ]
  },
  {
   "cell_type": "code",
   "execution_count": 72,
   "id": "564e627f",
   "metadata": {},
   "outputs": [
    {
     "data": {
      "text/html": [
       "<div>\n",
       "<style scoped>\n",
       "    .dataframe tbody tr th:only-of-type {\n",
       "        vertical-align: middle;\n",
       "    }\n",
       "\n",
       "    .dataframe tbody tr th {\n",
       "        vertical-align: top;\n",
       "    }\n",
       "\n",
       "    .dataframe thead th {\n",
       "        text-align: right;\n",
       "    }\n",
       "</style>\n",
       "<table border=\"1\" class=\"dataframe\">\n",
       "  <thead>\n",
       "    <tr style=\"text-align: right;\">\n",
       "      <th></th>\n",
       "      <th>userID</th>\n",
       "      <th>t</th>\n",
       "      <th>location</th>\n",
       "      <th>content_type</th>\n",
       "      <th>duration</th>\n",
       "    </tr>\n",
       "  </thead>\n",
       "  <tbody>\n",
       "    <tr>\n",
       "      <th>0</th>\n",
       "      <td>3</td>\n",
       "      <td>2021-01-05 21:44:55</td>\n",
       "      <td>Essex</td>\n",
       "      <td>Preserved</td>\n",
       "      <td>47</td>\n",
       "    </tr>\n",
       "    <tr>\n",
       "      <th>1</th>\n",
       "      <td>3</td>\n",
       "      <td>2021-01-05 21:44:55</td>\n",
       "      <td>Essex</td>\n",
       "      <td>Preserved</td>\n",
       "      <td>29</td>\n",
       "    </tr>\n",
       "    <tr>\n",
       "      <th>2</th>\n",
       "      <td>3</td>\n",
       "      <td>2021-01-05 21:44:55</td>\n",
       "      <td>Essex</td>\n",
       "      <td>Preserved</td>\n",
       "      <td>31</td>\n",
       "    </tr>\n",
       "    <tr>\n",
       "      <th>3</th>\n",
       "      <td>3</td>\n",
       "      <td>2021-01-05 21:44:55</td>\n",
       "      <td>Essex</td>\n",
       "      <td>Preserved</td>\n",
       "      <td>4</td>\n",
       "    </tr>\n",
       "    <tr>\n",
       "      <th>4</th>\n",
       "      <td>3</td>\n",
       "      <td>2021-01-05 21:44:55</td>\n",
       "      <td>Essex</td>\n",
       "      <td>Preserved</td>\n",
       "      <td>8</td>\n",
       "    </tr>\n",
       "  </tbody>\n",
       "</table>\n",
       "</div>"
      ],
      "text/plain": [
       "   userID                     t location content_type  duration\n",
       "0       3  2021-01-05 21:44:55     Essex    Preserved        47\n",
       "1       3  2021-01-05 21:44:55     Essex    Preserved        29\n",
       "2       3  2021-01-05 21:44:55     Essex    Preserved        31\n",
       "3       3  2021-01-05 21:44:55     Essex    Preserved         4\n",
       "4       3  2021-01-05 21:44:55     Essex    Preserved         8"
      ]
     },
     "execution_count": 72,
     "metadata": {},
     "output_type": "execute_result"
    }
   ],
   "source": [
    "stream.head()"
   ]
  },
  {
   "cell_type": "code",
   "execution_count": 73,
   "id": "2d7a8d65",
   "metadata": {},
   "outputs": [
    {
     "data": {
      "text/plain": [
       "Index(['userID', 't', 'location', 'content_type', 'duration'], dtype='object')"
      ]
     },
     "execution_count": 73,
     "metadata": {},
     "output_type": "execute_result"
    }
   ],
   "source": [
    "stream.columns"
   ]
  },
  {
   "cell_type": "code",
   "execution_count": 74,
   "id": "3c732487",
   "metadata": {},
   "outputs": [],
   "source": [
    "#Fix the date fields so they are recognised as date data types\n",
    "stream['t'] = pd.to_datetime(stream['t'], format= '%Y-%m-%d %H:%M:%S')"
   ]
  },
  {
   "cell_type": "code",
   "execution_count": 75,
   "id": "af4e3fbd",
   "metadata": {},
   "outputs": [],
   "source": [
    "stream = stream.rename(columns={'t':'timestamp'})"
   ]
  },
  {
   "cell_type": "code",
   "execution_count": 85,
   "id": "2498137e",
   "metadata": {},
   "outputs": [],
   "source": [
    "#Aggregate the data to find the total duration of each streaming session (as identified by the timestamp)\n",
    "stream['total_duration'] = stream.groupby(['timestamp','userID','location'])['duration'].transform('sum')\n",
    "stream = stream[['userID','timestamp','location','content_type','total_duration']].rename(columns={'total_duration':'duration'})"
   ]
  },
  {
   "cell_type": "code",
   "execution_count": 96,
   "id": "b20c2783",
   "metadata": {},
   "outputs": [],
   "source": [
    "#We need to update the content_type field:\n",
    "#For London, Cardiff and Edinburgh, the content_type is defined as \"Primary\"\n",
    "#For other locations, maintain the \"Preserved\" content_type and update all others to have a \"Secondary\" content_type\n",
    "p1city = ['London','Cardiff','Edinburgh']\n",
    "p2city = ['Essex','Manchester','Perth','Glasgow','Nottingham']\n",
    "stream['content_type'] = np.where((stream['location'].isin(p1city)), 'Primary',\n",
    "                                  np.where((stream['location'].isin(p2city)), 'Preserved','Secondary'))"
   ]
  },
  {
   "cell_type": "code",
   "execution_count": 99,
   "id": "ebb71f94",
   "metadata": {},
   "outputs": [
    {
     "data": {
      "text/html": [
       "<div>\n",
       "<style scoped>\n",
       "    .dataframe tbody tr th:only-of-type {\n",
       "        vertical-align: middle;\n",
       "    }\n",
       "\n",
       "    .dataframe tbody tr th {\n",
       "        vertical-align: top;\n",
       "    }\n",
       "\n",
       "    .dataframe thead th {\n",
       "        text-align: right;\n",
       "    }\n",
       "</style>\n",
       "<table border=\"1\" class=\"dataframe\">\n",
       "  <thead>\n",
       "    <tr style=\"text-align: right;\">\n",
       "      <th></th>\n",
       "      <th>userID</th>\n",
       "      <th>timestamp</th>\n",
       "      <th>location</th>\n",
       "      <th>content_type</th>\n",
       "      <th>duration</th>\n",
       "    </tr>\n",
       "  </thead>\n",
       "  <tbody>\n",
       "    <tr>\n",
       "      <th>2018</th>\n",
       "      <td>3</td>\n",
       "      <td>2021-04-23 22:22:03</td>\n",
       "      <td>Plymouth</td>\n",
       "      <td>Secondary</td>\n",
       "      <td>129</td>\n",
       "    </tr>\n",
       "    <tr>\n",
       "      <th>2019</th>\n",
       "      <td>3</td>\n",
       "      <td>2021-04-23 22:11:27</td>\n",
       "      <td>Plymouth</td>\n",
       "      <td>Secondary</td>\n",
       "      <td>187</td>\n",
       "    </tr>\n",
       "    <tr>\n",
       "      <th>2020</th>\n",
       "      <td>3</td>\n",
       "      <td>2021-04-23 22:11:27</td>\n",
       "      <td>Plymouth</td>\n",
       "      <td>Secondary</td>\n",
       "      <td>187</td>\n",
       "    </tr>\n",
       "    <tr>\n",
       "      <th>2021</th>\n",
       "      <td>3</td>\n",
       "      <td>2021-04-23 22:11:27</td>\n",
       "      <td>Plymouth</td>\n",
       "      <td>Secondary</td>\n",
       "      <td>187</td>\n",
       "    </tr>\n",
       "    <tr>\n",
       "      <th>2022</th>\n",
       "      <td>3</td>\n",
       "      <td>2021-04-23 22:11:27</td>\n",
       "      <td>Plymouth</td>\n",
       "      <td>Secondary</td>\n",
       "      <td>187</td>\n",
       "    </tr>\n",
       "    <tr>\n",
       "      <th>2023</th>\n",
       "      <td>3</td>\n",
       "      <td>2021-04-23 22:11:27</td>\n",
       "      <td>Plymouth</td>\n",
       "      <td>Secondary</td>\n",
       "      <td>187</td>\n",
       "    </tr>\n",
       "    <tr>\n",
       "      <th>2024</th>\n",
       "      <td>3</td>\n",
       "      <td>2021-04-23 22:11:27</td>\n",
       "      <td>Plymouth</td>\n",
       "      <td>Secondary</td>\n",
       "      <td>187</td>\n",
       "    </tr>\n",
       "    <tr>\n",
       "      <th>2025</th>\n",
       "      <td>3</td>\n",
       "      <td>2020-11-21 22:54:25</td>\n",
       "      <td>Nottingham</td>\n",
       "      <td>Preserved</td>\n",
       "      <td>241</td>\n",
       "    </tr>\n",
       "    <tr>\n",
       "      <th>2026</th>\n",
       "      <td>3</td>\n",
       "      <td>2020-11-21 22:54:25</td>\n",
       "      <td>Nottingham</td>\n",
       "      <td>Preserved</td>\n",
       "      <td>241</td>\n",
       "    </tr>\n",
       "    <tr>\n",
       "      <th>2027</th>\n",
       "      <td>3</td>\n",
       "      <td>2020-11-21 22:54:25</td>\n",
       "      <td>Nottingham</td>\n",
       "      <td>Preserved</td>\n",
       "      <td>241</td>\n",
       "    </tr>\n",
       "    <tr>\n",
       "      <th>2028</th>\n",
       "      <td>3</td>\n",
       "      <td>2020-11-21 22:54:25</td>\n",
       "      <td>Nottingham</td>\n",
       "      <td>Preserved</td>\n",
       "      <td>241</td>\n",
       "    </tr>\n",
       "    <tr>\n",
       "      <th>2029</th>\n",
       "      <td>3</td>\n",
       "      <td>2020-11-21 22:54:25</td>\n",
       "      <td>Nottingham</td>\n",
       "      <td>Preserved</td>\n",
       "      <td>241</td>\n",
       "    </tr>\n",
       "    <tr>\n",
       "      <th>2030</th>\n",
       "      <td>3</td>\n",
       "      <td>2020-11-21 22:54:25</td>\n",
       "      <td>Nottingham</td>\n",
       "      <td>Preserved</td>\n",
       "      <td>241</td>\n",
       "    </tr>\n",
       "    <tr>\n",
       "      <th>2031</th>\n",
       "      <td>3</td>\n",
       "      <td>2020-11-21 21:39:45</td>\n",
       "      <td>Nottingham</td>\n",
       "      <td>Preserved</td>\n",
       "      <td>200</td>\n",
       "    </tr>\n",
       "    <tr>\n",
       "      <th>2032</th>\n",
       "      <td>3</td>\n",
       "      <td>2020-11-21 21:39:45</td>\n",
       "      <td>Nottingham</td>\n",
       "      <td>Preserved</td>\n",
       "      <td>200</td>\n",
       "    </tr>\n",
       "    <tr>\n",
       "      <th>2033</th>\n",
       "      <td>3</td>\n",
       "      <td>2020-11-21 21:39:45</td>\n",
       "      <td>Nottingham</td>\n",
       "      <td>Preserved</td>\n",
       "      <td>200</td>\n",
       "    </tr>\n",
       "    <tr>\n",
       "      <th>2034</th>\n",
       "      <td>3</td>\n",
       "      <td>2020-11-21 21:39:45</td>\n",
       "      <td>Nottingham</td>\n",
       "      <td>Preserved</td>\n",
       "      <td>200</td>\n",
       "    </tr>\n",
       "    <tr>\n",
       "      <th>2035</th>\n",
       "      <td>3</td>\n",
       "      <td>2020-11-21 21:39:45</td>\n",
       "      <td>Nottingham</td>\n",
       "      <td>Preserved</td>\n",
       "      <td>200</td>\n",
       "    </tr>\n",
       "    <tr>\n",
       "      <th>2036</th>\n",
       "      <td>3</td>\n",
       "      <td>2020-11-21 21:39:45</td>\n",
       "      <td>Nottingham</td>\n",
       "      <td>Preserved</td>\n",
       "      <td>200</td>\n",
       "    </tr>\n",
       "    <tr>\n",
       "      <th>2037</th>\n",
       "      <td>3</td>\n",
       "      <td>2020-11-21 21:41:43</td>\n",
       "      <td>Nottingham</td>\n",
       "      <td>Preserved</td>\n",
       "      <td>148</td>\n",
       "    </tr>\n",
       "    <tr>\n",
       "      <th>2038</th>\n",
       "      <td>3</td>\n",
       "      <td>2020-11-21 21:41:43</td>\n",
       "      <td>Nottingham</td>\n",
       "      <td>Preserved</td>\n",
       "      <td>148</td>\n",
       "    </tr>\n",
       "    <tr>\n",
       "      <th>2039</th>\n",
       "      <td>3</td>\n",
       "      <td>2020-11-21 21:41:43</td>\n",
       "      <td>Nottingham</td>\n",
       "      <td>Preserved</td>\n",
       "      <td>148</td>\n",
       "    </tr>\n",
       "    <tr>\n",
       "      <th>2040</th>\n",
       "      <td>3</td>\n",
       "      <td>2020-11-21 21:41:43</td>\n",
       "      <td>Nottingham</td>\n",
       "      <td>Preserved</td>\n",
       "      <td>148</td>\n",
       "    </tr>\n",
       "    <tr>\n",
       "      <th>2041</th>\n",
       "      <td>3</td>\n",
       "      <td>2020-11-21 21:41:43</td>\n",
       "      <td>Nottingham</td>\n",
       "      <td>Preserved</td>\n",
       "      <td>148</td>\n",
       "    </tr>\n",
       "    <tr>\n",
       "      <th>2042</th>\n",
       "      <td>3</td>\n",
       "      <td>2020-11-21 21:41:43</td>\n",
       "      <td>Nottingham</td>\n",
       "      <td>Preserved</td>\n",
       "      <td>148</td>\n",
       "    </tr>\n",
       "  </tbody>\n",
       "</table>\n",
       "</div>"
      ],
      "text/plain": [
       "      userID           timestamp    location content_type  duration\n",
       "2018       3 2021-04-23 22:22:03    Plymouth    Secondary       129\n",
       "2019       3 2021-04-23 22:11:27    Plymouth    Secondary       187\n",
       "2020       3 2021-04-23 22:11:27    Plymouth    Secondary       187\n",
       "2021       3 2021-04-23 22:11:27    Plymouth    Secondary       187\n",
       "2022       3 2021-04-23 22:11:27    Plymouth    Secondary       187\n",
       "2023       3 2021-04-23 22:11:27    Plymouth    Secondary       187\n",
       "2024       3 2021-04-23 22:11:27    Plymouth    Secondary       187\n",
       "2025       3 2020-11-21 22:54:25  Nottingham    Preserved       241\n",
       "2026       3 2020-11-21 22:54:25  Nottingham    Preserved       241\n",
       "2027       3 2020-11-21 22:54:25  Nottingham    Preserved       241\n",
       "2028       3 2020-11-21 22:54:25  Nottingham    Preserved       241\n",
       "2029       3 2020-11-21 22:54:25  Nottingham    Preserved       241\n",
       "2030       3 2020-11-21 22:54:25  Nottingham    Preserved       241\n",
       "2031       3 2020-11-21 21:39:45  Nottingham    Preserved       200\n",
       "2032       3 2020-11-21 21:39:45  Nottingham    Preserved       200\n",
       "2033       3 2020-11-21 21:39:45  Nottingham    Preserved       200\n",
       "2034       3 2020-11-21 21:39:45  Nottingham    Preserved       200\n",
       "2035       3 2020-11-21 21:39:45  Nottingham    Preserved       200\n",
       "2036       3 2020-11-21 21:39:45  Nottingham    Preserved       200\n",
       "2037       3 2020-11-21 21:41:43  Nottingham    Preserved       148\n",
       "2038       3 2020-11-21 21:41:43  Nottingham    Preserved       148\n",
       "2039       3 2020-11-21 21:41:43  Nottingham    Preserved       148\n",
       "2040       3 2020-11-21 21:41:43  Nottingham    Preserved       148\n",
       "2041       3 2020-11-21 21:41:43  Nottingham    Preserved       148\n",
       "2042       3 2020-11-21 21:41:43  Nottingham    Preserved       148"
      ]
     },
     "execution_count": 99,
     "metadata": {},
     "output_type": "execute_result"
    }
   ],
   "source": [
    "stream.tail(25)"
   ]
  },
  {
   "cell_type": "code",
   "execution_count": null,
   "id": "bf70f0f4",
   "metadata": {},
   "outputs": [],
   "source": [
    "#To join to the Avg Pricing Table, we need to work out when each user's first streaming session was.\n",
    "#For \"Primary\" content, we take the overall minimum streaming month, ignoring location\n",
    "#For all other content, we work out the minimum active month for each user, in each location and for each content_type"
   ]
  },
  {
   "cell_type": "code",
   "execution_count": 67,
   "id": "2b34b997",
   "metadata": {},
   "outputs": [
    {
     "data": {
      "text/html": [
       "<div>\n",
       "<style scoped>\n",
       "    .dataframe tbody tr th:only-of-type {\n",
       "        vertical-align: middle;\n",
       "    }\n",
       "\n",
       "    .dataframe tbody tr th {\n",
       "        vertical-align: top;\n",
       "    }\n",
       "\n",
       "    .dataframe thead th {\n",
       "        text-align: right;\n",
       "    }\n",
       "</style>\n",
       "<table border=\"1\" class=\"dataframe\">\n",
       "  <thead>\n",
       "    <tr style=\"text-align: right;\">\n",
       "      <th></th>\n",
       "      <th>Month</th>\n",
       "      <th>Avg_Price</th>\n",
       "      <th>Content_Type</th>\n",
       "    </tr>\n",
       "  </thead>\n",
       "  <tbody>\n",
       "    <tr>\n",
       "      <th>0</th>\n",
       "      <td>08 2020</td>\n",
       "      <td>20.92</td>\n",
       "      <td>Primary</td>\n",
       "    </tr>\n",
       "    <tr>\n",
       "      <th>1</th>\n",
       "      <td>09 2020</td>\n",
       "      <td>22.90</td>\n",
       "      <td>Primary</td>\n",
       "    </tr>\n",
       "    <tr>\n",
       "      <th>2</th>\n",
       "      <td>10 2020</td>\n",
       "      <td>23.41</td>\n",
       "      <td>Primary</td>\n",
       "    </tr>\n",
       "    <tr>\n",
       "      <th>3</th>\n",
       "      <td>11 2020</td>\n",
       "      <td>20.66</td>\n",
       "      <td>Primary</td>\n",
       "    </tr>\n",
       "    <tr>\n",
       "      <th>4</th>\n",
       "      <td>12 2020</td>\n",
       "      <td>19.61</td>\n",
       "      <td>Primary</td>\n",
       "    </tr>\n",
       "  </tbody>\n",
       "</table>\n",
       "</div>"
      ],
      "text/plain": [
       "     Month  Avg_Price Content_Type\n",
       "0  08 2020      20.92      Primary\n",
       "1  09 2020      22.90      Primary\n",
       "2  10 2020      23.41      Primary\n",
       "3  11 2020      20.66      Primary\n",
       "4  12 2020      19.61      Primary"
      ]
     },
     "execution_count": 67,
     "metadata": {},
     "output_type": "execute_result"
    }
   ],
   "source": [
    "price.head()"
   ]
  },
  {
   "cell_type": "code",
   "execution_count": null,
   "id": "565e6c9c",
   "metadata": {},
   "outputs": [],
   "source": []
  },
  {
   "cell_type": "code",
   "execution_count": null,
   "id": "76624b3f",
   "metadata": {},
   "outputs": [],
   "source": []
  },
  {
   "cell_type": "code",
   "execution_count": null,
   "id": "d7bfc9ec",
   "metadata": {},
   "outputs": [],
   "source": [
    "#We're now ready to join to the Avg Pricing Table"
   ]
  },
  {
   "cell_type": "code",
   "execution_count": null,
   "id": "be4e7604",
   "metadata": {},
   "outputs": [],
   "source": []
  },
  {
   "cell_type": "code",
   "execution_count": null,
   "id": "c876f2a8",
   "metadata": {},
   "outputs": [],
   "source": []
  },
  {
   "cell_type": "code",
   "execution_count": null,
   "id": "ea722ad4",
   "metadata": {},
   "outputs": [],
   "source": [
    "#For \"Preserved\" content, we manually input the Avg Price as £14.98"
   ]
  },
  {
   "cell_type": "code",
   "execution_count": null,
   "id": "4a710df0",
   "metadata": {},
   "outputs": [],
   "source": []
  },
  {
   "cell_type": "code",
   "execution_count": null,
   "id": "64feb4c3",
   "metadata": {},
   "outputs": [],
   "source": []
  },
  {
   "cell_type": "code",
   "execution_count": null,
   "id": "8ec48ca5",
   "metadata": {},
   "outputs": [],
   "source": []
  },
  {
   "cell_type": "code",
   "execution_count": 10,
   "id": "85f20872",
   "metadata": {},
   "outputs": [],
   "source": [
    "#output the data\n",
    "output.to_csv('wk17-output.csv', index=False)"
   ]
  }
 ],
 "metadata": {
  "kernelspec": {
   "display_name": "Python 3 (ipykernel)",
   "language": "python",
   "name": "python3"
  },
  "language_info": {
   "codemirror_mode": {
    "name": "ipython",
    "version": 3
   },
   "file_extension": ".py",
   "mimetype": "text/x-python",
   "name": "python",
   "nbconvert_exporter": "python",
   "pygments_lexer": "ipython3",
   "version": "3.9.7"
  }
 },
 "nbformat": 4,
 "nbformat_minor": 5
}
