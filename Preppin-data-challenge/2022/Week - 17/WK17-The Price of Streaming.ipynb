{
 "cells": [
  {
   "cell_type": "markdown",
   "id": "dc7a3ef9",
   "metadata": {},
   "source": [
    "### Prepping Data Challenge: The Price of Streaming (Week 17)\n",
    " The involves bringing together 2 datasets which have different levels of aggregation. \n",
    "\n",
    "### Requirements\n",
    " - Input the data\n",
    " - Check the location field for spelling errors\n",
    "   - Data roles may help you identify these\n",
    " - Fix the date fields so they are recognised as date data types\n",
    " - Aggregate the data to find the total duration of each streaming session (as identified by the timestamp)\n",
    " - We need to update the content_type field:\n",
    "   - For London, Cardiff and Edinburgh, the content_type is defined as \"Primary\"\n",
    "   - For other locations, maintain the \"Preserved\" content_type and update all others to have a \"Secondary\" content_type\n",
    "- To join to the Avg Pricing Table, we need to work out when each user's first streaming session was. However, it's a little more complex than that. \n",
    "   - For \"Primary\" content, we take the overall minimum streaming month, ignoring location\n",
    "   - For all other content, we work out the minimum active month for each user, in each location and for each content_type\n",
    "- We're now ready to join to the Avg Pricing Table\n",
    "- For \"Preserved\" content, we manually input the Avg Price as £14.98\n",
    "- Output the data"
   ]
  },
  {
   "cell_type": "code",
   "execution_count": 1,
   "id": "7b263fab",
   "metadata": {},
   "outputs": [],
   "source": [
    "import pandas as pd\n",
    "import numpy as np"
   ]
  },
  {
   "cell_type": "code",
   "execution_count": 2,
   "id": "077cd1f1",
   "metadata": {
    "scrolled": true
   },
   "outputs": [],
   "source": [
    "# Input the data.\n",
    "# Fix the date fields so they are recognised as date data types\n",
    "with pd.ExcelFile('2022W17 Input.xlsx') as xlsx:\n",
    "    stream = pd.read_excel(xlsx, 'Streaming',parse_dates=['t'])\\\n",
    "               .rename(columns={'t':'Timestamp'})\n",
    "    price = pd.read_excel(xlsx, 'Avg Pricing', parse_dates = ['Month'])\\\n",
    "               .rename(columns={'Content_Type':'content_type'})"
   ]
  },
  {
   "cell_type": "code",
   "execution_count": 3,
   "id": "9f0be7e1",
   "metadata": {},
   "outputs": [
    {
     "data": {
      "text/html": [
       "<div>\n",
       "<style scoped>\n",
       "    .dataframe tbody tr th:only-of-type {\n",
       "        vertical-align: middle;\n",
       "    }\n",
       "\n",
       "    .dataframe tbody tr th {\n",
       "        vertical-align: top;\n",
       "    }\n",
       "\n",
       "    .dataframe thead th {\n",
       "        text-align: right;\n",
       "    }\n",
       "</style>\n",
       "<table border=\"1\" class=\"dataframe\">\n",
       "  <thead>\n",
       "    <tr style=\"text-align: right;\">\n",
       "      <th></th>\n",
       "      <th>userID</th>\n",
       "      <th>Timestamp</th>\n",
       "      <th>location</th>\n",
       "      <th>content_type</th>\n",
       "      <th>duration</th>\n",
       "    </tr>\n",
       "  </thead>\n",
       "  <tbody>\n",
       "    <tr>\n",
       "      <th>0</th>\n",
       "      <td>3</td>\n",
       "      <td>2021-01-05 21:44:55+00:00</td>\n",
       "      <td>Essex</td>\n",
       "      <td>Preserved</td>\n",
       "      <td>47</td>\n",
       "    </tr>\n",
       "    <tr>\n",
       "      <th>1</th>\n",
       "      <td>3</td>\n",
       "      <td>2021-01-05 21:44:55+00:00</td>\n",
       "      <td>Essex</td>\n",
       "      <td>Preserved</td>\n",
       "      <td>29</td>\n",
       "    </tr>\n",
       "    <tr>\n",
       "      <th>2</th>\n",
       "      <td>3</td>\n",
       "      <td>2021-01-05 21:44:55+00:00</td>\n",
       "      <td>Essex</td>\n",
       "      <td>Preserved</td>\n",
       "      <td>31</td>\n",
       "    </tr>\n",
       "    <tr>\n",
       "      <th>3</th>\n",
       "      <td>3</td>\n",
       "      <td>2021-01-05 21:44:55+00:00</td>\n",
       "      <td>Essex</td>\n",
       "      <td>Preserved</td>\n",
       "      <td>4</td>\n",
       "    </tr>\n",
       "    <tr>\n",
       "      <th>4</th>\n",
       "      <td>3</td>\n",
       "      <td>2021-01-05 21:44:55+00:00</td>\n",
       "      <td>Essex</td>\n",
       "      <td>Preserved</td>\n",
       "      <td>8</td>\n",
       "    </tr>\n",
       "  </tbody>\n",
       "</table>\n",
       "</div>"
      ],
      "text/plain": [
       "   userID                 Timestamp location content_type  duration\n",
       "0       3 2021-01-05 21:44:55+00:00    Essex    Preserved        47\n",
       "1       3 2021-01-05 21:44:55+00:00    Essex    Preserved        29\n",
       "2       3 2021-01-05 21:44:55+00:00    Essex    Preserved        31\n",
       "3       3 2021-01-05 21:44:55+00:00    Essex    Preserved         4\n",
       "4       3 2021-01-05 21:44:55+00:00    Essex    Preserved         8"
      ]
     },
     "execution_count": 3,
     "metadata": {},
     "output_type": "execute_result"
    }
   ],
   "source": [
    "stream.head()"
   ]
  },
  {
   "cell_type": "code",
   "execution_count": 4,
   "id": "d61001db",
   "metadata": {},
   "outputs": [
    {
     "data": {
      "text/plain": [
       "array(['Essex', 'Plymouth', 'Edinurgh', 'Newcastle', 'Cardiff', 'London',\n",
       "       'Manchester', 'Cornwall', 'Nottingham', 'Perth', 'Glasgow',\n",
       "       'Norfolk', 'Bristol', 'Kent'], dtype=object)"
      ]
     },
     "execution_count": 4,
     "metadata": {},
     "output_type": "execute_result"
    }
   ],
   "source": [
    "#Check the location field for spelling errors\n",
    "stream['location'].unique()"
   ]
  },
  {
   "cell_type": "code",
   "execution_count": 5,
   "id": "2963522a",
   "metadata": {},
   "outputs": [],
   "source": [
    "spellcheck = {'Edinburgh':'Edinurgh'}    \n",
    "stream['location'] = stream['location'].replace(list(spellcheck.values()), list(spellcheck.keys()), regex = True)"
   ]
  },
  {
   "cell_type": "code",
   "execution_count": 6,
   "id": "fb5e7b0c",
   "metadata": {},
   "outputs": [
    {
     "data": {
      "text/plain": [
       "array(['Essex', 'Plymouth', 'Edinburgh', 'Newcastle', 'Cardiff', 'London',\n",
       "       'Manchester', 'Cornwall', 'Nottingham', 'Perth', 'Glasgow',\n",
       "       'Norfolk', 'Bristol', 'Kent'], dtype=object)"
      ]
     },
     "execution_count": 6,
     "metadata": {},
     "output_type": "execute_result"
    }
   ],
   "source": [
    "stream['location'].unique()"
   ]
  },
  {
   "cell_type": "code",
   "execution_count": 7,
   "id": "2498137e",
   "metadata": {},
   "outputs": [],
   "source": [
    "#Aggregate the data to find the total duration of each streaming session (as identified by the timestamp)\n",
    "stream['total_duration'] = stream.groupby(['Timestamp','userID','location'])['duration'].transform('sum')\n",
    "stream = stream[['userID','Timestamp','location','content_type','total_duration']].rename(columns={'total_duration':'duration'})"
   ]
  },
  {
   "cell_type": "code",
   "execution_count": 8,
   "id": "b20c2783",
   "metadata": {},
   "outputs": [],
   "source": [
    "#We need to update the content_type field:\n",
    "#For London, Cardiff and Edinburgh, the content_type is defined as \"Primary\"\n",
    "#For other locations, maintain the \"Preserved\" content_type and update all others to have a \"Secondary\" content_type\n",
    "p1city = ['London','Cardiff','Edinburgh']\n",
    "p2city = ['Essex','Manchester','Perth','Glasgow','Nottingham']\n",
    "stream['content_type'] = np.where((stream['location'].isin(p1city)), 'Primary',\n",
    "                                  np.where((stream['location'].isin(p2city)), 'Preserved','Secondary'))"
   ]
  },
  {
   "cell_type": "code",
   "execution_count": 9,
   "id": "4a708907",
   "metadata": {},
   "outputs": [],
   "source": [
    "stream.drop_duplicates(inplace=True)"
   ]
  },
  {
   "cell_type": "code",
   "execution_count": 10,
   "id": "bf70f0f4",
   "metadata": {},
   "outputs": [],
   "source": [
    "#To join to the Avg Pricing Table, we need to work out when each user's first streaming session was.\n",
    "#For \"Primary\" content, we take the overall minimum streaming month, ignoring location\n",
    "#For all other content, we work out the minimum active month for each user, in each location and for each content_type\n",
    "stream['Month'] = np.where(stream['content_type'] == 'Primary', stream.groupby(['userID'])['Timestamp']\\\n",
    "                    .transform('min').dt.tz_localize(None).astype('datetime64[M]'),\n",
    "                           stream.groupby(['userID','location','content_type'])['Timestamp']\\\n",
    "                           .transform('min').dt.tz_localize(None).astype('datetime64[M]'))"
   ]
  },
  {
   "cell_type": "code",
   "execution_count": 11,
   "id": "516582b3",
   "metadata": {},
   "outputs": [
    {
     "data": {
      "text/html": [
       "<div>\n",
       "<style scoped>\n",
       "    .dataframe tbody tr th:only-of-type {\n",
       "        vertical-align: middle;\n",
       "    }\n",
       "\n",
       "    .dataframe tbody tr th {\n",
       "        vertical-align: top;\n",
       "    }\n",
       "\n",
       "    .dataframe thead th {\n",
       "        text-align: right;\n",
       "    }\n",
       "</style>\n",
       "<table border=\"1\" class=\"dataframe\">\n",
       "  <thead>\n",
       "    <tr style=\"text-align: right;\">\n",
       "      <th></th>\n",
       "      <th>userID</th>\n",
       "      <th>Timestamp</th>\n",
       "      <th>location</th>\n",
       "      <th>content_type</th>\n",
       "      <th>duration</th>\n",
       "      <th>Month</th>\n",
       "    </tr>\n",
       "  </thead>\n",
       "  <tbody>\n",
       "    <tr>\n",
       "      <th>0</th>\n",
       "      <td>3</td>\n",
       "      <td>2021-01-05 21:44:55+00:00</td>\n",
       "      <td>Essex</td>\n",
       "      <td>Preserved</td>\n",
       "      <td>137</td>\n",
       "      <td>2020-12-01</td>\n",
       "    </tr>\n",
       "    <tr>\n",
       "      <th>6</th>\n",
       "      <td>3</td>\n",
       "      <td>2021-01-05 22:28:58+00:00</td>\n",
       "      <td>Essex</td>\n",
       "      <td>Preserved</td>\n",
       "      <td>190</td>\n",
       "      <td>2020-12-01</td>\n",
       "    </tr>\n",
       "    <tr>\n",
       "      <th>12</th>\n",
       "      <td>3</td>\n",
       "      <td>2021-01-05 21:22:46+00:00</td>\n",
       "      <td>Essex</td>\n",
       "      <td>Preserved</td>\n",
       "      <td>269</td>\n",
       "      <td>2020-12-01</td>\n",
       "    </tr>\n",
       "    <tr>\n",
       "      <th>18</th>\n",
       "      <td>3</td>\n",
       "      <td>2021-01-05 22:31:00+00:00</td>\n",
       "      <td>Essex</td>\n",
       "      <td>Preserved</td>\n",
       "      <td>133</td>\n",
       "      <td>2020-12-01</td>\n",
       "    </tr>\n",
       "    <tr>\n",
       "      <th>24</th>\n",
       "      <td>3</td>\n",
       "      <td>2021-01-05 22:36:07+00:00</td>\n",
       "      <td>Essex</td>\n",
       "      <td>Preserved</td>\n",
       "      <td>196</td>\n",
       "      <td>2020-12-01</td>\n",
       "    </tr>\n",
       "  </tbody>\n",
       "</table>\n",
       "</div>"
      ],
      "text/plain": [
       "    userID                 Timestamp location content_type  duration  \\\n",
       "0        3 2021-01-05 21:44:55+00:00    Essex    Preserved       137   \n",
       "6        3 2021-01-05 22:28:58+00:00    Essex    Preserved       190   \n",
       "12       3 2021-01-05 21:22:46+00:00    Essex    Preserved       269   \n",
       "18       3 2021-01-05 22:31:00+00:00    Essex    Preserved       133   \n",
       "24       3 2021-01-05 22:36:07+00:00    Essex    Preserved       196   \n",
       "\n",
       "        Month  \n",
       "0  2020-12-01  \n",
       "6  2020-12-01  \n",
       "12 2020-12-01  \n",
       "18 2020-12-01  \n",
       "24 2020-12-01  "
      ]
     },
     "execution_count": 11,
     "metadata": {},
     "output_type": "execute_result"
    }
   ],
   "source": [
    "stream.head()"
   ]
  },
  {
   "cell_type": "code",
   "execution_count": 12,
   "id": "2b34b997",
   "metadata": {},
   "outputs": [
    {
     "data": {
      "text/html": [
       "<div>\n",
       "<style scoped>\n",
       "    .dataframe tbody tr th:only-of-type {\n",
       "        vertical-align: middle;\n",
       "    }\n",
       "\n",
       "    .dataframe tbody tr th {\n",
       "        vertical-align: top;\n",
       "    }\n",
       "\n",
       "    .dataframe thead th {\n",
       "        text-align: right;\n",
       "    }\n",
       "</style>\n",
       "<table border=\"1\" class=\"dataframe\">\n",
       "  <thead>\n",
       "    <tr style=\"text-align: right;\">\n",
       "      <th></th>\n",
       "      <th>Month</th>\n",
       "      <th>Avg_Price</th>\n",
       "      <th>content_type</th>\n",
       "    </tr>\n",
       "  </thead>\n",
       "  <tbody>\n",
       "    <tr>\n",
       "      <th>0</th>\n",
       "      <td>2020-08-01</td>\n",
       "      <td>20.92</td>\n",
       "      <td>Primary</td>\n",
       "    </tr>\n",
       "    <tr>\n",
       "      <th>1</th>\n",
       "      <td>2020-09-01</td>\n",
       "      <td>22.90</td>\n",
       "      <td>Primary</td>\n",
       "    </tr>\n",
       "    <tr>\n",
       "      <th>2</th>\n",
       "      <td>2020-10-01</td>\n",
       "      <td>23.41</td>\n",
       "      <td>Primary</td>\n",
       "    </tr>\n",
       "    <tr>\n",
       "      <th>3</th>\n",
       "      <td>2020-11-01</td>\n",
       "      <td>20.66</td>\n",
       "      <td>Primary</td>\n",
       "    </tr>\n",
       "    <tr>\n",
       "      <th>4</th>\n",
       "      <td>2020-12-01</td>\n",
       "      <td>19.61</td>\n",
       "      <td>Primary</td>\n",
       "    </tr>\n",
       "  </tbody>\n",
       "</table>\n",
       "</div>"
      ],
      "text/plain": [
       "       Month  Avg_Price content_type\n",
       "0 2020-08-01      20.92      Primary\n",
       "1 2020-09-01      22.90      Primary\n",
       "2 2020-10-01      23.41      Primary\n",
       "3 2020-11-01      20.66      Primary\n",
       "4 2020-12-01      19.61      Primary"
      ]
     },
     "execution_count": 12,
     "metadata": {},
     "output_type": "execute_result"
    }
   ],
   "source": [
    "price.head()"
   ]
  },
  {
   "cell_type": "code",
   "execution_count": 13,
   "id": "d7bfc9ec",
   "metadata": {},
   "outputs": [],
   "source": [
    "#We're now ready to join to the Avg Pricing Table\n",
    "output = pd.merge(stream, price, on = ['Month', 'content_type'], how = 'left')"
   ]
  },
  {
   "cell_type": "code",
   "execution_count": 14,
   "id": "ea722ad4",
   "metadata": {},
   "outputs": [],
   "source": [
    "#For \"Preserved\" content, we manually input the Avg Price as £14.98\n",
    "output['Avg_Price'] = np.where(output['content_type']== 'Preserved', 14.98, output['Avg_Price']) "
   ]
  },
  {
   "cell_type": "code",
   "execution_count": 15,
   "id": "8ec48ca5",
   "metadata": {},
   "outputs": [],
   "source": [
    "output = output[['userID','Timestamp','location','content_type','duration','Avg_Price']]"
   ]
  },
  {
   "cell_type": "code",
   "execution_count": 16,
   "id": "64feb4c3",
   "metadata": {},
   "outputs": [
    {
     "data": {
      "text/html": [
       "<div>\n",
       "<style scoped>\n",
       "    .dataframe tbody tr th:only-of-type {\n",
       "        vertical-align: middle;\n",
       "    }\n",
       "\n",
       "    .dataframe tbody tr th {\n",
       "        vertical-align: top;\n",
       "    }\n",
       "\n",
       "    .dataframe thead th {\n",
       "        text-align: right;\n",
       "    }\n",
       "</style>\n",
       "<table border=\"1\" class=\"dataframe\">\n",
       "  <thead>\n",
       "    <tr style=\"text-align: right;\">\n",
       "      <th></th>\n",
       "      <th>userID</th>\n",
       "      <th>Timestamp</th>\n",
       "      <th>location</th>\n",
       "      <th>content_type</th>\n",
       "      <th>duration</th>\n",
       "      <th>Avg_Price</th>\n",
       "    </tr>\n",
       "  </thead>\n",
       "  <tbody>\n",
       "    <tr>\n",
       "      <th>0</th>\n",
       "      <td>3</td>\n",
       "      <td>2021-01-05 21:44:55+00:00</td>\n",
       "      <td>Essex</td>\n",
       "      <td>Preserved</td>\n",
       "      <td>137</td>\n",
       "      <td>14.98</td>\n",
       "    </tr>\n",
       "    <tr>\n",
       "      <th>1</th>\n",
       "      <td>3</td>\n",
       "      <td>2021-01-05 22:28:58+00:00</td>\n",
       "      <td>Essex</td>\n",
       "      <td>Preserved</td>\n",
       "      <td>190</td>\n",
       "      <td>14.98</td>\n",
       "    </tr>\n",
       "    <tr>\n",
       "      <th>2</th>\n",
       "      <td>3</td>\n",
       "      <td>2021-01-05 21:22:46+00:00</td>\n",
       "      <td>Essex</td>\n",
       "      <td>Preserved</td>\n",
       "      <td>269</td>\n",
       "      <td>14.98</td>\n",
       "    </tr>\n",
       "    <tr>\n",
       "      <th>3</th>\n",
       "      <td>3</td>\n",
       "      <td>2021-01-05 22:31:00+00:00</td>\n",
       "      <td>Essex</td>\n",
       "      <td>Preserved</td>\n",
       "      <td>133</td>\n",
       "      <td>14.98</td>\n",
       "    </tr>\n",
       "    <tr>\n",
       "      <th>4</th>\n",
       "      <td>3</td>\n",
       "      <td>2021-01-05 22:36:07+00:00</td>\n",
       "      <td>Essex</td>\n",
       "      <td>Preserved</td>\n",
       "      <td>196</td>\n",
       "      <td>14.98</td>\n",
       "    </tr>\n",
       "    <tr>\n",
       "      <th>5</th>\n",
       "      <td>2</td>\n",
       "      <td>2021-02-06 14:27:36+00:00</td>\n",
       "      <td>Plymouth</td>\n",
       "      <td>Secondary</td>\n",
       "      <td>198</td>\n",
       "      <td>18.58</td>\n",
       "    </tr>\n",
       "    <tr>\n",
       "      <th>6</th>\n",
       "      <td>5</td>\n",
       "      <td>2021-11-08 07:17:36+00:00</td>\n",
       "      <td>Edinburgh</td>\n",
       "      <td>Primary</td>\n",
       "      <td>41</td>\n",
       "      <td>19.49</td>\n",
       "    </tr>\n",
       "    <tr>\n",
       "      <th>7</th>\n",
       "      <td>5</td>\n",
       "      <td>2021-11-08 07:31:37+00:00</td>\n",
       "      <td>Edinburgh</td>\n",
       "      <td>Primary</td>\n",
       "      <td>51</td>\n",
       "      <td>19.49</td>\n",
       "    </tr>\n",
       "    <tr>\n",
       "      <th>8</th>\n",
       "      <td>2</td>\n",
       "      <td>2021-01-22 14:29:24+00:00</td>\n",
       "      <td>Essex</td>\n",
       "      <td>Preserved</td>\n",
       "      <td>195</td>\n",
       "      <td>14.98</td>\n",
       "    </tr>\n",
       "    <tr>\n",
       "      <th>9</th>\n",
       "      <td>2</td>\n",
       "      <td>2021-01-22 14:52:25+00:00</td>\n",
       "      <td>Essex</td>\n",
       "      <td>Preserved</td>\n",
       "      <td>196</td>\n",
       "      <td>14.98</td>\n",
       "    </tr>\n",
       "  </tbody>\n",
       "</table>\n",
       "</div>"
      ],
      "text/plain": [
       "   userID                 Timestamp   location content_type  duration  \\\n",
       "0       3 2021-01-05 21:44:55+00:00      Essex    Preserved       137   \n",
       "1       3 2021-01-05 22:28:58+00:00      Essex    Preserved       190   \n",
       "2       3 2021-01-05 21:22:46+00:00      Essex    Preserved       269   \n",
       "3       3 2021-01-05 22:31:00+00:00      Essex    Preserved       133   \n",
       "4       3 2021-01-05 22:36:07+00:00      Essex    Preserved       196   \n",
       "5       2 2021-02-06 14:27:36+00:00   Plymouth    Secondary       198   \n",
       "6       5 2021-11-08 07:17:36+00:00  Edinburgh      Primary        41   \n",
       "7       5 2021-11-08 07:31:37+00:00  Edinburgh      Primary        51   \n",
       "8       2 2021-01-22 14:29:24+00:00      Essex    Preserved       195   \n",
       "9       2 2021-01-22 14:52:25+00:00      Essex    Preserved       196   \n",
       "\n",
       "   Avg_Price  \n",
       "0      14.98  \n",
       "1      14.98  \n",
       "2      14.98  \n",
       "3      14.98  \n",
       "4      14.98  \n",
       "5      18.58  \n",
       "6      19.49  \n",
       "7      19.49  \n",
       "8      14.98  \n",
       "9      14.98  "
      ]
     },
     "execution_count": 16,
     "metadata": {},
     "output_type": "execute_result"
    }
   ],
   "source": [
    "output.head(10)"
   ]
  },
  {
   "cell_type": "code",
   "execution_count": 17,
   "id": "85f20872",
   "metadata": {},
   "outputs": [],
   "source": [
    "#output the data\n",
    "output.to_csv('wk17-output.csv', index=False)"
   ]
  }
 ],
 "metadata": {
  "kernelspec": {
   "display_name": "Python 3 (ipykernel)",
   "language": "python",
   "name": "python3"
  },
  "language_info": {
   "codemirror_mode": {
    "name": "ipython",
    "version": 3
   },
   "file_extension": ".py",
   "mimetype": "text/x-python",
   "name": "python",
   "nbconvert_exporter": "python",
   "pygments_lexer": "ipython3",
   "version": "3.9.7"
  }
 },
 "nbformat": 4,
 "nbformat_minor": 5
}
