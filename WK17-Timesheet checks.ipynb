{
 "cells": [
  {
   "cell_type": "markdown",
   "id": "dc7a3ef9",
   "metadata": {},
   "source": [
    "### Prepping Data Challenge: Timesheet checks (week 17)\n",
    "\n",
    "#### The Challenge \n",
    "My employees log their hours daily and are contracted to 8 hours per week so I want to check their average number of hours worked over the last 2 weeks. Also, I allow for 20% of their time (not including Chats) to work on their own special projects, meaning they should be spending at least 80% of their time on Client items of work, so I also want to check that they are sticking to instructions by calculating the % of total hours spent on Client work. The task has three sets of requirements as the stakeholder is quite specific.\n",
    "\n",
    "#### Requirements\n",
    " - Remove the ‘Totals’ Rows\n",
    " - Pivot Dates to rows and rename fields 'Date' and 'Hours'\n",
    " - Split the ‘Name, Age, Area of Work’ field into 3 Fields and Rename\n",
    " - Remove unnecessary fields\n",
    " - Remove the row where Dan was on Annual Leave and check the data type of the Hours Field.\n",
    " - Total up the number of hours spent on each area of work for each date by each employee.\n",
    "\n",
    " - First we are going to work out the avg number of hours per day worked by each employee\n",
    "   - Calculate the total number of hours worked and days worked per person\n",
    "   - Calculate the avg hours and remove unnecessary fields.\n",
    "\n",
    " - Now we are going to work out what % of their day (not including Chats) was spend on Client work.\n",
    "   - Filter out Work related to Chats.\n",
    "   - Calculate total number of hours spent working on each area for each employee\n",
    "   - Calculate total number of hours spent working on both areas together for each employee\n",
    "   - Join these totals together\n",
    "   - Calculate the % of total and remove unnecessary fields\n",
    "   - Filter the data to just show Client work\n",
    "   - Join to the table with Avg hours to create your final output"
   ]
  },
  {
   "cell_type": "markdown",
   "id": "8c8eb9b2",
   "metadata": {},
   "source": [
    "### Input the data"
   ]
  },
  {
   "cell_type": "code",
   "execution_count": 1,
   "id": "ab924bef",
   "metadata": {},
   "outputs": [],
   "source": [
    "import pandas as pd"
   ]
  },
  {
   "cell_type": "code",
   "execution_count": 2,
   "id": "58433f2b",
   "metadata": {},
   "outputs": [],
   "source": [
    "with pd.ExcelFile('WK17-Input.xlsx') as xlsx:\n",
    "    df = pd.read_excel(xlsx)"
   ]
  },
  {
   "cell_type": "code",
   "execution_count": 3,
   "id": "f5633d58",
   "metadata": {},
   "outputs": [],
   "source": [
    "#Remove the ‘Totals’ Rows\n",
    "df = df[df['Name, Age, Area of Work'].notnull()]"
   ]
  },
  {
   "cell_type": "code",
   "execution_count": 4,
   "id": "f9cf57ce",
   "metadata": {},
   "outputs": [
    {
     "data": {
      "text/html": [
       "<div>\n",
       "<style scoped>\n",
       "    .dataframe tbody tr th:only-of-type {\n",
       "        vertical-align: middle;\n",
       "    }\n",
       "\n",
       "    .dataframe tbody tr th {\n",
       "        vertical-align: top;\n",
       "    }\n",
       "\n",
       "    .dataframe thead th {\n",
       "        text-align: right;\n",
       "    }\n",
       "</style>\n",
       "<table border=\"1\" class=\"dataframe\">\n",
       "  <thead>\n",
       "    <tr style=\"text-align: right;\">\n",
       "      <th></th>\n",
       "      <th>Name, Age, Area of Work</th>\n",
       "      <th>Project</th>\n",
       "      <th>2021-02-01 00:00:00</th>\n",
       "      <th>2021-02-02 00:00:00</th>\n",
       "      <th>2021-02-03 00:00:00</th>\n",
       "      <th>2021-02-04 00:00:00</th>\n",
       "      <th>2021-02-05 00:00:00</th>\n",
       "      <th>2021-02-08 00:00:00</th>\n",
       "      <th>2021-02-09 00:00:00</th>\n",
       "      <th>2021-02-10 00:00:00</th>\n",
       "      <th>2021-02-11 00:00:00</th>\n",
       "      <th>2021-02-12 00:00:00</th>\n",
       "    </tr>\n",
       "  </thead>\n",
       "  <tbody>\n",
       "    <tr>\n",
       "      <th>0</th>\n",
       "      <td>Dan, 28: Client</td>\n",
       "      <td>Client Meetings</td>\n",
       "      <td>NaN</td>\n",
       "      <td>2.0</td>\n",
       "      <td>NaN</td>\n",
       "      <td>1.0</td>\n",
       "      <td>NaN</td>\n",
       "      <td>1.5</td>\n",
       "      <td>0.5</td>\n",
       "      <td>NaN</td>\n",
       "      <td>NaN</td>\n",
       "      <td>Annual Leave</td>\n",
       "    </tr>\n",
       "    <tr>\n",
       "      <th>1</th>\n",
       "      <td>Dan, 28: Client</td>\n",
       "      <td>Client Issues</td>\n",
       "      <td>1.0</td>\n",
       "      <td>1.5</td>\n",
       "      <td>4.5</td>\n",
       "      <td>3.5</td>\n",
       "      <td>1.0</td>\n",
       "      <td>2.0</td>\n",
       "      <td>1.0</td>\n",
       "      <td>2.0</td>\n",
       "      <td>3.0</td>\n",
       "      <td>Annual Leave</td>\n",
       "    </tr>\n",
       "    <tr>\n",
       "      <th>2</th>\n",
       "      <td>Dan, 28: Client</td>\n",
       "      <td>Monthly Reports</td>\n",
       "      <td>NaN</td>\n",
       "      <td>NaN</td>\n",
       "      <td>NaN</td>\n",
       "      <td>NaN</td>\n",
       "      <td>2.0</td>\n",
       "      <td>1.0</td>\n",
       "      <td>1.0</td>\n",
       "      <td>2.0</td>\n",
       "      <td>1.0</td>\n",
       "      <td>Annual Leave</td>\n",
       "    </tr>\n",
       "    <tr>\n",
       "      <th>3</th>\n",
       "      <td>Dan, 28: Client</td>\n",
       "      <td>Client Emails</td>\n",
       "      <td>2.0</td>\n",
       "      <td>0.5</td>\n",
       "      <td>0.5</td>\n",
       "      <td>0.5</td>\n",
       "      <td>1.0</td>\n",
       "      <td>1.0</td>\n",
       "      <td>1.0</td>\n",
       "      <td>NaN</td>\n",
       "      <td>NaN</td>\n",
       "      <td>Annual Leave</td>\n",
       "    </tr>\n",
       "    <tr>\n",
       "      <th>4</th>\n",
       "      <td>Dan, 28: Client</td>\n",
       "      <td>Client Communications</td>\n",
       "      <td>1.0</td>\n",
       "      <td>1.0</td>\n",
       "      <td>NaN</td>\n",
       "      <td>NaN</td>\n",
       "      <td>NaN</td>\n",
       "      <td>0.5</td>\n",
       "      <td>NaN</td>\n",
       "      <td>NaN</td>\n",
       "      <td>NaN</td>\n",
       "      <td>Annual Leave</td>\n",
       "    </tr>\n",
       "  </tbody>\n",
       "</table>\n",
       "</div>"
      ],
      "text/plain": [
       "  Name, Age, Area of Work                Project  2021-02-01 00:00:00  \\\n",
       "0         Dan, 28: Client        Client Meetings                  NaN   \n",
       "1         Dan, 28: Client          Client Issues                  1.0   \n",
       "2         Dan, 28: Client        Monthly Reports                  NaN   \n",
       "3         Dan, 28: Client          Client Emails                  2.0   \n",
       "4         Dan, 28: Client  Client Communications                  1.0   \n",
       "\n",
       "   2021-02-02 00:00:00  2021-02-03 00:00:00  2021-02-04 00:00:00  \\\n",
       "0                  2.0                  NaN                  1.0   \n",
       "1                  1.5                  4.5                  3.5   \n",
       "2                  NaN                  NaN                  NaN   \n",
       "3                  0.5                  0.5                  0.5   \n",
       "4                  1.0                  NaN                  NaN   \n",
       "\n",
       "   2021-02-05 00:00:00  2021-02-08 00:00:00  2021-02-09 00:00:00  \\\n",
       "0                  NaN                  1.5                  0.5   \n",
       "1                  1.0                  2.0                  1.0   \n",
       "2                  2.0                  1.0                  1.0   \n",
       "3                  1.0                  1.0                  1.0   \n",
       "4                  NaN                  0.5                  NaN   \n",
       "\n",
       "   2021-02-10 00:00:00  2021-02-11 00:00:00 2021-02-12 00:00:00  \n",
       "0                  NaN                  NaN        Annual Leave  \n",
       "1                  2.0                  3.0        Annual Leave  \n",
       "2                  2.0                  1.0        Annual Leave  \n",
       "3                  NaN                  NaN        Annual Leave  \n",
       "4                  NaN                  NaN        Annual Leave  "
      ]
     },
     "execution_count": 4,
     "metadata": {},
     "output_type": "execute_result"
    }
   ],
   "source": [
    "df.head()"
   ]
  },
  {
   "cell_type": "code",
   "execution_count": 5,
   "id": "119bbd90",
   "metadata": {},
   "outputs": [],
   "source": [
    "#Pivot Dates to rows and rename fields 'Date' and 'Hours'\n",
    "df = df.melt(id_vars=['Name, Age, Area of Work','Project'], var_name='Date', value_name='Hour')"
   ]
  },
  {
   "cell_type": "code",
   "execution_count": 6,
   "id": "d1c263e6",
   "metadata": {},
   "outputs": [],
   "source": [
    "#Split the ‘Name, Age, Area of Work’ field into 3 Fields and Rename\n",
    "df[['Name','Age,Area of work']] = df['Name, Age, Area of Work'].str.split(',', expand=True)"
   ]
  },
  {
   "cell_type": "code",
   "execution_count": 7,
   "id": "f8d975f6",
   "metadata": {},
   "outputs": [],
   "source": [
    "df[['Age','Area of work']] = df['Age,Area of work'].str.split(':', expand=True)"
   ]
  },
  {
   "cell_type": "code",
   "execution_count": 8,
   "id": "54ded452",
   "metadata": {},
   "outputs": [],
   "source": [
    "#Remove unnecessary fields\n",
    "df = df.drop(['Name, Age, Area of Work','Age,Area of work'], axis=1)"
   ]
  },
  {
   "cell_type": "code",
   "execution_count": 9,
   "id": "0e12a10a",
   "metadata": {},
   "outputs": [
    {
     "data": {
      "text/html": [
       "<div>\n",
       "<style scoped>\n",
       "    .dataframe tbody tr th:only-of-type {\n",
       "        vertical-align: middle;\n",
       "    }\n",
       "\n",
       "    .dataframe tbody tr th {\n",
       "        vertical-align: top;\n",
       "    }\n",
       "\n",
       "    .dataframe thead th {\n",
       "        text-align: right;\n",
       "    }\n",
       "</style>\n",
       "<table border=\"1\" class=\"dataframe\">\n",
       "  <thead>\n",
       "    <tr style=\"text-align: right;\">\n",
       "      <th></th>\n",
       "      <th>Project</th>\n",
       "      <th>Date</th>\n",
       "      <th>Hour</th>\n",
       "      <th>Name</th>\n",
       "      <th>Age</th>\n",
       "      <th>Area of work</th>\n",
       "    </tr>\n",
       "  </thead>\n",
       "  <tbody>\n",
       "    <tr>\n",
       "      <th>0</th>\n",
       "      <td>Client Meetings</td>\n",
       "      <td>2021-02-01</td>\n",
       "      <td>NaN</td>\n",
       "      <td>Dan</td>\n",
       "      <td>28</td>\n",
       "      <td>Client</td>\n",
       "    </tr>\n",
       "    <tr>\n",
       "      <th>1</th>\n",
       "      <td>Client Issues</td>\n",
       "      <td>2021-02-01</td>\n",
       "      <td>1.0</td>\n",
       "      <td>Dan</td>\n",
       "      <td>28</td>\n",
       "      <td>Client</td>\n",
       "    </tr>\n",
       "    <tr>\n",
       "      <th>2</th>\n",
       "      <td>Monthly Reports</td>\n",
       "      <td>2021-02-01</td>\n",
       "      <td>NaN</td>\n",
       "      <td>Dan</td>\n",
       "      <td>28</td>\n",
       "      <td>Client</td>\n",
       "    </tr>\n",
       "    <tr>\n",
       "      <th>3</th>\n",
       "      <td>Client Emails</td>\n",
       "      <td>2021-02-01</td>\n",
       "      <td>2.0</td>\n",
       "      <td>Dan</td>\n",
       "      <td>28</td>\n",
       "      <td>Client</td>\n",
       "    </tr>\n",
       "    <tr>\n",
       "      <th>4</th>\n",
       "      <td>Client Communications</td>\n",
       "      <td>2021-02-01</td>\n",
       "      <td>1.0</td>\n",
       "      <td>Dan</td>\n",
       "      <td>28</td>\n",
       "      <td>Client</td>\n",
       "    </tr>\n",
       "  </tbody>\n",
       "</table>\n",
       "</div>"
      ],
      "text/plain": [
       "                 Project       Date Hour Name  Age Area of work\n",
       "0        Client Meetings 2021-02-01  NaN  Dan   28       Client\n",
       "1          Client Issues 2021-02-01  1.0  Dan   28       Client\n",
       "2        Monthly Reports 2021-02-01  NaN  Dan   28       Client\n",
       "3          Client Emails 2021-02-01  2.0  Dan   28       Client\n",
       "4  Client Communications 2021-02-01  1.0  Dan   28       Client"
      ]
     },
     "execution_count": 9,
     "metadata": {},
     "output_type": "execute_result"
    }
   ],
   "source": [
    "df.head()"
   ]
  },
  {
   "cell_type": "code",
   "execution_count": 10,
   "id": "9040f88e",
   "metadata": {},
   "outputs": [
    {
     "data": {
      "text/plain": [
       "dtype('O')"
      ]
     },
     "execution_count": 10,
     "metadata": {},
     "output_type": "execute_result"
    }
   ],
   "source": [
    "#Remove the row where Dan was on Annual Leave and check the data type of the Hours Field.\n",
    "df = df.loc[df['Hour'] != 'Annual Leave']\n",
    "df['Hour'].dtypes"
   ]
  },
  {
   "cell_type": "code",
   "execution_count": 11,
   "id": "5a1ddfd0",
   "metadata": {},
   "outputs": [],
   "source": [
    "df['Hour'].astype('float')\n",
    "df.fillna(0, inplace=True)"
   ]
  },
  {
   "cell_type": "code",
   "execution_count": 12,
   "id": "68c385be",
   "metadata": {},
   "outputs": [],
   "source": [
    "#Total up the number of hours spent on each area of work for each date by each employee.\n",
    "totals = df.groupby('Name').agg(total_days=('Date', 'nunique'),\n",
    "                                  total_hours=('Hour', 'sum')).reset_index()\n",
    "totals['Avg Number of Hours worked per day'] = totals['total_hours'] / totals['total_days']"
   ]
  },
  {
   "cell_type": "code",
   "execution_count": 13,
   "id": "ad5f14ad",
   "metadata": {},
   "outputs": [
    {
     "data": {
      "text/html": [
       "<div>\n",
       "<style scoped>\n",
       "    .dataframe tbody tr th:only-of-type {\n",
       "        vertical-align: middle;\n",
       "    }\n",
       "\n",
       "    .dataframe tbody tr th {\n",
       "        vertical-align: top;\n",
       "    }\n",
       "\n",
       "    .dataframe thead th {\n",
       "        text-align: right;\n",
       "    }\n",
       "</style>\n",
       "<table border=\"1\" class=\"dataframe\">\n",
       "  <thead>\n",
       "    <tr style=\"text-align: right;\">\n",
       "      <th></th>\n",
       "      <th>Name</th>\n",
       "      <th>total_days</th>\n",
       "      <th>total_hours</th>\n",
       "      <th>Avg Number of Hours worked per day</th>\n",
       "    </tr>\n",
       "  </thead>\n",
       "  <tbody>\n",
       "    <tr>\n",
       "      <th>0</th>\n",
       "      <td>Dan</td>\n",
       "      <td>9</td>\n",
       "      <td>72.25</td>\n",
       "      <td>8.027778</td>\n",
       "    </tr>\n",
       "    <tr>\n",
       "      <th>1</th>\n",
       "      <td>George</td>\n",
       "      <td>10</td>\n",
       "      <td>84.00</td>\n",
       "      <td>8.400000</td>\n",
       "    </tr>\n",
       "    <tr>\n",
       "      <th>2</th>\n",
       "      <td>Sam</td>\n",
       "      <td>10</td>\n",
       "      <td>77.00</td>\n",
       "      <td>7.700000</td>\n",
       "    </tr>\n",
       "  </tbody>\n",
       "</table>\n",
       "</div>"
      ],
      "text/plain": [
       "     Name  total_days  total_hours  Avg Number of Hours worked per day\n",
       "0     Dan           9        72.25                            8.027778\n",
       "1  George          10        84.00                            8.400000\n",
       "2     Sam          10        77.00                            7.700000"
      ]
     },
     "execution_count": 13,
     "metadata": {},
     "output_type": "execute_result"
    }
   ],
   "source": [
    "totals.head()"
   ]
  },
  {
   "cell_type": "code",
   "execution_count": 15,
   "id": "c16137c4",
   "metadata": {},
   "outputs": [],
   "source": [
    "#Now we are going to work out what % of their day (not including Chats) was spend on Client work.\n",
    "df_ex_chats =df.drop(df[df['Area of work'].str.contains('Chats')].index, axis= 0)\n",
    "df_ex_chats = df_ex_chats.groupby(['Name','Area of work'])['Hour'].sum().reset_index()\n",
    "\n",
    "# % of day (not including Chats)\n",
    "df_ex_chats['% of Total'] = (df_ex_chats['Hour'] / df_ex_chats.groupby('Name')['Hour'].transform('sum'))\\\n",
    "                        .map('{:.0%}'.format)\n",
    "#The map() function executes a specified function for each item in an iterable\n",
    "#the '{:.0%}'.format left aligns it and puts in the percentage format."
   ]
  },
  {
   "cell_type": "markdown",
   "id": "7f201af3",
   "metadata": {},
   "source": [
    "further reading: https://pyformat.info/"
   ]
  },
  {
   "cell_type": "code",
   "execution_count": 16,
   "id": "6af3c729",
   "metadata": {},
   "outputs": [
    {
     "data": {
      "text/html": [
       "<div>\n",
       "<style scoped>\n",
       "    .dataframe tbody tr th:only-of-type {\n",
       "        vertical-align: middle;\n",
       "    }\n",
       "\n",
       "    .dataframe tbody tr th {\n",
       "        vertical-align: top;\n",
       "    }\n",
       "\n",
       "    .dataframe thead th {\n",
       "        text-align: right;\n",
       "    }\n",
       "</style>\n",
       "<table border=\"1\" class=\"dataframe\">\n",
       "  <thead>\n",
       "    <tr style=\"text-align: right;\">\n",
       "      <th></th>\n",
       "      <th>Name</th>\n",
       "      <th>Area of work</th>\n",
       "      <th>Hour</th>\n",
       "      <th>% of Total</th>\n",
       "    </tr>\n",
       "  </thead>\n",
       "  <tbody>\n",
       "    <tr>\n",
       "      <th>0</th>\n",
       "      <td>Dan</td>\n",
       "      <td>Client</td>\n",
       "      <td>40.5</td>\n",
       "      <td>75%</td>\n",
       "    </tr>\n",
       "    <tr>\n",
       "      <th>1</th>\n",
       "      <td>Dan</td>\n",
       "      <td>Special Projects</td>\n",
       "      <td>13.5</td>\n",
       "      <td>25%</td>\n",
       "    </tr>\n",
       "    <tr>\n",
       "      <th>2</th>\n",
       "      <td>George</td>\n",
       "      <td>Client</td>\n",
       "      <td>56.5</td>\n",
       "      <td>81%</td>\n",
       "    </tr>\n",
       "    <tr>\n",
       "      <th>3</th>\n",
       "      <td>George</td>\n",
       "      <td>Special Projects</td>\n",
       "      <td>13.0</td>\n",
       "      <td>19%</td>\n",
       "    </tr>\n",
       "    <tr>\n",
       "      <th>4</th>\n",
       "      <td>Sam</td>\n",
       "      <td>Client</td>\n",
       "      <td>53.0</td>\n",
       "      <td>87%</td>\n",
       "    </tr>\n",
       "  </tbody>\n",
       "</table>\n",
       "</div>"
      ],
      "text/plain": [
       "     Name       Area of work  Hour % of Total\n",
       "0     Dan             Client  40.5        75%\n",
       "1     Dan   Special Projects  13.5        25%\n",
       "2  George             Client  56.5        81%\n",
       "3  George   Special Projects  13.0        19%\n",
       "4     Sam             Client  53.0        87%"
      ]
     },
     "execution_count": 16,
     "metadata": {},
     "output_type": "execute_result"
    }
   ],
   "source": [
    "df_ex_chats.head()"
   ]
  },
  {
   "cell_type": "code",
   "execution_count": 12,
   "id": "16c73875",
   "metadata": {},
   "outputs": [],
   "source": [
    "#Merge\n",
    "df_output = pd.merge(df_ex_chats, totals,on='Name', how='left')"
   ]
  },
  {
   "cell_type": "code",
   "execution_count": 13,
   "id": "39ff81f6",
   "metadata": {},
   "outputs": [],
   "source": [
    "df_output =df_output.drop(df_output[df_output['Area of work'].str.contains('Special Projects')].index, axis= 0)"
   ]
  },
  {
   "cell_type": "code",
   "execution_count": 14,
   "id": "9ad28ed8",
   "metadata": {},
   "outputs": [
    {
     "data": {
      "text/html": [
       "<div>\n",
       "<style scoped>\n",
       "    .dataframe tbody tr th:only-of-type {\n",
       "        vertical-align: middle;\n",
       "    }\n",
       "\n",
       "    .dataframe tbody tr th {\n",
       "        vertical-align: top;\n",
       "    }\n",
       "\n",
       "    .dataframe thead th {\n",
       "        text-align: right;\n",
       "    }\n",
       "</style>\n",
       "<table border=\"1\" class=\"dataframe\">\n",
       "  <thead>\n",
       "    <tr style=\"text-align: right;\">\n",
       "      <th></th>\n",
       "      <th>Name</th>\n",
       "      <th>Area of work</th>\n",
       "      <th>% of Total</th>\n",
       "      <th>Avg Number of Hours worked per day</th>\n",
       "    </tr>\n",
       "  </thead>\n",
       "  <tbody>\n",
       "    <tr>\n",
       "      <th>0</th>\n",
       "      <td>Dan</td>\n",
       "      <td>Client</td>\n",
       "      <td>75%</td>\n",
       "      <td>8.027778</td>\n",
       "    </tr>\n",
       "    <tr>\n",
       "      <th>2</th>\n",
       "      <td>George</td>\n",
       "      <td>Client</td>\n",
       "      <td>81%</td>\n",
       "      <td>8.400000</td>\n",
       "    </tr>\n",
       "    <tr>\n",
       "      <th>4</th>\n",
       "      <td>Sam</td>\n",
       "      <td>Client</td>\n",
       "      <td>87%</td>\n",
       "      <td>7.700000</td>\n",
       "    </tr>\n",
       "  </tbody>\n",
       "</table>\n",
       "</div>"
      ],
      "text/plain": [
       "     Name Area of work % of Total  Avg Number of Hours worked per day\n",
       "0     Dan       Client        75%                            8.027778\n",
       "2  George       Client        81%                            8.400000\n",
       "4     Sam       Client        87%                            7.700000"
      ]
     },
     "execution_count": 14,
     "metadata": {},
     "output_type": "execute_result"
    }
   ],
   "source": [
    "df_output = df_output[['Name', 'Area of work', '% of Total', 'Avg Number of Hours worked per day']]\n",
    "df_output.head()"
   ]
  },
  {
   "cell_type": "code",
   "execution_count": 15,
   "id": "2563a295",
   "metadata": {},
   "outputs": [],
   "source": [
    "df_output.to_csv('WK17-output.csv', index=False)"
   ]
  }
 ],
 "metadata": {
  "kernelspec": {
   "display_name": "Tetteyanalysis",
   "language": "python",
   "name": "tetteyanalysis"
  },
  "language_info": {
   "codemirror_mode": {
    "name": "ipython",
    "version": 3
   },
   "file_extension": ".py",
   "mimetype": "text/x-python",
   "name": "python",
   "nbconvert_exporter": "python",
   "pygments_lexer": "ipython3",
   "version": "3.7.11"
  }
 },
 "nbformat": 4,
 "nbformat_minor": 5
}
